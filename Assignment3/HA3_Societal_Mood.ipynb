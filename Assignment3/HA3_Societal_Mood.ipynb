{
 "cells": [
  {
   "cell_type": "markdown",
   "metadata": {
    "id": "Sev3wtZP0Ipc"
   },
   "source": [
    "# KEN1435 - Principles of Data Science | Homework Assignment 3 (HA3) :  Societal Mood\n",
    "\n",
    "For this assignment, we will reconsider the data set that is extracted from social media. As previously introduced, it covers a collection of users on social media that were retrieved based on posts that referenced a list of keywords related to the COVID-19 pandemic. Among all messages acquired with these keywords, those users were extacted that indicated their location was a city in the Netherlands. Specifically, we take a look at the accounts that specified \"Maastricht\" as their location.\n",
    "\n",
    "First we load the necessary python packages"
   ]
  },
  {
   "cell_type": "code",
   "execution_count": 1,
   "metadata": {
    "id": "Ak2gYqYjZlmI",
    "ExecuteTime": {
     "end_time": "2024-03-24T13:26:38.292376Z",
     "start_time": "2024-03-24T13:26:38.284220Z"
    }
   },
   "outputs": [],
   "source": [
    "import matplotlib.pyplot as plt\n",
    "import numpy as np\n",
    "import pandas as pd\n",
    "from scipy.stats import norm\n",
    "# Added for prettier plots\n",
    "import seaborn as sns\n",
    "tab10 = plt.get_cmap(\"tab10\").colors"
   ]
  },
  {
   "cell_type": "markdown",
   "metadata": {
    "id": "FxTWG57e0qs1"
   },
   "source": [
    "### Exercise 1. (*1pt*)\n",
    "Load the data set as provided in the files `users_HA3.tsv` and `tweets_HA3.tsv` into the variables `users` and `tweets`, respectively. Make sure that you convert the times at which the tweets are created from strings into a usable format.\n",
    "\n",
    "#### Solution"
   ]
  },
  {
   "cell_type": "code",
   "execution_count": 2,
   "metadata": {
    "id": "kH140bJp0wmA",
    "ExecuteTime": {
     "end_time": "2024-03-24T13:27:23.949989Z",
     "start_time": "2024-03-24T13:27:23.738616Z"
    }
   },
   "outputs": [
    {
     "data": {
      "text/plain": "   Unnamed: 0  gender gender.1    twitter twitter.1\n0         NaN    male   female  followers   friends\n1     user_id     NaN      NaN        NaN       NaN\n2    043u0001  0.9428   0.0572        733       894\n3    043u0003  0.9649   0.0351         92       647\n4    043u0006  0.7454   0.2546        276       278\n5    043u0015  0.0009   0.9991       8576      5726\n6    043u0016  0.0073   0.9927         42       382\n7    043u0017  0.9971   0.0029        699      1130\n8    043u0018     1.0      0.0        737       666\n9    043u0019  0.9953   0.0047       1344      1165\n10   043u0021  0.9998   0.0002        732       756\n11   043u0022  0.0011   0.9989       6294       118\n12   043u0025  0.0041   0.9959        108       157\n13   043u0026  0.9984   0.0016        705       492\n14   043u0029  0.9995   0.0005      10178       289\n15   043u0031  0.9999   0.0001        308       198\n16   043u0033  0.9997   0.0003       2792      1049\n17   043u0035  0.9974   0.0026        248      3454\n18   043u0036  0.0003   0.9997       1440      1294\n19   043u0037   0.005    0.995        278       350\n20   043u0038  0.9998   0.0002        268        85\n21   043u0043  0.9998   0.0002        535       864\n22   043u0053  0.0035   0.9965         65       290\n23   043u0054  0.9999   0.0001        101       319\n24   043u0056   0.994    0.006         40       168\n25   043u0057  0.0012   0.9988        469        55\n26   043u0058  0.0008   0.9992        968      1655\n27   043u0060  0.1155   0.8845       5383      3023\n28   043u0061  0.9989   0.0011         32       101\n29   043u0063  0.9915   0.0085         59       454\n30   043u0068  0.9815   0.0185         81       247\n31   043u0069  0.9987   0.0013       1879       999\n32   043u0072  0.0004   0.9996        631      1296\n33   043u0073  0.9955   0.0045        211       392\n34   043u0075  0.0016   0.9984       1282      1379\n35   043u0076   0.997    0.003       1052       266\n36   043u0080  0.0006   0.9994        376       112\n37   043u0082  0.9961   0.0039        307      1700\n38   043u0084  0.9998   0.0002        603      1217\n39   043u0085  0.9671   0.0329        328       825\n40   043u0086  0.9947   0.0053       2265      1015\n41   043u0088  0.7009   0.2991         36       208",
      "text/html": "<div>\n<style scoped>\n    .dataframe tbody tr th:only-of-type {\n        vertical-align: middle;\n    }\n\n    .dataframe tbody tr th {\n        vertical-align: top;\n    }\n\n    .dataframe thead th {\n        text-align: right;\n    }\n</style>\n<table border=\"1\" class=\"dataframe\">\n  <thead>\n    <tr style=\"text-align: right;\">\n      <th></th>\n      <th>Unnamed: 0</th>\n      <th>gender</th>\n      <th>gender.1</th>\n      <th>twitter</th>\n      <th>twitter.1</th>\n    </tr>\n  </thead>\n  <tbody>\n    <tr>\n      <th>0</th>\n      <td>NaN</td>\n      <td>male</td>\n      <td>female</td>\n      <td>followers</td>\n      <td>friends</td>\n    </tr>\n    <tr>\n      <th>1</th>\n      <td>user_id</td>\n      <td>NaN</td>\n      <td>NaN</td>\n      <td>NaN</td>\n      <td>NaN</td>\n    </tr>\n    <tr>\n      <th>2</th>\n      <td>043u0001</td>\n      <td>0.9428</td>\n      <td>0.0572</td>\n      <td>733</td>\n      <td>894</td>\n    </tr>\n    <tr>\n      <th>3</th>\n      <td>043u0003</td>\n      <td>0.9649</td>\n      <td>0.0351</td>\n      <td>92</td>\n      <td>647</td>\n    </tr>\n    <tr>\n      <th>4</th>\n      <td>043u0006</td>\n      <td>0.7454</td>\n      <td>0.2546</td>\n      <td>276</td>\n      <td>278</td>\n    </tr>\n    <tr>\n      <th>5</th>\n      <td>043u0015</td>\n      <td>0.0009</td>\n      <td>0.9991</td>\n      <td>8576</td>\n      <td>5726</td>\n    </tr>\n    <tr>\n      <th>6</th>\n      <td>043u0016</td>\n      <td>0.0073</td>\n      <td>0.9927</td>\n      <td>42</td>\n      <td>382</td>\n    </tr>\n    <tr>\n      <th>7</th>\n      <td>043u0017</td>\n      <td>0.9971</td>\n      <td>0.0029</td>\n      <td>699</td>\n      <td>1130</td>\n    </tr>\n    <tr>\n      <th>8</th>\n      <td>043u0018</td>\n      <td>1.0</td>\n      <td>0.0</td>\n      <td>737</td>\n      <td>666</td>\n    </tr>\n    <tr>\n      <th>9</th>\n      <td>043u0019</td>\n      <td>0.9953</td>\n      <td>0.0047</td>\n      <td>1344</td>\n      <td>1165</td>\n    </tr>\n    <tr>\n      <th>10</th>\n      <td>043u0021</td>\n      <td>0.9998</td>\n      <td>0.0002</td>\n      <td>732</td>\n      <td>756</td>\n    </tr>\n    <tr>\n      <th>11</th>\n      <td>043u0022</td>\n      <td>0.0011</td>\n      <td>0.9989</td>\n      <td>6294</td>\n      <td>118</td>\n    </tr>\n    <tr>\n      <th>12</th>\n      <td>043u0025</td>\n      <td>0.0041</td>\n      <td>0.9959</td>\n      <td>108</td>\n      <td>157</td>\n    </tr>\n    <tr>\n      <th>13</th>\n      <td>043u0026</td>\n      <td>0.9984</td>\n      <td>0.0016</td>\n      <td>705</td>\n      <td>492</td>\n    </tr>\n    <tr>\n      <th>14</th>\n      <td>043u0029</td>\n      <td>0.9995</td>\n      <td>0.0005</td>\n      <td>10178</td>\n      <td>289</td>\n    </tr>\n    <tr>\n      <th>15</th>\n      <td>043u0031</td>\n      <td>0.9999</td>\n      <td>0.0001</td>\n      <td>308</td>\n      <td>198</td>\n    </tr>\n    <tr>\n      <th>16</th>\n      <td>043u0033</td>\n      <td>0.9997</td>\n      <td>0.0003</td>\n      <td>2792</td>\n      <td>1049</td>\n    </tr>\n    <tr>\n      <th>17</th>\n      <td>043u0035</td>\n      <td>0.9974</td>\n      <td>0.0026</td>\n      <td>248</td>\n      <td>3454</td>\n    </tr>\n    <tr>\n      <th>18</th>\n      <td>043u0036</td>\n      <td>0.0003</td>\n      <td>0.9997</td>\n      <td>1440</td>\n      <td>1294</td>\n    </tr>\n    <tr>\n      <th>19</th>\n      <td>043u0037</td>\n      <td>0.005</td>\n      <td>0.995</td>\n      <td>278</td>\n      <td>350</td>\n    </tr>\n    <tr>\n      <th>20</th>\n      <td>043u0038</td>\n      <td>0.9998</td>\n      <td>0.0002</td>\n      <td>268</td>\n      <td>85</td>\n    </tr>\n    <tr>\n      <th>21</th>\n      <td>043u0043</td>\n      <td>0.9998</td>\n      <td>0.0002</td>\n      <td>535</td>\n      <td>864</td>\n    </tr>\n    <tr>\n      <th>22</th>\n      <td>043u0053</td>\n      <td>0.0035</td>\n      <td>0.9965</td>\n      <td>65</td>\n      <td>290</td>\n    </tr>\n    <tr>\n      <th>23</th>\n      <td>043u0054</td>\n      <td>0.9999</td>\n      <td>0.0001</td>\n      <td>101</td>\n      <td>319</td>\n    </tr>\n    <tr>\n      <th>24</th>\n      <td>043u0056</td>\n      <td>0.994</td>\n      <td>0.006</td>\n      <td>40</td>\n      <td>168</td>\n    </tr>\n    <tr>\n      <th>25</th>\n      <td>043u0057</td>\n      <td>0.0012</td>\n      <td>0.9988</td>\n      <td>469</td>\n      <td>55</td>\n    </tr>\n    <tr>\n      <th>26</th>\n      <td>043u0058</td>\n      <td>0.0008</td>\n      <td>0.9992</td>\n      <td>968</td>\n      <td>1655</td>\n    </tr>\n    <tr>\n      <th>27</th>\n      <td>043u0060</td>\n      <td>0.1155</td>\n      <td>0.8845</td>\n      <td>5383</td>\n      <td>3023</td>\n    </tr>\n    <tr>\n      <th>28</th>\n      <td>043u0061</td>\n      <td>0.9989</td>\n      <td>0.0011</td>\n      <td>32</td>\n      <td>101</td>\n    </tr>\n    <tr>\n      <th>29</th>\n      <td>043u0063</td>\n      <td>0.9915</td>\n      <td>0.0085</td>\n      <td>59</td>\n      <td>454</td>\n    </tr>\n    <tr>\n      <th>30</th>\n      <td>043u0068</td>\n      <td>0.9815</td>\n      <td>0.0185</td>\n      <td>81</td>\n      <td>247</td>\n    </tr>\n    <tr>\n      <th>31</th>\n      <td>043u0069</td>\n      <td>0.9987</td>\n      <td>0.0013</td>\n      <td>1879</td>\n      <td>999</td>\n    </tr>\n    <tr>\n      <th>32</th>\n      <td>043u0072</td>\n      <td>0.0004</td>\n      <td>0.9996</td>\n      <td>631</td>\n      <td>1296</td>\n    </tr>\n    <tr>\n      <th>33</th>\n      <td>043u0073</td>\n      <td>0.9955</td>\n      <td>0.0045</td>\n      <td>211</td>\n      <td>392</td>\n    </tr>\n    <tr>\n      <th>34</th>\n      <td>043u0075</td>\n      <td>0.0016</td>\n      <td>0.9984</td>\n      <td>1282</td>\n      <td>1379</td>\n    </tr>\n    <tr>\n      <th>35</th>\n      <td>043u0076</td>\n      <td>0.997</td>\n      <td>0.003</td>\n      <td>1052</td>\n      <td>266</td>\n    </tr>\n    <tr>\n      <th>36</th>\n      <td>043u0080</td>\n      <td>0.0006</td>\n      <td>0.9994</td>\n      <td>376</td>\n      <td>112</td>\n    </tr>\n    <tr>\n      <th>37</th>\n      <td>043u0082</td>\n      <td>0.9961</td>\n      <td>0.0039</td>\n      <td>307</td>\n      <td>1700</td>\n    </tr>\n    <tr>\n      <th>38</th>\n      <td>043u0084</td>\n      <td>0.9998</td>\n      <td>0.0002</td>\n      <td>603</td>\n      <td>1217</td>\n    </tr>\n    <tr>\n      <th>39</th>\n      <td>043u0085</td>\n      <td>0.9671</td>\n      <td>0.0329</td>\n      <td>328</td>\n      <td>825</td>\n    </tr>\n    <tr>\n      <th>40</th>\n      <td>043u0086</td>\n      <td>0.9947</td>\n      <td>0.0053</td>\n      <td>2265</td>\n      <td>1015</td>\n    </tr>\n    <tr>\n      <th>41</th>\n      <td>043u0088</td>\n      <td>0.7009</td>\n      <td>0.2991</td>\n      <td>36</td>\n      <td>208</td>\n    </tr>\n  </tbody>\n</table>\n</div>"
     },
     "execution_count": 2,
     "metadata": {},
     "output_type": "execute_result"
    }
   ],
   "source": [
    "users = pd.read_csv(\"users_HA3.tsv\", sep=\"\\t\")\n",
    "tweets = pd.read_csv(\"tweets_HA3.tsv\", sep= \"\\t\")\n",
    "users"
   ]
  },
  {
   "cell_type": "markdown",
   "metadata": {},
   "source": [
    "## Differences between male and female accounts\n",
    "When processing the accounts that were collected in the data gathering phase, the researchers also analyzed the profile pages of the accounts using a gender classifier. The file `users_HA3.tsv` contains the outcomes of this classification. For each account, the classifier outputs a probability that an account would be classified with either label.\n",
    "\n",
    "The researchers want to analyze the difference in expressed mood between male and female accounts. They decide that they will use a cut-off at a probability of `0.8` as an inclusion criterium. So if an account scores more than `0.8` on either male or female probability, it is included in that group for further analysis.\n",
    "\n",
    "### Exercise 2. (*3pt*)\n",
    "Visualize the ANEW Valence distribution of all tweets from the accounts that are classified as male and female.\n",
    "\n",
    "#### Solution"
   ]
  },
  {
   "cell_type": "markdown",
   "source": [
    "Merging was done with the help of AI (GitHub Copilot)\n",
    "Note: For me it makes more sense to call it \"target audiences\" since it is their followers and not the people managing the accounts"
   ],
   "metadata": {
    "collapsed": false
   }
  },
  {
   "cell_type": "code",
   "execution_count": 30,
   "metadata": {
    "ExecuteTime": {
     "end_time": "2024-03-24T15:04:49.224388Z",
     "start_time": "2024-03-24T15:04:48.362986Z"
    }
   },
   "outputs": [
    {
     "data": {
      "text/plain": "<Figure size 1000x600 with 1 Axes>",
      "image/png": "[encoded data removed]"
     },
     "metadata": {},
     "output_type": "display_data"
    }
   ],
   "source": [
    "users = users.iloc[2:]\n",
    "\n",
    "users[\"gender\"] = users[\"gender\"].astype(float)\n",
    "\n",
    "users[\"gender.1\"] = users[\"gender.1\"].astype(float)\n",
    "\n",
    "male_users = users[users[\"gender\"] > 0.8]\n",
    "female_users = users[users[\"gender.1\"] > 0.8]\n",
    "\n",
    "male_tweets = pd.merge(male_users, tweets, left_on=\"Unnamed: 0\", right_on=\"user_id\")\n",
    "\n",
    "female_tweets = pd.merge(female_users, tweets, left_on=\"Unnamed: 0\", right_on=\"user_id\")\n",
    "\n",
    "plt.figure(figsize=(10,6))\n",
    "sns.histplot(male_tweets[\"ANEW_Valence\"], bins=20, label = \"Male Audience\", color = \"skyblue\", alpha = 0.5)\n",
    "sns.histplot(female_tweets[\"ANEW_Valence\"], bins = 20, label = \"Female Audience\", color = \"purple\", alpha = 0.5)\n",
    "plt.title(\"ANEW Valence distribution for accounts with Male and Female target audiences\")\n",
    "plt.xlabel(\"ANEW Valence\")\n",
    "plt.ylabel(\"Frequency\")\n",
    "plt.legend()\n",
    "plt.show()"
   ]
  },
  {
   "cell_type": "markdown",
   "metadata": {},
   "source": [
    "Based on the visual comparison above, the researchers want to determine whether the male and female averages align. Therefore, they run a one sided statistical test.\n",
    "\n",
    "### Exercise 3. (*2pt*)\n",
    "Denote the null-hypothesis and alternative hypothesis for this test.\n",
    "\n",
    "#### Solution"
   ]
  },
  {
   "cell_type": "markdown",
   "metadata": {},
   "source": [
    "- $H_0$ (null-hypothesis): The averages *do* align. There is no difference between the average ANEW_Valence score bewteen male and female audiences\n",
    "- $H_a$ (alternative hypothesis): The averages are different, specifically since a one-sided test is being run. The test could test, whether the average ANEW_Valence score for male audiences is bigger than that of female audiences"
   ]
  },
  {
   "cell_type": "markdown",
   "metadata": {},
   "source": [
    "Suppose that we may assume that the average ANEW Valence score for female accounts follows a normal distribution. We determine the mean and standard deviation of the distribution directly from the data.\n",
    "\n",
    "### Exercise 4. (*2pt*)\n",
    "Determine the value of the test-statistic and the $P$-value.\n",
    "\n",
    "#### Solution"
   ]
  },
  {
   "cell_type": "markdown",
   "source": [
    "Test was written with the help of Copilot"
   ],
   "metadata": {
    "collapsed": false
   }
  },
  {
   "cell_type": "code",
   "execution_count": 13,
   "metadata": {
    "ExecuteTime": {
     "end_time": "2024-03-24T14:14:26.480679Z",
     "start_time": "2024-03-24T14:14:26.466071Z"
    }
   },
   "outputs": [
    {
     "data": {
      "text/plain": "0.5250498990274612"
     },
     "execution_count": 13,
     "metadata": {},
     "output_type": "execute_result"
    }
   ],
   "source": [
    "spots = users[\"gender\"]\n",
    "observed = np.mean(spots)\n",
    "expected = 0.5\n",
    "spo_mean = spots.mean()\n",
    "variance = ((spots - spo_mean)**2).sum() / spots.size\n",
    "sd = np.sqrt(variance)\n",
    "se = np.sqrt(len(spots)) * sd\n",
    "test_statistic = (observed - expected) / se\n",
    "\n",
    "p_value = norm.cdf(test_statistic)\n",
    "p_value\n"
   ]
  },
  {
   "cell_type": "markdown",
   "metadata": {},
   "source": [
    "## Response to COVID-19\n",
    "To assess each accounts reaction to the start of the COVID-19 pandemic, we will investigate the difference the average ANEW Valence in the month before the first COVID-19 case was observed in the Netherlands (i.e., December 2019) and a month after (i.e., March 2020).\n",
    "\n",
    "### Exercise 5. (*2pt*)\n",
    "Which accounts have the biggest and lowest difference in average ANEW Valence across these two months?\n",
    "\n",
    "#### Solution"
   ]
  },
  {
   "cell_type": "markdown",
   "source": [
    "I will take the months february and march as the two months, since december 2019 is *not* one month before march 2020"
   ],
   "metadata": {
    "collapsed": false
   }
  },
  {
   "cell_type": "code",
   "execution_count": 22,
   "metadata": {
    "ExecuteTime": {
     "end_time": "2024-03-24T14:53:40.435053Z",
     "start_time": "2024-03-24T14:53:40.185101Z"
    }
   },
   "outputs": [
    {
     "data": {
      "text/plain": "('043u0029', '043u0025')"
     },
     "execution_count": 22,
     "metadata": {},
     "output_type": "execute_result"
    }
   ],
   "source": [
    "tweets[\"created_at\"] = pd.to_datetime(tweets[\"created_at\"])\n",
    "\n",
    "feb_users = tweets[(tweets[\"created_at\"].dt.month == 2) & (tweets[\"created_at\"].dt.year == 2020)]\n",
    "mar_users = tweets[(tweets[\"created_at\"].dt.month == 3) & (tweets[\"created_at\"].dt.year == 2020)]\n",
    "\n",
    "feb_valence_user = feb_users.groupby(\"user_id\")[\"ANEW_Valence\"].mean()\n",
    "mar_valence_user = mar_users.groupby(\"user_id\")[\"ANEW_Valence\"].mean()\n",
    "\n",
    "valence_difference = feb_valence_user - mar_valence_user\n",
    "\n",
    "max_dif = valence_difference.idxmax()\n",
    "min_dif = valence_difference.idxmin()\n",
    "\n",
    "max_dif, min_dif"
   ]
  },
  {
   "cell_type": "markdown",
   "source": [
    "Here with the requested months (december and march)"
   ],
   "metadata": {
    "collapsed": false
   }
  },
  {
   "cell_type": "code",
   "execution_count": 24,
   "metadata": {
    "ExecuteTime": {
     "end_time": "2024-03-24T15:00:16.624427Z",
     "start_time": "2024-03-24T15:00:16.580267Z"
    }
   },
   "outputs": [
    {
     "data": {
      "text/plain": "('043u0021', '043u0063')"
     },
     "execution_count": 24,
     "metadata": {},
     "output_type": "execute_result"
    }
   ],
   "source": [
    "tweets[\"created_at\"] = pd.to_datetime(tweets[\"created_at\"])\n",
    "\n",
    "dec_users = tweets[(tweets[\"created_at\"].dt.month == 12) & (tweets[\"created_at\"].dt.year == 2019)]\n",
    "mar_users = tweets[(tweets[\"created_at\"].dt.month == 3) & (tweets[\"created_at\"].dt.year == 2020)]\n",
    "\n",
    "dec_valence_user = feb_users.groupby(\"user_id\")[\"ANEW_Valence\"].mean()\n",
    "mar_valence_user = mar_users.groupby(\"user_id\")[\"ANEW_Valence\"].mean()\n",
    "\n",
    "valence_difference = dec_valence_user - mar_valence_user\n",
    "\n",
    "max_dif = valence_difference.idxmax()\n",
    "min_dif = valence_difference.idxmin()\n",
    "\n",
    "max_dif, min_dif\n"
   ]
  },
  {
   "cell_type": "code",
   "outputs": [
    {
     "ename": "ValueError",
     "evalue": "Could not interpret value `ANEW_Valence` for parameter `y`",
     "output_type": "error",
     "traceback": [
      "\u001B[1;31m---------------------------------------------------------------------------\u001B[0m",
      "\u001B[1;31mValueError\u001B[0m                                Traceback (most recent call last)",
      "Cell \u001B[1;32mIn[27], line 1\u001B[0m\n\u001B[1;32m----> 1\u001B[0m sns\u001B[38;5;241m.\u001B[39mhistplot(valence_difference,x \u001B[38;5;241m=\u001B[39m \u001B[38;5;124m\"\u001B[39m\u001B[38;5;124muser_id\u001B[39m\u001B[38;5;124m\"\u001B[39m, y \u001B[38;5;241m=\u001B[39m \u001B[38;5;124m\"\u001B[39m\u001B[38;5;124mANEW_Valence\u001B[39m\u001B[38;5;124m\"\u001B[39m, label \u001B[38;5;241m=\u001B[39m \u001B[38;5;124m\"\u001B[39m\u001B[38;5;124mDifference between ANEW_Valence from December and March\u001B[39m\u001B[38;5;124m\"\u001B[39m, bins \u001B[38;5;241m=\u001B[39m \u001B[38;5;241m30\u001B[39m, color \u001B[38;5;241m=\u001B[39m \u001B[38;5;124m\"\u001B[39m\u001B[38;5;124mpurple\u001B[39m\u001B[38;5;124m\"\u001B[39m)\n",
      "File \u001B[1;32mC:\\ProgramData\\anaconda3\\Lib\\site-packages\\seaborn\\distributions.py:1395\u001B[0m, in \u001B[0;36mhistplot\u001B[1;34m(data, x, y, hue, weights, stat, bins, binwidth, binrange, discrete, cumulative, common_bins, common_norm, multiple, element, fill, shrink, kde, kde_kws, line_kws, thresh, pthresh, pmax, cbar, cbar_ax, cbar_kws, palette, hue_order, hue_norm, color, log_scale, legend, ax, **kwargs)\u001B[0m\n\u001B[0;32m   1374\u001B[0m \u001B[38;5;28;01mdef\u001B[39;00m \u001B[38;5;21mhistplot\u001B[39m(\n\u001B[0;32m   1375\u001B[0m     data\u001B[38;5;241m=\u001B[39m\u001B[38;5;28;01mNone\u001B[39;00m, \u001B[38;5;241m*\u001B[39m,\n\u001B[0;32m   1376\u001B[0m     \u001B[38;5;66;03m# Vector variables\u001B[39;00m\n\u001B[1;32m   (...)\u001B[0m\n\u001B[0;32m   1392\u001B[0m     \u001B[38;5;241m*\u001B[39m\u001B[38;5;241m*\u001B[39mkwargs,\n\u001B[0;32m   1393\u001B[0m ):\n\u001B[1;32m-> 1395\u001B[0m     p \u001B[38;5;241m=\u001B[39m _DistributionPlotter(\n\u001B[0;32m   1396\u001B[0m         data\u001B[38;5;241m=\u001B[39mdata,\n\u001B[0;32m   1397\u001B[0m         variables\u001B[38;5;241m=\u001B[39m_DistributionPlotter\u001B[38;5;241m.\u001B[39mget_semantics(\u001B[38;5;28mlocals\u001B[39m())\n\u001B[0;32m   1398\u001B[0m     )\n\u001B[0;32m   1400\u001B[0m     p\u001B[38;5;241m.\u001B[39mmap_hue(palette\u001B[38;5;241m=\u001B[39mpalette, order\u001B[38;5;241m=\u001B[39mhue_order, norm\u001B[38;5;241m=\u001B[39mhue_norm)\n\u001B[0;32m   1402\u001B[0m     \u001B[38;5;28;01mif\u001B[39;00m ax \u001B[38;5;129;01mis\u001B[39;00m \u001B[38;5;28;01mNone\u001B[39;00m:\n",
      "File \u001B[1;32mC:\\ProgramData\\anaconda3\\Lib\\site-packages\\seaborn\\distributions.py:113\u001B[0m, in \u001B[0;36m_DistributionPlotter.__init__\u001B[1;34m(self, data, variables)\u001B[0m\n\u001B[0;32m    107\u001B[0m \u001B[38;5;28;01mdef\u001B[39;00m \u001B[38;5;21m__init__\u001B[39m(\n\u001B[0;32m    108\u001B[0m     \u001B[38;5;28mself\u001B[39m,\n\u001B[0;32m    109\u001B[0m     data\u001B[38;5;241m=\u001B[39m\u001B[38;5;28;01mNone\u001B[39;00m,\n\u001B[0;32m    110\u001B[0m     variables\u001B[38;5;241m=\u001B[39m{},\n\u001B[0;32m    111\u001B[0m ):\n\u001B[1;32m--> 113\u001B[0m     \u001B[38;5;28msuper\u001B[39m()\u001B[38;5;241m.\u001B[39m\u001B[38;5;21m__init__\u001B[39m(data\u001B[38;5;241m=\u001B[39mdata, variables\u001B[38;5;241m=\u001B[39mvariables)\n",
      "File \u001B[1;32mC:\\ProgramData\\anaconda3\\Lib\\site-packages\\seaborn\\_oldcore.py:640\u001B[0m, in \u001B[0;36mVectorPlotter.__init__\u001B[1;34m(self, data, variables)\u001B[0m\n\u001B[0;32m    635\u001B[0m \u001B[38;5;66;03m# var_ordered is relevant only for categorical axis variables, and may\u001B[39;00m\n\u001B[0;32m    636\u001B[0m \u001B[38;5;66;03m# be better handled by an internal axis information object that tracks\u001B[39;00m\n\u001B[0;32m    637\u001B[0m \u001B[38;5;66;03m# such information and is set up by the scale_* methods. The analogous\u001B[39;00m\n\u001B[0;32m    638\u001B[0m \u001B[38;5;66;03m# information for numeric axes would be information about log scales.\u001B[39;00m\n\u001B[0;32m    639\u001B[0m \u001B[38;5;28mself\u001B[39m\u001B[38;5;241m.\u001B[39m_var_ordered \u001B[38;5;241m=\u001B[39m {\u001B[38;5;124m\"\u001B[39m\u001B[38;5;124mx\u001B[39m\u001B[38;5;124m\"\u001B[39m: \u001B[38;5;28;01mFalse\u001B[39;00m, \u001B[38;5;124m\"\u001B[39m\u001B[38;5;124my\u001B[39m\u001B[38;5;124m\"\u001B[39m: \u001B[38;5;28;01mFalse\u001B[39;00m}  \u001B[38;5;66;03m# alt., used DefaultDict\u001B[39;00m\n\u001B[1;32m--> 640\u001B[0m \u001B[38;5;28mself\u001B[39m\u001B[38;5;241m.\u001B[39massign_variables(data, variables)\n\u001B[0;32m    642\u001B[0m \u001B[38;5;28;01mfor\u001B[39;00m var, \u001B[38;5;28mcls\u001B[39m \u001B[38;5;129;01min\u001B[39;00m \u001B[38;5;28mself\u001B[39m\u001B[38;5;241m.\u001B[39m_semantic_mappings\u001B[38;5;241m.\u001B[39mitems():\n\u001B[0;32m    643\u001B[0m \n\u001B[0;32m    644\u001B[0m     \u001B[38;5;66;03m# Create the mapping function\u001B[39;00m\n\u001B[0;32m    645\u001B[0m     map_func \u001B[38;5;241m=\u001B[39m partial(\u001B[38;5;28mcls\u001B[39m\u001B[38;5;241m.\u001B[39mmap, plotter\u001B[38;5;241m=\u001B[39m\u001B[38;5;28mself\u001B[39m)\n",
      "File \u001B[1;32mC:\\ProgramData\\anaconda3\\Lib\\site-packages\\seaborn\\_oldcore.py:701\u001B[0m, in \u001B[0;36mVectorPlotter.assign_variables\u001B[1;34m(self, data, variables)\u001B[0m\n\u001B[0;32m    699\u001B[0m \u001B[38;5;28;01melse\u001B[39;00m:\n\u001B[0;32m    700\u001B[0m     \u001B[38;5;28mself\u001B[39m\u001B[38;5;241m.\u001B[39minput_format \u001B[38;5;241m=\u001B[39m \u001B[38;5;124m\"\u001B[39m\u001B[38;5;124mlong\u001B[39m\u001B[38;5;124m\"\u001B[39m\n\u001B[1;32m--> 701\u001B[0m     plot_data, variables \u001B[38;5;241m=\u001B[39m \u001B[38;5;28mself\u001B[39m\u001B[38;5;241m.\u001B[39m_assign_variables_longform(\n\u001B[0;32m    702\u001B[0m         data, \u001B[38;5;241m*\u001B[39m\u001B[38;5;241m*\u001B[39mvariables,\n\u001B[0;32m    703\u001B[0m     )\n\u001B[0;32m    705\u001B[0m \u001B[38;5;28mself\u001B[39m\u001B[38;5;241m.\u001B[39mplot_data \u001B[38;5;241m=\u001B[39m plot_data\n\u001B[0;32m    706\u001B[0m \u001B[38;5;28mself\u001B[39m\u001B[38;5;241m.\u001B[39mvariables \u001B[38;5;241m=\u001B[39m variables\n",
      "File \u001B[1;32mC:\\ProgramData\\anaconda3\\Lib\\site-packages\\seaborn\\_oldcore.py:938\u001B[0m, in \u001B[0;36mVectorPlotter._assign_variables_longform\u001B[1;34m(self, data, **kwargs)\u001B[0m\n\u001B[0;32m    933\u001B[0m \u001B[38;5;28;01melif\u001B[39;00m \u001B[38;5;28misinstance\u001B[39m(val, (\u001B[38;5;28mstr\u001B[39m, \u001B[38;5;28mbytes\u001B[39m)):\n\u001B[0;32m    934\u001B[0m \n\u001B[0;32m    935\u001B[0m     \u001B[38;5;66;03m# This looks like a column name but we don't know what it means!\u001B[39;00m\n\u001B[0;32m    937\u001B[0m     err \u001B[38;5;241m=\u001B[39m \u001B[38;5;124mf\u001B[39m\u001B[38;5;124m\"\u001B[39m\u001B[38;5;124mCould not interpret value `\u001B[39m\u001B[38;5;132;01m{\u001B[39;00mval\u001B[38;5;132;01m}\u001B[39;00m\u001B[38;5;124m` for parameter `\u001B[39m\u001B[38;5;132;01m{\u001B[39;00mkey\u001B[38;5;132;01m}\u001B[39;00m\u001B[38;5;124m`\u001B[39m\u001B[38;5;124m\"\u001B[39m\n\u001B[1;32m--> 938\u001B[0m     \u001B[38;5;28;01mraise\u001B[39;00m \u001B[38;5;167;01mValueError\u001B[39;00m(err)\n\u001B[0;32m    940\u001B[0m \u001B[38;5;28;01melse\u001B[39;00m:\n\u001B[0;32m    941\u001B[0m \n\u001B[0;32m    942\u001B[0m     \u001B[38;5;66;03m# Otherwise, assume the value is itself data\u001B[39;00m\n\u001B[0;32m    943\u001B[0m \n\u001B[0;32m    944\u001B[0m     \u001B[38;5;66;03m# Raise when data object is present and a vector can't matched\u001B[39;00m\n\u001B[0;32m    945\u001B[0m     \u001B[38;5;28;01mif\u001B[39;00m \u001B[38;5;28misinstance\u001B[39m(data, pd\u001B[38;5;241m.\u001B[39mDataFrame) \u001B[38;5;129;01mand\u001B[39;00m \u001B[38;5;129;01mnot\u001B[39;00m \u001B[38;5;28misinstance\u001B[39m(val, pd\u001B[38;5;241m.\u001B[39mSeries):\n",
      "\u001B[1;31mValueError\u001B[0m: Could not interpret value `ANEW_Valence` for parameter `y`"
     ]
    }
   ],
   "source": [],
   "metadata": {
    "collapsed": false,
    "ExecuteTime": {
     "end_time": "2024-03-24T15:01:26.174509Z",
     "start_time": "2024-03-24T15:01:26.058175Z"
    }
   },
   "execution_count": 27
  },
  {
   "cell_type": "code",
   "outputs": [],
   "source": [],
   "metadata": {
    "collapsed": false
   }
  }
 ],
 "metadata": {
  "colab": {
   "provenance": []
  },
  "kernelspec": {
   "display_name": "Python 3 (ipykernel)",
   "language": "python",
   "name": "python3"
  },
  "language_info": {
   "codemirror_mode": {
    "name": "ipython",
    "version": 3
   },
   "file_extension": ".py",
   "mimetype": "text/x-python",
   "name": "python",
   "nbconvert_exporter": "python",
   "pygments_lexer": "ipython3",
   "version": "3.12.1"
  }
 },
 "nbformat": 4,
 "nbformat_minor": 4
}

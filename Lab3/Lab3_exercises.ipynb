{
 "cells": [
  {
   "cell_type": "markdown",
   "id": "5ab7e4d3-00aa-4db2-af93-6becd3d20723",
   "metadata": {},
   "source": [
    "# KEN1435 - Principles of Data Science | Lab 3: The Normal Approximation for Data\n",
    "\n",
    "First we load the necessary python packages"
   ]
  },
  {
   "cell_type": "code",
   "execution_count": 1,
   "id": "7af88abc-70fb-4f88-86cd-19c8bb506211",
   "metadata": {
    "ExecuteTime": {
     "end_time": "2024-02-23T14:06:33.364008Z",
     "start_time": "2024-02-23T14:06:33.354900Z"
    },
    "tags": []
   },
   "outputs": [],
   "source": [
    "import matplotlib.pyplot as plt\n",
    "import matplotlib.dates as mdates # you can use this to customize your figures for exercises 9, 10 and 14\n",
    "import matplotlib.ticker as mticker\n",
    "import numpy as np\n",
    "import pandas as pd\n",
    "import seaborn as sns\n",
    "\n",
    "from palmerpenguins import load_penguins\n",
    "\n",
    "%matplotlib inline"
   ]
  },
  {
   "cell_type": "markdown",
   "id": "65f6c68c-d3cf-4587-b150-b07605cfbb48",
   "metadata": {},
   "source": [
    "Let's start off with a normal approximation for the bill length of the Palmer penguins. Recall that we already displayed the mean absolute deviation of this quantity in exercise 7 of the previous lab. First, we load the data."
   ]
  },
  {
   "cell_type": "code",
   "execution_count": 2,
   "id": "ad6cb4c3-f349-4315-941f-b36e4a9824c4",
   "metadata": {
    "ExecuteTime": {
     "end_time": "2024-02-23T14:06:33.687776Z",
     "start_time": "2024-02-23T14:06:33.660644Z"
    },
    "tags": []
   },
   "outputs": [
    {
     "data": {
      "text/html": [
       "<div>\n",
       "<style scoped>\n",
       "    .dataframe tbody tr th:only-of-type {\n",
       "        vertical-align: middle;\n",
       "    }\n",
       "\n",
       "    .dataframe tbody tr th {\n",
       "        vertical-align: top;\n",
       "    }\n",
       "\n",
       "    .dataframe thead th {\n",
       "        text-align: right;\n",
       "    }\n",
       "</style>\n",
       "<table border=\"1\" class=\"dataframe\">\n",
       "  <thead>\n",
       "    <tr style=\"text-align: right;\">\n",
       "      <th></th>\n",
       "      <th>species</th>\n",
       "      <th>island</th>\n",
       "      <th>bill_length_mm</th>\n",
       "      <th>bill_depth_mm</th>\n",
       "      <th>flipper_length_mm</th>\n",
       "      <th>body_mass_g</th>\n",
       "      <th>sex</th>\n",
       "      <th>year</th>\n",
       "    </tr>\n",
       "  </thead>\n",
       "  <tbody>\n",
       "    <tr>\n",
       "      <th>0</th>\n",
       "      <td>Adelie</td>\n",
       "      <td>Torgersen</td>\n",
       "      <td>39.1</td>\n",
       "      <td>18.7</td>\n",
       "      <td>181.0</td>\n",
       "      <td>3750.0</td>\n",
       "      <td>male</td>\n",
       "      <td>2007</td>\n",
       "    </tr>\n",
       "    <tr>\n",
       "      <th>1</th>\n",
       "      <td>Adelie</td>\n",
       "      <td>Torgersen</td>\n",
       "      <td>39.5</td>\n",
       "      <td>17.4</td>\n",
       "      <td>186.0</td>\n",
       "      <td>3800.0</td>\n",
       "      <td>female</td>\n",
       "      <td>2007</td>\n",
       "    </tr>\n",
       "    <tr>\n",
       "      <th>2</th>\n",
       "      <td>Adelie</td>\n",
       "      <td>Torgersen</td>\n",
       "      <td>40.3</td>\n",
       "      <td>18.0</td>\n",
       "      <td>195.0</td>\n",
       "      <td>3250.0</td>\n",
       "      <td>female</td>\n",
       "      <td>2007</td>\n",
       "    </tr>\n",
       "    <tr>\n",
       "      <th>3</th>\n",
       "      <td>Adelie</td>\n",
       "      <td>Torgersen</td>\n",
       "      <td>NaN</td>\n",
       "      <td>NaN</td>\n",
       "      <td>NaN</td>\n",
       "      <td>NaN</td>\n",
       "      <td>NaN</td>\n",
       "      <td>2007</td>\n",
       "    </tr>\n",
       "    <tr>\n",
       "      <th>4</th>\n",
       "      <td>Adelie</td>\n",
       "      <td>Torgersen</td>\n",
       "      <td>36.7</td>\n",
       "      <td>19.3</td>\n",
       "      <td>193.0</td>\n",
       "      <td>3450.0</td>\n",
       "      <td>female</td>\n",
       "      <td>2007</td>\n",
       "    </tr>\n",
       "  </tbody>\n",
       "</table>\n",
       "</div>"
      ],
      "text/plain": [
       "  species     island  bill_length_mm  bill_depth_mm  flipper_length_mm  \\\n",
       "0  Adelie  Torgersen            39.1           18.7              181.0   \n",
       "1  Adelie  Torgersen            39.5           17.4              186.0   \n",
       "2  Adelie  Torgersen            40.3           18.0              195.0   \n",
       "3  Adelie  Torgersen             NaN            NaN                NaN   \n",
       "4  Adelie  Torgersen            36.7           19.3              193.0   \n",
       "\n",
       "   body_mass_g     sex  year  \n",
       "0       3750.0    male  2007  \n",
       "1       3800.0  female  2007  \n",
       "2       3250.0  female  2007  \n",
       "3          NaN     NaN  2007  \n",
       "4       3450.0  female  2007  "
      ]
     },
     "execution_count": 2,
     "metadata": {},
     "output_type": "execute_result"
    }
   ],
   "source": [
    "penguins = load_penguins()\n",
    "penguins.head()"
   ]
  },
  {
   "cell_type": "markdown",
   "id": "94fca7d2-3e41-48cb-8402-a34289cf63fb",
   "metadata": {},
   "source": [
    "1. Calculate the average and standard deviations of the bill length for each species"
   ]
  },
  {
   "cell_type": "code",
   "execution_count": 3,
   "id": "7515c276-767f-41d2-bf96-a1db2e66265b",
   "metadata": {
    "ExecuteTime": {
     "end_time": "2024-02-23T14:11:38.783405Z",
     "start_time": "2024-02-23T14:11:38.768671Z"
    },
    "tags": []
   },
   "outputs": [
    {
     "data": {
      "text/plain": [
       "(species\n",
       " Adelie       38.791391\n",
       " Chinstrap    48.833824\n",
       " Gentoo       47.504878\n",
       " Name: bill_length_mm, dtype: float64,\n",
       " species\n",
       " Adelie       2.663405\n",
       " Chinstrap    3.339256\n",
       " Gentoo       3.081857\n",
       " Name: bill_length_mm, dtype: float64,\n",
       " 0      39.1\n",
       " 1      39.5\n",
       " 2      40.3\n",
       " 3       NaN\n",
       " 4      36.7\n",
       " 152    46.1\n",
       " 153    50.0\n",
       " 154    48.7\n",
       " 155    50.0\n",
       " 156    47.6\n",
       " 276    46.5\n",
       " 277    50.0\n",
       " 278    51.3\n",
       " 279    45.4\n",
       " 280    52.7\n",
       " Name: bill_length_mm, dtype: float64)"
      ]
     },
     "execution_count": 3,
     "metadata": {},
     "output_type": "execute_result"
    }
   ],
   "source": [
    "## YOUR CODE HERE\n",
    "grouped_penguins = penguins.groupby(\"species\")[\"bill_length_mm\"]\n",
    "bill_length_standard_deviation = grouped_penguins.std()\n",
    "bill_length_average = grouped_penguins.mean()\n",
    "bill_length_average, bill_length_standard_deviation, grouped_penguins.head()"
   ]
  },
  {
   "cell_type": "markdown",
   "id": "c0770ab7-3a1e-420d-82fd-edb773990830",
   "metadata": {},
   "source": [
    "2. Calculate the standardized bill lengths for all penguins, taking into account which species they belong to. Save your result in a column named `bill_sd` in the `penguins` data frame."
   ]
  },
  {
   "cell_type": "code",
   "execution_count": 4,
   "id": "921c4c1f-b643-4607-9862-ecfdf11b1e7e",
   "metadata": {
    "ExecuteTime": {
     "end_time": "2024-02-23T14:06:33.819721Z",
     "start_time": "2024-02-23T14:06:33.793493Z"
    },
    "tags": []
   },
   "outputs": [
    {
     "data": {
      "text/html": [
       "<div>\n",
       "<style scoped>\n",
       "    .dataframe tbody tr th:only-of-type {\n",
       "        vertical-align: middle;\n",
       "    }\n",
       "\n",
       "    .dataframe tbody tr th {\n",
       "        vertical-align: top;\n",
       "    }\n",
       "\n",
       "    .dataframe thead th {\n",
       "        text-align: right;\n",
       "    }\n",
       "</style>\n",
       "<table border=\"1\" class=\"dataframe\">\n",
       "  <thead>\n",
       "    <tr style=\"text-align: right;\">\n",
       "      <th></th>\n",
       "      <th>species</th>\n",
       "      <th>island</th>\n",
       "      <th>bill_length_mm</th>\n",
       "      <th>bill_depth_mm</th>\n",
       "      <th>flipper_length_mm</th>\n",
       "      <th>body_mass_g</th>\n",
       "      <th>sex</th>\n",
       "      <th>year</th>\n",
       "      <th>bill_sd</th>\n",
       "    </tr>\n",
       "  </thead>\n",
       "  <tbody>\n",
       "    <tr>\n",
       "      <th>0</th>\n",
       "      <td>Adelie</td>\n",
       "      <td>Torgersen</td>\n",
       "      <td>39.1</td>\n",
       "      <td>18.7</td>\n",
       "      <td>181.0</td>\n",
       "      <td>3750.0</td>\n",
       "      <td>male</td>\n",
       "      <td>2007</td>\n",
       "      <td>0.115870</td>\n",
       "    </tr>\n",
       "    <tr>\n",
       "      <th>1</th>\n",
       "      <td>Adelie</td>\n",
       "      <td>Torgersen</td>\n",
       "      <td>39.5</td>\n",
       "      <td>17.4</td>\n",
       "      <td>186.0</td>\n",
       "      <td>3800.0</td>\n",
       "      <td>female</td>\n",
       "      <td>2007</td>\n",
       "      <td>0.266054</td>\n",
       "    </tr>\n",
       "    <tr>\n",
       "      <th>2</th>\n",
       "      <td>Adelie</td>\n",
       "      <td>Torgersen</td>\n",
       "      <td>40.3</td>\n",
       "      <td>18.0</td>\n",
       "      <td>195.0</td>\n",
       "      <td>3250.0</td>\n",
       "      <td>female</td>\n",
       "      <td>2007</td>\n",
       "      <td>0.566421</td>\n",
       "    </tr>\n",
       "    <tr>\n",
       "      <th>3</th>\n",
       "      <td>Adelie</td>\n",
       "      <td>Torgersen</td>\n",
       "      <td>NaN</td>\n",
       "      <td>NaN</td>\n",
       "      <td>NaN</td>\n",
       "      <td>NaN</td>\n",
       "      <td>NaN</td>\n",
       "      <td>2007</td>\n",
       "      <td>NaN</td>\n",
       "    </tr>\n",
       "    <tr>\n",
       "      <th>4</th>\n",
       "      <td>Adelie</td>\n",
       "      <td>Torgersen</td>\n",
       "      <td>36.7</td>\n",
       "      <td>19.3</td>\n",
       "      <td>193.0</td>\n",
       "      <td>3450.0</td>\n",
       "      <td>female</td>\n",
       "      <td>2007</td>\n",
       "      <td>-0.785232</td>\n",
       "    </tr>\n",
       "  </tbody>\n",
       "</table>\n",
       "</div>"
      ],
      "text/plain": [
       "  species     island  bill_length_mm  bill_depth_mm  flipper_length_mm  \\\n",
       "0  Adelie  Torgersen            39.1           18.7              181.0   \n",
       "1  Adelie  Torgersen            39.5           17.4              186.0   \n",
       "2  Adelie  Torgersen            40.3           18.0              195.0   \n",
       "3  Adelie  Torgersen             NaN            NaN                NaN   \n",
       "4  Adelie  Torgersen            36.7           19.3              193.0   \n",
       "\n",
       "   body_mass_g     sex  year   bill_sd  \n",
       "0       3750.0    male  2007  0.115870  \n",
       "1       3800.0  female  2007  0.266054  \n",
       "2       3250.0  female  2007  0.566421  \n",
       "3          NaN     NaN  2007       NaN  \n",
       "4       3450.0  female  2007 -0.785232  "
      ]
     },
     "execution_count": 4,
     "metadata": {},
     "output_type": "execute_result"
    }
   ],
   "source": [
    "## YOUR CODE HERE\n",
    "mean_bill_length = grouped_penguins.transform(\"mean\")\n",
    "std_bill_length = grouped_penguins.transform(\"std\")\n",
    "penguins[\"bill_sd\"] =( penguins[\"bill_length_mm\"] - mean_bill_length ) / std_bill_length\n",
    "\n",
    "penguins.head() "
   ]
  },
  {
   "cell_type": "markdown",
   "id": "dda0b333-9d36-4a46-bdde-6e82a6554685",
   "metadata": {},
   "source": [
    "3. Plot histograms of the column `bill_sd`, such that each species is displayed in its own panel. Also calculate which fraction of the penguins fall within two standard deviations from the mean. Based on the output, could you use a normal approximation for the bill length?"
   ]
  },
  {
   "cell_type": "code",
   "execution_count": 5,
   "id": "dc0740a6b519b328",
   "metadata": {
    "ExecuteTime": {
     "end_time": "2024-02-23T14:06:36.567792Z",
     "start_time": "2024-02-23T14:06:33.846931Z"
    },
    "collapsed": false,
    "jupyter": {
     "outputs_hidden": false
    }
   },
   "outputs": [
    {
     "name": "stderr",
     "output_type": "stream",
     "text": [
      "C:\\ProgramData\\anaconda3\\Lib\\site-packages\\seaborn\\axisgrid.py:118: UserWarning: The figure layout has changed to tight\n",
      "  self._figure.tight_layout(*args, **kwargs)\n"
     ]
    },
    {
     "data": {
      "image/png": "[encoded data removed]",
      "text/plain": [
       "<Figure size 900x300 with 3 Axes>"
      ]
     },
     "metadata": {},
     "output_type": "display_data"
    }
   ],
   "source": [
    "## YOUR CODE HERE\n",
    "import seaborn as sns\n",
    "\n",
    "# Create a FacetGrid object\n",
    "g = sns.FacetGrid(penguins, col=\"species\")\n",
    "\n",
    "# Apply the histplot function to each subplot\n",
    "g.map(sns.histplot, \"bill_sd\", kde=False, bins=100)\n",
    "\n",
    "# Show the plot\n",
    "plt.show()"
   ]
  },
  {
   "cell_type": "markdown",
   "id": "b655e40f43c925a0",
   "metadata": {},
   "source": [
    "As you can see, the histograms of the bill lengths are not normal."
   ]
  },
  {
   "cell_type": "markdown",
   "id": "2ec6b8b6-9a1b-427d-a754-db528e4dbeae",
   "metadata": {},
   "source": [
    "***Answer:*** *YOUR ANSWER HERE*"
   ]
  },
  {
   "cell_type": "markdown",
   "id": "215c063b-f3e9-4f26-9723-a7b5a512ce3f",
   "metadata": {},
   "source": [
    "## COVID-19: sentiment in Maastricht\n",
    "Let us now consider another data set that is extracted from social media. It covers a collection of users on social media that were retrieved based on posts that referenced a list of keywords related to the COVID-19 pandemic. Among all messages acquired with these keywords, those users were extacted that indicated their location was a city in the Netherlands. Specifically, we take a look at the accounts that specified \"Maastricht\" as their location.\n",
    "\n",
    "First, we load a data frame with general information with regards to the accounts. As the file uses tab as a seperator, we specify this in while loading the file by `sep=\"\\t\"`. As the index of the file is contained in the first row of the file, we include `index_col=0`."
   ]
  },
  {
   "cell_type": "code",
   "execution_count": 6,
   "id": "4cfd25ad-61b3-4396-a4e5-3aa408d8bb7c",
   "metadata": {
    "ExecuteTime": {
     "end_time": "2024-02-23T14:06:36.589378Z",
     "start_time": "2024-02-23T14:06:36.570708Z"
    }
   },
   "outputs": [
    {
     "data": {
      "text/html": [
       "<div>\n",
       "<style scoped>\n",
       "    .dataframe tbody tr th:only-of-type {\n",
       "        vertical-align: middle;\n",
       "    }\n",
       "\n",
       "    .dataframe tbody tr th {\n",
       "        vertical-align: top;\n",
       "    }\n",
       "\n",
       "    .dataframe thead th {\n",
       "        text-align: right;\n",
       "    }\n",
       "</style>\n",
       "<table border=\"1\" class=\"dataframe\">\n",
       "  <thead>\n",
       "    <tr style=\"text-align: right;\">\n",
       "      <th></th>\n",
       "      <th>followers</th>\n",
       "      <th>friends</th>\n",
       "    </tr>\n",
       "    <tr>\n",
       "      <th>user_id</th>\n",
       "      <th></th>\n",
       "      <th></th>\n",
       "    </tr>\n",
       "  </thead>\n",
       "  <tbody>\n",
       "    <tr>\n",
       "      <th>043u0001</th>\n",
       "      <td>733</td>\n",
       "      <td>894</td>\n",
       "    </tr>\n",
       "    <tr>\n",
       "      <th>043u0002</th>\n",
       "      <td>3882</td>\n",
       "      <td>539</td>\n",
       "    </tr>\n",
       "    <tr>\n",
       "      <th>043u0003</th>\n",
       "      <td>92</td>\n",
       "      <td>647</td>\n",
       "    </tr>\n",
       "    <tr>\n",
       "      <th>043u0004</th>\n",
       "      <td>87</td>\n",
       "      <td>122</td>\n",
       "    </tr>\n",
       "    <tr>\n",
       "      <th>043u0005</th>\n",
       "      <td>3271</td>\n",
       "      <td>3021</td>\n",
       "    </tr>\n",
       "  </tbody>\n",
       "</table>\n",
       "</div>"
      ],
      "text/plain": [
       "          followers  friends\n",
       "user_id                     \n",
       "043u0001        733      894\n",
       "043u0002       3882      539\n",
       "043u0003         92      647\n",
       "043u0004         87      122\n",
       "043u0005       3271     3021"
      ]
     },
     "execution_count": 6,
     "metadata": {},
     "output_type": "execute_result"
    }
   ],
   "source": [
    "uinfo = pd.read_csv(\"users_maastricht.tsv\", sep=\"\\t\", index_col=0)\n",
    "uinfo.head()"
   ]
  },
  {
   "cell_type": "markdown",
   "id": "88f41605-17a5-47a6-847b-03bdd89e748d",
   "metadata": {},
   "source": [
    "Let's plot the distributions of this data.\n",
    "\n",
    "4. Visualize friends and followers distributions and plot the corresponding histograms."
   ]
  },
  {
   "cell_type": "code",
   "execution_count": 44,
   "id": "30347428-37bb-4060-835e-ee2baf9c4803",
   "metadata": {
    "ExecuteTime": {
     "end_time": "2024-02-23T14:06:37.088574Z",
     "start_time": "2024-02-23T14:06:36.591682Z"
    }
   },
   "outputs": [
    {
     "data": {
      "image/png": "[encoded data removed]",
      "text/plain": [
       "<Figure size 640x480 with 1 Axes>"
      ]
     },
     "metadata": {},
     "output_type": "display_data"
    }
   ],
   "source": [
    "## YOUR CODE HERE\n",
    "plt.hist(uinfo[\"followers\"], bins = 10, edgecolor = \"black\", alpha = 0.5, density=True, label = \"followers\")\n",
    "plt.hist(uinfo[\"friends\"], bins = 10, edgecolor = \"black\", alpha = 0.5, density=True, label=\"friends\")\n",
    "plt.show()\n"
   ]
  },
  {
   "cell_type": "markdown",
   "id": "d41f4dbc-c330-4ce9-86b3-487ecdf7b8bf",
   "metadata": {},
   "source": [
    "As you can see from the figures, this is far from a normal distribution. Lets first look at the minimum and maximum observations for the friends and followers.\n",
    "\n",
    "5. Determine the minimum and the maximum counts for both the friend and follower distributions."
   ]
  },
  {
   "cell_type": "code",
   "execution_count": 8,
   "id": "a3816765-cf8b-4b6b-81d8-84d34ca136cd",
   "metadata": {
    "ExecuteTime": {
     "end_time": "2024-02-23T14:06:37.102325Z",
     "start_time": "2024-02-23T14:06:37.091924Z"
    }
   },
   "outputs": [],
   "source": [
    "## YOUR CODE HERE\n",
    "min_friends = uinfo[\"friends\"].idxmin()\n",
    "max_friends = uinfo[\"friends\"].idxmax()\n",
    "min_followers = uinfo[\"followers\"].idxmin()\n",
    "max_followers = uinfo[\"followers\"].idxmax()\n",
    "min_friends_value = uinfo[\"friends\"].min()\n",
    "max_friends_value = uinfo[\"friends\"].max()\n",
    "min_followers_value = uinfo[\"followers\"].min()\n",
    "max_followers_value = uinfo[\"followers\"].max()"
   ]
  },
  {
   "cell_type": "markdown",
   "id": "5ce57b41-cf4e-4002-8615-d4fc8fe89a30",
   "metadata": {},
   "source": [
    "As you can see, the values span multiple orders of magnitude, with only a few very large observations. This is a clear indication of a heavy tail distribution. However, there is another way that we can try to perform a normal approximation for this data.\n",
    "\n",
    "In this alternative, we first calculate the logarithm of all observations (with `np.log10`, see documentation [here](https://numpy.org/doc/stable/reference/generated/numpy.log10.html)) and use those values for a normalization.\n",
    "\n",
    "6. Plot the normal approximation of the logarithm of the friend and follower data."
   ]
  },
  {
   "cell_type": "code",
   "execution_count": 18,
   "id": "81460add-7120-4a2d-975a-074bad56d5ea",
   "metadata": {
    "ExecuteTime": {
     "end_time": "2024-02-23T14:06:37.755015Z",
     "start_time": "2024-02-23T14:06:37.105901Z"
    }
   },
   "outputs": [
    {
     "data": {
      "image/png": "[encoded data removed]",
      "text/plain": [
       "<Figure size 640x480 with 1 Axes>"
      ]
     },
     "metadata": {},
     "output_type": "display_data"
    }
   ],
   "source": [
    "## YOUR CODE HERE\n",
    "normal_approx_friends = np.log10(uinfo[\"friends\"])\n",
    "normal_approx_followers = np.log10(uinfo[\"followers\"])\n",
    "\n",
    "plt.hist(normal_approx_friends, bins = 10, alpha = 0.3, color = \"g\", label= \"Log10 approximation Friends\")\n",
    "plt.hist(normal_approx_followers, bins = 10, alpha = 0.3, color = \"b\", label= \"Log10 approximation Followers\")\n",
    "plt.legend()\n",
    "plt.show()"
   ]
  },
  {
   "cell_type": "markdown",
   "id": "f578a364c77fcaa8",
   "metadata": {},
   "source": []
  },
  {
   "cell_type": "markdown",
   "id": "b977f4d3-01c7-45ea-a8c0-b69cf4d66c53",
   "metadata": {},
   "source": [
    "7. Which fraction of the logarithmic scale observations are within two standard deviations from the mean?"
   ]
  },
  {
   "cell_type": "code",
   "execution_count": 10,
   "id": "2f5dc692-d942-446e-ae0d-8484e913f896",
   "metadata": {
    "ExecuteTime": {
     "end_time": "2024-02-23T14:06:37.772687Z",
     "start_time": "2024-02-23T14:06:37.758574Z"
    }
   },
   "outputs": [
    {
     "data": {
      "text/plain": [
       "(0.967032967032967, 0.945054945054945)"
      ]
     },
     "execution_count": 10,
     "metadata": {},
     "output_type": "execute_result"
    }
   ],
   "source": [
    "## YOUR CODE HERE\n",
    "mean_followers = np.mean(normal_approx_followers)\n",
    "std_followers = np.std(normal_approx_followers)\n",
    "\n",
    "lower_bound_followers = mean_followers - 2 * std_followers\n",
    "upper_bound_followers = mean_followers + 2 * std_followers\n",
    "\n",
    "outliers_followers = [x for x in normal_approx_followers if x < lower_bound_followers or x > upper_bound_followers]\n",
    "\n",
    "mean_friends = np.mean(normal_approx_friends)\n",
    "std_friends = np.std(normal_approx_friends)\n",
    "\n",
    "lower_bound_friends = mean_friends - 2 * std_friends\n",
    "upper_bound_friends = mean_friends + 2 * std_friends\n",
    "\n",
    "outliers_friends = [x for x in normal_approx_friends if x < lower_bound_friends or x > upper_bound_friends]\n",
    "\n",
    "total_follwers = len(normal_approx_followers)\n",
    "total_friends = len(normal_approx_friends)\n",
    "\n",
    "num_within_stdev_friends = total_friends - len(outliers_friends)\n",
    "num_within_stdev_followers = total_follwers - len(outliers_followers)\n",
    "\n",
    "fraction_within_stdev_followers = num_within_stdev_followers / total_follwers\n",
    "fraction_within_stdev_friends = num_within_stdev_friends / total_friends\n",
    "\n",
    "fraction_within_stdev_friends, fraction_within_stdev_followers"
   ]
  },
  {
   "cell_type": "markdown",
   "id": "6676b3a5-01e6-42f6-9fa9-e2747cdd9c05",
   "metadata": {},
   "source": [
    "The fact that calculating the logarithm of the data made our observations fall within a good normal approximation, tells us that the data can be approximated using a log-normal distribution.\n",
    "\n",
    "Next, we move on to the messages placed by the users. For this, we load the next data file `tweets_maastricht.tsv`. In this file, we have information about which user posted the tweet and at which time, in addition to the sentiment scores for the valence, arousal and dominance dimensions. We set the column `tweet_id` as the index. Moreover, the file is again tab-separated, so we use `sep=\"\\t\"`. Finally, to process the dates at which the tweets are posted, we also specify a function that converts them to the correct timestamps, namely `pd.to_datetime`. Note that loading this dataframe might take some time as a result of this conversion to datetime objects. Therefore, we include the `%%time` command, which allows us to track how long it takes to run a particular cell of code."
   ]
  },
  {
   "cell_type": "code",
   "execution_count": 11,
   "id": "3d7baf4f-503a-4764-aae0-b3f73c401086",
   "metadata": {
    "ExecuteTime": {
     "end_time": "2024-02-23T14:08:51.879995Z",
     "start_time": "2024-02-23T14:06:37.776234Z"
    }
   },
   "outputs": [
    {
     "name": "stdout",
     "output_type": "stream",
     "text": [
      "CPU times: total: 1min 31s\n",
      "Wall time: 1min 56s\n"
     ]
    },
    {
     "data": {
      "text/html": [
       "<div>\n",
       "<style scoped>\n",
       "    .dataframe tbody tr th:only-of-type {\n",
       "        vertical-align: middle;\n",
       "    }\n",
       "\n",
       "    .dataframe tbody tr th {\n",
       "        vertical-align: top;\n",
       "    }\n",
       "\n",
       "    .dataframe thead th {\n",
       "        text-align: right;\n",
       "    }\n",
       "</style>\n",
       "<table border=\"1\" class=\"dataframe\">\n",
       "  <thead>\n",
       "    <tr style=\"text-align: right;\">\n",
       "      <th></th>\n",
       "      <th>user_id</th>\n",
       "      <th>created_at</th>\n",
       "      <th>ANEW_Arousal</th>\n",
       "      <th>ANEW_Dominance</th>\n",
       "      <th>ANEW_Valence</th>\n",
       "    </tr>\n",
       "    <tr>\n",
       "      <th>tweet_id</th>\n",
       "      <th></th>\n",
       "      <th></th>\n",
       "      <th></th>\n",
       "      <th></th>\n",
       "      <th></th>\n",
       "    </tr>\n",
       "  </thead>\n",
       "  <tbody>\n",
       "    <tr>\n",
       "      <th>043t0000000</th>\n",
       "      <td>043u0001</td>\n",
       "      <td>2020-04-23 12:45:58+00:00</td>\n",
       "      <td>4.171667</td>\n",
       "      <td>4.226667</td>\n",
       "      <td>4.236667</td>\n",
       "    </tr>\n",
       "    <tr>\n",
       "      <th>043t0000001</th>\n",
       "      <td>043u0001</td>\n",
       "      <td>2020-04-23 11:28:08+00:00</td>\n",
       "      <td>3.533333</td>\n",
       "      <td>3.986667</td>\n",
       "      <td>3.940000</td>\n",
       "    </tr>\n",
       "    <tr>\n",
       "      <th>043t0000002</th>\n",
       "      <td>043u0001</td>\n",
       "      <td>2020-04-23 11:19:08+00:00</td>\n",
       "      <td>NaN</td>\n",
       "      <td>NaN</td>\n",
       "      <td>NaN</td>\n",
       "    </tr>\n",
       "    <tr>\n",
       "      <th>043t0000003</th>\n",
       "      <td>043u0001</td>\n",
       "      <td>2020-04-22 22:31:24+00:00</td>\n",
       "      <td>NaN</td>\n",
       "      <td>NaN</td>\n",
       "      <td>NaN</td>\n",
       "    </tr>\n",
       "    <tr>\n",
       "      <th>043t0000004</th>\n",
       "      <td>043u0001</td>\n",
       "      <td>2020-04-22 15:06:45+00:00</td>\n",
       "      <td>3.300000</td>\n",
       "      <td>4.030000</td>\n",
       "      <td>4.310000</td>\n",
       "    </tr>\n",
       "  </tbody>\n",
       "</table>\n",
       "</div>"
      ],
      "text/plain": [
       "              user_id                created_at  ANEW_Arousal  ANEW_Dominance  \\\n",
       "tweet_id                                                                        \n",
       "043t0000000  043u0001 2020-04-23 12:45:58+00:00      4.171667        4.226667   \n",
       "043t0000001  043u0001 2020-04-23 11:28:08+00:00      3.533333        3.986667   \n",
       "043t0000002  043u0001 2020-04-23 11:19:08+00:00           NaN             NaN   \n",
       "043t0000003  043u0001 2020-04-22 22:31:24+00:00           NaN             NaN   \n",
       "043t0000004  043u0001 2020-04-22 15:06:45+00:00      3.300000        4.030000   \n",
       "\n",
       "             ANEW_Valence  \n",
       "tweet_id                   \n",
       "043t0000000      4.236667  \n",
       "043t0000001      3.940000  \n",
       "043t0000002           NaN  \n",
       "043t0000003           NaN  \n",
       "043t0000004      4.310000  "
      ]
     },
     "execution_count": 11,
     "metadata": {},
     "output_type": "execute_result"
    }
   ],
   "source": [
    "%%time\n",
    "sent = pd.read_csv(\"tweets_maastricht.tsv\", sep=\"\\t\", index_col=\"tweet_id\", converters={\"created_at\": pd.to_datetime})\n",
    "sent.head()"
   ]
  },
  {
   "cell_type": "markdown",
   "id": "df649ac7-c2e2-4dec-b48b-52f60900721c",
   "metadata": {},
   "source": [
    "Let's take a closer look at the `created_at` column. Obviously, this is `Series`-object, which consists of `datetime64` objects. Note that these objects are in UTC (Universal Coordinated Time). "
   ]
  },
  {
   "cell_type": "code",
   "execution_count": 12,
   "id": "4be123c6-8c2a-4d29-af6a-eae17310dca6",
   "metadata": {
    "ExecuteTime": {
     "end_time": "2024-02-23T14:08:51.915152Z",
     "start_time": "2024-02-23T14:08:51.882190Z"
    }
   },
   "outputs": [
    {
     "data": {
      "text/plain": [
       "tweet_id\n",
       "043t0000000   2020-04-23 12:45:58+00:00\n",
       "043t0000001   2020-04-23 11:28:08+00:00\n",
       "043t0000002   2020-04-23 11:19:08+00:00\n",
       "043t0000003   2020-04-22 22:31:24+00:00\n",
       "043t0000004   2020-04-22 15:06:45+00:00\n",
       "                         ...           \n",
       "043t0092884   2020-04-25 10:42:52+00:00\n",
       "043t0092885   2020-04-25 10:41:54+00:00\n",
       "043t0092886   2020-04-23 21:15:22+00:00\n",
       "043t0092887   2020-04-23 16:19:39+00:00\n",
       "043t0092888   2019-12-01 16:43:43+00:00\n",
       "Name: created_at, Length: 92889, dtype: datetime64[ns, UTC]"
      ]
     },
     "execution_count": 12,
     "metadata": {},
     "output_type": "execute_result"
    }
   ],
   "source": [
    "sent.created_at"
   ]
  },
  {
   "cell_type": "markdown",
   "id": "592a882e-7890-48cd-a95b-4fe54cfdd0f2",
   "metadata": {},
   "source": [
    "In the case that we have a `Series` of datetime objects, we can use the `.dt` accessor (see documentation [here](https://pandas.pydata.org/pandas-docs/stable/user_guide/basics.html#dt-accessor)) to extract properties of each timestamp across the entire `Series`. For instance, we can determine the date at which tweet is posted as follows:"
   ]
  },
  {
   "cell_type": "code",
   "execution_count": 20,
   "id": "2a68d87f-a1a2-45bb-a515-30c36093b55a",
   "metadata": {
    "ExecuteTime": {
     "end_time": "2024-02-23T14:47:05.405808Z",
     "start_time": "2024-02-23T14:47:05.377830Z"
    }
   },
   "outputs": [
    {
     "data": {
      "text/plain": [
       "tweet_id\n",
       "043t0000000    2020-04-23\n",
       "043t0000001    2020-04-23\n",
       "043t0000002    2020-04-23\n",
       "043t0000003    2020-04-22\n",
       "043t0000004    2020-04-22\n",
       "                  ...    \n",
       "043t0092884    2020-04-25\n",
       "043t0092885    2020-04-25\n",
       "043t0092886    2020-04-23\n",
       "043t0092887    2020-04-23\n",
       "043t0092888    2019-12-01\n",
       "Name: created_at, Length: 92889, dtype: object"
      ]
     },
     "execution_count": 20,
     "metadata": {},
     "output_type": "execute_result"
    }
   ],
   "source": [
    "sent.created_at.dt.date"
   ]
  },
  {
   "cell_type": "markdown",
   "id": "8e9a5fa73ac39598",
   "metadata": {},
   "source": []
  },
  {
   "cell_type": "markdown",
   "id": "065b647e-4759-489a-b2c6-8d6abbe4de61",
   "metadata": {},
   "source": [
    "8. Construct a time-series that contains the daily number of tweets contained in the data set."
   ]
  },
  {
   "cell_type": "code",
   "execution_count": 37,
   "id": "117c73eb-4e46-4ba7-96e9-dcc3ab6fd434",
   "metadata": {
    "ExecuteTime": {
     "end_time": "2024-02-23T14:46:53.568170Z",
     "start_time": "2024-02-23T14:46:53.539387Z"
    }
   },
   "outputs": [
    {
     "data": {
      "text/plain": [
       "created_at\n",
       "2009-04-28      1\n",
       "2009-05-01      4\n",
       "2009-05-04      2\n",
       "2009-05-05      3\n",
       "2009-05-06      2\n",
       "             ... \n",
       "2020-10-26    104\n",
       "2020-10-27    186\n",
       "2020-10-28    195\n",
       "2020-10-29    224\n",
       "2020-10-30     59\n",
       "Name: created_at, Length: 4089, dtype: int64"
      ]
     },
     "execution_count": 37,
     "metadata": {},
     "output_type": "execute_result"
    }
   ],
   "source": [
    "## YOUR CODE HERE\n",
    "grouped_df = sent.groupby(sent.created_at.dt.date)\n",
    "grouped_df.count()[\"created_at\"]"
   ]
  },
  {
   "cell_type": "markdown",
   "id": "c7c865b6-2224-4d68-b3f2-6ab0ca37948d",
   "metadata": {},
   "source": [
    "9. Determine the time series of daily number of tweets in the data set (save the result in the variable `ts`) and plot the number of daily tweets starting from January 1st 2017 up to the latest day in the data set\n",
    "10. "
   ]
  },
  {
   "cell_type": "code",
   "execution_count": null,
   "id": "d3464a91-cde4-4eec-98c0-7191c02f605b",
   "metadata": {
    "tags": []
   },
   "outputs": [],
   "source": []
  },
  {
   "cell_type": "code",
   "execution_count": null,
   "id": "a84a5c1d-e8b4-4f37-9d55-b1158860386d",
   "metadata": {
    "ExecuteTime": {
     "end_time": "2024-02-23T14:08:52.078357Z",
     "start_time": "2024-02-23T14:08:52.077232Z"
    }
   },
   "outputs": [],
   "source": [
    "## YOUR CODE HERE\n",
    "fig, ax = plt.subplots()\n",
    "ax.plot(grouped_df[\"created_at\"])\n",
    "plt.show()"
   ]
  },
  {
   "cell_type": "markdown",
   "id": "fc5d010f-1fcf-4322-ad09-9e96b661a9a1",
   "metadata": {},
   "source": [
    "It is clear that the majority of the tweets are observed in the last months in the timespan of the data. Let's also look at the weekly average number of  tweets. We can do this by using `.rolling` (see documentation [here](https://pandas.pydata.org/docs/reference/api/pandas.DataFrame.rolling.html)), by using the window 7. After we use `.rolling(7)`, we can then do a calculation on the rolling window, e.g., by executing `mean` in our case. We get the following output:"
   ]
  },
  {
   "cell_type": "code",
   "execution_count": 16,
   "id": "c2fe65fc-5665-43f6-9f15-e29932a9fe71",
   "metadata": {
    "ExecuteTime": {
     "start_time": "2024-02-23T14:08:52.080632Z"
    }
   },
   "outputs": [
    {
     "ename": "NameError",
     "evalue": "name 'ts' is not defined",
     "output_type": "error",
     "traceback": [
      "\u001b[1;31m---------------------------------------------------------------------------\u001b[0m",
      "\u001b[1;31mNameError\u001b[0m                                 Traceback (most recent call last)",
      "Cell \u001b[1;32mIn[16], line 1\u001b[0m\n\u001b[1;32m----> 1\u001b[0m ts\u001b[38;5;241m.\u001b[39mrolling(\u001b[38;5;241m7\u001b[39m)\u001b[38;5;241m.\u001b[39mmean()\n",
      "\u001b[1;31mNameError\u001b[0m: name 'ts' is not defined"
     ]
    }
   ],
   "source": [
    "ts.rolling(7).mean()"
   ]
  },
  {
   "cell_type": "markdown",
   "id": "a5364bf4-5d8a-4479-b8f8-ae62d7bdedea",
   "metadata": {},
   "source": [
    "As you can see, the first observations are `NaN`-values, as there are not enough observations before that obervation to average over seven observations.\n",
    "\n",
    "10. Include the rolling weekly average in the plot that you made in the previous exercise."
   ]
  },
  {
   "cell_type": "code",
   "execution_count": null,
   "id": "ef91d334-6c3d-4782-969f-870f1ad206bf",
   "metadata": {
    "ExecuteTime": {
     "start_time": "2024-02-23T14:08:52.082921Z"
    }
   },
   "outputs": [],
   "source": [
    "## YOUR CODE HERE"
   ]
  },
  {
   "cell_type": "markdown",
   "id": "9cd8bd7d-b5ad-4460-9407-596913b6fbe7",
   "metadata": {},
   "source": [
    "Looking at this weekly average, we see a slight increase in number of tweets over time. Let's take a close look at this. First, we will determine the times of the first and last tweets per account in the dataset and store this information in the variables `first_tweet` and `last_tweet`, respectively.\n",
    "\n",
    "11. Determine the time of the first and last tweet of all accounts in the data set"
   ]
  },
  {
   "cell_type": "code",
   "execution_count": null,
   "id": "949dc2b2-dd6f-4eb7-a4f9-2a075904504b",
   "metadata": {},
   "outputs": [],
   "source": [
    "## YOUR CODE HERE"
   ]
  },
  {
   "cell_type": "markdown",
   "id": "6d0fd3e7-0d61-4826-b77a-73221129859f",
   "metadata": {},
   "source": [
    "12. Calculate the difference in days between the two, so we can sort the accounts based on length, use the `.dt` accessor to do so."
   ]
  },
  {
   "cell_type": "code",
   "execution_count": null,
   "id": "7882e9bc-111c-41d3-a865-31ca5c695e9e",
   "metadata": {
    "ExecuteTime": {
     "start_time": "2024-02-23T14:08:52.086306Z"
    }
   },
   "outputs": [],
   "source": [
    "## YOUR CODE HERE"
   ]
  },
  {
   "cell_type": "markdown",
   "id": "dee02941-7d06-45a6-80df-c4c21e3726a9",
   "metadata": {},
   "source": [
    "With this days difference between first and last tweet, we can sort the accounts based on the length of their timeline for visualization purposes. To do so, we have to determine the rank of the observations and subsequently sort these ranks. Save the ordering in the variable `order`.\n",
    "\n",
    "13. Sort the accounts based on the number of days in their timeline."
   ]
  },
  {
   "cell_type": "code",
   "execution_count": null,
   "id": "a1432981-bf81-43b3-833c-24572314a958",
   "metadata": {
    "ExecuteTime": {
     "start_time": "2024-02-23T14:08:52.088551Z"
    }
   },
   "outputs": [],
   "source": [
    "## YOUR CODE HERE"
   ]
  },
  {
   "cell_type": "markdown",
   "id": "41e3b764-21c5-4ba2-8a5a-74cb6fc9f443",
   "metadata": {},
   "source": [
    "Let's visualize these quantities by drawing horizontal lines that connect the first and last tweet timings.\n",
    "\n",
    "14. Visualize the lenghts of each timeline of the accounts"
   ]
  },
  {
   "cell_type": "code",
   "execution_count": null,
   "id": "63f29f8b-76c1-44ce-b654-85c7e826ede5",
   "metadata": {
    "ExecuteTime": {
     "start_time": "2024-02-23T14:08:52.091135Z"
    }
   },
   "outputs": [],
   "source": [
    "## YOUR CODE HERE"
   ]
  },
  {
   "cell_type": "markdown",
   "id": "cac3d119-538e-4cb5-bb44-33750df9a67b",
   "metadata": {},
   "source": [
    "As you can see in the figure above, some of the time-series of message for specific users are rather short. This is a result of the fact that we could only obtain a specific number of tweets per user, so if a user is more active, we will have a shorter history for that user. This also directly explains why the number of tweets steadily increases as we move closer to the end of the observed times.\n",
    "\n",
    "## Sentiment distribution\n",
    "Next, we turn our attention to the sentiment data. As we saw in the first overview of the data, there are several `NaN`-values in the data. First, we want to investigate how many observations have `NaN`-values.\n",
    "\n",
    "15. Save the names of the sentiment columns in the variable `sent_cols`"
   ]
  },
  {
   "cell_type": "code",
   "execution_count": null,
   "id": "b7326d72-b32a-4d63-9370-29344e45fb9c",
   "metadata": {},
   "outputs": [],
   "source": [
    "## YOUR CODE HERE"
   ]
  },
  {
   "cell_type": "markdown",
   "id": "d148c979-3729-4580-9d51-314e4d4c1788",
   "metadata": {},
   "source": [
    "16. Determine how many observations are `NaN` in the three sentiment columns in the data frame `sent`"
   ]
  },
  {
   "cell_type": "code",
   "execution_count": null,
   "id": "e2257737-c983-4b76-8b12-4afb2375ca6d",
   "metadata": {
    "ExecuteTime": {
     "start_time": "2024-02-23T14:08:52.094611Z"
    }
   },
   "outputs": [],
   "source": [
    "## YOUR CODE HERE"
   ]
  },
  {
   "cell_type": "markdown",
   "id": "6d6c6743-a83c-4dc7-9080-851471958a99",
   "metadata": {},
   "source": [
    "Next, let's first take a look at the distributions of the observations by visualizaing the distributions\n",
    "\n",
    "17. Display the distriubtion of the sentiment values in a histogram for each of the dimensions. Bin the observations from `1` to `9` in bins of a width of `0.1`."
   ]
  },
  {
   "cell_type": "code",
   "execution_count": null,
   "id": "30ebecdb-28c2-4086-a42e-0e64e105b368",
   "metadata": {},
   "outputs": [],
   "source": [
    "## YOUR CODE HERE"
   ]
  },
  {
   "cell_type": "markdown",
   "id": "ba2ac3c9-7dd6-4e9f-8fb5-2184e4a933aa",
   "metadata": {},
   "source": [
    "Let's explore whether the normal approximation works for the sentiment data. First, we have to normalize the data.\n",
    "\n",
    "18. Calculate how many standard deviations away from the mean each observation is for each sentiment dimension."
   ]
  },
  {
   "cell_type": "code",
   "execution_count": null,
   "id": "8b5175e3-eaee-42a9-a606-80bd1b6d90fe",
   "metadata": {},
   "outputs": [],
   "source": [
    "## YOUR CODE HERE"
   ]
  },
  {
   "cell_type": "markdown",
   "id": "793050cb-521d-47fb-bc1d-4118d23a6aac",
   "metadata": {},
   "source": [
    "Now that we have the deviations from the mean, we can determine how many observations lie within two standard deviations of the mean.\n",
    "\n",
    "19. Determine which fraction of the observations falls within two standard deviations from the mean."
   ]
  },
  {
   "cell_type": "code",
   "execution_count": null,
   "id": "6b676335-cc74-45e2-b553-f3091b038d9f",
   "metadata": {
    "ExecuteTime": {
     "start_time": "2024-02-23T14:08:52.100791Z"
    }
   },
   "outputs": [],
   "source": [
    "## YOUR CODE HERE"
   ]
  },
  {
   "cell_type": "markdown",
   "id": "098e2505-d6f5-4fe4-8ab6-6d3310765cc0",
   "metadata": {},
   "source": [
    "Based on these observations, would you say that the normal approximation for the sentiment data is appropriate?\n",
    "\n",
    "***Answer:*** *YOUR ANSWER HERE*"
   ]
  },
  {
   "cell_type": "code",
   "execution_count": null,
   "id": "29144e68-5d9d-4352-8de8-dc04f6eca80a",
   "metadata": {},
   "outputs": [],
   "source": []
  }
 ],
 "metadata": {
  "kernelspec": {
   "display_name": "Python 3 (ipykernel)",
   "language": "python",
   "name": "python3"
  },
  "language_info": {
   "codemirror_mode": {
    "name": "ipython",
    "version": 3
   },
   "file_extension": ".py",
   "mimetype": "text/x-python",
   "name": "python",
   "nbconvert_exporter": "python",
   "pygments_lexer": "ipython3",
   "version": "3.11.5"
  }
 },
 "nbformat": 4,
 "nbformat_minor": 5
}

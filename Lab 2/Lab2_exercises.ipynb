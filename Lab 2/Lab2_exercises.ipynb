{
 "cells": [
  {
   "cell_type": "markdown",
   "id": "85f57b8c",
   "metadata": {},
   "source": [
    "# KEN1435 - Principles of Data Science | Lab 2: Histogram, Average, and Standard Deviation\n",
    "\n",
    "First we load the necessary python packages"
   ]
  },
  {
   "cell_type": "code",
   "execution_count": 1,
   "id": "36af843e",
   "metadata": {},
   "outputs": [
    {
     "name": "stdout",
     "output_type": "stream",
     "text": [
      "seaborn   : 0.13.1\n",
      "watermark : 2.4.3\n",
      "matplotlib: 3.8.2\n",
      "pandas    : 2.1.4\n",
      "numpy     : 1.26.3\n",
      "\n"
     ]
    }
   ],
   "source": [
    "import matplotlib.pyplot as plt\n",
    "import numpy as np\n",
    "import pandas as pd\n",
    "import seaborn as sns\n",
    "\n",
    "from palmerpenguins import load_penguins\n",
    "import watermark\n",
    "\n",
    "%matplotlib inline\n",
    "%load_ext watermark\n",
    "%watermark -iv"
   ]
  },
  {
   "cell_type": "markdown",
   "id": "024bf98c-efe9-41ce-8c79-ff6003be3698",
   "metadata": {},
   "source": [
    "Our first step is to load the data using the `load_penguins` function and remove all the `NaN`-values from the dataframe. The resulting data frame is stored in the variable `df`."
   ]
  },
  {
   "cell_type": "code",
   "execution_count": 2,
   "id": "71c49d12-ad14-45d5-aa4e-e2cd378d9283",
   "metadata": {},
   "outputs": [
    {
     "data": {
      "text/html": [
       "<div>\n",
       "<style scoped>\n",
       "    .dataframe tbody tr th:only-of-type {\n",
       "        vertical-align: middle;\n",
       "    }\n",
       "\n",
       "    .dataframe tbody tr th {\n",
       "        vertical-align: top;\n",
       "    }\n",
       "\n",
       "    .dataframe thead th {\n",
       "        text-align: right;\n",
       "    }\n",
       "</style>\n",
       "<table border=\"1\" class=\"dataframe\">\n",
       "  <thead>\n",
       "    <tr style=\"text-align: right;\">\n",
       "      <th></th>\n",
       "      <th>species</th>\n",
       "      <th>island</th>\n",
       "      <th>bill_length_mm</th>\n",
       "      <th>bill_depth_mm</th>\n",
       "      <th>flipper_length_mm</th>\n",
       "      <th>body_mass_g</th>\n",
       "      <th>sex</th>\n",
       "      <th>year</th>\n",
       "    </tr>\n",
       "  </thead>\n",
       "  <tbody>\n",
       "    <tr>\n",
       "      <th>0</th>\n",
       "      <td>Adelie</td>\n",
       "      <td>Torgersen</td>\n",
       "      <td>39.1</td>\n",
       "      <td>18.7</td>\n",
       "      <td>181.0</td>\n",
       "      <td>3750.0</td>\n",
       "      <td>male</td>\n",
       "      <td>2007</td>\n",
       "    </tr>\n",
       "    <tr>\n",
       "      <th>1</th>\n",
       "      <td>Adelie</td>\n",
       "      <td>Torgersen</td>\n",
       "      <td>39.5</td>\n",
       "      <td>17.4</td>\n",
       "      <td>186.0</td>\n",
       "      <td>3800.0</td>\n",
       "      <td>female</td>\n",
       "      <td>2007</td>\n",
       "    </tr>\n",
       "    <tr>\n",
       "      <th>2</th>\n",
       "      <td>Adelie</td>\n",
       "      <td>Torgersen</td>\n",
       "      <td>40.3</td>\n",
       "      <td>18.0</td>\n",
       "      <td>195.0</td>\n",
       "      <td>3250.0</td>\n",
       "      <td>female</td>\n",
       "      <td>2007</td>\n",
       "    </tr>\n",
       "    <tr>\n",
       "      <th>4</th>\n",
       "      <td>Adelie</td>\n",
       "      <td>Torgersen</td>\n",
       "      <td>36.7</td>\n",
       "      <td>19.3</td>\n",
       "      <td>193.0</td>\n",
       "      <td>3450.0</td>\n",
       "      <td>female</td>\n",
       "      <td>2007</td>\n",
       "    </tr>\n",
       "    <tr>\n",
       "      <th>5</th>\n",
       "      <td>Adelie</td>\n",
       "      <td>Torgersen</td>\n",
       "      <td>39.3</td>\n",
       "      <td>20.6</td>\n",
       "      <td>190.0</td>\n",
       "      <td>3650.0</td>\n",
       "      <td>male</td>\n",
       "      <td>2007</td>\n",
       "    </tr>\n",
       "  </tbody>\n",
       "</table>\n",
       "</div>"
      ],
      "text/plain": [
       "  species     island  bill_length_mm  bill_depth_mm  flipper_length_mm  \\\n",
       "0  Adelie  Torgersen            39.1           18.7              181.0   \n",
       "1  Adelie  Torgersen            39.5           17.4              186.0   \n",
       "2  Adelie  Torgersen            40.3           18.0              195.0   \n",
       "4  Adelie  Torgersen            36.7           19.3              193.0   \n",
       "5  Adelie  Torgersen            39.3           20.6              190.0   \n",
       "\n",
       "   body_mass_g     sex  year  \n",
       "0       3750.0    male  2007  \n",
       "1       3800.0  female  2007  \n",
       "2       3250.0  female  2007  \n",
       "4       3450.0  female  2007  \n",
       "5       3650.0    male  2007  "
      ]
     },
     "execution_count": 2,
     "metadata": {},
     "output_type": "execute_result"
    }
   ],
   "source": [
    "penguins = load_penguins()\n",
    "penguins.head()\n",
    "\n",
    "ma = ~(penguins.isna().sum(axis=1) > 0)\n",
    "df = penguins.loc[ma, :].copy()\n",
    "df.head()"
   ]
  },
  {
   "cell_type": "markdown",
   "id": "f555fb84-334a-4d01-9460-54a18ab2bacf",
   "metadata": {},
   "source": [
    "## The `map`-function\n",
    "In the previous lab, we mapped all values of a categorical column to another value using the `apply`-function as an example of how the apply function works. However, there is an easier way to map categorical values, using the `map` function (see the [documentation](https://pandas.pydata.org/docs/reference/api/pandas.Series.map.html#pandas.Series.map)). Note that we can also use the `map` function on a `DataFrame`, which replaces values throughout the entire data frame (see the [documentation](https://pandas.pydata.org/docs/reference/api/pandas.DataFrame.map.html#pandas-dataframe-map))."
   ]
  },
  {
   "cell_type": "code",
   "execution_count": 3,
   "id": "bdb238fc-ebed-461b-9956-062f39d62692",
   "metadata": {},
   "outputs": [
    {
     "data": {
      "text/plain": [
       "0      1.0\n",
       "1      NaN\n",
       "2      NaN\n",
       "4      NaN\n",
       "5      1.0\n",
       "      ... \n",
       "339    1.0\n",
       "340    NaN\n",
       "341    1.0\n",
       "342    1.0\n",
       "343    NaN\n",
       "Name: sex, Length: 333, dtype: float64"
      ]
     },
     "execution_count": 3,
     "metadata": {},
     "output_type": "execute_result"
    }
   ],
   "source": [
    "df[\"sex\"].map({\"male\": 1})"
   ]
  },
  {
   "cell_type": "markdown",
   "id": "cf67802b-8b46-4578-a9ca-6e8e9ddacad9",
   "metadata": {},
   "source": [
    "Note that all values that are not contained in the dictionary receive a `NaN`-value as output.\n",
    "\n",
    "## The `cut`-function\n",
    "\n",
    "Another `pandas`-function that we should discuss is called `cut`, see the documentation [here](https://pandas.pydata.org/docs/reference/api/pandas.cut.html). This function allows you to cut a continuous variable up into predetermined bins. As an example, let's revisit the histogram that we created during the lecture. Here, we looked at the `body_mass_g` propoerty of the penguins and binned that in 18 bins, which is equivalent to bins spanning 200 grams. We will store the bin edges in the variable `edges`."
   ]
  },
  {
   "cell_type": "code",
   "execution_count": 4,
   "id": "dc7b4a6c-a6a7-4413-9268-9d03ff882cd9",
   "metadata": {},
   "outputs": [],
   "source": [
    "edges = np.arange(2700, 6301, 200)"
   ]
  },
  {
   "cell_type": "markdown",
   "id": "5b1f783e-cf56-4220-b9de-14121237d193",
   "metadata": {},
   "source": [
    "Another option of the function `cut` is to provide labels for all the categories. As we are binning data here, we will label the bins with the intervals that we use for the binnen. We build the labels using a **list comprehension**, in which we build an array by looping over the items in a collection and performing some function over them."
   ]
  },
  {
   "cell_type": "code",
   "execution_count": 5,
   "id": "5ce9db84-b9da-48fb-aace-b2fbcbba31b1",
   "metadata": {},
   "outputs": [],
   "source": [
    "bin_labels = [\"[{}-{})\".format(v, v+200) for v in edges[:-1]]"
   ]
  },
  {
   "cell_type": "markdown",
   "id": "3cf8be67-2d29-4831-a6a7-62bc617a0f81",
   "metadata": {},
   "source": [
    "Finally, we pass `right=False`, to ensure that we include the left boundary for each interval rather than the right boundary."
   ]
  },
  {
   "cell_type": "code",
   "execution_count": 6,
   "id": "fbaf90e0-1f4e-402b-a9e4-ca42dca074f0",
   "metadata": {},
   "outputs": [],
   "source": [
    "df[\"body_mass_bin\"] = pd.cut(df[\"body_mass_g\"], bins=edges, labels=bin_labels, right=False)"
   ]
  },
  {
   "cell_type": "markdown",
   "id": "7b858daf-460a-4ba1-84fe-45853dc121fd",
   "metadata": {},
   "source": [
    "## The `concat`-function\n",
    "\n",
    "Finally, with the `concat`-function, we can combine several data frames into a single data frame. Let's start by an example with the grade data that we also used during the previous lab.\n",
    "\n",
    "First, we load the grades data."
   ]
  },
  {
   "cell_type": "code",
   "execution_count": 7,
   "id": "562ead14-6295-4df8-8c61-5205cc656d5b",
   "metadata": {},
   "outputs": [
    {
     "data": {
      "text/html": [
       "<div>\n",
       "<style scoped>\n",
       "    .dataframe tbody tr th:only-of-type {\n",
       "        vertical-align: middle;\n",
       "    }\n",
       "\n",
       "    .dataframe tbody tr th {\n",
       "        vertical-align: top;\n",
       "    }\n",
       "\n",
       "    .dataframe thead th {\n",
       "        text-align: right;\n",
       "    }\n",
       "</style>\n",
       "<table border=\"1\" class=\"dataframe\">\n",
       "  <thead>\n",
       "    <tr style=\"text-align: right;\">\n",
       "      <th></th>\n",
       "      <th>MTE-004</th>\n",
       "      <th>LOE-103</th>\n",
       "      <th>DSE-005</th>\n",
       "      <th>JTE-234</th>\n",
       "      <th>JHF-101</th>\n",
       "      <th>LDE-009</th>\n",
       "      <th>BKO-800</th>\n",
       "      <th>ATE-214</th>\n",
       "      <th>FEA-907</th>\n",
       "      <th>TGL-013</th>\n",
       "      <th>...</th>\n",
       "      <th>GHL-823</th>\n",
       "      <th>WDM-974</th>\n",
       "      <th>TSO-010</th>\n",
       "      <th>PPL-239</th>\n",
       "      <th>DSE-003</th>\n",
       "      <th>LPG-307</th>\n",
       "      <th>PLO-132</th>\n",
       "      <th>ATE-014</th>\n",
       "      <th>KMO-007</th>\n",
       "      <th>ATE-008</th>\n",
       "    </tr>\n",
       "    <tr>\n",
       "      <th>StudentID</th>\n",
       "      <th></th>\n",
       "      <th></th>\n",
       "      <th></th>\n",
       "      <th></th>\n",
       "      <th></th>\n",
       "      <th></th>\n",
       "      <th></th>\n",
       "      <th></th>\n",
       "      <th></th>\n",
       "      <th></th>\n",
       "      <th></th>\n",
       "      <th></th>\n",
       "      <th></th>\n",
       "      <th></th>\n",
       "      <th></th>\n",
       "      <th></th>\n",
       "      <th></th>\n",
       "      <th></th>\n",
       "      <th></th>\n",
       "      <th></th>\n",
       "      <th></th>\n",
       "    </tr>\n",
       "  </thead>\n",
       "  <tbody>\n",
       "    <tr>\n",
       "      <th>1000457</th>\n",
       "      <td>7.0</td>\n",
       "      <td>8.0</td>\n",
       "      <td>NaN</td>\n",
       "      <td>NaN</td>\n",
       "      <td>NaN</td>\n",
       "      <td>NaN</td>\n",
       "      <td>6.0</td>\n",
       "      <td>6.0</td>\n",
       "      <td>NaN</td>\n",
       "      <td>NaN</td>\n",
       "      <td>...</td>\n",
       "      <td>NaN</td>\n",
       "      <td>NaN</td>\n",
       "      <td>NaN</td>\n",
       "      <td>NaN</td>\n",
       "      <td>6.0</td>\n",
       "      <td>NaN</td>\n",
       "      <td>NaN</td>\n",
       "      <td>NaN</td>\n",
       "      <td>NaN</td>\n",
       "      <td>NaN</td>\n",
       "    </tr>\n",
       "    <tr>\n",
       "      <th>1000543</th>\n",
       "      <td>7.0</td>\n",
       "      <td>7.0</td>\n",
       "      <td>NaN</td>\n",
       "      <td>NaN</td>\n",
       "      <td>NaN</td>\n",
       "      <td>NaN</td>\n",
       "      <td>7.0</td>\n",
       "      <td>6.0</td>\n",
       "      <td>NaN</td>\n",
       "      <td>NaN</td>\n",
       "      <td>...</td>\n",
       "      <td>NaN</td>\n",
       "      <td>NaN</td>\n",
       "      <td>NaN</td>\n",
       "      <td>NaN</td>\n",
       "      <td>6.0</td>\n",
       "      <td>NaN</td>\n",
       "      <td>NaN</td>\n",
       "      <td>NaN</td>\n",
       "      <td>NaN</td>\n",
       "      <td>NaN</td>\n",
       "    </tr>\n",
       "    <tr>\n",
       "      <th>1000286</th>\n",
       "      <td>7.0</td>\n",
       "      <td>7.0</td>\n",
       "      <td>NaN</td>\n",
       "      <td>NaN</td>\n",
       "      <td>NaN</td>\n",
       "      <td>NaN</td>\n",
       "      <td>8.0</td>\n",
       "      <td>7.0</td>\n",
       "      <td>NaN</td>\n",
       "      <td>NaN</td>\n",
       "      <td>...</td>\n",
       "      <td>NaN</td>\n",
       "      <td>NaN</td>\n",
       "      <td>NaN</td>\n",
       "      <td>NaN</td>\n",
       "      <td>7.0</td>\n",
       "      <td>NaN</td>\n",
       "      <td>NaN</td>\n",
       "      <td>NaN</td>\n",
       "      <td>NaN</td>\n",
       "      <td>NaN</td>\n",
       "    </tr>\n",
       "    <tr>\n",
       "      <th>1001653</th>\n",
       "      <td>6.0</td>\n",
       "      <td>6.0</td>\n",
       "      <td>NaN</td>\n",
       "      <td>NaN</td>\n",
       "      <td>NaN</td>\n",
       "      <td>NaN</td>\n",
       "      <td>7.0</td>\n",
       "      <td>6.0</td>\n",
       "      <td>5.0</td>\n",
       "      <td>5.0</td>\n",
       "      <td>...</td>\n",
       "      <td>NaN</td>\n",
       "      <td>NaN</td>\n",
       "      <td>NaN</td>\n",
       "      <td>6.0</td>\n",
       "      <td>4.0</td>\n",
       "      <td>5.0</td>\n",
       "      <td>NaN</td>\n",
       "      <td>NaN</td>\n",
       "      <td>NaN</td>\n",
       "      <td>7.0</td>\n",
       "    </tr>\n",
       "    <tr>\n",
       "      <th>1001165</th>\n",
       "      <td>9.0</td>\n",
       "      <td>8.0</td>\n",
       "      <td>NaN</td>\n",
       "      <td>NaN</td>\n",
       "      <td>NaN</td>\n",
       "      <td>NaN</td>\n",
       "      <td>8.0</td>\n",
       "      <td>8.0</td>\n",
       "      <td>NaN</td>\n",
       "      <td>NaN</td>\n",
       "      <td>...</td>\n",
       "      <td>NaN</td>\n",
       "      <td>NaN</td>\n",
       "      <td>NaN</td>\n",
       "      <td>NaN</td>\n",
       "      <td>7.0</td>\n",
       "      <td>NaN</td>\n",
       "      <td>NaN</td>\n",
       "      <td>NaN</td>\n",
       "      <td>NaN</td>\n",
       "      <td>NaN</td>\n",
       "    </tr>\n",
       "  </tbody>\n",
       "</table>\n",
       "<p>5 rows × 30 columns</p>\n",
       "</div>"
      ],
      "text/plain": [
       "           MTE-004  LOE-103  DSE-005  JTE-234  JHF-101  LDE-009  BKO-800  \\\n",
       "StudentID                                                                  \n",
       "1000457        7.0      8.0      NaN      NaN      NaN      NaN      6.0   \n",
       "1000543        7.0      7.0      NaN      NaN      NaN      NaN      7.0   \n",
       "1000286        7.0      7.0      NaN      NaN      NaN      NaN      8.0   \n",
       "1001653        6.0      6.0      NaN      NaN      NaN      NaN      7.0   \n",
       "1001165        9.0      8.0      NaN      NaN      NaN      NaN      8.0   \n",
       "\n",
       "           ATE-214  FEA-907  TGL-013  ...  GHL-823  WDM-974  TSO-010  PPL-239  \\\n",
       "StudentID                             ...                                       \n",
       "1000457        6.0      NaN      NaN  ...      NaN      NaN      NaN      NaN   \n",
       "1000543        6.0      NaN      NaN  ...      NaN      NaN      NaN      NaN   \n",
       "1000286        7.0      NaN      NaN  ...      NaN      NaN      NaN      NaN   \n",
       "1001653        6.0      5.0      5.0  ...      NaN      NaN      NaN      6.0   \n",
       "1001165        8.0      NaN      NaN  ...      NaN      NaN      NaN      NaN   \n",
       "\n",
       "           DSE-003  LPG-307  PLO-132  ATE-014  KMO-007  ATE-008  \n",
       "StudentID                                                        \n",
       "1000457        6.0      NaN      NaN      NaN      NaN      NaN  \n",
       "1000543        6.0      NaN      NaN      NaN      NaN      NaN  \n",
       "1000286        7.0      NaN      NaN      NaN      NaN      NaN  \n",
       "1001653        4.0      5.0      NaN      NaN      NaN      7.0  \n",
       "1001165        7.0      NaN      NaN      NaN      NaN      NaN  \n",
       "\n",
       "[5 rows x 30 columns]"
      ]
     },
     "execution_count": 7,
     "metadata": {},
     "output_type": "execute_result"
    }
   ],
   "source": [
    "grades = pd.read_csv(\"CurrentGrades2.csv\", index_col=\"StudentID\", sep=\";\", na_values=\"NG\")\n",
    "grades.head()"
   ]
  },
  {
   "cell_type": "markdown",
   "id": "f15a7016-229d-4afa-a067-56e042465ed2",
   "metadata": {},
   "source": [
    "Next, we load the student information."
   ]
  },
  {
   "cell_type": "code",
   "execution_count": 8,
   "id": "da4f9d29-dcbb-48d7-b475-892d0a77f864",
   "metadata": {},
   "outputs": [
    {
     "data": {
      "text/html": [
       "<div>\n",
       "<style scoped>\n",
       "    .dataframe tbody tr th:only-of-type {\n",
       "        vertical-align: middle;\n",
       "    }\n",
       "\n",
       "    .dataframe tbody tr th {\n",
       "        vertical-align: top;\n",
       "    }\n",
       "\n",
       "    .dataframe thead th {\n",
       "        text-align: right;\n",
       "    }\n",
       "</style>\n",
       "<table border=\"1\" class=\"dataframe\">\n",
       "  <thead>\n",
       "    <tr style=\"text-align: right;\">\n",
       "      <th></th>\n",
       "      <th>Suruna Value</th>\n",
       "      <th>Hurni Level</th>\n",
       "      <th>Lal Count</th>\n",
       "      <th>Volta</th>\n",
       "    </tr>\n",
       "    <tr>\n",
       "      <th>StudentNumber</th>\n",
       "      <th></th>\n",
       "      <th></th>\n",
       "      <th></th>\n",
       "      <th></th>\n",
       "    </tr>\n",
       "  </thead>\n",
       "  <tbody>\n",
       "    <tr>\n",
       "      <th>1000457</th>\n",
       "      <td>lobi</td>\n",
       "      <td>nothing</td>\n",
       "      <td>63</td>\n",
       "      <td>5 stars</td>\n",
       "    </tr>\n",
       "    <tr>\n",
       "      <th>1000543</th>\n",
       "      <td>nulp</td>\n",
       "      <td>nothing</td>\n",
       "      <td>80</td>\n",
       "      <td>1 star</td>\n",
       "    </tr>\n",
       "    <tr>\n",
       "      <th>1000286</th>\n",
       "      <td>lobi</td>\n",
       "      <td>medium</td>\n",
       "      <td>95</td>\n",
       "      <td>3 stars</td>\n",
       "    </tr>\n",
       "    <tr>\n",
       "      <th>1001653</th>\n",
       "      <td>lobi</td>\n",
       "      <td>low</td>\n",
       "      <td>80</td>\n",
       "      <td>1 star</td>\n",
       "    </tr>\n",
       "    <tr>\n",
       "      <th>1001165</th>\n",
       "      <td>nulp</td>\n",
       "      <td>medium</td>\n",
       "      <td>97</td>\n",
       "      <td>4 stars</td>\n",
       "    </tr>\n",
       "  </tbody>\n",
       "</table>\n",
       "</div>"
      ],
      "text/plain": [
       "              Suruna Value Hurni Level  Lal Count   Volta \n",
       "StudentNumber                                             \n",
       "1000457               lobi     nothing         63  5 stars\n",
       "1000543               nulp     nothing         80   1 star\n",
       "1000286               lobi      medium         95  3 stars\n",
       "1001653               lobi         low         80   1 star\n",
       "1001165               nulp      medium         97  4 stars"
      ]
     },
     "execution_count": 8,
     "metadata": {},
     "output_type": "execute_result"
    }
   ],
   "source": [
    "info = pd.read_csv(\"StudentInfo.csv\", index_col=\"StudentNumber\", sep=\";\")\n",
    "info.head()"
   ]
  },
  {
   "cell_type": "markdown",
   "id": "ff63d016-fd54-4110-b55d-b18e5c3ac1a1",
   "metadata": {},
   "source": [
    "Now, we combine these two data frames by the index. This will join all rows that have the same value as index and will add `NaN`-values for each missing value."
   ]
  },
  {
   "cell_type": "code",
   "execution_count": 9,
   "id": "e8af7059-f0c4-422f-9431-93f70865ca14",
   "metadata": {},
   "outputs": [
    {
     "data": {
      "text/html": [
       "<div>\n",
       "<style scoped>\n",
       "    .dataframe tbody tr th:only-of-type {\n",
       "        vertical-align: middle;\n",
       "    }\n",
       "\n",
       "    .dataframe tbody tr th {\n",
       "        vertical-align: top;\n",
       "    }\n",
       "\n",
       "    .dataframe thead th {\n",
       "        text-align: right;\n",
       "    }\n",
       "</style>\n",
       "<table border=\"1\" class=\"dataframe\">\n",
       "  <thead>\n",
       "    <tr style=\"text-align: right;\">\n",
       "      <th></th>\n",
       "      <th>MTE-004</th>\n",
       "      <th>LOE-103</th>\n",
       "      <th>DSE-005</th>\n",
       "      <th>JTE-234</th>\n",
       "      <th>JHF-101</th>\n",
       "      <th>LDE-009</th>\n",
       "      <th>BKO-800</th>\n",
       "      <th>ATE-214</th>\n",
       "      <th>FEA-907</th>\n",
       "      <th>TGL-013</th>\n",
       "      <th>...</th>\n",
       "      <th>DSE-003</th>\n",
       "      <th>LPG-307</th>\n",
       "      <th>PLO-132</th>\n",
       "      <th>ATE-014</th>\n",
       "      <th>KMO-007</th>\n",
       "      <th>ATE-008</th>\n",
       "      <th>Suruna Value</th>\n",
       "      <th>Hurni Level</th>\n",
       "      <th>Lal Count</th>\n",
       "      <th>Volta</th>\n",
       "    </tr>\n",
       "  </thead>\n",
       "  <tbody>\n",
       "    <tr>\n",
       "      <th>1000457</th>\n",
       "      <td>7.0</td>\n",
       "      <td>8.0</td>\n",
       "      <td>NaN</td>\n",
       "      <td>NaN</td>\n",
       "      <td>NaN</td>\n",
       "      <td>NaN</td>\n",
       "      <td>6.0</td>\n",
       "      <td>6.0</td>\n",
       "      <td>NaN</td>\n",
       "      <td>NaN</td>\n",
       "      <td>...</td>\n",
       "      <td>6.0</td>\n",
       "      <td>NaN</td>\n",
       "      <td>NaN</td>\n",
       "      <td>NaN</td>\n",
       "      <td>NaN</td>\n",
       "      <td>NaN</td>\n",
       "      <td>lobi</td>\n",
       "      <td>nothing</td>\n",
       "      <td>63</td>\n",
       "      <td>5 stars</td>\n",
       "    </tr>\n",
       "    <tr>\n",
       "      <th>1000543</th>\n",
       "      <td>7.0</td>\n",
       "      <td>7.0</td>\n",
       "      <td>NaN</td>\n",
       "      <td>NaN</td>\n",
       "      <td>NaN</td>\n",
       "      <td>NaN</td>\n",
       "      <td>7.0</td>\n",
       "      <td>6.0</td>\n",
       "      <td>NaN</td>\n",
       "      <td>NaN</td>\n",
       "      <td>...</td>\n",
       "      <td>6.0</td>\n",
       "      <td>NaN</td>\n",
       "      <td>NaN</td>\n",
       "      <td>NaN</td>\n",
       "      <td>NaN</td>\n",
       "      <td>NaN</td>\n",
       "      <td>nulp</td>\n",
       "      <td>nothing</td>\n",
       "      <td>80</td>\n",
       "      <td>1 star</td>\n",
       "    </tr>\n",
       "    <tr>\n",
       "      <th>1000286</th>\n",
       "      <td>7.0</td>\n",
       "      <td>7.0</td>\n",
       "      <td>NaN</td>\n",
       "      <td>NaN</td>\n",
       "      <td>NaN</td>\n",
       "      <td>NaN</td>\n",
       "      <td>8.0</td>\n",
       "      <td>7.0</td>\n",
       "      <td>NaN</td>\n",
       "      <td>NaN</td>\n",
       "      <td>...</td>\n",
       "      <td>7.0</td>\n",
       "      <td>NaN</td>\n",
       "      <td>NaN</td>\n",
       "      <td>NaN</td>\n",
       "      <td>NaN</td>\n",
       "      <td>NaN</td>\n",
       "      <td>lobi</td>\n",
       "      <td>medium</td>\n",
       "      <td>95</td>\n",
       "      <td>3 stars</td>\n",
       "    </tr>\n",
       "    <tr>\n",
       "      <th>1001653</th>\n",
       "      <td>6.0</td>\n",
       "      <td>6.0</td>\n",
       "      <td>NaN</td>\n",
       "      <td>NaN</td>\n",
       "      <td>NaN</td>\n",
       "      <td>NaN</td>\n",
       "      <td>7.0</td>\n",
       "      <td>6.0</td>\n",
       "      <td>5.0</td>\n",
       "      <td>5.0</td>\n",
       "      <td>...</td>\n",
       "      <td>4.0</td>\n",
       "      <td>5.0</td>\n",
       "      <td>NaN</td>\n",
       "      <td>NaN</td>\n",
       "      <td>NaN</td>\n",
       "      <td>7.0</td>\n",
       "      <td>lobi</td>\n",
       "      <td>low</td>\n",
       "      <td>80</td>\n",
       "      <td>1 star</td>\n",
       "    </tr>\n",
       "    <tr>\n",
       "      <th>1001165</th>\n",
       "      <td>9.0</td>\n",
       "      <td>8.0</td>\n",
       "      <td>NaN</td>\n",
       "      <td>NaN</td>\n",
       "      <td>NaN</td>\n",
       "      <td>NaN</td>\n",
       "      <td>8.0</td>\n",
       "      <td>8.0</td>\n",
       "      <td>NaN</td>\n",
       "      <td>NaN</td>\n",
       "      <td>...</td>\n",
       "      <td>7.0</td>\n",
       "      <td>NaN</td>\n",
       "      <td>NaN</td>\n",
       "      <td>NaN</td>\n",
       "      <td>NaN</td>\n",
       "      <td>NaN</td>\n",
       "      <td>nulp</td>\n",
       "      <td>medium</td>\n",
       "      <td>97</td>\n",
       "      <td>4 stars</td>\n",
       "    </tr>\n",
       "  </tbody>\n",
       "</table>\n",
       "<p>5 rows × 34 columns</p>\n",
       "</div>"
      ],
      "text/plain": [
       "         MTE-004  LOE-103  DSE-005  JTE-234  JHF-101  LDE-009  BKO-800  \\\n",
       "1000457      7.0      8.0      NaN      NaN      NaN      NaN      6.0   \n",
       "1000543      7.0      7.0      NaN      NaN      NaN      NaN      7.0   \n",
       "1000286      7.0      7.0      NaN      NaN      NaN      NaN      8.0   \n",
       "1001653      6.0      6.0      NaN      NaN      NaN      NaN      7.0   \n",
       "1001165      9.0      8.0      NaN      NaN      NaN      NaN      8.0   \n",
       "\n",
       "         ATE-214  FEA-907  TGL-013  ...  DSE-003  LPG-307  PLO-132  ATE-014  \\\n",
       "1000457      6.0      NaN      NaN  ...      6.0      NaN      NaN      NaN   \n",
       "1000543      6.0      NaN      NaN  ...      6.0      NaN      NaN      NaN   \n",
       "1000286      7.0      NaN      NaN  ...      7.0      NaN      NaN      NaN   \n",
       "1001653      6.0      5.0      5.0  ...      4.0      5.0      NaN      NaN   \n",
       "1001165      8.0      NaN      NaN  ...      7.0      NaN      NaN      NaN   \n",
       "\n",
       "         KMO-007  ATE-008  Suruna Value  Hurni Level  Lal Count   Volta   \n",
       "1000457      NaN      NaN          lobi      nothing         63  5 stars  \n",
       "1000543      NaN      NaN          nulp      nothing         80   1 star  \n",
       "1000286      NaN      NaN          lobi       medium         95  3 stars  \n",
       "1001653      NaN      7.0          lobi          low         80   1 star  \n",
       "1001165      NaN      NaN          nulp       medium         97  4 stars  \n",
       "\n",
       "[5 rows x 34 columns]"
      ]
     },
     "execution_count": 9,
     "metadata": {},
     "output_type": "execute_result"
    }
   ],
   "source": [
    "students = pd.concat([grades, info], axis=1)\n",
    "students.head()"
   ]
  },
  {
   "cell_type": "markdown",
   "id": "4a65a2f5-9b2f-4595-8f48-43d0bcafa435",
   "metadata": {},
   "source": [
    "## Figures with multiple panels\n",
    "\n",
    "There are several ways to combine multiple panels in a single figure. Here, we will describe three alternatives. The first is by specifying the dimensions of the panel when calling the `add_subplot` function on a figure. The input is three integers `ijk`, in which `i` specifies the number of rows, `j` the number of columns and `k` indicates the panel that is created."
   ]
  },
  {
   "cell_type": "code",
   "execution_count": 10,
   "id": "87eb152e-1583-4d3a-ac8c-6cad59e5decf",
   "metadata": {},
   "outputs": [
    {
     "data": {
      "image/png": "[encoded data removed]",
      "text/plain": [
       "<Figure size 1600x600 with 6 Axes>"
      ]
     },
     "metadata": {},
     "output_type": "display_data"
    }
   ],
   "source": [
    "fig = plt.figure(figsize=(16, 6))\n",
    "ax = fig.add_subplot(231)\n",
    "ax.annotate(\"Panel 1\", (0.5, 0.5), fontsize=32, ha=\"center\")\n",
    "\n",
    "ax = fig.add_subplot(232)\n",
    "ax.annotate(\"Panel 2\", (0.5, 0.5), fontsize=32, ha=\"center\")\n",
    "\n",
    "ax = fig.add_subplot(233)\n",
    "ax.annotate(\"Panel 3\", (0.5, 0.5), fontsize=32, ha=\"center\")\n",
    "\n",
    "ax = fig.add_subplot(234)\n",
    "ax.annotate(\"Panel 4\", (0.5, 0.5), fontsize=32, ha=\"center\")\n",
    "\n",
    "ax = fig.add_subplot(235)\n",
    "ax.annotate(\"Panel 5\", (0.5, 0.5), fontsize=32, ha=\"center\")\n",
    "\n",
    "ax = fig.add_subplot(236)\n",
    "ax.annotate(\"Panel 6\", (0.5, 0.5), fontsize=32, ha=\"center\");"
   ]
  },
  {
   "cell_type": "markdown",
   "id": "2014828f-f33a-460f-8202-8189759f72a7",
   "metadata": {},
   "source": [
    "A second method is by using the `plt.subplots` function."
   ]
  },
  {
   "cell_type": "code",
   "execution_count": 11,
   "id": "afd1a44e-edc7-4866-aede-789f3b7e84d5",
   "metadata": {},
   "outputs": [
    {
     "data": {
      "image/png": "[encoded data removed]",
      "text/plain": [
       "<Figure size 1600x600 with 6 Axes>"
      ]
     },
     "metadata": {},
     "output_type": "display_data"
    }
   ],
   "source": [
    "fig, axarr = plt.subplots(2, 3, figsize=(16, 6))\n",
    "axarr[0, 0].annotate(\"Panel 1\", (0.5, 0.5), fontsize=32, ha=\"center\")\n",
    "axarr[0, 1].annotate(\"Panel 2\", (0.5, 0.5), fontsize=32, ha=\"center\")\n",
    "axarr[0, 2].annotate(\"Panel 3\", (0.5, 0.5), fontsize=32, ha=\"center\")\n",
    "axarr[1, 0].annotate(\"Panel 4\", (0.5, 0.5), fontsize=32, ha=\"center\")\n",
    "axarr[1, 1].annotate(\"Panel 5\", (0.5, 0.5), fontsize=32, ha=\"center\")\n",
    "axarr[1, 2].annotate(\"Panel 6\", (0.5, 0.5), fontsize=32, ha=\"center\");"
   ]
  },
  {
   "cell_type": "markdown",
   "id": "858ee60f-134f-4b95-bcd7-7341db92428b",
   "metadata": {},
   "source": [
    "Finally, the third option is by using the `add_gridspec`-function of the `Figure` object. This instantiates a grid in which you can allocate any cell to a particular panel. "
   ]
  },
  {
   "cell_type": "code",
   "execution_count": 12,
   "id": "aa39418e-f8e2-46eb-82c3-71a04efc6e24",
   "metadata": {},
   "outputs": [
    {
     "data": {
      "text/plain": [
       "Text(0.5, 0.5, 'Panel 6')"
      ]
     },
     "execution_count": 12,
     "metadata": {},
     "output_type": "execute_result"
    },
    {
     "data": {
      "image/png": "[encoded data removed]",
      "text/plain": [
       "<Figure size 1600x600 with 6 Axes>"
      ]
     },
     "metadata": {},
     "output_type": "display_data"
    }
   ],
   "source": [
    "fig = plt.figure(figsize=(16, 6))\n",
    "gs = fig.add_gridspec(6, 16)\n",
    "ax = fig.add_subplot(gs[:2, :3]); ax.annotate(\"Panel 1\", (0.5, 0.5), fontsize=32, ha=\"center\")\n",
    "ax = fig.add_subplot(gs[2:, :3]); ax.annotate(\"Panel 2\", (0.5, 0.5), fontsize=32, ha=\"center\")\n",
    "ax = fig.add_subplot(gs[:2, 3:8]); ax.annotate(\"Panel 3\", (0.5, 0.5), fontsize=32, ha=\"center\")\n",
    "ax = fig.add_subplot(gs[2:, 3:9]); ax.annotate(\"Panel 4\", (0.5, 0.5), fontsize=32, ha=\"center\")\n",
    "ax = fig.add_subplot(gs[:2, 8:]); ax.annotate(\"Panel 5\", (0.5, 0.5), fontsize=32, ha=\"center\")\n",
    "ax = fig.add_subplot(gs[2:, 9:]); ax.annotate(\"Panel 6\", (0.5, 0.5), fontsize=32, ha=\"center\")"
   ]
  },
  {
   "cell_type": "markdown",
   "id": "7a871401-bca3-45c7-9e55-974050d93028",
   "metadata": {},
   "source": [
    "As the labels of the panels overlap in this figure, it is not the best visualization. A potential fix for this is to run `fig.tight_layout()` at the end of the figure, which will force the panels to slightly shrink to allow some space for the ticklabels. Note that this will not always help and you might have to tweak the size of the array in which you place your panels to get the desired result."
   ]
  },
  {
   "cell_type": "code",
   "execution_count": 13,
   "id": "1130deeb-2559-4e7a-a109-bc89c82db954",
   "metadata": {},
   "outputs": [
    {
     "data": {
      "image/png": "[encoded data removed]",
      "text/plain": [
       "<Figure size 1600x600 with 6 Axes>"
      ]
     },
     "metadata": {},
     "output_type": "display_data"
    }
   ],
   "source": [
    "fig = plt.figure(figsize=(16, 6))\n",
    "gs = fig.add_gridspec(6, 16)\n",
    "ax = fig.add_subplot(gs[:2, :3]); ax.annotate(\"Panel 1\", (0.5, 0.5), fontsize=32, ha=\"center\")\n",
    "ax = fig.add_subplot(gs[2:, :3]); ax.annotate(\"Panel 2\", (0.5, 0.5), fontsize=32, ha=\"center\")\n",
    "ax = fig.add_subplot(gs[:2, 3:8]); ax.annotate(\"Panel 3\", (0.5, 0.5), fontsize=32, ha=\"center\")\n",
    "ax = fig.add_subplot(gs[2:, 3:9]); ax.annotate(\"Panel 4\", (0.5, 0.5), fontsize=32, ha=\"center\")\n",
    "ax = fig.add_subplot(gs[:2, 8:]); ax.annotate(\"Panel 5\", (0.5, 0.5), fontsize=32, ha=\"center\")\n",
    "ax = fig.add_subplot(gs[2:, 9:]); ax.annotate(\"Panel 6\", (0.5, 0.5), fontsize=32, ha=\"center\")\n",
    "fig.tight_layout()"
   ]
  },
  {
   "cell_type": "markdown",
   "id": "e4a272d0-d3cd-4df8-a72b-bb199a106bab",
   "metadata": {},
   "source": [
    "## Exercises\n",
    "\n",
    "1. Construct an additional column for the students dataframe that assigns students to different categories based on their average grade. Use the following categories:\n",
    "\n",
    "<center>\"$<6$\", \"$6-7$\" , \"$7-8$\", \"$8-9$\", \"$>9$\".</center>"
   ]
  },
  {
   "cell_type": "code",
   "execution_count": 14,
   "id": "88240845-4490-42f7-8bf9-c4d03a487bb6",
   "metadata": {},
   "outputs": [],
   "source": [
    "# SOLUTION GOES HERE"
   ]
  },
  {
   "cell_type": "markdown",
   "id": "c0c06181-6c26-45be-9564-f270b991f6ee",
   "metadata": {},
   "source": [
    "2. Use a list comprehension to select all course names that include `\"ATE\"` or  `\"DSE\"` in them."
   ]
  },
  {
   "cell_type": "code",
   "execution_count": 15,
   "id": "cf9abc75-d4f8-4fff-aea7-e4bec6e9bf1a",
   "metadata": {},
   "outputs": [],
   "source": [
    "# SOLUTION GOES HERE"
   ]
  },
  {
   "cell_type": "markdown",
   "id": "48b92e66-f070-441c-bdf0-7a18ce00b271",
   "metadata": {},
   "source": [
    "3. Determine which courses have the highest and the lowest average grade"
   ]
  },
  {
   "cell_type": "code",
   "execution_count": 16,
   "id": "ad0ad131-7233-41bd-8533-0b68d3e9bcfb",
   "metadata": {},
   "outputs": [],
   "source": [
    "# SOLUTION GOES HERE"
   ]
  },
  {
   "cell_type": "markdown",
   "id": "9057ace1-4f52-41b5-a5de-bdec73109bdb",
   "metadata": {},
   "source": [
    "4. Visualize the grade distribution for the two courses from the previous exercise, by showing all observations per category that you created in exercise one."
   ]
  },
  {
   "cell_type": "code",
   "execution_count": 17,
   "id": "0d409e37-2c91-48d2-8f7b-ba451ef1c02d",
   "metadata": {},
   "outputs": [],
   "source": [
    "# SOLUTION GOES HERE"
   ]
  },
  {
   "cell_type": "markdown",
   "id": "b5b10af7-ee05-46c5-bec0-29aaa0b23b5f",
   "metadata": {},
   "source": [
    "5. Make a figure in which you display all dimensions of the penguin bill, stratified by species."
   ]
  },
  {
   "cell_type": "code",
   "execution_count": 18,
   "id": "d1d36876-c3a7-45eb-ad24-31bed7be48b3",
   "metadata": {},
   "outputs": [],
   "source": [
    "# SOLUTION GOES HERE"
   ]
  },
  {
   "cell_type": "markdown",
   "id": "fb71c72c-7718-4357-8eb8-e11039377185",
   "metadata": {},
   "source": [
    "6. Calculate the mean absolute deviation for the bill length for each penguin species"
   ]
  },
  {
   "cell_type": "code",
   "execution_count": 19,
   "id": "aa90e219-875b-4ec6-9dbb-99a77e3967ab",
   "metadata": {},
   "outputs": [],
   "source": [
    "# SOLUTION GOES HERE"
   ]
  },
  {
   "cell_type": "markdown",
   "id": "e8e8a698-61ea-4f4e-a6ca-9825f8ef4ccd",
   "metadata": {},
   "source": [
    "7. Plot the previously calculated mean absolute deviation for the bill length for each penguin species"
   ]
  },
  {
   "cell_type": "code",
   "execution_count": 20,
   "id": "e7d652ba-c993-4d18-ad9e-661aad19469c",
   "metadata": {},
   "outputs": [],
   "source": [
    "# SOLUTION GOES HERE"
   ]
  },
  {
   "cell_type": "code",
   "execution_count": null,
   "id": "4d96e0d2-85b6-46ed-b774-e24abb6de144",
   "metadata": {},
   "outputs": [],
   "source": []
  }
 ],
 "metadata": {
  "kernelspec": {
   "display_name": "Python 3 (ipykernel)",
   "language": "python",
   "name": "python3"
  },
  "language_info": {
   "codemirror_mode": {
    "name": "ipython",
    "version": 3
   },
   "file_extension": ".py",
   "mimetype": "text/x-python",
   "name": "python",
   "nbconvert_exporter": "python",
   "pygments_lexer": "ipython3",
   "version": "3.12.1"
  }
 },
 "nbformat": 4,
 "nbformat_minor": 5
}

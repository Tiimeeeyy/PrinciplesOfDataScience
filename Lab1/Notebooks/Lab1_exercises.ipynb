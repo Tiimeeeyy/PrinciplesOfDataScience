{
 "cells": [
  {
   "cell_type": "markdown",
   "id": "85f57b8c",
   "metadata": {},
   "source": [
    "# KEN1435 - Principles of Data Science | Lab 1: Exploring python\n",
    "\n",
    "First we load the necessary python packages"
   ]
  },
  {
   "cell_type": "code",
   "execution_count": 1,
   "id": "36af843e",
   "metadata": {
    "ExecuteTime": {
     "end_time": "2024-02-19T12:51:41.087967Z",
     "start_time": "2024-02-19T12:51:41.056830Z"
    }
   },
   "outputs": [],
   "source": [
    "import matplotlib.pyplot as plt\n",
    "import numpy as np\n",
    "import pandas as pd\n",
    "import seaborn as sns\n",
    "\n",
    "%matplotlib inline"
   ]
  },
  {
   "cell_type": "markdown",
   "id": "ec1979f1-e2d6-4591-93fa-91a643361c3f",
   "metadata": {},
   "source": [
    "Let's start by loading the data. We can load tabular data with `pandas` using the `read_csv` function, you can find the documentation [here](https://pandas.pydata.org/docs/reference/api/pandas.read_csv.html). It will load the data into a `pandas.DataFrame` (see the documentation [here](https://pandas.pydata.org/docs/reference/api/pandas.DataFrame.html)).\n",
    "\n",
    "Let's revisit the data that you have just used the previous semester during Project 1-1."
   ]
  },
  {
   "cell_type": "code",
   "execution_count": 2,
   "id": "23a8fe1a",
   "metadata": {
    "ExecuteTime": {
     "end_time": "2024-02-19T12:51:41.121630Z",
     "start_time": "2024-02-19T12:51:41.091457Z"
    }
   },
   "outputs": [],
   "source": [
    "grades = pd.read_csv(\"C:/Users/timis/DataspellProjects/PrinciplesOfDataScience/Lab1/Data/CurrentGrades2.csv\", index_col=\"StudentID\", sep=\";\", na_values=\"NG\")"
   ]
  },
  {
   "cell_type": "markdown",
   "id": "93134d75-6693-4b21-90d2-cd3f3bcea4c4",
   "metadata": {},
   "source": [
    "If we want to take a quick look at this DataFrame, we can use the function `head` (see the documentation [here](https://pandas.pydata.org/docs/reference/api/pandas.DataFrame.head.html)) to take a quick look at the first five rows."
   ]
  },
  {
   "cell_type": "code",
   "execution_count": 3,
   "id": "c6bc6266",
   "metadata": {
    "ExecuteTime": {
     "end_time": "2024-02-19T12:51:41.169069Z",
     "start_time": "2024-02-19T12:51:41.124700Z"
    }
   },
   "outputs": [
    {
     "data": {
      "text/plain": "           MTE-004  LOE-103  DSE-005  JTE-234  JHF-101  LDE-009  BKO-800  \\\nStudentID                                                                  \n1000457        7.0      8.0      NaN      NaN      NaN      NaN      6.0   \n1000543        7.0      7.0      NaN      NaN      NaN      NaN      7.0   \n1000286        7.0      7.0      NaN      NaN      NaN      NaN      8.0   \n1001653        6.0      6.0      NaN      NaN      NaN      NaN      7.0   \n1001165        9.0      8.0      NaN      NaN      NaN      NaN      8.0   \n\n           ATE-214  FEA-907  TGL-013  ...  GHL-823  WDM-974  TSO-010  PPL-239  \\\nStudentID                             ...                                       \n1000457        6.0      NaN      NaN  ...      NaN      NaN      NaN      NaN   \n1000543        6.0      NaN      NaN  ...      NaN      NaN      NaN      NaN   \n1000286        7.0      NaN      NaN  ...      NaN      NaN      NaN      NaN   \n1001653        6.0      5.0      5.0  ...      NaN      NaN      NaN      6.0   \n1001165        8.0      NaN      NaN  ...      NaN      NaN      NaN      NaN   \n\n           DSE-003  LPG-307  PLO-132  ATE-014  KMO-007  ATE-008  \nStudentID                                                        \n1000457        6.0      NaN      NaN      NaN      NaN      NaN  \n1000543        6.0      NaN      NaN      NaN      NaN      NaN  \n1000286        7.0      NaN      NaN      NaN      NaN      NaN  \n1001653        4.0      5.0      NaN      NaN      NaN      7.0  \n1001165        7.0      NaN      NaN      NaN      NaN      NaN  \n\n[5 rows x 30 columns]",
      "text/html": "<div>\n<style scoped>\n    .dataframe tbody tr th:only-of-type {\n        vertical-align: middle;\n    }\n\n    .dataframe tbody tr th {\n        vertical-align: top;\n    }\n\n    .dataframe thead th {\n        text-align: right;\n    }\n</style>\n<table border=\"1\" class=\"dataframe\">\n  <thead>\n    <tr style=\"text-align: right;\">\n      <th></th>\n      <th>MTE-004</th>\n      <th>LOE-103</th>\n      <th>DSE-005</th>\n      <th>JTE-234</th>\n      <th>JHF-101</th>\n      <th>LDE-009</th>\n      <th>BKO-800</th>\n      <th>ATE-214</th>\n      <th>FEA-907</th>\n      <th>TGL-013</th>\n      <th>...</th>\n      <th>GHL-823</th>\n      <th>WDM-974</th>\n      <th>TSO-010</th>\n      <th>PPL-239</th>\n      <th>DSE-003</th>\n      <th>LPG-307</th>\n      <th>PLO-132</th>\n      <th>ATE-014</th>\n      <th>KMO-007</th>\n      <th>ATE-008</th>\n    </tr>\n    <tr>\n      <th>StudentID</th>\n      <th></th>\n      <th></th>\n      <th></th>\n      <th></th>\n      <th></th>\n      <th></th>\n      <th></th>\n      <th></th>\n      <th></th>\n      <th></th>\n      <th></th>\n      <th></th>\n      <th></th>\n      <th></th>\n      <th></th>\n      <th></th>\n      <th></th>\n      <th></th>\n      <th></th>\n      <th></th>\n      <th></th>\n    </tr>\n  </thead>\n  <tbody>\n    <tr>\n      <th>1000457</th>\n      <td>7.0</td>\n      <td>8.0</td>\n      <td>NaN</td>\n      <td>NaN</td>\n      <td>NaN</td>\n      <td>NaN</td>\n      <td>6.0</td>\n      <td>6.0</td>\n      <td>NaN</td>\n      <td>NaN</td>\n      <td>...</td>\n      <td>NaN</td>\n      <td>NaN</td>\n      <td>NaN</td>\n      <td>NaN</td>\n      <td>6.0</td>\n      <td>NaN</td>\n      <td>NaN</td>\n      <td>NaN</td>\n      <td>NaN</td>\n      <td>NaN</td>\n    </tr>\n    <tr>\n      <th>1000543</th>\n      <td>7.0</td>\n      <td>7.0</td>\n      <td>NaN</td>\n      <td>NaN</td>\n      <td>NaN</td>\n      <td>NaN</td>\n      <td>7.0</td>\n      <td>6.0</td>\n      <td>NaN</td>\n      <td>NaN</td>\n      <td>...</td>\n      <td>NaN</td>\n      <td>NaN</td>\n      <td>NaN</td>\n      <td>NaN</td>\n      <td>6.0</td>\n      <td>NaN</td>\n      <td>NaN</td>\n      <td>NaN</td>\n      <td>NaN</td>\n      <td>NaN</td>\n    </tr>\n    <tr>\n      <th>1000286</th>\n      <td>7.0</td>\n      <td>7.0</td>\n      <td>NaN</td>\n      <td>NaN</td>\n      <td>NaN</td>\n      <td>NaN</td>\n      <td>8.0</td>\n      <td>7.0</td>\n      <td>NaN</td>\n      <td>NaN</td>\n      <td>...</td>\n      <td>NaN</td>\n      <td>NaN</td>\n      <td>NaN</td>\n      <td>NaN</td>\n      <td>7.0</td>\n      <td>NaN</td>\n      <td>NaN</td>\n      <td>NaN</td>\n      <td>NaN</td>\n      <td>NaN</td>\n    </tr>\n    <tr>\n      <th>1001653</th>\n      <td>6.0</td>\n      <td>6.0</td>\n      <td>NaN</td>\n      <td>NaN</td>\n      <td>NaN</td>\n      <td>NaN</td>\n      <td>7.0</td>\n      <td>6.0</td>\n      <td>5.0</td>\n      <td>5.0</td>\n      <td>...</td>\n      <td>NaN</td>\n      <td>NaN</td>\n      <td>NaN</td>\n      <td>6.0</td>\n      <td>4.0</td>\n      <td>5.0</td>\n      <td>NaN</td>\n      <td>NaN</td>\n      <td>NaN</td>\n      <td>7.0</td>\n    </tr>\n    <tr>\n      <th>1001165</th>\n      <td>9.0</td>\n      <td>8.0</td>\n      <td>NaN</td>\n      <td>NaN</td>\n      <td>NaN</td>\n      <td>NaN</td>\n      <td>8.0</td>\n      <td>8.0</td>\n      <td>NaN</td>\n      <td>NaN</td>\n      <td>...</td>\n      <td>NaN</td>\n      <td>NaN</td>\n      <td>NaN</td>\n      <td>NaN</td>\n      <td>7.0</td>\n      <td>NaN</td>\n      <td>NaN</td>\n      <td>NaN</td>\n      <td>NaN</td>\n      <td>NaN</td>\n    </tr>\n  </tbody>\n</table>\n<p>5 rows × 30 columns</p>\n</div>"
     },
     "execution_count": 3,
     "metadata": {},
     "output_type": "execute_result"
    }
   ],
   "source": [
    "grades.head()"
   ]
  },
  {
   "cell_type": "markdown",
   "id": "2ccb5e0d-1c87-48e8-8e19-3c4bebcdf027",
   "metadata": {},
   "source": [
    "We can see how many rows and columns the dataframe has by using `shape`"
   ]
  },
  {
   "cell_type": "code",
   "execution_count": 4,
   "id": "cf3f7fa2-596e-40e2-a3fd-2de5e97d7055",
   "metadata": {
    "ExecuteTime": {
     "end_time": "2024-02-19T12:51:41.181892Z",
     "start_time": "2024-02-19T12:51:41.171437Z"
    }
   },
   "outputs": [
    {
     "data": {
      "text/plain": "(1128, 30)"
     },
     "execution_count": 4,
     "metadata": {},
     "output_type": "execute_result"
    }
   ],
   "source": [
    "grades.shape"
   ]
  },
  {
   "cell_type": "markdown",
   "id": "03959962-7cd0-4c27-abcd-8453a170787d",
   "metadata": {},
   "source": [
    "To select an individual item in the dataframe, you need to use `loc` (see the documentation [here](https://pandas.pydata.org/docs/reference/api/pandas.DataFrame.loc.htm)). For example, if we want the grade for MON-014 for student 1001752, we can use"
   ]
  },
  {
   "cell_type": "code",
   "execution_count": 5,
   "id": "c54fa7bc-3e54-4003-b605-6d209518fa84",
   "metadata": {
    "ExecuteTime": {
     "end_time": "2024-02-19T12:51:41.197005Z",
     "start_time": "2024-02-19T12:51:41.185536Z"
    }
   },
   "outputs": [
    {
     "data": {
      "text/plain": "9.0"
     },
     "execution_count": 5,
     "metadata": {},
     "output_type": "execute_result"
    }
   ],
   "source": [
    "grades.loc[1001752, \"MON-014\"]"
   ]
  },
  {
   "cell_type": "markdown",
   "id": "ac793c29-26e9-4e12-bd4b-8c699e2ffedf",
   "metadata": {},
   "source": [
    "If we want to select a complete row or column of a `DataFrame`, we will be returned a `Series` object (see the documentation [here](https://pandas.pydata.org/docs/reference/api/pandas.Series.html)). For instance, if we want all grades of student 1001752, we can use"
   ]
  },
  {
   "cell_type": "code",
   "execution_count": 6,
   "id": "6f29a06c-ea0d-4fe7-ad74-fcfccea29172",
   "metadata": {
    "ExecuteTime": {
     "end_time": "2024-02-19T12:51:41.213615Z",
     "start_time": "2024-02-19T12:51:41.199342Z"
    }
   },
   "outputs": [
    {
     "data": {
      "text/plain": "MTE-004    7.0\nLOE-103    8.0\nDSE-005    NaN\nJTE-234    NaN\nJHF-101    NaN\nLDE-009    NaN\nBKO-800    9.0\nATE-214    8.0\nFEA-907    7.0\nTGL-013    5.0\nSLE-332    7.0\nATE-003    7.0\nDSE-007    9.0\nJTW-004    7.0\nLUU-003    8.0\nHLU-200    NaN\nMON-014    9.0\nJJP-001    NaN\nWOT-104    7.0\nBKO-801    NaN\nGHL-823    NaN\nWDM-974    NaN\nTSO-010    NaN\nPPL-239    7.0\nDSE-003    7.0\nLPG-307    6.0\nPLO-132    NaN\nATE-014    NaN\nKMO-007    NaN\nATE-008    7.0\nName: 1001752, dtype: float64"
     },
     "execution_count": 6,
     "metadata": {},
     "output_type": "execute_result"
    }
   ],
   "source": [
    "grades.loc[1001752, :]"
   ]
  },
  {
   "cell_type": "markdown",
   "id": "8baf32e8-99e9-4eb7-bed7-c69d4b85c551",
   "metadata": {},
   "source": [
    "If we want to get all grades for a particular course (e.g., MTE-004), we have two options to select this. We can either use `loc`"
   ]
  },
  {
   "cell_type": "code",
   "execution_count": 7,
   "id": "a76b9913-d39d-4468-b387-4ed481cc430a",
   "metadata": {
    "ExecuteTime": {
     "end_time": "2024-02-19T12:51:41.228934Z",
     "start_time": "2024-02-19T12:51:41.215772Z"
    }
   },
   "outputs": [
    {
     "data": {
      "text/plain": "StudentID\n1000457     NaN\n1000543     NaN\n1000286     NaN\n1001653     7.0\n1001165     NaN\n           ... \n1000765     NaN\n1000052     NaN\n1000701     NaN\n1002102     9.0\n1001388    10.0\nName: MON-014, Length: 1128, dtype: float64"
     },
     "execution_count": 7,
     "metadata": {},
     "output_type": "execute_result"
    }
   ],
   "source": [
    "grades.loc[:, \"MON-014\"]"
   ]
  },
  {
   "cell_type": "markdown",
   "id": "97f4fa2f-71f1-4f02-b297-2656f02a7166",
   "metadata": {},
   "source": [
    "or we can use the shorthand below"
   ]
  },
  {
   "cell_type": "code",
   "execution_count": 8,
   "id": "6328fb02-ba60-4b0e-a070-2e5d065acdc3",
   "metadata": {
    "ExecuteTime": {
     "end_time": "2024-02-19T12:51:41.242057Z",
     "start_time": "2024-02-19T12:51:41.231521Z"
    }
   },
   "outputs": [
    {
     "data": {
      "text/plain": "StudentID\n1000457     NaN\n1000543     NaN\n1000286     NaN\n1001653     7.0\n1001165     NaN\n           ... \n1000765     NaN\n1000052     NaN\n1000701     NaN\n1002102     9.0\n1001388    10.0\nName: MON-014, Length: 1128, dtype: float64"
     },
     "execution_count": 8,
     "metadata": {},
     "output_type": "execute_result"
    }
   ],
   "source": [
    "grades[\"MON-014\"]"
   ]
  },
  {
   "cell_type": "markdown",
   "id": "b41deade-d9bd-479e-b1e4-9fe9758b64f2",
   "metadata": {},
   "source": [
    "As you can see there are a lot of NaN-values in this data. Before we start doing data analysis, we first have to check whether these NaN-values will influence any calculations down the line. We do a quick check for this by calculating the mean both on all data at once and first removing the NaN-values."
   ]
  },
  {
   "cell_type": "code",
   "execution_count": 9,
   "id": "37de0e35-11a0-4e15-96fa-f02b1dfa03f5",
   "metadata": {
    "ExecuteTime": {
     "end_time": "2024-02-19T12:51:41.256368Z",
     "start_time": "2024-02-19T12:51:41.244279Z"
    }
   },
   "outputs": [
    {
     "data": {
      "text/plain": "(7.7885906040268456, 7.7885906040268456)"
     },
     "execution_count": 9,
     "metadata": {},
     "output_type": "execute_result"
    }
   ],
   "source": [
    "grades[\"MON-014\"].mean(), grades[\"MON-014\"].dropna().mean()"
   ]
  },
  {
   "cell_type": "markdown",
   "id": "10b3450b-e750-455b-bbd2-04d9a72bcee1",
   "metadata": {},
   "source": [
    "Note that these two numbers are the same, so under the hood pandas already removes the NaN-values when calculating descriptive statistics.\n",
    "\n",
    "# Grade Analysis\n",
    "Let's further explore this data in python. Let's start with the `describe` function (see documentation [here](https://pandas.pydata.org/docs/reference/api/pandas.DataFrame.describe.html))."
   ]
  },
  {
   "cell_type": "code",
   "execution_count": 10,
   "id": "1b8292d1-b372-4019-9efe-c5bda3de85c0",
   "metadata": {
    "ExecuteTime": {
     "end_time": "2024-02-19T12:51:41.366223Z",
     "start_time": "2024-02-19T12:51:41.263230Z"
    }
   },
   "outputs": [
    {
     "data": {
      "text/plain": "           MTE-004      LOE-103     DSE-005     JTE-234     JHF-101  \\\ncount  1127.000000  1126.000000  248.000000  212.000000  242.000000   \nmean      7.449867     7.433393    7.262097    7.688679    7.475207   \nstd       1.043851     1.068542    0.895250    0.962453    1.142087   \nmin       4.000000     5.000000    6.000000    5.000000    5.000000   \n25%       7.000000     7.000000    7.000000    7.000000    7.000000   \n50%       7.000000     7.000000    7.000000    8.000000    7.000000   \n75%       8.000000     8.000000    8.000000    8.000000    8.000000   \nmax      10.000000    10.000000    9.000000   10.000000   10.000000   \n\n          LDE-009      BKO-800      ATE-214     FEA-907     TGL-013  ...  \\\ncount  210.000000  1124.000000  1124.000000  597.000000  595.000000  ...   \nmean     7.452381     7.845196     7.653025    7.324958    7.366387  ...   \nstd      1.115407     1.040183     1.036588    1.081385    1.091849  ...   \nmin      5.000000     5.000000     5.000000    4.000000    5.000000  ...   \n25%      7.000000     7.000000     7.000000    7.000000    7.000000  ...   \n50%      7.000000     8.000000     8.000000    7.000000    7.000000  ...   \n75%      8.000000     9.000000     8.000000    8.000000    8.000000  ...   \nmax     10.000000    10.000000    10.000000   10.000000   10.000000  ...   \n\n          GHL-823     WDM-974  TSO-010     PPL-239      DSE-003     LPG-307  \\\ncount  213.000000  211.000000      0.0  598.000000  1124.000000  598.000000   \nmean     6.596244    7.189573      NaN    6.919732     6.959075    6.665552   \nstd      0.804694    1.163773      NaN    1.035506     1.173360    1.089858   \nmin      4.000000    5.000000      NaN    4.000000     3.000000    4.000000   \n25%      6.000000    6.000000      NaN    6.000000     6.000000    6.000000   \n50%      7.000000    7.000000      NaN    7.000000     7.000000    7.000000   \n75%      7.000000    8.000000      NaN    8.000000     8.000000    7.000000   \nmax      9.000000   10.000000      NaN    9.000000    10.000000    9.000000   \n\n       PLO-132     ATE-014     KMO-007     ATE-008  \ncount      0.0  212.000000  213.000000  598.000000  \nmean       NaN    7.896226    7.314554    7.105351  \nstd        NaN    1.052456    1.243710    1.086203  \nmin        NaN    5.000000    4.000000    4.000000  \n25%        NaN    7.000000    6.000000    6.000000  \n50%        NaN    8.000000    7.000000    7.000000  \n75%        NaN    9.000000    8.000000    8.000000  \nmax        NaN   10.000000   10.000000   10.000000  \n\n[8 rows x 30 columns]",
      "text/html": "<div>\n<style scoped>\n    .dataframe tbody tr th:only-of-type {\n        vertical-align: middle;\n    }\n\n    .dataframe tbody tr th {\n        vertical-align: top;\n    }\n\n    .dataframe thead th {\n        text-align: right;\n    }\n</style>\n<table border=\"1\" class=\"dataframe\">\n  <thead>\n    <tr style=\"text-align: right;\">\n      <th></th>\n      <th>MTE-004</th>\n      <th>LOE-103</th>\n      <th>DSE-005</th>\n      <th>JTE-234</th>\n      <th>JHF-101</th>\n      <th>LDE-009</th>\n      <th>BKO-800</th>\n      <th>ATE-214</th>\n      <th>FEA-907</th>\n      <th>TGL-013</th>\n      <th>...</th>\n      <th>GHL-823</th>\n      <th>WDM-974</th>\n      <th>TSO-010</th>\n      <th>PPL-239</th>\n      <th>DSE-003</th>\n      <th>LPG-307</th>\n      <th>PLO-132</th>\n      <th>ATE-014</th>\n      <th>KMO-007</th>\n      <th>ATE-008</th>\n    </tr>\n  </thead>\n  <tbody>\n    <tr>\n      <th>count</th>\n      <td>1127.000000</td>\n      <td>1126.000000</td>\n      <td>248.000000</td>\n      <td>212.000000</td>\n      <td>242.000000</td>\n      <td>210.000000</td>\n      <td>1124.000000</td>\n      <td>1124.000000</td>\n      <td>597.000000</td>\n      <td>595.000000</td>\n      <td>...</td>\n      <td>213.000000</td>\n      <td>211.000000</td>\n      <td>0.0</td>\n      <td>598.000000</td>\n      <td>1124.000000</td>\n      <td>598.000000</td>\n      <td>0.0</td>\n      <td>212.000000</td>\n      <td>213.000000</td>\n      <td>598.000000</td>\n    </tr>\n    <tr>\n      <th>mean</th>\n      <td>7.449867</td>\n      <td>7.433393</td>\n      <td>7.262097</td>\n      <td>7.688679</td>\n      <td>7.475207</td>\n      <td>7.452381</td>\n      <td>7.845196</td>\n      <td>7.653025</td>\n      <td>7.324958</td>\n      <td>7.366387</td>\n      <td>...</td>\n      <td>6.596244</td>\n      <td>7.189573</td>\n      <td>NaN</td>\n      <td>6.919732</td>\n      <td>6.959075</td>\n      <td>6.665552</td>\n      <td>NaN</td>\n      <td>7.896226</td>\n      <td>7.314554</td>\n      <td>7.105351</td>\n    </tr>\n    <tr>\n      <th>std</th>\n      <td>1.043851</td>\n      <td>1.068542</td>\n      <td>0.895250</td>\n      <td>0.962453</td>\n      <td>1.142087</td>\n      <td>1.115407</td>\n      <td>1.040183</td>\n      <td>1.036588</td>\n      <td>1.081385</td>\n      <td>1.091849</td>\n      <td>...</td>\n      <td>0.804694</td>\n      <td>1.163773</td>\n      <td>NaN</td>\n      <td>1.035506</td>\n      <td>1.173360</td>\n      <td>1.089858</td>\n      <td>NaN</td>\n      <td>1.052456</td>\n      <td>1.243710</td>\n      <td>1.086203</td>\n    </tr>\n    <tr>\n      <th>min</th>\n      <td>4.000000</td>\n      <td>5.000000</td>\n      <td>6.000000</td>\n      <td>5.000000</td>\n      <td>5.000000</td>\n      <td>5.000000</td>\n      <td>5.000000</td>\n      <td>5.000000</td>\n      <td>4.000000</td>\n      <td>5.000000</td>\n      <td>...</td>\n      <td>4.000000</td>\n      <td>5.000000</td>\n      <td>NaN</td>\n      <td>4.000000</td>\n      <td>3.000000</td>\n      <td>4.000000</td>\n      <td>NaN</td>\n      <td>5.000000</td>\n      <td>4.000000</td>\n      <td>4.000000</td>\n    </tr>\n    <tr>\n      <th>25%</th>\n      <td>7.000000</td>\n      <td>7.000000</td>\n      <td>7.000000</td>\n      <td>7.000000</td>\n      <td>7.000000</td>\n      <td>7.000000</td>\n      <td>7.000000</td>\n      <td>7.000000</td>\n      <td>7.000000</td>\n      <td>7.000000</td>\n      <td>...</td>\n      <td>6.000000</td>\n      <td>6.000000</td>\n      <td>NaN</td>\n      <td>6.000000</td>\n      <td>6.000000</td>\n      <td>6.000000</td>\n      <td>NaN</td>\n      <td>7.000000</td>\n      <td>6.000000</td>\n      <td>6.000000</td>\n    </tr>\n    <tr>\n      <th>50%</th>\n      <td>7.000000</td>\n      <td>7.000000</td>\n      <td>7.000000</td>\n      <td>8.000000</td>\n      <td>7.000000</td>\n      <td>7.000000</td>\n      <td>8.000000</td>\n      <td>8.000000</td>\n      <td>7.000000</td>\n      <td>7.000000</td>\n      <td>...</td>\n      <td>7.000000</td>\n      <td>7.000000</td>\n      <td>NaN</td>\n      <td>7.000000</td>\n      <td>7.000000</td>\n      <td>7.000000</td>\n      <td>NaN</td>\n      <td>8.000000</td>\n      <td>7.000000</td>\n      <td>7.000000</td>\n    </tr>\n    <tr>\n      <th>75%</th>\n      <td>8.000000</td>\n      <td>8.000000</td>\n      <td>8.000000</td>\n      <td>8.000000</td>\n      <td>8.000000</td>\n      <td>8.000000</td>\n      <td>9.000000</td>\n      <td>8.000000</td>\n      <td>8.000000</td>\n      <td>8.000000</td>\n      <td>...</td>\n      <td>7.000000</td>\n      <td>8.000000</td>\n      <td>NaN</td>\n      <td>8.000000</td>\n      <td>8.000000</td>\n      <td>7.000000</td>\n      <td>NaN</td>\n      <td>9.000000</td>\n      <td>8.000000</td>\n      <td>8.000000</td>\n    </tr>\n    <tr>\n      <th>max</th>\n      <td>10.000000</td>\n      <td>10.000000</td>\n      <td>9.000000</td>\n      <td>10.000000</td>\n      <td>10.000000</td>\n      <td>10.000000</td>\n      <td>10.000000</td>\n      <td>10.000000</td>\n      <td>10.000000</td>\n      <td>10.000000</td>\n      <td>...</td>\n      <td>9.000000</td>\n      <td>10.000000</td>\n      <td>NaN</td>\n      <td>9.000000</td>\n      <td>10.000000</td>\n      <td>9.000000</td>\n      <td>NaN</td>\n      <td>10.000000</td>\n      <td>10.000000</td>\n      <td>10.000000</td>\n    </tr>\n  </tbody>\n</table>\n<p>8 rows × 30 columns</p>\n</div>"
     },
     "execution_count": 10,
     "metadata": {},
     "output_type": "execute_result"
    }
   ],
   "source": [
    "grades.describe()"
   ]
  },
  {
   "cell_type": "markdown",
   "id": "8196296c-39f9-46ae-846d-ff948913c7a9",
   "metadata": {},
   "source": [
    "We can perform multiple calculations on the data by chaining commands. For instance, if we want to find which course has the lowest maximum grade of a course (using `idxmax`, see documentation [here](https://pandas.pydata.org/docs/reference/api/pandas.Series.idxmax.html)) and what that grade is (using `max`, see documentation [here](https://pandas.pydata.org/docs/reference/api/pandas.Series.max.html)), we can do that as follows"
   ]
  },
  {
   "cell_type": "code",
   "execution_count": 11,
   "id": "c6246f70-a678-42ce-829f-202ea2948e88",
   "metadata": {
    "ExecuteTime": {
     "end_time": "2024-02-19T12:51:41.381211Z",
     "start_time": "2024-02-19T12:51:41.369755Z"
    }
   },
   "outputs": [
    {
     "data": {
      "text/plain": "('DSE-005', 9.0)"
     },
     "execution_count": 11,
     "metadata": {},
     "output_type": "execute_result"
    }
   ],
   "source": [
    "grades.max(axis=0).idxmin(), grades.max(axis=0).min()"
   ]
  },
  {
   "cell_type": "markdown",
   "id": "9bd085e1-03a5-4e90-acf2-84596f51fa58",
   "metadata": {},
   "source": [
    "By passing the option `axis=0`, we specify that we are executing the function per column of the dataframe. If we want to calculate the mean per row, we pass the option `axis=1`. \n",
    "\n",
    "In pandas, we can easily select data according to specific conditions by building masks. For instance, if we want to select all students that have an average score higher than 8, we first construct the mask:"
   ]
  },
  {
   "cell_type": "code",
   "execution_count": 12,
   "id": "b49ac31d-8cd8-4976-8cf2-a24b48b6396a",
   "metadata": {
    "ExecuteTime": {
     "end_time": "2024-02-19T12:51:41.397353Z",
     "start_time": "2024-02-19T12:51:41.383442Z"
    }
   },
   "outputs": [
    {
     "data": {
      "text/plain": "StudentID\n1000457    False\n1000543    False\n1000286    False\n1001653    False\n1001165    False\n           ...  \n1000765     True\n1000052    False\n1000701    False\n1002102    False\n1001388    False\nLength: 1128, dtype: bool"
     },
     "execution_count": 12,
     "metadata": {},
     "output_type": "execute_result"
    }
   ],
   "source": [
    "ma = grades.mean(axis=1) > 8\n",
    "ma"
   ]
  },
  {
   "cell_type": "markdown",
   "id": "443a3d2c-3da9-48f3-8ede-f6cbb70b2d93",
   "metadata": {},
   "source": [
    "Note that this mask is a `Series` of boolean values, which indicate whether a value adheres to the inequality or not. \n",
    "\n",
    "Before continuing, let's see how many students have an average score that is higher than 8. As the mask consists of booleans, we can just sum over all entries to get this quantity."
   ]
  },
  {
   "cell_type": "code",
   "execution_count": 13,
   "id": "04102775-f20f-49fb-9f17-fac8ef3284be",
   "metadata": {
    "ExecuteTime": {
     "end_time": "2024-02-19T12:51:41.408678Z",
     "start_time": "2024-02-19T12:51:41.399627Z"
    }
   },
   "outputs": [
    {
     "data": {
      "text/plain": "222"
     },
     "execution_count": 13,
     "metadata": {},
     "output_type": "execute_result"
    }
   ],
   "source": [
    "ma.sum()"
   ]
  },
  {
   "cell_type": "markdown",
   "id": "f8320143-3665-4f53-8daa-be937cf0efdd",
   "metadata": {},
   "source": [
    "Using this mask, we can make a subselection of the `DataFrame` and save it to the variable `selection` as follows"
   ]
  },
  {
   "cell_type": "code",
   "execution_count": 14,
   "id": "5ee48f6d-d898-4dce-9ba9-bb80e4b755b1",
   "metadata": {
    "ExecuteTime": {
     "end_time": "2024-02-19T12:51:41.466957Z",
     "start_time": "2024-02-19T12:51:41.411114Z"
    }
   },
   "outputs": [
    {
     "data": {
      "text/plain": "           MTE-004  LOE-103  DSE-005  JTE-234  JHF-101  LDE-009  BKO-800  \\\nStudentID                                                                  \n1001093        9.0      9.0      NaN      NaN      NaN      NaN      8.0   \n1001312        9.0      8.0      NaN      NaN      NaN      NaN     10.0   \n1002745        9.0     10.0      9.0      8.0      8.0      8.0      7.0   \n1001793        8.0      9.0      NaN      NaN      NaN      NaN      9.0   \n1001397        7.0      8.0      NaN      NaN      NaN      NaN      9.0   \n...            ...      ...      ...      ...      ...      ...      ...   \n1002695        8.0      9.0      8.0      9.0     10.0      9.0      9.0   \n1000123        9.0     10.0      NaN      NaN      NaN      NaN      9.0   \n1000179        9.0      8.0      NaN      NaN      NaN      NaN      9.0   \n1000503        9.0      9.0      NaN      NaN      NaN      NaN     10.0   \n1000765        8.0      9.0      NaN      NaN      NaN      NaN      9.0   \n\n           ATE-214  FEA-907  TGL-013  ...  GHL-823  WDM-974  TSO-010  PPL-239  \\\nStudentID                             ...                                       \n1001093        8.0      NaN      NaN  ...      NaN      NaN      NaN      NaN   \n1001312       10.0      NaN      NaN  ...      NaN      NaN      NaN      NaN   \n1002745        8.0      9.0      8.0  ...      7.0      7.0      NaN      8.0   \n1001793        7.0      8.0      8.0  ...      NaN      NaN      NaN      8.0   \n1001397        9.0      9.0      8.0  ...      NaN      NaN      NaN      8.0   \n...            ...      ...      ...  ...      ...      ...      ...      ...   \n1002695        8.0      9.0      9.0  ...      8.0      8.0      NaN      8.0   \n1000123        8.0      NaN      NaN  ...      NaN      NaN      NaN      NaN   \n1000179        9.0      NaN      NaN  ...      NaN      NaN      NaN      NaN   \n1000503        8.0      NaN      NaN  ...      NaN      NaN      NaN      NaN   \n1000765        9.0      NaN      NaN  ...      NaN      NaN      NaN      NaN   \n\n           DSE-003  LPG-307  PLO-132  ATE-014  KMO-007  ATE-008  \nStudentID                                                        \n1001093        9.0      NaN      NaN      NaN      NaN      NaN  \n1001312        9.0      NaN      NaN      NaN      NaN      NaN  \n1002745        8.0      7.0      NaN      8.0      7.0      9.0  \n1001793        8.0      8.0      NaN      NaN      NaN      8.0  \n1001397        7.0      7.0      NaN      NaN      NaN      8.0  \n...            ...      ...      ...      ...      ...      ...  \n1002695        8.0      8.0      NaN      8.0      7.0      7.0  \n1000123        7.0      NaN      NaN      NaN      NaN      NaN  \n1000179        9.0      NaN      NaN      NaN      NaN      NaN  \n1000503        9.0      NaN      NaN      NaN      NaN      NaN  \n1000765        8.0      NaN      NaN      NaN      NaN      NaN  \n\n[222 rows x 30 columns]",
      "text/html": "<div>\n<style scoped>\n    .dataframe tbody tr th:only-of-type {\n        vertical-align: middle;\n    }\n\n    .dataframe tbody tr th {\n        vertical-align: top;\n    }\n\n    .dataframe thead th {\n        text-align: right;\n    }\n</style>\n<table border=\"1\" class=\"dataframe\">\n  <thead>\n    <tr style=\"text-align: right;\">\n      <th></th>\n      <th>MTE-004</th>\n      <th>LOE-103</th>\n      <th>DSE-005</th>\n      <th>JTE-234</th>\n      <th>JHF-101</th>\n      <th>LDE-009</th>\n      <th>BKO-800</th>\n      <th>ATE-214</th>\n      <th>FEA-907</th>\n      <th>TGL-013</th>\n      <th>...</th>\n      <th>GHL-823</th>\n      <th>WDM-974</th>\n      <th>TSO-010</th>\n      <th>PPL-239</th>\n      <th>DSE-003</th>\n      <th>LPG-307</th>\n      <th>PLO-132</th>\n      <th>ATE-014</th>\n      <th>KMO-007</th>\n      <th>ATE-008</th>\n    </tr>\n    <tr>\n      <th>StudentID</th>\n      <th></th>\n      <th></th>\n      <th></th>\n      <th></th>\n      <th></th>\n      <th></th>\n      <th></th>\n      <th></th>\n      <th></th>\n      <th></th>\n      <th></th>\n      <th></th>\n      <th></th>\n      <th></th>\n      <th></th>\n      <th></th>\n      <th></th>\n      <th></th>\n      <th></th>\n      <th></th>\n      <th></th>\n    </tr>\n  </thead>\n  <tbody>\n    <tr>\n      <th>1001093</th>\n      <td>9.0</td>\n      <td>9.0</td>\n      <td>NaN</td>\n      <td>NaN</td>\n      <td>NaN</td>\n      <td>NaN</td>\n      <td>8.0</td>\n      <td>8.0</td>\n      <td>NaN</td>\n      <td>NaN</td>\n      <td>...</td>\n      <td>NaN</td>\n      <td>NaN</td>\n      <td>NaN</td>\n      <td>NaN</td>\n      <td>9.0</td>\n      <td>NaN</td>\n      <td>NaN</td>\n      <td>NaN</td>\n      <td>NaN</td>\n      <td>NaN</td>\n    </tr>\n    <tr>\n      <th>1001312</th>\n      <td>9.0</td>\n      <td>8.0</td>\n      <td>NaN</td>\n      <td>NaN</td>\n      <td>NaN</td>\n      <td>NaN</td>\n      <td>10.0</td>\n      <td>10.0</td>\n      <td>NaN</td>\n      <td>NaN</td>\n      <td>...</td>\n      <td>NaN</td>\n      <td>NaN</td>\n      <td>NaN</td>\n      <td>NaN</td>\n      <td>9.0</td>\n      <td>NaN</td>\n      <td>NaN</td>\n      <td>NaN</td>\n      <td>NaN</td>\n      <td>NaN</td>\n    </tr>\n    <tr>\n      <th>1002745</th>\n      <td>9.0</td>\n      <td>10.0</td>\n      <td>9.0</td>\n      <td>8.0</td>\n      <td>8.0</td>\n      <td>8.0</td>\n      <td>7.0</td>\n      <td>8.0</td>\n      <td>9.0</td>\n      <td>8.0</td>\n      <td>...</td>\n      <td>7.0</td>\n      <td>7.0</td>\n      <td>NaN</td>\n      <td>8.0</td>\n      <td>8.0</td>\n      <td>7.0</td>\n      <td>NaN</td>\n      <td>8.0</td>\n      <td>7.0</td>\n      <td>9.0</td>\n    </tr>\n    <tr>\n      <th>1001793</th>\n      <td>8.0</td>\n      <td>9.0</td>\n      <td>NaN</td>\n      <td>NaN</td>\n      <td>NaN</td>\n      <td>NaN</td>\n      <td>9.0</td>\n      <td>7.0</td>\n      <td>8.0</td>\n      <td>8.0</td>\n      <td>...</td>\n      <td>NaN</td>\n      <td>NaN</td>\n      <td>NaN</td>\n      <td>8.0</td>\n      <td>8.0</td>\n      <td>8.0</td>\n      <td>NaN</td>\n      <td>NaN</td>\n      <td>NaN</td>\n      <td>8.0</td>\n    </tr>\n    <tr>\n      <th>1001397</th>\n      <td>7.0</td>\n      <td>8.0</td>\n      <td>NaN</td>\n      <td>NaN</td>\n      <td>NaN</td>\n      <td>NaN</td>\n      <td>9.0</td>\n      <td>9.0</td>\n      <td>9.0</td>\n      <td>8.0</td>\n      <td>...</td>\n      <td>NaN</td>\n      <td>NaN</td>\n      <td>NaN</td>\n      <td>8.0</td>\n      <td>7.0</td>\n      <td>7.0</td>\n      <td>NaN</td>\n      <td>NaN</td>\n      <td>NaN</td>\n      <td>8.0</td>\n    </tr>\n    <tr>\n      <th>...</th>\n      <td>...</td>\n      <td>...</td>\n      <td>...</td>\n      <td>...</td>\n      <td>...</td>\n      <td>...</td>\n      <td>...</td>\n      <td>...</td>\n      <td>...</td>\n      <td>...</td>\n      <td>...</td>\n      <td>...</td>\n      <td>...</td>\n      <td>...</td>\n      <td>...</td>\n      <td>...</td>\n      <td>...</td>\n      <td>...</td>\n      <td>...</td>\n      <td>...</td>\n      <td>...</td>\n    </tr>\n    <tr>\n      <th>1002695</th>\n      <td>8.0</td>\n      <td>9.0</td>\n      <td>8.0</td>\n      <td>9.0</td>\n      <td>10.0</td>\n      <td>9.0</td>\n      <td>9.0</td>\n      <td>8.0</td>\n      <td>9.0</td>\n      <td>9.0</td>\n      <td>...</td>\n      <td>8.0</td>\n      <td>8.0</td>\n      <td>NaN</td>\n      <td>8.0</td>\n      <td>8.0</td>\n      <td>8.0</td>\n      <td>NaN</td>\n      <td>8.0</td>\n      <td>7.0</td>\n      <td>7.0</td>\n    </tr>\n    <tr>\n      <th>1000123</th>\n      <td>9.0</td>\n      <td>10.0</td>\n      <td>NaN</td>\n      <td>NaN</td>\n      <td>NaN</td>\n      <td>NaN</td>\n      <td>9.0</td>\n      <td>8.0</td>\n      <td>NaN</td>\n      <td>NaN</td>\n      <td>...</td>\n      <td>NaN</td>\n      <td>NaN</td>\n      <td>NaN</td>\n      <td>NaN</td>\n      <td>7.0</td>\n      <td>NaN</td>\n      <td>NaN</td>\n      <td>NaN</td>\n      <td>NaN</td>\n      <td>NaN</td>\n    </tr>\n    <tr>\n      <th>1000179</th>\n      <td>9.0</td>\n      <td>8.0</td>\n      <td>NaN</td>\n      <td>NaN</td>\n      <td>NaN</td>\n      <td>NaN</td>\n      <td>9.0</td>\n      <td>9.0</td>\n      <td>NaN</td>\n      <td>NaN</td>\n      <td>...</td>\n      <td>NaN</td>\n      <td>NaN</td>\n      <td>NaN</td>\n      <td>NaN</td>\n      <td>9.0</td>\n      <td>NaN</td>\n      <td>NaN</td>\n      <td>NaN</td>\n      <td>NaN</td>\n      <td>NaN</td>\n    </tr>\n    <tr>\n      <th>1000503</th>\n      <td>9.0</td>\n      <td>9.0</td>\n      <td>NaN</td>\n      <td>NaN</td>\n      <td>NaN</td>\n      <td>NaN</td>\n      <td>10.0</td>\n      <td>8.0</td>\n      <td>NaN</td>\n      <td>NaN</td>\n      <td>...</td>\n      <td>NaN</td>\n      <td>NaN</td>\n      <td>NaN</td>\n      <td>NaN</td>\n      <td>9.0</td>\n      <td>NaN</td>\n      <td>NaN</td>\n      <td>NaN</td>\n      <td>NaN</td>\n      <td>NaN</td>\n    </tr>\n    <tr>\n      <th>1000765</th>\n      <td>8.0</td>\n      <td>9.0</td>\n      <td>NaN</td>\n      <td>NaN</td>\n      <td>NaN</td>\n      <td>NaN</td>\n      <td>9.0</td>\n      <td>9.0</td>\n      <td>NaN</td>\n      <td>NaN</td>\n      <td>...</td>\n      <td>NaN</td>\n      <td>NaN</td>\n      <td>NaN</td>\n      <td>NaN</td>\n      <td>8.0</td>\n      <td>NaN</td>\n      <td>NaN</td>\n      <td>NaN</td>\n      <td>NaN</td>\n      <td>NaN</td>\n    </tr>\n  </tbody>\n</table>\n<p>222 rows × 30 columns</p>\n</div>"
     },
     "execution_count": 14,
     "metadata": {},
     "output_type": "execute_result"
    }
   ],
   "source": [
    "selection = grades[ma].copy()\n",
    "selection"
   ]
  },
  {
   "cell_type": "markdown",
   "id": "a91ab093-d86c-44f1-acce-f512af0269e4",
   "metadata": {},
   "source": [
    "Note that we explicitly use the `copy` function (see documentation [here](https://pandas.pydata.org/docs/reference/api/pandas.DataFrame.copy.html)) to make a copy of the underlying dataframe. If we don't do this and start adjusting values, we will get a `SettingWithCopyWarning` as you can see below"
   ]
  },
  {
   "cell_type": "code",
   "execution_count": 15,
   "id": "ca3017f1-7f9b-482e-9dab-c5b289332165",
   "metadata": {
    "ExecuteTime": {
     "end_time": "2024-02-19T12:51:41.484444Z",
     "start_time": "2024-02-19T12:51:41.468629Z"
    }
   },
   "outputs": [
    {
     "name": "stderr",
     "output_type": "stream",
     "text": [
      "C:\\Users\\timis\\AppData\\Local\\Temp\\ipykernel_15084\\1367601991.py:2: SettingWithCopyWarning: \n",
      "A value is trying to be set on a copy of a slice from a DataFrame\n",
      "\n",
      "See the caveats in the documentation: https://pandas.pydata.org/pandas-docs/stable/user_guide/indexing.html#returning-a-view-versus-a-copy\n",
      "  slctn.loc[1001752, \"MON-014\"] = 6.0\n"
     ]
    },
    {
     "data": {
      "text/plain": "(6.0, 9.0)"
     },
     "execution_count": 15,
     "metadata": {},
     "output_type": "execute_result"
    }
   ],
   "source": [
    "slctn = grades[ma]\n",
    "slctn.loc[1001752, \"MON-014\"] = 6.0\n",
    "slctn.loc[1001752, \"MON-014\"], grades.loc[1001752, \"MON-014\"]"
   ]
  },
  {
   "cell_type": "markdown",
   "id": "7b858daf-460a-4ba1-84fe-45853dc121fd",
   "metadata": {},
   "source": [
    "Read the documentation in the warning message to further dive into why this matters!\n",
    "\n",
    "## Exercises\n",
    "1. Determine how many students have an average score of 7.5 or higher."
   ]
  },
  {
   "cell_type": "code",
   "execution_count": 16,
   "id": "da4f9d29-dcbb-48d7-b475-892d0a77f864",
   "metadata": {
    "ExecuteTime": {
     "end_time": "2024-02-19T12:51:41.500689Z",
     "start_time": "2024-02-19T12:51:41.487012Z"
    }
   },
   "outputs": [
    {
     "data": {
      "text/plain": "StudentID\n1000457    False\n1000543    False\n1000286    False\n1001653    False\n1001165     True\n           ...  \n1000765     True\n1000052    False\n1000701    False\n1002102     True\n1001388     True\nLength: 1128, dtype: bool"
     },
     "execution_count": 16,
     "metadata": {},
     "output_type": "execute_result"
    }
   ],
   "source": [
    "# SOLUTION GOES HERE\n",
    "avg_high = grades.mean(axis=1) >= 7.5\n",
    "avg_high"
   ]
  },
  {
   "cell_type": "markdown",
   "id": "ff63d016-fd54-4110-b55d-b18e5c3ac1a1",
   "metadata": {},
   "source": [
    "2. What are the lowest and highest average score for a course?"
   ]
  },
  {
   "cell_type": "code",
   "execution_count": 17,
   "id": "9e0920f3-fbe6-4721-96f4-86ecb97a2dc9",
   "metadata": {
    "ExecuteTime": {
     "end_time": "2024-02-19T12:51:41.511864Z",
     "start_time": "2024-02-19T12:51:41.502817Z"
    }
   },
   "outputs": [],
   "source": [
    "# SOLUTION GOES HERE\n",
    "avg = grades.mean(axis = 0)\n",
    "low_avg = avg.idxmin()\n",
    "high_avg = avg.idxmax()"
   ]
  },
  {
   "cell_type": "markdown",
   "id": "08ae14dc-3590-43dc-bafa-3a213d440866",
   "metadata": {},
   "source": [
    "# Adding additional information\n",
    "\n",
    "In addition to the current grades of students, we also have a file with additional information about the students. "
   ]
  },
  {
   "cell_type": "code",
   "execution_count": 18,
   "id": "5014b3c9-533a-496e-9503-9888322de496",
   "metadata": {
    "ExecuteTime": {
     "end_time": "2024-02-19T12:51:41.535393Z",
     "start_time": "2024-02-19T12:51:41.515376Z"
    }
   },
   "outputs": [
    {
     "data": {
      "text/plain": "   StudentNumber Suruna Value Hurni Level  Lal Count   Volta \n0        1000457         lobi     nothing         63  5 stars\n1        1000543         nulp     nothing         80   1 star\n2        1000286         lobi      medium         95  3 stars\n3        1001653         lobi         low         80   1 star\n4        1001165         nulp      medium         97  4 stars",
      "text/html": "<div>\n<style scoped>\n    .dataframe tbody tr th:only-of-type {\n        vertical-align: middle;\n    }\n\n    .dataframe tbody tr th {\n        vertical-align: top;\n    }\n\n    .dataframe thead th {\n        text-align: right;\n    }\n</style>\n<table border=\"1\" class=\"dataframe\">\n  <thead>\n    <tr style=\"text-align: right;\">\n      <th></th>\n      <th>StudentNumber</th>\n      <th>Suruna Value</th>\n      <th>Hurni Level</th>\n      <th>Lal Count</th>\n      <th>Volta</th>\n    </tr>\n  </thead>\n  <tbody>\n    <tr>\n      <th>0</th>\n      <td>1000457</td>\n      <td>lobi</td>\n      <td>nothing</td>\n      <td>63</td>\n      <td>5 stars</td>\n    </tr>\n    <tr>\n      <th>1</th>\n      <td>1000543</td>\n      <td>nulp</td>\n      <td>nothing</td>\n      <td>80</td>\n      <td>1 star</td>\n    </tr>\n    <tr>\n      <th>2</th>\n      <td>1000286</td>\n      <td>lobi</td>\n      <td>medium</td>\n      <td>95</td>\n      <td>3 stars</td>\n    </tr>\n    <tr>\n      <th>3</th>\n      <td>1001653</td>\n      <td>lobi</td>\n      <td>low</td>\n      <td>80</td>\n      <td>1 star</td>\n    </tr>\n    <tr>\n      <th>4</th>\n      <td>1001165</td>\n      <td>nulp</td>\n      <td>medium</td>\n      <td>97</td>\n      <td>4 stars</td>\n    </tr>\n  </tbody>\n</table>\n</div>"
     },
     "execution_count": 18,
     "metadata": {},
     "output_type": "execute_result"
    }
   ],
   "source": [
    "info = pd.read_csv(\"C:/Users/timis/DataspellProjects/PrinciplesOfDataScience/Lab1/Data/StudentInfo (1).csv\", sep=\";\")\n",
    "info.head()"
   ]
  },
  {
   "cell_type": "markdown",
   "id": "2a9e4de8-2f8a-444b-9da0-6c49e3ce36f5",
   "metadata": {},
   "source": [
    "In this information file, we see that StudentNumber is used instead of StudentID in the file with the grades, therefore we first have to rename this column and use it as index next"
   ]
  },
  {
   "cell_type": "code",
   "execution_count": 19,
   "id": "65a89074-fffc-4932-9ea4-671055b18586",
   "metadata": {
    "ExecuteTime": {
     "end_time": "2024-02-19T12:51:41.553909Z",
     "start_time": "2024-02-19T12:51:41.537637Z"
    }
   },
   "outputs": [
    {
     "data": {
      "text/plain": "          Suruna Value Hurni Level  Lal Count   Volta \nStudentID                                             \n1000457           lobi     nothing         63  5 stars\n1000543           nulp     nothing         80   1 star\n1000286           lobi      medium         95  3 stars\n1001653           lobi         low         80   1 star\n1001165           nulp      medium         97  4 stars",
      "text/html": "<div>\n<style scoped>\n    .dataframe tbody tr th:only-of-type {\n        vertical-align: middle;\n    }\n\n    .dataframe tbody tr th {\n        vertical-align: top;\n    }\n\n    .dataframe thead th {\n        text-align: right;\n    }\n</style>\n<table border=\"1\" class=\"dataframe\">\n  <thead>\n    <tr style=\"text-align: right;\">\n      <th></th>\n      <th>Suruna Value</th>\n      <th>Hurni Level</th>\n      <th>Lal Count</th>\n      <th>Volta</th>\n    </tr>\n    <tr>\n      <th>StudentID</th>\n      <th></th>\n      <th></th>\n      <th></th>\n      <th></th>\n    </tr>\n  </thead>\n  <tbody>\n    <tr>\n      <th>1000457</th>\n      <td>lobi</td>\n      <td>nothing</td>\n      <td>63</td>\n      <td>5 stars</td>\n    </tr>\n    <tr>\n      <th>1000543</th>\n      <td>nulp</td>\n      <td>nothing</td>\n      <td>80</td>\n      <td>1 star</td>\n    </tr>\n    <tr>\n      <th>1000286</th>\n      <td>lobi</td>\n      <td>medium</td>\n      <td>95</td>\n      <td>3 stars</td>\n    </tr>\n    <tr>\n      <th>1001653</th>\n      <td>lobi</td>\n      <td>low</td>\n      <td>80</td>\n      <td>1 star</td>\n    </tr>\n    <tr>\n      <th>1001165</th>\n      <td>nulp</td>\n      <td>medium</td>\n      <td>97</td>\n      <td>4 stars</td>\n    </tr>\n  </tbody>\n</table>\n</div>"
     },
     "execution_count": 19,
     "metadata": {},
     "output_type": "execute_result"
    }
   ],
   "source": [
    "info.rename({\"StudentNumber\": \"StudentID\"}, inplace=True, axis=1)\n",
    "info.set_index(\"StudentID\", inplace=True)\n",
    "info.head()"
   ]
  },
  {
   "cell_type": "markdown",
   "id": "9fe22909-341c-47cd-ad6f-5affe3203f64",
   "metadata": {},
   "source": [
    "Another useful tool that you can use to process data is the `apply` function. This allows you to process a function either per row or per column and runs a lot quicker than looping over a dataframe using a for-loop. For instance, we can build an additional column in the `info` DataFrame that contains the number of stars in the \"Volta \"-column."
   ]
  },
  {
   "cell_type": "code",
   "execution_count": 20,
   "id": "90432e6b-3402-48e4-92c8-5e3438996377",
   "metadata": {
    "ExecuteTime": {
     "end_time": "2024-02-19T12:51:41.586654Z",
     "start_time": "2024-02-19T12:51:41.556115Z"
    }
   },
   "outputs": [
    {
     "data": {
      "text/plain": "          Suruna Value Hurni Level  Lal Count   Volta   num_stars_Volta\nStudentID                                                              \n1000457           lobi     nothing         63  5 stars                5\n1000543           nulp     nothing         80   1 star                1\n1000286           lobi      medium         95  3 stars                3\n1001653           lobi         low         80   1 star                1\n1001165           nulp      medium         97  4 stars                4",
      "text/html": "<div>\n<style scoped>\n    .dataframe tbody tr th:only-of-type {\n        vertical-align: middle;\n    }\n\n    .dataframe tbody tr th {\n        vertical-align: top;\n    }\n\n    .dataframe thead th {\n        text-align: right;\n    }\n</style>\n<table border=\"1\" class=\"dataframe\">\n  <thead>\n    <tr style=\"text-align: right;\">\n      <th></th>\n      <th>Suruna Value</th>\n      <th>Hurni Level</th>\n      <th>Lal Count</th>\n      <th>Volta</th>\n      <th>num_stars_Volta</th>\n    </tr>\n    <tr>\n      <th>StudentID</th>\n      <th></th>\n      <th></th>\n      <th></th>\n      <th></th>\n      <th></th>\n    </tr>\n  </thead>\n  <tbody>\n    <tr>\n      <th>1000457</th>\n      <td>lobi</td>\n      <td>nothing</td>\n      <td>63</td>\n      <td>5 stars</td>\n      <td>5</td>\n    </tr>\n    <tr>\n      <th>1000543</th>\n      <td>nulp</td>\n      <td>nothing</td>\n      <td>80</td>\n      <td>1 star</td>\n      <td>1</td>\n    </tr>\n    <tr>\n      <th>1000286</th>\n      <td>lobi</td>\n      <td>medium</td>\n      <td>95</td>\n      <td>3 stars</td>\n      <td>3</td>\n    </tr>\n    <tr>\n      <th>1001653</th>\n      <td>lobi</td>\n      <td>low</td>\n      <td>80</td>\n      <td>1 star</td>\n      <td>1</td>\n    </tr>\n    <tr>\n      <th>1001165</th>\n      <td>nulp</td>\n      <td>medium</td>\n      <td>97</td>\n      <td>4 stars</td>\n      <td>4</td>\n    </tr>\n  </tbody>\n</table>\n</div>"
     },
     "execution_count": 20,
     "metadata": {},
     "output_type": "execute_result"
    }
   ],
   "source": [
    "info[\"num_stars_Volta\"] = info.apply(lambda x: int(x[\"Volta \"].split(\" \")[0]), axis=1)\n",
    "info.head()"
   ]
  },
  {
   "cell_type": "markdown",
   "id": "4907092f-2feb-46b4-9989-c709eff80548",
   "metadata": {},
   "source": [
    "Several columns in this information have categorical values. If we want to quickly see which values it contains, we can use the `unique` function (see the documentation [here](https://pandas.pydata.org/docs/reference/api/pandas.Series.unique.html)) on a `pandas.Series` object."
   ]
  },
  {
   "cell_type": "code",
   "execution_count": 21,
   "id": "e20fe97e-0954-4802-bed1-fe91ef5ab32b",
   "metadata": {
    "ExecuteTime": {
     "end_time": "2024-02-19T12:51:41.599991Z",
     "start_time": "2024-02-19T12:51:41.588878Z"
    }
   },
   "outputs": [
    {
     "data": {
      "text/plain": "array(['nothing', 'medium', 'low', 'full', 'high'], dtype=object)"
     },
     "execution_count": 21,
     "metadata": {},
     "output_type": "execute_result"
    }
   ],
   "source": [
    "info[\"Hurni Level\"].unique()"
   ]
  },
  {
   "cell_type": "markdown",
   "id": "e4a272d0-d3cd-4df8-a72b-bb199a106bab",
   "metadata": {},
   "source": [
    "## Exercises\n",
    "\n",
    "3. construct a mapping from the textual Hurni levels to a numbered version that is easier to use in subsequent processing using the `apply` function."
   ]
  },
  {
   "cell_type": "code",
   "execution_count": 22,
   "id": "88240845-4490-42f7-8bf9-c4d03a487bb6",
   "metadata": {
    "ExecuteTime": {
     "end_time": "2024-02-19T12:51:41.707030Z",
     "start_time": "2024-02-19T12:51:41.603477Z"
    }
   },
   "outputs": [
    {
     "data": {
      "text/plain": "<bound method NDFrame.head of           Suruna Value Hurni Level  Lal Count   Volta   num_stars_Volta  \\\nStudentID                                                                 \n1000457           lobi     nothing         63  5 stars                5   \n1000543           nulp     nothing         80   1 star                1   \n1000286           lobi      medium         95  3 stars                3   \n1001653           lobi         low         80   1 star                1   \n1001165           nulp      medium         97  4 stars                4   \n...                ...         ...        ...      ...              ...   \n1000765           doot        full         59  4 stars                4   \n1000052           lobi     nothing         94  5 stars                5   \n1000701           lobi      medium         59   1 star                1   \n1002102           doot      medium         91  4 stars                4   \n1001388           doot      medium         71  5 stars                5   \n\n                Hurni_factorized  \nStudentID                         \n1000457    [0, 0, 0, 0, 0, 0, 0]  \n1000543    [0, 0, 0, 0, 0, 0, 0]  \n1000286       [0, 0, 0, 0, 0, 0]  \n1001653                [0, 0, 0]  \n1001165       [0, 0, 0, 0, 0, 0]  \n...                          ...  \n1000765             [0, 0, 0, 0]  \n1000052    [0, 0, 0, 0, 0, 0, 0]  \n1000701       [0, 0, 0, 0, 0, 0]  \n1002102       [0, 0, 0, 0, 0, 0]  \n1001388       [0, 0, 0, 0, 0, 0]  \n\n[1128 rows x 6 columns]>"
     },
     "execution_count": 22,
     "metadata": {},
     "output_type": "execute_result"
    }
   ],
   "source": [
    "# SOLUTION GOES HERE\n",
    "info[\"Hurni_factorized\"] = info[\"Hurni Level\"].apply(lambda x: pd.factorize(x)[0])\n",
    "info.head"
   ]
  },
  {
   "cell_type": "markdown",
   "id": "c0c06181-6c26-45be-9564-f270b991f6ee",
   "metadata": {},
   "source": [
    "4. How many students have both a 5 starts Volta rating and have an 8 or higher as average grade?"
   ]
  },
  {
   "cell_type": "code",
   "execution_count": 23,
   "id": "0f8418ca-2d22-47b4-8114-c692be05c106",
   "metadata": {
    "ExecuteTime": {
     "end_time": "2024-02-19T12:51:41.726390Z",
     "start_time": "2024-02-19T12:51:41.709300Z"
    }
   },
   "outputs": [
    {
     "data": {
      "text/plain": "42"
     },
     "execution_count": 23,
     "metadata": {},
     "output_type": "execute_result"
    }
   ],
   "source": [
    "# SOLUTION GOES HERE\n",
    "\n",
    "volta_five = info[info[\"num_stars_Volta\"] == 5]\n",
    "avg_grade = grades.mean(axis = 1)\n",
    "avg_eight_higher = avg_grade[avg_grade >= 8]\n",
    "students_both = volta_five.index.intersection(avg_eight_higher.index)\n",
    "num_students_both = len(students_both)\n",
    "num_students_both"
   ]
  },
  {
   "cell_type": "markdown",
   "id": "15db81f5-68b7-44ed-a94b-086b203c2535",
   "metadata": {},
   "source": [
    "# Data Visualization\n",
    "\n",
    "In python, there are several packages that can help you visualize your data. In this course, we will use `matplotlib` and `seaborn`. The latter, `seaborn`, contains more complex plotting functions and is built on top of `matplotlib` (it effectively calls functions from `matplotlib` within its own functions).\n",
    "\n",
    "## Exercises\n",
    "\n",
    "5. Plot a bar graph (using `plt.bar`, see the documentation [here](https://matplotlib.org/stable/api/_as_gen/matplotlib.pyplot.bar.html)) of the distribution of how many students have how many Volta stars. HINT: first count the different occurences (e.g., using `np.histogram` ([documentation](https://numpy.org/doc/stable/reference/generated/numpy.histogram.html)))"
   ]
  },
  {
   "cell_type": "code",
   "execution_count": 24,
   "id": "cd16cbe7-086e-4cbd-a0fb-412218bd927f",
   "metadata": {
    "ExecuteTime": {
     "end_time": "2024-02-19T12:51:42.064795Z",
     "start_time": "2024-02-19T12:51:41.728618Z"
    }
   },
   "outputs": [
    {
     "data": {
      "text/plain": "<function matplotlib.pyplot.show(close=None, block=None)>"
     },
     "execution_count": 24,
     "metadata": {},
     "output_type": "execute_result"
    },
    {
     "data": {
      "text/plain": "<Figure size 640x480 with 1 Axes>",
      "image/png": "[encoded data removed]"
     },
     "metadata": {},
     "output_type": "display_data"
    }
   ],
   "source": [
    "# SOLUTION GOES HERE\n",
    "fig = plt.boxplot(info[\"num_stars_Volta\"])\n",
    "plt.show"
   ]
  },
  {
   "cell_type": "markdown",
   "id": "5b1c818c-056d-4d2c-b865-c9dca13d358e",
   "metadata": {},
   "source": [
    "6. Make a histogram of the grade distribution of the course named \"MTE-004\" using `Series.hist` (see documentation [here](https://pandas.pydata.org/docs/reference/api/pandas.Series.hist.html))"
   ]
  },
  {
   "cell_type": "code",
   "execution_count": 25,
   "id": "2385120d-baa7-462c-887a-149681f1de93",
   "metadata": {
    "ExecuteTime": {
     "end_time": "2024-02-19T12:51:42.721995Z",
     "start_time": "2024-02-19T12:51:42.067072Z"
    }
   },
   "outputs": [
    {
     "data": {
      "text/plain": "<Figure size 640x480 with 1 Axes>",
      "image/png": "[encoded data removed]"
     },
     "metadata": {},
     "output_type": "display_data"
    }
   ],
   "source": [
    "# SOLUTION GOES HERE\n",
    "grades[\"MTE-004\"].hist(bins = 10)\n",
    "plt.title(\"Grade Distribution for MTE-004\")\n",
    "plt.xlabel(\"Grade\")\n",
    "plt.ylabel(\"Frequency\")\n",
    "plt.show()"
   ]
  },
  {
   "cell_type": "markdown",
   "id": "1dd3a293-aa5f-4d1b-ab0b-423b48762265",
   "metadata": {},
   "source": [
    "7. Make a boxplot of the distribution of \"Lal Count\" using `seaborn.boxplot` (see documentation [here](https://seaborn.pydata.org/generated/seaborn.boxplot.html))"
   ]
  },
  {
   "cell_type": "code",
   "execution_count": 26,
   "id": "65d1b767-419b-446c-9dc3-fb4a88d564e6",
   "metadata": {
    "ExecuteTime": {
     "end_time": "2024-02-19T12:51:42.995864Z",
     "start_time": "2024-02-19T12:51:42.724677Z"
    }
   },
   "outputs": [
    {
     "data": {
      "text/plain": "<Figure size 640x480 with 1 Axes>",
      "image/png": "[encoded data removed]"
     },
     "metadata": {},
     "output_type": "display_data"
    }
   ],
   "source": [
    "# SOLUTION GOES HERE\n",
    "sns.boxplot(x = info[\"Lal Count\"])\n",
    "plt.show()"
   ]
  },
  {
   "cell_type": "markdown",
   "id": "cbee8d19-2bc5-4345-b2b0-eac0cc56b3c7",
   "metadata": {},
   "source": [
    "8. Make a scatter plot of the grade distribution of the course named \"MTE-004\" using `Series.plot` with the keyword `style=\".\"` (see documentation [here](https://pandas.pydata.org/docs/reference/api/pandas.Series.hist.html))"
   ]
  },
  {
   "cell_type": "code",
   "execution_count": 27,
   "id": "fed86ca0-983c-49d3-8d7e-72a820047f84",
   "metadata": {
    "ExecuteTime": {
     "end_time": "2024-02-19T12:51:43.418388Z",
     "start_time": "2024-02-19T12:51:42.998082Z"
    }
   },
   "outputs": [
    {
     "data": {
      "text/plain": "<Figure size 640x480 with 1 Axes>",
      "image/png": "[encoded data removed]"
     },
     "metadata": {},
     "output_type": "display_data"
    }
   ],
   "source": [
    "# SOLUTION GOES HERE\n",
    "course_name = \"MTE-004\"\n",
    "grade_dis = grades[course_name].value_counts().sort_index()\n",
    "grade_dis.plot(style = \".\")\n",
    "plt.show()"
   ]
  },
  {
   "cell_type": "markdown",
   "id": "d08d1b05-e2ee-4276-b960-f450cffc8aad",
   "metadata": {},
   "source": [
    "9. Make a swarmplot for the distribution of the grades for the courses \"MTE-004\" and \"LOE-103\" using `seaborn.swarmplot` (see the documentation [here](https://seaborn.pydata.org/generated/seaborn.swarmplot.html))"
   ]
  },
  {
   "cell_type": "code",
   "execution_count": 30,
   "id": "786b2f8b-b690-44ae-9e29-7f67db41de2a",
   "metadata": {
    "ExecuteTime": {
     "end_time": "2024-02-19T12:53:10.212042Z",
     "start_time": "2024-02-19T12:53:10.143854Z"
    }
   },
   "outputs": [
    {
     "ename": "AttributeError",
     "evalue": "'dict' object has no attribute 'melt'",
     "output_type": "error",
     "traceback": [
      "\u001B[1;31m---------------------------------------------------------------------------\u001B[0m",
      "\u001B[1;31mAttributeError\u001B[0m                            Traceback (most recent call last)",
      "Cell \u001B[1;32mIn[30], line 3\u001B[0m\n\u001B[0;32m      1\u001B[0m \u001B[38;5;66;03m# SOLUTION GOES HERE\u001B[39;00m\n\u001B[0;32m      2\u001B[0m course \u001B[38;5;241m=\u001B[39m ({\u001B[38;5;124m\"\u001B[39m\u001B[38;5;124mMTE-004\u001B[39m\u001B[38;5;124m\"\u001B[39m : grade_dis, \u001B[38;5;124m\"\u001B[39m\u001B[38;5;124mLOE-103\u001B[39m\u001B[38;5;124m\"\u001B[39m : grade_dis})\n\u001B[1;32m----> 3\u001B[0m courses_melted \u001B[38;5;241m=\u001B[39m course\u001B[38;5;241m.\u001B[39mmelt(var_name \u001B[38;5;241m=\u001B[39m \u001B[38;5;124m\"\u001B[39m\u001B[38;5;124mCourse\u001B[39m\u001B[38;5;124m\"\u001B[39m, value_name \u001B[38;5;241m=\u001B[39m \u001B[38;5;124m\"\u001B[39m\u001B[38;5;124mGrade\u001B[39m\u001B[38;5;124m\"\u001B[39m)\n\u001B[0;32m      4\u001B[0m sns\u001B[38;5;241m.\u001B[39mswarmplot(x \u001B[38;5;241m=\u001B[39m \u001B[38;5;124m\"\u001B[39m\u001B[38;5;124mCourse\u001B[39m\u001B[38;5;124m\"\u001B[39m, y \u001B[38;5;241m=\u001B[39m \u001B[38;5;124m\"\u001B[39m\u001B[38;5;124mGrade\u001B[39m\u001B[38;5;124m\"\u001B[39m, data \u001B[38;5;241m=\u001B[39m courses_melted)\n\u001B[0;32m      5\u001B[0m plt\u001B[38;5;241m.\u001B[39mshow()\n",
      "\u001B[1;31mAttributeError\u001B[0m: 'dict' object has no attribute 'melt'"
     ]
    }
   ],
   "source": [
    "# SOLUTION GOES HERE\n",
    "course = ({\"MTE-004\" : grade_dis, \"LOE-103\" : grade_dis})\n",
    "courses_melted = course.melt(var_name = \"Course\", value_name = \"Grade\")\n",
    "sns.swarmplot(x = \"Course\", y = \"Grade\", data = courses_melted)\n",
    "plt.show()"
   ]
  },
  {
   "cell_type": "markdown",
   "id": "e36b35c4-0c50-4d5f-9823-1a88f6f29cb1",
   "metadata": {},
   "source": [
    "10. Make a joint plot for the distribution of the grades for the courses \"MTE-004\" and \"LOE-103\" using `seaborn.swarmplot` (see the documentation [here](https://seaborn.pydata.org/generated/seaborn.jointplot.html))"
   ]
  },
  {
   "cell_type": "code",
   "execution_count": 31,
   "id": "46a70171-f092-4246-a7d9-73ee1a6d32a5",
   "metadata": {
    "ExecuteTime": {
     "end_time": "2024-02-19T12:59:18.713539Z",
     "start_time": "2024-02-19T12:59:17.257468Z"
    }
   },
   "outputs": [
    {
     "data": {
      "text/plain": "<seaborn.axisgrid.JointGrid at 0x1def66a9890>"
     },
     "execution_count": 31,
     "metadata": {},
     "output_type": "execute_result"
    },
    {
     "data": {
      "text/plain": "<Figure size 600x600 with 3 Axes>",
      "image/png": "[encoded data removed]"
     },
     "metadata": {},
     "output_type": "display_data"
    }
   ],
   "source": [
    "# SOLUTION GOES HERE\n",
    "grades_general = grades[[\"MTE-004\", \"LOE-103\"]].copy()\n",
    "sns.jointplot(grades_general, x= \"MTE-004\", y = \"LOE-103\")"
   ]
  },
  {
   "cell_type": "markdown",
   "id": "91faf254-6365-47b4-b4fb-ce2624872861",
   "metadata": {},
   "source": [
    "11. Implement one of the figures that you made in phase 2 of Project 1-1 in `matplotlib` or `seaborn`."
   ]
  },
  {
   "cell_type": "code",
   "execution_count": 29,
   "id": "7b4746f2-f7e6-4bc0-86c7-5fb860a600cb",
   "metadata": {
    "ExecuteTime": {
     "end_time": "2024-02-19T12:52:40.484784Z",
     "start_time": "2024-02-19T12:52:40.124932Z"
    }
   },
   "outputs": [
    {
     "data": {
      "text/plain": "<Figure size 640x480 with 1 Axes>",
      "image/png": "[encoded data removed]"
     },
     "metadata": {},
     "output_type": "display_data"
    },
    {
     "data": {
      "text/plain": "MTE-004    7.449867\nLOE-103    7.433393\nDSE-005    7.262097\nJTE-234    7.688679\nJHF-101    7.475207\nLDE-009    7.452381\nBKO-800    7.845196\nATE-214    7.653025\nFEA-907    7.324958\nTGL-013    7.366387\nSLE-332    7.036975\nATE-003    6.741563\nDSE-007    7.109431\nJTW-004    7.104553\nLUU-003    7.832451\nHLU-200    7.301887\nMON-014    7.788591\nJJP-001    8.173387\nWOT-104    7.198319\nBKO-801         NaN\nGHL-823    6.596244\nWDM-974    7.189573\nTSO-010         NaN\nPPL-239    6.919732\nDSE-003    6.959075\nLPG-307    6.665552\nPLO-132         NaN\nATE-014    7.896226\nKMO-007    7.314554\nATE-008    7.105351\ndtype: float64"
     },
     "execution_count": 29,
     "metadata": {},
     "output_type": "execute_result"
    }
   ],
   "source": [
    "# SOLUTION GOES HERE\n",
    "sns.swarmplot(data = avg)\n",
    "plt.show()\n",
    "avg"
   ]
  },
  {
   "cell_type": "code",
   "outputs": [],
   "source": [],
   "metadata": {
    "collapsed": false
   },
   "id": "213cf773ee921555"
  }
 ],
 "metadata": {
  "kernelspec": {
   "display_name": "Python 3 (ipykernel)",
   "language": "python",
   "name": "python3"
  },
  "language_info": {
   "codemirror_mode": {
    "name": "ipython",
    "version": 3
   },
   "file_extension": ".py",
   "mimetype": "text/x-python",
   "name": "python",
   "nbconvert_exporter": "python",
   "pygments_lexer": "ipython3",
   "version": "3.12.1"
  }
 },
 "nbformat": 4,
 "nbformat_minor": 5
}

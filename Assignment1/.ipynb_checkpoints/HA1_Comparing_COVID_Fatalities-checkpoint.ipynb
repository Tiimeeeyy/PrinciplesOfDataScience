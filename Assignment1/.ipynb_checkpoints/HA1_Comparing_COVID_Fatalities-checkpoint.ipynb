{
 "cells": [
  {
   "cell_type": "markdown",
   "metadata": {
    "id": "Sev3wtZP0Ipc"
   },
   "source": [
    "# KEN1435 - Principles of Data Science | Homework Assignment 1 (HA1) :  Comparing COVID Fatalities\n",
    "\n",
    "In this assignment, you will compare COVID fatalities in Portugal and Colombia. The results may be counterintuitive and surprising! We will use data of COVID cases from both countries on May 28, 2020.\n",
    "\n",
    "First we load the necessary python packages"
   ]
  },
  {
   "cell_type": "code",
   "execution_count": 21,
   "metadata": {
    "id": "Ak2gYqYjZlmI",
    "ExecuteTime": {
     "end_time": "2024-02-21T15:40:44.572074Z",
     "start_time": "2024-02-21T15:40:44.565783Z"
    }
   },
   "outputs": [],
   "source": [
    "import matplotlib.pyplot as plt\n",
    "import numpy as np\n",
    "import pandas as pd\n",
    "import seaborn as sns"
   ]
  },
  {
   "cell_type": "markdown",
   "metadata": {
    "id": "FxTWG57e0qs1"
   },
   "source": [
    "The Portugal and Colombia data are contained in separate files. \n",
    "\n",
    "## Portuguese COVID fatality rate\n",
    "Let's start by loading the Portuguese data which is stored in the file called `portugal_2020-05-28.csv`."
   ]
  },
  {
   "cell_type": "code",
   "execution_count": 22,
   "metadata": {
    "id": "kH140bJp0wmA",
    "ExecuteTime": {
     "end_time": "2024-02-21T15:40:44.963405Z",
     "start_time": "2024-02-21T15:40:44.924528Z"
    }
   },
   "outputs": [
    {
     "data": {
      "text/plain": "     age     sex  fatality\n0  60-69  Female         0\n1  60-69    Male         0\n2    80+    Male         0\n3  60-69  Female         0\n4  50-59  Female         0",
      "text/html": "<div>\n<style scoped>\n    .dataframe tbody tr th:only-of-type {\n        vertical-align: middle;\n    }\n\n    .dataframe tbody tr th {\n        vertical-align: top;\n    }\n\n    .dataframe thead th {\n        text-align: right;\n    }\n</style>\n<table border=\"1\" class=\"dataframe\">\n  <thead>\n    <tr style=\"text-align: right;\">\n      <th></th>\n      <th>age</th>\n      <th>sex</th>\n      <th>fatality</th>\n    </tr>\n  </thead>\n  <tbody>\n    <tr>\n      <th>0</th>\n      <td>60-69</td>\n      <td>Female</td>\n      <td>0</td>\n    </tr>\n    <tr>\n      <th>1</th>\n      <td>60-69</td>\n      <td>Male</td>\n      <td>0</td>\n    </tr>\n    <tr>\n      <th>2</th>\n      <td>80+</td>\n      <td>Male</td>\n      <td>0</td>\n    </tr>\n    <tr>\n      <th>3</th>\n      <td>60-69</td>\n      <td>Female</td>\n      <td>0</td>\n    </tr>\n    <tr>\n      <th>4</th>\n      <td>50-59</td>\n      <td>Female</td>\n      <td>0</td>\n    </tr>\n  </tbody>\n</table>\n</div>"
     },
     "execution_count": 22,
     "metadata": {},
     "output_type": "execute_result"
    }
   ],
   "source": [
    "df_PT = pd.read_csv(\"C:/Users/timis/DataspellProjects/PrinciplesOfDataScience/Assignment1/Data/portugal_2020-05-28.csv\")\n",
    "df_PT.head()"
   ]
  },
  {
   "cell_type": "markdown",
   "metadata": {
    "id": "ya7-RKc70T_U"
   },
   "source": [
    "**Exercise 1. (*1pt*)** Calculate the overall fatality rate for Portugal. That is, calculate $$P(\\text{fatality} = 1 | \\text{country}=\\text{Portugal}).$$ Store your answer in the variable `fatal_PT` as you will need to use this value in the final exercise."
   ]
  },
  {
   "cell_type": "markdown",
   "source": [
    ">### Comment\n",
    ">after a bit of tinkering we found out, that since we have only 1s and 0s we can just calculate the mean, since wed then still have the correct value (sum of all values / all values) since the sum is going to be the size of all occurrences of one"
   ],
   "metadata": {
    "collapsed": false
   }
  },
  {
   "cell_type": "code",
   "execution_count": 23,
   "metadata": {
    "id": "4EP1FSz7yhSh",
    "ExecuteTime": {
     "end_time": "2024-02-21T15:40:45.006754Z",
     "start_time": "2024-02-21T15:40:44.994452Z"
    }
   },
   "outputs": [
    {
     "data": {
      "text/plain": "(0.04332826940119002, 0.04332826940119002)"
     },
     "execution_count": 23,
     "metadata": {},
     "output_type": "execute_result"
    }
   ],
   "source": [
    "## YOUR CODE HERE\n",
    "dead_PT = (df_PT[\"fatality\"] == 1).sum()\n",
    "non_fatal_pt = (df_PT[\"fatality\"] == 0).sum()\n",
    "fatal_PT_alternate_way = dead_PT / (non_fatal_pt + dead_PT)\n",
    "fatal_PT = df_PT[\"fatality\"].mean()\n",
    "fatal_PT, fatal_PT_alternate_way"
   ]
  },
  {
   "cell_type": "markdown",
   "metadata": {
    "id": "HWIj8AMb3TaF"
   },
   "source": [
    "**Exercise 2. (*1pt*)** Calculate the fatality rates for each age group in Portugal. That is, calculate the conditional probabilities for each age group:\n",
    "$$P(\\text{fatality} = 1 | \\text{age}\\in[a,b], \\text{country}=\\text{Portugal}).$$\n",
    "Save the results in a `pd.Series` called `fatality_rates_PT`."
   ]
  },
  {
   "cell_type": "code",
   "execution_count": 24,
   "metadata": {
    "id": "bdhtOmmhtgWG",
    "ExecuteTime": {
     "end_time": "2024-02-21T15:40:45.365100Z",
     "start_time": "2024-02-21T15:40:45.340693Z"
    }
   },
   "outputs": [
    {
     "data": {
      "text/plain": "age\n0-9      0.000000\n10-19    0.000000\n20-29    0.000243\n30-39    0.000211\n40-49    0.002822\n50-59    0.007995\n60-69    0.035017\n70-79    0.106031\n80+      0.205180\nName: fatality, dtype: float64"
     },
     "execution_count": 24,
     "metadata": {},
     "output_type": "execute_result"
    }
   ],
   "source": [
    "## YOUR CODE HERE\n",
    "grouped_PT = df_PT.groupby(\"age\")\n",
    "fatality_rates_PT = grouped_PT[\"fatality\"].mean()\n",
    "fatality_rates_PT"
   ]
  },
  {
   "cell_type": "code",
   "outputs": [
    {
     "data": {
      "text/plain": "array(['60-69', '80+', '50-59', '40-49', '20-29', '30-39', '70-79',\n       '10-19', '0-9'], dtype=object)"
     },
     "execution_count": 25,
     "metadata": {},
     "output_type": "execute_result"
    }
   ],
   "source": [
    "df_PT[\"age\"].unique()"
   ],
   "metadata": {
    "collapsed": false,
    "ExecuteTime": {
     "end_time": "2024-02-21T15:40:45.616575Z",
     "start_time": "2024-02-21T15:40:45.600541Z"
    }
   },
   "execution_count": 25
  },
  {
   "cell_type": "markdown",
   "metadata": {},
   "source": [
    "## Colombian fatality rate\n",
    "\n",
    "Next we load the Colombian data from the file `colombia_2020-05-28.csv`. "
   ]
  },
  {
   "cell_type": "code",
   "execution_count": 26,
   "metadata": {
    "id": "rxLfThXW09pq",
    "ExecuteTime": {
     "end_time": "2024-02-21T15:40:45.835059Z",
     "start_time": "2024-02-21T15:40:45.749969Z"
    }
   },
   "outputs": [
    {
     "data": {
      "text/plain": "            Departamento  Edad Sexo         Tipo   Ubicación    Estado  \\\n0            Bogotá D.C.    19    F    Importado  Recuperado      Leve   \n1        Valle del Cauca    34    M    Importado  Recuperado      Leve   \n2              Antioquia    50    F    Importado  Recuperado      Leve   \n3              Antioquia    55    M  Relacionado  Recuperado      Leve   \n4              Antioquia    25    M  Relacionado  Recuperado      Leve   \n...                  ...   ...  ...          ...         ...       ...   \n25361  Buenaventura D.E.    48    M   En estudio    Hospital  Moderado   \n25362    Valle del Cauca    55    F   En estudio        Casa      Leve   \n25363  Buenaventura D.E.    39    F   En estudio        Casa      Leve   \n25364    Valle del Cauca    13    F   En estudio        Casa      Leve   \n25365            Córdoba     0    F   En estudio    Hospital  Moderado   \n\n      Fecha de inicio de síntomas Fecha de muerte Fecha de diagnóstico  \\\n0                      2020-02-27           -   -           2020-03-06   \n1                      2020-03-04           -   -           2020-03-09   \n2                      2020-02-29           -   -           2020-03-09   \n3                      2020-03-06           -   -           2020-03-11   \n4                      2020-03-08           -   -           2020-03-11   \n...                           ...             ...                  ...   \n25361                  2020-05-12           -   -           2020-05-28   \n25362                  2020-05-21            /  /           2020-05-28   \n25363                  2020-05-23            /  /           2020-05-28   \n25364                  2020-05-13            /  /           2020-05-28   \n25365                  2020-05-11           -   -           2020-05-28   \n\n      Fecha recuperado  \n0           2020-03-13  \n1           2020-03-19  \n2           2020-03-15  \n3           2020-03-26  \n4           2020-03-23  \n...                ...  \n25361              NaN  \n25362              NaN  \n25363              NaN  \n25364              NaN  \n25365              NaN  \n\n[25366 rows x 10 columns]",
      "text/html": "<div>\n<style scoped>\n    .dataframe tbody tr th:only-of-type {\n        vertical-align: middle;\n    }\n\n    .dataframe tbody tr th {\n        vertical-align: top;\n    }\n\n    .dataframe thead th {\n        text-align: right;\n    }\n</style>\n<table border=\"1\" class=\"dataframe\">\n  <thead>\n    <tr style=\"text-align: right;\">\n      <th></th>\n      <th>Departamento</th>\n      <th>Edad</th>\n      <th>Sexo</th>\n      <th>Tipo</th>\n      <th>Ubicación</th>\n      <th>Estado</th>\n      <th>Fecha de inicio de síntomas</th>\n      <th>Fecha de muerte</th>\n      <th>Fecha de diagnóstico</th>\n      <th>Fecha recuperado</th>\n    </tr>\n  </thead>\n  <tbody>\n    <tr>\n      <th>0</th>\n      <td>Bogotá D.C.</td>\n      <td>19</td>\n      <td>F</td>\n      <td>Importado</td>\n      <td>Recuperado</td>\n      <td>Leve</td>\n      <td>2020-02-27</td>\n      <td>-   -</td>\n      <td>2020-03-06</td>\n      <td>2020-03-13</td>\n    </tr>\n    <tr>\n      <th>1</th>\n      <td>Valle del Cauca</td>\n      <td>34</td>\n      <td>M</td>\n      <td>Importado</td>\n      <td>Recuperado</td>\n      <td>Leve</td>\n      <td>2020-03-04</td>\n      <td>-   -</td>\n      <td>2020-03-09</td>\n      <td>2020-03-19</td>\n    </tr>\n    <tr>\n      <th>2</th>\n      <td>Antioquia</td>\n      <td>50</td>\n      <td>F</td>\n      <td>Importado</td>\n      <td>Recuperado</td>\n      <td>Leve</td>\n      <td>2020-02-29</td>\n      <td>-   -</td>\n      <td>2020-03-09</td>\n      <td>2020-03-15</td>\n    </tr>\n    <tr>\n      <th>3</th>\n      <td>Antioquia</td>\n      <td>55</td>\n      <td>M</td>\n      <td>Relacionado</td>\n      <td>Recuperado</td>\n      <td>Leve</td>\n      <td>2020-03-06</td>\n      <td>-   -</td>\n      <td>2020-03-11</td>\n      <td>2020-03-26</td>\n    </tr>\n    <tr>\n      <th>4</th>\n      <td>Antioquia</td>\n      <td>25</td>\n      <td>M</td>\n      <td>Relacionado</td>\n      <td>Recuperado</td>\n      <td>Leve</td>\n      <td>2020-03-08</td>\n      <td>-   -</td>\n      <td>2020-03-11</td>\n      <td>2020-03-23</td>\n    </tr>\n    <tr>\n      <th>...</th>\n      <td>...</td>\n      <td>...</td>\n      <td>...</td>\n      <td>...</td>\n      <td>...</td>\n      <td>...</td>\n      <td>...</td>\n      <td>...</td>\n      <td>...</td>\n      <td>...</td>\n    </tr>\n    <tr>\n      <th>25361</th>\n      <td>Buenaventura D.E.</td>\n      <td>48</td>\n      <td>M</td>\n      <td>En estudio</td>\n      <td>Hospital</td>\n      <td>Moderado</td>\n      <td>2020-05-12</td>\n      <td>-   -</td>\n      <td>2020-05-28</td>\n      <td>NaN</td>\n    </tr>\n    <tr>\n      <th>25362</th>\n      <td>Valle del Cauca</td>\n      <td>55</td>\n      <td>F</td>\n      <td>En estudio</td>\n      <td>Casa</td>\n      <td>Leve</td>\n      <td>2020-05-21</td>\n      <td>/  /</td>\n      <td>2020-05-28</td>\n      <td>NaN</td>\n    </tr>\n    <tr>\n      <th>25363</th>\n      <td>Buenaventura D.E.</td>\n      <td>39</td>\n      <td>F</td>\n      <td>En estudio</td>\n      <td>Casa</td>\n      <td>Leve</td>\n      <td>2020-05-23</td>\n      <td>/  /</td>\n      <td>2020-05-28</td>\n      <td>NaN</td>\n    </tr>\n    <tr>\n      <th>25364</th>\n      <td>Valle del Cauca</td>\n      <td>13</td>\n      <td>F</td>\n      <td>En estudio</td>\n      <td>Casa</td>\n      <td>Leve</td>\n      <td>2020-05-13</td>\n      <td>/  /</td>\n      <td>2020-05-28</td>\n      <td>NaN</td>\n    </tr>\n    <tr>\n      <th>25365</th>\n      <td>Córdoba</td>\n      <td>0</td>\n      <td>F</td>\n      <td>En estudio</td>\n      <td>Hospital</td>\n      <td>Moderado</td>\n      <td>2020-05-11</td>\n      <td>-   -</td>\n      <td>2020-05-28</td>\n      <td>NaN</td>\n    </tr>\n  </tbody>\n</table>\n<p>25366 rows × 10 columns</p>\n</div>"
     },
     "execution_count": 26,
     "metadata": {},
     "output_type": "execute_result"
    }
   ],
   "source": [
    "df_CO = pd.read_csv(\"C:/Users/timis/DataspellProjects/PrinciplesOfDataScience/Assignment1/Data/colombia_2020-05-28.csv\")\n",
    "df_CO"
   ]
  },
  {
   "cell_type": "markdown",
   "metadata": {
    "id": "VXuGkyN8tir9"
   },
   "source": [
    "Notice that the Colombia data is more raw than the Portugal data. We need to clean the data to make it look like the Portugal data. For instance, it does not contain a boolean \"fatality\" column and the ages (\"Edad\") are indicated as exact ages rather than binned values as we can see for the Portuguese data.\n",
    "\n",
    "As a first step, we will create a column called fatality which indicates whether a patient died or not by transforming the \"Estado\" (state) column into a fatality column. If a patient died, then their state is marked as \"Fallecido\" (deceased). There are other \"Estados\" (states), such as \"Leve\" (mild) and \"Asintomático\" (asymptomatic), but these are not relevant for our fatality column.\n",
    "\n",
    "**Exercise 3. (*1pt*)** Add a column called \"fatality\" to the Colombian dataframe `df_CO`, which contains a `1` if the \"Estado\"-column states \"Fallecido\" and a `0` otherwise."
   ]
  },
  {
   "cell_type": "code",
   "execution_count": 27,
   "metadata": {
    "id": "vTPPj-GSw7N5",
    "ExecuteTime": {
     "end_time": "2024-02-21T15:40:46.284406Z",
     "start_time": "2024-02-21T15:40:46.222560Z"
    }
   },
   "outputs": [
    {
     "data": {
      "text/plain": "      Departamento  Edad Sexo         Tipo   Ubicación Estado  \\\n0      Bogotá D.C.    19    F    Importado  Recuperado   Leve   \n1  Valle del Cauca    34    M    Importado  Recuperado   Leve   \n2        Antioquia    50    F    Importado  Recuperado   Leve   \n3        Antioquia    55    M  Relacionado  Recuperado   Leve   \n4        Antioquia    25    M  Relacionado  Recuperado   Leve   \n\n  Fecha de inicio de síntomas Fecha de muerte Fecha de diagnóstico  \\\n0                  2020-02-27           -   -           2020-03-06   \n1                  2020-03-04           -   -           2020-03-09   \n2                  2020-02-29           -   -           2020-03-09   \n3                  2020-03-06           -   -           2020-03-11   \n4                  2020-03-08           -   -           2020-03-11   \n\n  Fecha recuperado fatality  \n0       2020-03-13        0  \n1       2020-03-19        0  \n2       2020-03-15        0  \n3       2020-03-26        0  \n4       2020-03-23        0  ",
      "text/html": "<div>\n<style scoped>\n    .dataframe tbody tr th:only-of-type {\n        vertical-align: middle;\n    }\n\n    .dataframe tbody tr th {\n        vertical-align: top;\n    }\n\n    .dataframe thead th {\n        text-align: right;\n    }\n</style>\n<table border=\"1\" class=\"dataframe\">\n  <thead>\n    <tr style=\"text-align: right;\">\n      <th></th>\n      <th>Departamento</th>\n      <th>Edad</th>\n      <th>Sexo</th>\n      <th>Tipo</th>\n      <th>Ubicación</th>\n      <th>Estado</th>\n      <th>Fecha de inicio de síntomas</th>\n      <th>Fecha de muerte</th>\n      <th>Fecha de diagnóstico</th>\n      <th>Fecha recuperado</th>\n      <th>fatality</th>\n    </tr>\n  </thead>\n  <tbody>\n    <tr>\n      <th>0</th>\n      <td>Bogotá D.C.</td>\n      <td>19</td>\n      <td>F</td>\n      <td>Importado</td>\n      <td>Recuperado</td>\n      <td>Leve</td>\n      <td>2020-02-27</td>\n      <td>-   -</td>\n      <td>2020-03-06</td>\n      <td>2020-03-13</td>\n      <td>0</td>\n    </tr>\n    <tr>\n      <th>1</th>\n      <td>Valle del Cauca</td>\n      <td>34</td>\n      <td>M</td>\n      <td>Importado</td>\n      <td>Recuperado</td>\n      <td>Leve</td>\n      <td>2020-03-04</td>\n      <td>-   -</td>\n      <td>2020-03-09</td>\n      <td>2020-03-19</td>\n      <td>0</td>\n    </tr>\n    <tr>\n      <th>2</th>\n      <td>Antioquia</td>\n      <td>50</td>\n      <td>F</td>\n      <td>Importado</td>\n      <td>Recuperado</td>\n      <td>Leve</td>\n      <td>2020-02-29</td>\n      <td>-   -</td>\n      <td>2020-03-09</td>\n      <td>2020-03-15</td>\n      <td>0</td>\n    </tr>\n    <tr>\n      <th>3</th>\n      <td>Antioquia</td>\n      <td>55</td>\n      <td>M</td>\n      <td>Relacionado</td>\n      <td>Recuperado</td>\n      <td>Leve</td>\n      <td>2020-03-06</td>\n      <td>-   -</td>\n      <td>2020-03-11</td>\n      <td>2020-03-26</td>\n      <td>0</td>\n    </tr>\n    <tr>\n      <th>4</th>\n      <td>Antioquia</td>\n      <td>25</td>\n      <td>M</td>\n      <td>Relacionado</td>\n      <td>Recuperado</td>\n      <td>Leve</td>\n      <td>2020-03-08</td>\n      <td>-   -</td>\n      <td>2020-03-11</td>\n      <td>2020-03-23</td>\n      <td>0</td>\n    </tr>\n  </tbody>\n</table>\n</div>"
     },
     "execution_count": 27,
     "metadata": {},
     "output_type": "execute_result"
    }
   ],
   "source": [
    "## YOUR CODE HERE\n",
    "# Replace function was done with the help of AI\n",
    "# Create mapping to convert String to float\n",
    "# After doing the other exercises i realized i had to add additional mappings since there are more values\n",
    "mapping = {\"Fallecido\" : 1, \"Leve\" : 0, \"Asintomático\" : 0, \"Moderado\" : 0, \"Grave\" : 0, \"leve\" : 0, \"LEVE\" : 0,\"Leve\" : 0}\n",
    "# Replace the values\n",
    "df_CO[\"fatality\"] = df_CO[\"Estado\"].replace(mapping)\n",
    "df_CO.head()"
   ]
  },
  {
   "cell_type": "markdown",
   "metadata": {
    "id": "ERtmMZ0hy5iA"
   },
   "source": [
    "Next, we need to convert \"Edad\" (age), which is a quantitative variable in this data set, into age ranges, as in the Portugal data set.\n",
    "\n",
    "**Exercise 4. (*1pt*)** Add a column called \"age\" to the Colombian dataframe `df_CO`, which divided the \"Edad\" column into the following age ranges: `\"0-9\", \"10-19\", \"20-29\", \"30-39\", \"40-49\", \"50-59\", \"60-69\", \"70-79\", \"80+\"`"
   ]
  },
  {
   "cell_type": "code",
   "execution_count": 28,
   "metadata": {
    "id": "Vd_kTG0uygF-",
    "ExecuteTime": {
     "end_time": "2024-02-21T15:40:46.514476Z",
     "start_time": "2024-02-21T15:40:46.478033Z"
    }
   },
   "outputs": [
    {
     "data": {
      "text/plain": "            Departamento  Edad Sexo         Tipo   Ubicación    Estado  \\\n0            Bogotá D.C.    19    F    Importado  Recuperado      Leve   \n1        Valle del Cauca    34    M    Importado  Recuperado      Leve   \n2              Antioquia    50    F    Importado  Recuperado      Leve   \n3              Antioquia    55    M  Relacionado  Recuperado      Leve   \n4              Antioquia    25    M  Relacionado  Recuperado      Leve   \n...                  ...   ...  ...          ...         ...       ...   \n25361  Buenaventura D.E.    48    M   En estudio    Hospital  Moderado   \n25362    Valle del Cauca    55    F   En estudio        Casa      Leve   \n25363  Buenaventura D.E.    39    F   En estudio        Casa      Leve   \n25364    Valle del Cauca    13    F   En estudio        Casa      Leve   \n25365            Córdoba     0    F   En estudio    Hospital  Moderado   \n\n      Fecha de inicio de síntomas Fecha de muerte Fecha de diagnóstico  \\\n0                      2020-02-27           -   -           2020-03-06   \n1                      2020-03-04           -   -           2020-03-09   \n2                      2020-02-29           -   -           2020-03-09   \n3                      2020-03-06           -   -           2020-03-11   \n4                      2020-03-08           -   -           2020-03-11   \n...                           ...             ...                  ...   \n25361                  2020-05-12           -   -           2020-05-28   \n25362                  2020-05-21            /  /           2020-05-28   \n25363                  2020-05-23            /  /           2020-05-28   \n25364                  2020-05-13            /  /           2020-05-28   \n25365                  2020-05-11           -   -           2020-05-28   \n\n      Fecha recuperado fatality    age  \n0           2020-03-13        0  10-19  \n1           2020-03-19        0  30-39  \n2           2020-03-15        0  50-59  \n3           2020-03-26        0  50-59  \n4           2020-03-23        0  20-29  \n...                ...      ...    ...  \n25361              NaN        0  40-49  \n25362              NaN        0  50-59  \n25363              NaN        0  30-39  \n25364              NaN        0  10-19  \n25365              NaN        0    0-9  \n\n[25366 rows x 12 columns]",
      "text/html": "<div>\n<style scoped>\n    .dataframe tbody tr th:only-of-type {\n        vertical-align: middle;\n    }\n\n    .dataframe tbody tr th {\n        vertical-align: top;\n    }\n\n    .dataframe thead th {\n        text-align: right;\n    }\n</style>\n<table border=\"1\" class=\"dataframe\">\n  <thead>\n    <tr style=\"text-align: right;\">\n      <th></th>\n      <th>Departamento</th>\n      <th>Edad</th>\n      <th>Sexo</th>\n      <th>Tipo</th>\n      <th>Ubicación</th>\n      <th>Estado</th>\n      <th>Fecha de inicio de síntomas</th>\n      <th>Fecha de muerte</th>\n      <th>Fecha de diagnóstico</th>\n      <th>Fecha recuperado</th>\n      <th>fatality</th>\n      <th>age</th>\n    </tr>\n  </thead>\n  <tbody>\n    <tr>\n      <th>0</th>\n      <td>Bogotá D.C.</td>\n      <td>19</td>\n      <td>F</td>\n      <td>Importado</td>\n      <td>Recuperado</td>\n      <td>Leve</td>\n      <td>2020-02-27</td>\n      <td>-   -</td>\n      <td>2020-03-06</td>\n      <td>2020-03-13</td>\n      <td>0</td>\n      <td>10-19</td>\n    </tr>\n    <tr>\n      <th>1</th>\n      <td>Valle del Cauca</td>\n      <td>34</td>\n      <td>M</td>\n      <td>Importado</td>\n      <td>Recuperado</td>\n      <td>Leve</td>\n      <td>2020-03-04</td>\n      <td>-   -</td>\n      <td>2020-03-09</td>\n      <td>2020-03-19</td>\n      <td>0</td>\n      <td>30-39</td>\n    </tr>\n    <tr>\n      <th>2</th>\n      <td>Antioquia</td>\n      <td>50</td>\n      <td>F</td>\n      <td>Importado</td>\n      <td>Recuperado</td>\n      <td>Leve</td>\n      <td>2020-02-29</td>\n      <td>-   -</td>\n      <td>2020-03-09</td>\n      <td>2020-03-15</td>\n      <td>0</td>\n      <td>50-59</td>\n    </tr>\n    <tr>\n      <th>3</th>\n      <td>Antioquia</td>\n      <td>55</td>\n      <td>M</td>\n      <td>Relacionado</td>\n      <td>Recuperado</td>\n      <td>Leve</td>\n      <td>2020-03-06</td>\n      <td>-   -</td>\n      <td>2020-03-11</td>\n      <td>2020-03-26</td>\n      <td>0</td>\n      <td>50-59</td>\n    </tr>\n    <tr>\n      <th>4</th>\n      <td>Antioquia</td>\n      <td>25</td>\n      <td>M</td>\n      <td>Relacionado</td>\n      <td>Recuperado</td>\n      <td>Leve</td>\n      <td>2020-03-08</td>\n      <td>-   -</td>\n      <td>2020-03-11</td>\n      <td>2020-03-23</td>\n      <td>0</td>\n      <td>20-29</td>\n    </tr>\n    <tr>\n      <th>...</th>\n      <td>...</td>\n      <td>...</td>\n      <td>...</td>\n      <td>...</td>\n      <td>...</td>\n      <td>...</td>\n      <td>...</td>\n      <td>...</td>\n      <td>...</td>\n      <td>...</td>\n      <td>...</td>\n      <td>...</td>\n    </tr>\n    <tr>\n      <th>25361</th>\n      <td>Buenaventura D.E.</td>\n      <td>48</td>\n      <td>M</td>\n      <td>En estudio</td>\n      <td>Hospital</td>\n      <td>Moderado</td>\n      <td>2020-05-12</td>\n      <td>-   -</td>\n      <td>2020-05-28</td>\n      <td>NaN</td>\n      <td>0</td>\n      <td>40-49</td>\n    </tr>\n    <tr>\n      <th>25362</th>\n      <td>Valle del Cauca</td>\n      <td>55</td>\n      <td>F</td>\n      <td>En estudio</td>\n      <td>Casa</td>\n      <td>Leve</td>\n      <td>2020-05-21</td>\n      <td>/  /</td>\n      <td>2020-05-28</td>\n      <td>NaN</td>\n      <td>0</td>\n      <td>50-59</td>\n    </tr>\n    <tr>\n      <th>25363</th>\n      <td>Buenaventura D.E.</td>\n      <td>39</td>\n      <td>F</td>\n      <td>En estudio</td>\n      <td>Casa</td>\n      <td>Leve</td>\n      <td>2020-05-23</td>\n      <td>/  /</td>\n      <td>2020-05-28</td>\n      <td>NaN</td>\n      <td>0</td>\n      <td>30-39</td>\n    </tr>\n    <tr>\n      <th>25364</th>\n      <td>Valle del Cauca</td>\n      <td>13</td>\n      <td>F</td>\n      <td>En estudio</td>\n      <td>Casa</td>\n      <td>Leve</td>\n      <td>2020-05-13</td>\n      <td>/  /</td>\n      <td>2020-05-28</td>\n      <td>NaN</td>\n      <td>0</td>\n      <td>10-19</td>\n    </tr>\n    <tr>\n      <th>25365</th>\n      <td>Córdoba</td>\n      <td>0</td>\n      <td>F</td>\n      <td>En estudio</td>\n      <td>Hospital</td>\n      <td>Moderado</td>\n      <td>2020-05-11</td>\n      <td>-   -</td>\n      <td>2020-05-28</td>\n      <td>NaN</td>\n      <td>0</td>\n      <td>0-9</td>\n    </tr>\n  </tbody>\n</table>\n<p>25366 rows × 12 columns</p>\n</div>"
     },
     "execution_count": 28,
     "metadata": {},
     "output_type": "execute_result"
    }
   ],
   "source": [
    "## YOUR CODE HERE\n",
    "bins = [0,9, 19, 29, 39,49, 59, 69, 79, 100]\n",
    "labels = [\"0-9\", \"10-19\", \"20-29\", \"30-39\", \"40-49\", \"50-59\", \"60-69\", \"70-79\", \"80+\"]\n",
    "df_CO[\"age\"] = pd.cut(df_CO[\"Edad\"], bins = bins, labels=labels, include_lowest=True)\n",
    "df_CO"
   ]
  },
  {
   "cell_type": "markdown",
   "metadata": {},
   "source": [
    "**Exercise 5. (*1pt*)** Calculate the overall fatality rate for Colombia. That is, calculate $$P(\\text{fatality} = 1 | \\text{country}=\\text{Colombia}).$$ Store your answer in the variable `fatal_CO` as you will need to use this value in the final exercise."
   ]
  },
  {
   "cell_type": "code",
   "execution_count": 29,
   "metadata": {
    "ExecuteTime": {
     "end_time": "2024-02-21T15:40:46.699456Z",
     "start_time": "2024-02-21T15:40:46.669796Z"
    }
   },
   "outputs": [
    {
     "data": {
      "text/plain": "0.03240558227548687"
     },
     "execution_count": 29,
     "metadata": {},
     "output_type": "execute_result"
    }
   ],
   "source": [
    "## YOUR CODE HERE\n",
    "## Since we have a lot of different datatypes that cant really be cleaned with the mapping functions, we just take the sum  of all occurrences in the column that equal one and divide it by the total occurences (I did thi in a bit of a \"workaround\" way, because its easier to understand my thought process that way\n",
    "cleaned_CO = df_CO[\"fatality\"].fillna(0)\n",
    "fatal_CO = (cleaned_CO == 1).sum()\n",
    "surived_CO = (cleaned_CO != 1).sum()\n",
    "fatal_CO = fatal_CO / (surived_CO + fatal_CO)\n",
    "fatal_CO"
   ]
  },
  {
   "cell_type": "markdown",
   "metadata": {
    "id": "PgYgoACl0Z7w"
   },
   "source": [
    "**Exercise 6. (*1pt*)** Calculate the fatality rates for each age group in Colombia. That is, calculate the conditional probabilities for each age group:\n",
    "$$P(\\text{fatality} = 1 | \\text{age}\\in[a,b], \\text{country}=\\text{Colombia}).$$\n",
    "Save the results in a `pd.Series` called `fatality_rates_CO`."
   ]
  },
  {
   "cell_type": "code",
   "execution_count": 41,
   "metadata": {
    "id": "lv6aYGzx18Q7",
    "ExecuteTime": {
     "end_time": "2024-02-21T15:48:23.654807Z",
     "start_time": "2024-02-21T15:48:23.280448Z"
    }
   },
   "outputs": [
    {
     "ename": "TypeError",
     "evalue": "unsupported operand type(s) for +: 'int' and 'str'",
     "output_type": "error",
     "traceback": [
      "\u001B[1;31m---------------------------------------------------------------------------\u001B[0m",
      "\u001B[1;31mNotImplementedError\u001B[0m                       Traceback (most recent call last)",
      "File \u001B[1;32mC:\\ProgramData\\anaconda3\\Lib\\site-packages\\pandas\\core\\groupby\\groupby.py:1490\u001B[0m, in \u001B[0;36mGroupBy._cython_agg_general.<locals>.array_func\u001B[1;34m(values)\u001B[0m\n\u001B[0;32m   1489\u001B[0m \u001B[38;5;28;01mtry\u001B[39;00m:\n\u001B[1;32m-> 1490\u001B[0m     result \u001B[38;5;241m=\u001B[39m \u001B[38;5;28mself\u001B[39m\u001B[38;5;241m.\u001B[39mgrouper\u001B[38;5;241m.\u001B[39m_cython_operation(\n\u001B[0;32m   1491\u001B[0m         \u001B[38;5;124m\"\u001B[39m\u001B[38;5;124maggregate\u001B[39m\u001B[38;5;124m\"\u001B[39m,\n\u001B[0;32m   1492\u001B[0m         values,\n\u001B[0;32m   1493\u001B[0m         how,\n\u001B[0;32m   1494\u001B[0m         axis\u001B[38;5;241m=\u001B[39mdata\u001B[38;5;241m.\u001B[39mndim \u001B[38;5;241m-\u001B[39m \u001B[38;5;241m1\u001B[39m,\n\u001B[0;32m   1495\u001B[0m         min_count\u001B[38;5;241m=\u001B[39mmin_count,\n\u001B[0;32m   1496\u001B[0m         \u001B[38;5;241m*\u001B[39m\u001B[38;5;241m*\u001B[39mkwargs,\n\u001B[0;32m   1497\u001B[0m     )\n\u001B[0;32m   1498\u001B[0m \u001B[38;5;28;01mexcept\u001B[39;00m \u001B[38;5;167;01mNotImplementedError\u001B[39;00m:\n\u001B[0;32m   1499\u001B[0m     \u001B[38;5;66;03m# generally if we have numeric_only=False\u001B[39;00m\n\u001B[0;32m   1500\u001B[0m     \u001B[38;5;66;03m# and non-applicable functions\u001B[39;00m\n\u001B[0;32m   1501\u001B[0m     \u001B[38;5;66;03m# try to python agg\u001B[39;00m\n\u001B[0;32m   1502\u001B[0m     \u001B[38;5;66;03m# TODO: shouldn't min_count matter?\u001B[39;00m\n",
      "File \u001B[1;32mC:\\ProgramData\\anaconda3\\Lib\\site-packages\\pandas\\core\\groupby\\ops.py:959\u001B[0m, in \u001B[0;36mBaseGrouper._cython_operation\u001B[1;34m(self, kind, values, how, axis, min_count, **kwargs)\u001B[0m\n\u001B[0;32m    958\u001B[0m ngroups \u001B[38;5;241m=\u001B[39m \u001B[38;5;28mself\u001B[39m\u001B[38;5;241m.\u001B[39mngroups\n\u001B[1;32m--> 959\u001B[0m \u001B[38;5;28;01mreturn\u001B[39;00m cy_op\u001B[38;5;241m.\u001B[39mcython_operation(\n\u001B[0;32m    960\u001B[0m     values\u001B[38;5;241m=\u001B[39mvalues,\n\u001B[0;32m    961\u001B[0m     axis\u001B[38;5;241m=\u001B[39maxis,\n\u001B[0;32m    962\u001B[0m     min_count\u001B[38;5;241m=\u001B[39mmin_count,\n\u001B[0;32m    963\u001B[0m     comp_ids\u001B[38;5;241m=\u001B[39mids,\n\u001B[0;32m    964\u001B[0m     ngroups\u001B[38;5;241m=\u001B[39mngroups,\n\u001B[0;32m    965\u001B[0m     \u001B[38;5;241m*\u001B[39m\u001B[38;5;241m*\u001B[39mkwargs,\n\u001B[0;32m    966\u001B[0m )\n",
      "File \u001B[1;32mC:\\ProgramData\\anaconda3\\Lib\\site-packages\\pandas\\core\\groupby\\ops.py:657\u001B[0m, in \u001B[0;36mWrappedCythonOp.cython_operation\u001B[1;34m(self, values, axis, min_count, comp_ids, ngroups, **kwargs)\u001B[0m\n\u001B[0;32m    649\u001B[0m     \u001B[38;5;28;01mreturn\u001B[39;00m \u001B[38;5;28mself\u001B[39m\u001B[38;5;241m.\u001B[39m_ea_wrap_cython_operation(\n\u001B[0;32m    650\u001B[0m         values,\n\u001B[0;32m    651\u001B[0m         min_count\u001B[38;5;241m=\u001B[39mmin_count,\n\u001B[1;32m   (...)\u001B[0m\n\u001B[0;32m    654\u001B[0m         \u001B[38;5;241m*\u001B[39m\u001B[38;5;241m*\u001B[39mkwargs,\n\u001B[0;32m    655\u001B[0m     )\n\u001B[1;32m--> 657\u001B[0m \u001B[38;5;28;01mreturn\u001B[39;00m \u001B[38;5;28mself\u001B[39m\u001B[38;5;241m.\u001B[39m_cython_op_ndim_compat(\n\u001B[0;32m    658\u001B[0m     values,\n\u001B[0;32m    659\u001B[0m     min_count\u001B[38;5;241m=\u001B[39mmin_count,\n\u001B[0;32m    660\u001B[0m     ngroups\u001B[38;5;241m=\u001B[39mngroups,\n\u001B[0;32m    661\u001B[0m     comp_ids\u001B[38;5;241m=\u001B[39mcomp_ids,\n\u001B[0;32m    662\u001B[0m     mask\u001B[38;5;241m=\u001B[39m\u001B[38;5;28;01mNone\u001B[39;00m,\n\u001B[0;32m    663\u001B[0m     \u001B[38;5;241m*\u001B[39m\u001B[38;5;241m*\u001B[39mkwargs,\n\u001B[0;32m    664\u001B[0m )\n",
      "File \u001B[1;32mC:\\ProgramData\\anaconda3\\Lib\\site-packages\\pandas\\core\\groupby\\ops.py:482\u001B[0m, in \u001B[0;36mWrappedCythonOp._cython_op_ndim_compat\u001B[1;34m(self, values, min_count, ngroups, comp_ids, mask, result_mask, **kwargs)\u001B[0m\n\u001B[0;32m    481\u001B[0m     result_mask \u001B[38;5;241m=\u001B[39m result_mask[\u001B[38;5;28;01mNone\u001B[39;00m, :]\n\u001B[1;32m--> 482\u001B[0m res \u001B[38;5;241m=\u001B[39m \u001B[38;5;28mself\u001B[39m\u001B[38;5;241m.\u001B[39m_call_cython_op(\n\u001B[0;32m    483\u001B[0m     values2d,\n\u001B[0;32m    484\u001B[0m     min_count\u001B[38;5;241m=\u001B[39mmin_count,\n\u001B[0;32m    485\u001B[0m     ngroups\u001B[38;5;241m=\u001B[39mngroups,\n\u001B[0;32m    486\u001B[0m     comp_ids\u001B[38;5;241m=\u001B[39mcomp_ids,\n\u001B[0;32m    487\u001B[0m     mask\u001B[38;5;241m=\u001B[39mmask,\n\u001B[0;32m    488\u001B[0m     result_mask\u001B[38;5;241m=\u001B[39mresult_mask,\n\u001B[0;32m    489\u001B[0m     \u001B[38;5;241m*\u001B[39m\u001B[38;5;241m*\u001B[39mkwargs,\n\u001B[0;32m    490\u001B[0m )\n\u001B[0;32m    491\u001B[0m \u001B[38;5;28;01mif\u001B[39;00m res\u001B[38;5;241m.\u001B[39mshape[\u001B[38;5;241m0\u001B[39m] \u001B[38;5;241m==\u001B[39m \u001B[38;5;241m1\u001B[39m:\n",
      "File \u001B[1;32mC:\\ProgramData\\anaconda3\\Lib\\site-packages\\pandas\\core\\groupby\\ops.py:541\u001B[0m, in \u001B[0;36mWrappedCythonOp._call_cython_op\u001B[1;34m(self, values, min_count, ngroups, comp_ids, mask, result_mask, **kwargs)\u001B[0m\n\u001B[0;32m    540\u001B[0m out_shape \u001B[38;5;241m=\u001B[39m \u001B[38;5;28mself\u001B[39m\u001B[38;5;241m.\u001B[39m_get_output_shape(ngroups, values)\n\u001B[1;32m--> 541\u001B[0m func \u001B[38;5;241m=\u001B[39m \u001B[38;5;28mself\u001B[39m\u001B[38;5;241m.\u001B[39m_get_cython_function(\u001B[38;5;28mself\u001B[39m\u001B[38;5;241m.\u001B[39mkind, \u001B[38;5;28mself\u001B[39m\u001B[38;5;241m.\u001B[39mhow, values\u001B[38;5;241m.\u001B[39mdtype, is_numeric)\n\u001B[0;32m    542\u001B[0m values \u001B[38;5;241m=\u001B[39m \u001B[38;5;28mself\u001B[39m\u001B[38;5;241m.\u001B[39m_get_cython_vals(values)\n",
      "File \u001B[1;32mC:\\ProgramData\\anaconda3\\Lib\\site-packages\\pandas\\core\\groupby\\ops.py:173\u001B[0m, in \u001B[0;36mWrappedCythonOp._get_cython_function\u001B[1;34m(cls, kind, how, dtype, is_numeric)\u001B[0m\n\u001B[0;32m    171\u001B[0m \u001B[38;5;28;01mif\u001B[39;00m \u001B[38;5;124m\"\u001B[39m\u001B[38;5;124mobject\u001B[39m\u001B[38;5;124m\"\u001B[39m \u001B[38;5;129;01mnot\u001B[39;00m \u001B[38;5;129;01min\u001B[39;00m f\u001B[38;5;241m.\u001B[39m__signatures__:\n\u001B[0;32m    172\u001B[0m     \u001B[38;5;66;03m# raise NotImplementedError here rather than TypeError later\u001B[39;00m\n\u001B[1;32m--> 173\u001B[0m     \u001B[38;5;28;01mraise\u001B[39;00m \u001B[38;5;167;01mNotImplementedError\u001B[39;00m(\n\u001B[0;32m    174\u001B[0m         \u001B[38;5;124mf\u001B[39m\u001B[38;5;124m\"\u001B[39m\u001B[38;5;124mfunction is not implemented for this dtype: \u001B[39m\u001B[38;5;124m\"\u001B[39m\n\u001B[0;32m    175\u001B[0m         \u001B[38;5;124mf\u001B[39m\u001B[38;5;124m\"\u001B[39m\u001B[38;5;124m[how->\u001B[39m\u001B[38;5;132;01m{\u001B[39;00mhow\u001B[38;5;132;01m}\u001B[39;00m\u001B[38;5;124m,dtype->\u001B[39m\u001B[38;5;132;01m{\u001B[39;00mdtype_str\u001B[38;5;132;01m}\u001B[39;00m\u001B[38;5;124m]\u001B[39m\u001B[38;5;124m\"\u001B[39m\n\u001B[0;32m    176\u001B[0m     )\n\u001B[0;32m    177\u001B[0m \u001B[38;5;28;01mreturn\u001B[39;00m f\n",
      "\u001B[1;31mNotImplementedError\u001B[0m: function is not implemented for this dtype: [how->mean,dtype->object]",
      "\nDuring handling of the above exception, another exception occurred:\n",
      "\u001B[1;31mTypeError\u001B[0m                                 Traceback (most recent call last)",
      "Cell \u001B[1;32mIn[41], line 5\u001B[0m\n\u001B[0;32m      1\u001B[0m \u001B[38;5;66;03m## YOUR CODE HERE\u001B[39;00m\n\u001B[0;32m      2\u001B[0m \u001B[38;5;66;03m## Calculate the sum per age group\u001B[39;00m\n\u001B[0;32m      3\u001B[0m grouped_CO \u001B[38;5;241m=\u001B[39m df_CO\u001B[38;5;241m.\u001B[39mgroupby(\u001B[38;5;124m\"\u001B[39m\u001B[38;5;124mage\u001B[39m\u001B[38;5;124m\"\u001B[39m)\n\u001B[1;32m----> 5\u001B[0m fatality_rates_CO \u001B[38;5;241m=\u001B[39m grouped_CO[\u001B[38;5;124m\"\u001B[39m\u001B[38;5;124mfatality\u001B[39m\u001B[38;5;124m\"\u001B[39m]\u001B[38;5;241m.\u001B[39mmean()\n\u001B[0;32m      6\u001B[0m fatality_rates_CO\n",
      "File \u001B[1;32mC:\\ProgramData\\anaconda3\\Lib\\site-packages\\pandas\\core\\groupby\\groupby.py:1855\u001B[0m, in \u001B[0;36mGroupBy.mean\u001B[1;34m(self, numeric_only, engine, engine_kwargs)\u001B[0m\n\u001B[0;32m   1853\u001B[0m     \u001B[38;5;28;01mreturn\u001B[39;00m \u001B[38;5;28mself\u001B[39m\u001B[38;5;241m.\u001B[39m_numba_agg_general(sliding_mean, engine_kwargs)\n\u001B[0;32m   1854\u001B[0m \u001B[38;5;28;01melse\u001B[39;00m:\n\u001B[1;32m-> 1855\u001B[0m     result \u001B[38;5;241m=\u001B[39m \u001B[38;5;28mself\u001B[39m\u001B[38;5;241m.\u001B[39m_cython_agg_general(\n\u001B[0;32m   1856\u001B[0m         \u001B[38;5;124m\"\u001B[39m\u001B[38;5;124mmean\u001B[39m\u001B[38;5;124m\"\u001B[39m,\n\u001B[0;32m   1857\u001B[0m         alt\u001B[38;5;241m=\u001B[39m\u001B[38;5;28;01mlambda\u001B[39;00m x: Series(x)\u001B[38;5;241m.\u001B[39mmean(numeric_only\u001B[38;5;241m=\u001B[39mnumeric_only),\n\u001B[0;32m   1858\u001B[0m         numeric_only\u001B[38;5;241m=\u001B[39mnumeric_only,\n\u001B[0;32m   1859\u001B[0m     )\n\u001B[0;32m   1860\u001B[0m     \u001B[38;5;28;01mreturn\u001B[39;00m result\u001B[38;5;241m.\u001B[39m__finalize__(\u001B[38;5;28mself\u001B[39m\u001B[38;5;241m.\u001B[39mobj, method\u001B[38;5;241m=\u001B[39m\u001B[38;5;124m\"\u001B[39m\u001B[38;5;124mgroupby\u001B[39m\u001B[38;5;124m\"\u001B[39m)\n",
      "File \u001B[1;32mC:\\ProgramData\\anaconda3\\Lib\\site-packages\\pandas\\core\\groupby\\groupby.py:1507\u001B[0m, in \u001B[0;36mGroupBy._cython_agg_general\u001B[1;34m(self, how, alt, numeric_only, min_count, **kwargs)\u001B[0m\n\u001B[0;32m   1503\u001B[0m         result \u001B[38;5;241m=\u001B[39m \u001B[38;5;28mself\u001B[39m\u001B[38;5;241m.\u001B[39m_agg_py_fallback(values, ndim\u001B[38;5;241m=\u001B[39mdata\u001B[38;5;241m.\u001B[39mndim, alt\u001B[38;5;241m=\u001B[39malt)\n\u001B[0;32m   1505\u001B[0m     \u001B[38;5;28;01mreturn\u001B[39;00m result\n\u001B[1;32m-> 1507\u001B[0m new_mgr \u001B[38;5;241m=\u001B[39m data\u001B[38;5;241m.\u001B[39mgrouped_reduce(array_func)\n\u001B[0;32m   1508\u001B[0m res \u001B[38;5;241m=\u001B[39m \u001B[38;5;28mself\u001B[39m\u001B[38;5;241m.\u001B[39m_wrap_agged_manager(new_mgr)\n\u001B[0;32m   1509\u001B[0m out \u001B[38;5;241m=\u001B[39m \u001B[38;5;28mself\u001B[39m\u001B[38;5;241m.\u001B[39m_wrap_aggregated_output(res)\n",
      "File \u001B[1;32mC:\\ProgramData\\anaconda3\\Lib\\site-packages\\pandas\\core\\internals\\base.py:197\u001B[0m, in \u001B[0;36mSingleDataManager.grouped_reduce\u001B[1;34m(self, func)\u001B[0m\n\u001B[0;32m    195\u001B[0m \u001B[38;5;28;01mdef\u001B[39;00m \u001B[38;5;21mgrouped_reduce\u001B[39m(\u001B[38;5;28mself\u001B[39m, func):\n\u001B[0;32m    196\u001B[0m     arr \u001B[38;5;241m=\u001B[39m \u001B[38;5;28mself\u001B[39m\u001B[38;5;241m.\u001B[39marray\n\u001B[1;32m--> 197\u001B[0m     res \u001B[38;5;241m=\u001B[39m func(arr)\n\u001B[0;32m    198\u001B[0m     index \u001B[38;5;241m=\u001B[39m default_index(\u001B[38;5;28mlen\u001B[39m(res))\n\u001B[0;32m    200\u001B[0m     mgr \u001B[38;5;241m=\u001B[39m \u001B[38;5;28mtype\u001B[39m(\u001B[38;5;28mself\u001B[39m)\u001B[38;5;241m.\u001B[39mfrom_array(res, index)\n",
      "File \u001B[1;32mC:\\ProgramData\\anaconda3\\Lib\\site-packages\\pandas\\core\\groupby\\groupby.py:1503\u001B[0m, in \u001B[0;36mGroupBy._cython_agg_general.<locals>.array_func\u001B[1;34m(values)\u001B[0m\n\u001B[0;32m   1490\u001B[0m     result \u001B[38;5;241m=\u001B[39m \u001B[38;5;28mself\u001B[39m\u001B[38;5;241m.\u001B[39mgrouper\u001B[38;5;241m.\u001B[39m_cython_operation(\n\u001B[0;32m   1491\u001B[0m         \u001B[38;5;124m\"\u001B[39m\u001B[38;5;124maggregate\u001B[39m\u001B[38;5;124m\"\u001B[39m,\n\u001B[0;32m   1492\u001B[0m         values,\n\u001B[1;32m   (...)\u001B[0m\n\u001B[0;32m   1496\u001B[0m         \u001B[38;5;241m*\u001B[39m\u001B[38;5;241m*\u001B[39mkwargs,\n\u001B[0;32m   1497\u001B[0m     )\n\u001B[0;32m   1498\u001B[0m \u001B[38;5;28;01mexcept\u001B[39;00m \u001B[38;5;167;01mNotImplementedError\u001B[39;00m:\n\u001B[0;32m   1499\u001B[0m     \u001B[38;5;66;03m# generally if we have numeric_only=False\u001B[39;00m\n\u001B[0;32m   1500\u001B[0m     \u001B[38;5;66;03m# and non-applicable functions\u001B[39;00m\n\u001B[0;32m   1501\u001B[0m     \u001B[38;5;66;03m# try to python agg\u001B[39;00m\n\u001B[0;32m   1502\u001B[0m     \u001B[38;5;66;03m# TODO: shouldn't min_count matter?\u001B[39;00m\n\u001B[1;32m-> 1503\u001B[0m     result \u001B[38;5;241m=\u001B[39m \u001B[38;5;28mself\u001B[39m\u001B[38;5;241m.\u001B[39m_agg_py_fallback(values, ndim\u001B[38;5;241m=\u001B[39mdata\u001B[38;5;241m.\u001B[39mndim, alt\u001B[38;5;241m=\u001B[39malt)\n\u001B[0;32m   1505\u001B[0m \u001B[38;5;28;01mreturn\u001B[39;00m result\n",
      "File \u001B[1;32mC:\\ProgramData\\anaconda3\\Lib\\site-packages\\pandas\\core\\groupby\\groupby.py:1457\u001B[0m, in \u001B[0;36mGroupBy._agg_py_fallback\u001B[1;34m(self, values, ndim, alt)\u001B[0m\n\u001B[0;32m   1452\u001B[0m     ser \u001B[38;5;241m=\u001B[39m df\u001B[38;5;241m.\u001B[39miloc[:, \u001B[38;5;241m0\u001B[39m]\n\u001B[0;32m   1454\u001B[0m \u001B[38;5;66;03m# We do not get here with UDFs, so we know that our dtype\u001B[39;00m\n\u001B[0;32m   1455\u001B[0m \u001B[38;5;66;03m#  should always be preserved by the implemented aggregations\u001B[39;00m\n\u001B[0;32m   1456\u001B[0m \u001B[38;5;66;03m# TODO: Is this exactly right; see WrappedCythonOp get_result_dtype?\u001B[39;00m\n\u001B[1;32m-> 1457\u001B[0m res_values \u001B[38;5;241m=\u001B[39m \u001B[38;5;28mself\u001B[39m\u001B[38;5;241m.\u001B[39mgrouper\u001B[38;5;241m.\u001B[39magg_series(ser, alt, preserve_dtype\u001B[38;5;241m=\u001B[39m\u001B[38;5;28;01mTrue\u001B[39;00m)\n\u001B[0;32m   1459\u001B[0m \u001B[38;5;28;01mif\u001B[39;00m \u001B[38;5;28misinstance\u001B[39m(values, Categorical):\n\u001B[0;32m   1460\u001B[0m     \u001B[38;5;66;03m# Because we only get here with known dtype-preserving\u001B[39;00m\n\u001B[0;32m   1461\u001B[0m     \u001B[38;5;66;03m#  reductions, we cast back to Categorical.\u001B[39;00m\n\u001B[0;32m   1462\u001B[0m     \u001B[38;5;66;03m# TODO: if we ever get \"rank\" working, exclude it here.\u001B[39;00m\n\u001B[0;32m   1463\u001B[0m     res_values \u001B[38;5;241m=\u001B[39m \u001B[38;5;28mtype\u001B[39m(values)\u001B[38;5;241m.\u001B[39m_from_sequence(res_values, dtype\u001B[38;5;241m=\u001B[39mvalues\u001B[38;5;241m.\u001B[39mdtype)\n",
      "File \u001B[1;32mC:\\ProgramData\\anaconda3\\Lib\\site-packages\\pandas\\core\\groupby\\ops.py:994\u001B[0m, in \u001B[0;36mBaseGrouper.agg_series\u001B[1;34m(self, obj, func, preserve_dtype)\u001B[0m\n\u001B[0;32m    987\u001B[0m \u001B[38;5;28;01mif\u001B[39;00m \u001B[38;5;28mlen\u001B[39m(obj) \u001B[38;5;241m>\u001B[39m \u001B[38;5;241m0\u001B[39m \u001B[38;5;129;01mand\u001B[39;00m \u001B[38;5;129;01mnot\u001B[39;00m \u001B[38;5;28misinstance\u001B[39m(obj\u001B[38;5;241m.\u001B[39m_values, np\u001B[38;5;241m.\u001B[39mndarray):\n\u001B[0;32m    988\u001B[0m     \u001B[38;5;66;03m# we can preserve a little bit more aggressively with EA dtype\u001B[39;00m\n\u001B[0;32m    989\u001B[0m     \u001B[38;5;66;03m#  because maybe_cast_pointwise_result will do a try/except\u001B[39;00m\n\u001B[0;32m    990\u001B[0m     \u001B[38;5;66;03m#  with _from_sequence.  NB we are assuming here that _from_sequence\u001B[39;00m\n\u001B[0;32m    991\u001B[0m     \u001B[38;5;66;03m#  is sufficiently strict that it casts appropriately.\u001B[39;00m\n\u001B[0;32m    992\u001B[0m     preserve_dtype \u001B[38;5;241m=\u001B[39m \u001B[38;5;28;01mTrue\u001B[39;00m\n\u001B[1;32m--> 994\u001B[0m result \u001B[38;5;241m=\u001B[39m \u001B[38;5;28mself\u001B[39m\u001B[38;5;241m.\u001B[39m_aggregate_series_pure_python(obj, func)\n\u001B[0;32m    996\u001B[0m npvalues \u001B[38;5;241m=\u001B[39m lib\u001B[38;5;241m.\u001B[39mmaybe_convert_objects(result, try_float\u001B[38;5;241m=\u001B[39m\u001B[38;5;28;01mFalse\u001B[39;00m)\n\u001B[0;32m    997\u001B[0m \u001B[38;5;28;01mif\u001B[39;00m preserve_dtype:\n",
      "File \u001B[1;32mC:\\ProgramData\\anaconda3\\Lib\\site-packages\\pandas\\core\\groupby\\ops.py:1015\u001B[0m, in \u001B[0;36mBaseGrouper._aggregate_series_pure_python\u001B[1;34m(self, obj, func)\u001B[0m\n\u001B[0;32m   1012\u001B[0m splitter \u001B[38;5;241m=\u001B[39m \u001B[38;5;28mself\u001B[39m\u001B[38;5;241m.\u001B[39m_get_splitter(obj, axis\u001B[38;5;241m=\u001B[39m\u001B[38;5;241m0\u001B[39m)\n\u001B[0;32m   1014\u001B[0m \u001B[38;5;28;01mfor\u001B[39;00m i, group \u001B[38;5;129;01min\u001B[39;00m \u001B[38;5;28menumerate\u001B[39m(splitter):\n\u001B[1;32m-> 1015\u001B[0m     res \u001B[38;5;241m=\u001B[39m func(group)\n\u001B[0;32m   1016\u001B[0m     res \u001B[38;5;241m=\u001B[39m libreduction\u001B[38;5;241m.\u001B[39mextract_result(res)\n\u001B[0;32m   1018\u001B[0m     \u001B[38;5;28;01mif\u001B[39;00m \u001B[38;5;129;01mnot\u001B[39;00m initialized:\n\u001B[0;32m   1019\u001B[0m         \u001B[38;5;66;03m# We only do this validation on the first iteration\u001B[39;00m\n",
      "File \u001B[1;32mC:\\ProgramData\\anaconda3\\Lib\\site-packages\\pandas\\core\\groupby\\groupby.py:1857\u001B[0m, in \u001B[0;36mGroupBy.mean.<locals>.<lambda>\u001B[1;34m(x)\u001B[0m\n\u001B[0;32m   1853\u001B[0m     \u001B[38;5;28;01mreturn\u001B[39;00m \u001B[38;5;28mself\u001B[39m\u001B[38;5;241m.\u001B[39m_numba_agg_general(sliding_mean, engine_kwargs)\n\u001B[0;32m   1854\u001B[0m \u001B[38;5;28;01melse\u001B[39;00m:\n\u001B[0;32m   1855\u001B[0m     result \u001B[38;5;241m=\u001B[39m \u001B[38;5;28mself\u001B[39m\u001B[38;5;241m.\u001B[39m_cython_agg_general(\n\u001B[0;32m   1856\u001B[0m         \u001B[38;5;124m\"\u001B[39m\u001B[38;5;124mmean\u001B[39m\u001B[38;5;124m\"\u001B[39m,\n\u001B[1;32m-> 1857\u001B[0m         alt\u001B[38;5;241m=\u001B[39m\u001B[38;5;28;01mlambda\u001B[39;00m x: Series(x)\u001B[38;5;241m.\u001B[39mmean(numeric_only\u001B[38;5;241m=\u001B[39mnumeric_only),\n\u001B[0;32m   1858\u001B[0m         numeric_only\u001B[38;5;241m=\u001B[39mnumeric_only,\n\u001B[0;32m   1859\u001B[0m     )\n\u001B[0;32m   1860\u001B[0m     \u001B[38;5;28;01mreturn\u001B[39;00m result\u001B[38;5;241m.\u001B[39m__finalize__(\u001B[38;5;28mself\u001B[39m\u001B[38;5;241m.\u001B[39mobj, method\u001B[38;5;241m=\u001B[39m\u001B[38;5;124m\"\u001B[39m\u001B[38;5;124mgroupby\u001B[39m\u001B[38;5;124m\"\u001B[39m)\n",
      "File \u001B[1;32mC:\\ProgramData\\anaconda3\\Lib\\site-packages\\pandas\\core\\generic.py:11556\u001B[0m, in \u001B[0;36mNDFrame._add_numeric_operations.<locals>.mean\u001B[1;34m(self, axis, skipna, numeric_only, **kwargs)\u001B[0m\n\u001B[0;32m  11539\u001B[0m \u001B[38;5;129m@doc\u001B[39m(\n\u001B[0;32m  11540\u001B[0m     _num_doc,\n\u001B[0;32m  11541\u001B[0m     desc\u001B[38;5;241m=\u001B[39m\u001B[38;5;124m\"\u001B[39m\u001B[38;5;124mReturn the mean of the values over the requested axis.\u001B[39m\u001B[38;5;124m\"\u001B[39m,\n\u001B[1;32m   (...)\u001B[0m\n\u001B[0;32m  11554\u001B[0m     \u001B[38;5;241m*\u001B[39m\u001B[38;5;241m*\u001B[39mkwargs,\n\u001B[0;32m  11555\u001B[0m ):\n\u001B[1;32m> 11556\u001B[0m     \u001B[38;5;28;01mreturn\u001B[39;00m NDFrame\u001B[38;5;241m.\u001B[39mmean(\u001B[38;5;28mself\u001B[39m, axis, skipna, numeric_only, \u001B[38;5;241m*\u001B[39m\u001B[38;5;241m*\u001B[39mkwargs)\n",
      "File \u001B[1;32mC:\\ProgramData\\anaconda3\\Lib\\site-packages\\pandas\\core\\generic.py:11201\u001B[0m, in \u001B[0;36mNDFrame.mean\u001B[1;34m(self, axis, skipna, numeric_only, **kwargs)\u001B[0m\n\u001B[0;32m  11194\u001B[0m \u001B[38;5;28;01mdef\u001B[39;00m \u001B[38;5;21mmean\u001B[39m(\n\u001B[0;32m  11195\u001B[0m     \u001B[38;5;28mself\u001B[39m,\n\u001B[0;32m  11196\u001B[0m     axis: Axis \u001B[38;5;241m|\u001B[39m \u001B[38;5;28;01mNone\u001B[39;00m \u001B[38;5;241m=\u001B[39m \u001B[38;5;241m0\u001B[39m,\n\u001B[1;32m   (...)\u001B[0m\n\u001B[0;32m  11199\u001B[0m     \u001B[38;5;241m*\u001B[39m\u001B[38;5;241m*\u001B[39mkwargs,\n\u001B[0;32m  11200\u001B[0m ) \u001B[38;5;241m-\u001B[39m\u001B[38;5;241m>\u001B[39m Series \u001B[38;5;241m|\u001B[39m \u001B[38;5;28mfloat\u001B[39m:\n\u001B[1;32m> 11201\u001B[0m     \u001B[38;5;28;01mreturn\u001B[39;00m \u001B[38;5;28mself\u001B[39m\u001B[38;5;241m.\u001B[39m_stat_function(\n\u001B[0;32m  11202\u001B[0m         \u001B[38;5;124m\"\u001B[39m\u001B[38;5;124mmean\u001B[39m\u001B[38;5;124m\"\u001B[39m, nanops\u001B[38;5;241m.\u001B[39mnanmean, axis, skipna, numeric_only, \u001B[38;5;241m*\u001B[39m\u001B[38;5;241m*\u001B[39mkwargs\n\u001B[0;32m  11203\u001B[0m     )\n",
      "File \u001B[1;32mC:\\ProgramData\\anaconda3\\Lib\\site-packages\\pandas\\core\\generic.py:11158\u001B[0m, in \u001B[0;36mNDFrame._stat_function\u001B[1;34m(self, name, func, axis, skipna, numeric_only, **kwargs)\u001B[0m\n\u001B[0;32m  11154\u001B[0m     nv\u001B[38;5;241m.\u001B[39mvalidate_stat_func((), kwargs, fname\u001B[38;5;241m=\u001B[39mname)\n\u001B[0;32m  11156\u001B[0m validate_bool_kwarg(skipna, \u001B[38;5;124m\"\u001B[39m\u001B[38;5;124mskipna\u001B[39m\u001B[38;5;124m\"\u001B[39m, none_allowed\u001B[38;5;241m=\u001B[39m\u001B[38;5;28;01mFalse\u001B[39;00m)\n\u001B[1;32m> 11158\u001B[0m \u001B[38;5;28;01mreturn\u001B[39;00m \u001B[38;5;28mself\u001B[39m\u001B[38;5;241m.\u001B[39m_reduce(\n\u001B[0;32m  11159\u001B[0m     func, name\u001B[38;5;241m=\u001B[39mname, axis\u001B[38;5;241m=\u001B[39maxis, skipna\u001B[38;5;241m=\u001B[39mskipna, numeric_only\u001B[38;5;241m=\u001B[39mnumeric_only\n\u001B[0;32m  11160\u001B[0m )\n",
      "File \u001B[1;32mC:\\ProgramData\\anaconda3\\Lib\\site-packages\\pandas\\core\\series.py:4670\u001B[0m, in \u001B[0;36mSeries._reduce\u001B[1;34m(self, op, name, axis, skipna, numeric_only, filter_type, **kwds)\u001B[0m\n\u001B[0;32m   4665\u001B[0m     \u001B[38;5;28;01mraise\u001B[39;00m \u001B[38;5;167;01mTypeError\u001B[39;00m(\n\u001B[0;32m   4666\u001B[0m         \u001B[38;5;124mf\u001B[39m\u001B[38;5;124m\"\u001B[39m\u001B[38;5;124mSeries.\u001B[39m\u001B[38;5;132;01m{\u001B[39;00mname\u001B[38;5;132;01m}\u001B[39;00m\u001B[38;5;124m does not allow \u001B[39m\u001B[38;5;132;01m{\u001B[39;00mkwd_name\u001B[38;5;132;01m}\u001B[39;00m\u001B[38;5;124m=\u001B[39m\u001B[38;5;132;01m{\u001B[39;00mnumeric_only\u001B[38;5;132;01m}\u001B[39;00m\u001B[38;5;124m \u001B[39m\u001B[38;5;124m\"\u001B[39m\n\u001B[0;32m   4667\u001B[0m         \u001B[38;5;124m\"\u001B[39m\u001B[38;5;124mwith non-numeric dtypes.\u001B[39m\u001B[38;5;124m\"\u001B[39m\n\u001B[0;32m   4668\u001B[0m     )\n\u001B[0;32m   4669\u001B[0m \u001B[38;5;28;01mwith\u001B[39;00m np\u001B[38;5;241m.\u001B[39merrstate(\u001B[38;5;28mall\u001B[39m\u001B[38;5;241m=\u001B[39m\u001B[38;5;124m\"\u001B[39m\u001B[38;5;124mignore\u001B[39m\u001B[38;5;124m\"\u001B[39m):\n\u001B[1;32m-> 4670\u001B[0m     \u001B[38;5;28;01mreturn\u001B[39;00m op(delegate, skipna\u001B[38;5;241m=\u001B[39mskipna, \u001B[38;5;241m*\u001B[39m\u001B[38;5;241m*\u001B[39mkwds)\n",
      "File \u001B[1;32mC:\\ProgramData\\anaconda3\\Lib\\site-packages\\pandas\\core\\nanops.py:96\u001B[0m, in \u001B[0;36mdisallow.__call__.<locals>._f\u001B[1;34m(*args, **kwargs)\u001B[0m\n\u001B[0;32m     94\u001B[0m \u001B[38;5;28;01mtry\u001B[39;00m:\n\u001B[0;32m     95\u001B[0m     \u001B[38;5;28;01mwith\u001B[39;00m np\u001B[38;5;241m.\u001B[39merrstate(invalid\u001B[38;5;241m=\u001B[39m\u001B[38;5;124m\"\u001B[39m\u001B[38;5;124mignore\u001B[39m\u001B[38;5;124m\"\u001B[39m):\n\u001B[1;32m---> 96\u001B[0m         \u001B[38;5;28;01mreturn\u001B[39;00m f(\u001B[38;5;241m*\u001B[39margs, \u001B[38;5;241m*\u001B[39m\u001B[38;5;241m*\u001B[39mkwargs)\n\u001B[0;32m     97\u001B[0m \u001B[38;5;28;01mexcept\u001B[39;00m \u001B[38;5;167;01mValueError\u001B[39;00m \u001B[38;5;28;01mas\u001B[39;00m e:\n\u001B[0;32m     98\u001B[0m     \u001B[38;5;66;03m# we want to transform an object array\u001B[39;00m\n\u001B[0;32m     99\u001B[0m     \u001B[38;5;66;03m# ValueError message to the more typical TypeError\u001B[39;00m\n\u001B[0;32m    100\u001B[0m     \u001B[38;5;66;03m# e.g. this is normally a disallowed function on\u001B[39;00m\n\u001B[0;32m    101\u001B[0m     \u001B[38;5;66;03m# object arrays that contain strings\u001B[39;00m\n\u001B[0;32m    102\u001B[0m     \u001B[38;5;28;01mif\u001B[39;00m is_object_dtype(args[\u001B[38;5;241m0\u001B[39m]):\n",
      "File \u001B[1;32mC:\\ProgramData\\anaconda3\\Lib\\site-packages\\pandas\\core\\nanops.py:158\u001B[0m, in \u001B[0;36mbottleneck_switch.__call__.<locals>.f\u001B[1;34m(values, axis, skipna, **kwds)\u001B[0m\n\u001B[0;32m    156\u001B[0m         result \u001B[38;5;241m=\u001B[39m alt(values, axis\u001B[38;5;241m=\u001B[39maxis, skipna\u001B[38;5;241m=\u001B[39mskipna, \u001B[38;5;241m*\u001B[39m\u001B[38;5;241m*\u001B[39mkwds)\n\u001B[0;32m    157\u001B[0m \u001B[38;5;28;01melse\u001B[39;00m:\n\u001B[1;32m--> 158\u001B[0m     result \u001B[38;5;241m=\u001B[39m alt(values, axis\u001B[38;5;241m=\u001B[39maxis, skipna\u001B[38;5;241m=\u001B[39mskipna, \u001B[38;5;241m*\u001B[39m\u001B[38;5;241m*\u001B[39mkwds)\n\u001B[0;32m    160\u001B[0m \u001B[38;5;28;01mreturn\u001B[39;00m result\n",
      "File \u001B[1;32mC:\\ProgramData\\anaconda3\\Lib\\site-packages\\pandas\\core\\nanops.py:421\u001B[0m, in \u001B[0;36m_datetimelike_compat.<locals>.new_func\u001B[1;34m(values, axis, skipna, mask, **kwargs)\u001B[0m\n\u001B[0;32m    418\u001B[0m \u001B[38;5;28;01mif\u001B[39;00m datetimelike \u001B[38;5;129;01mand\u001B[39;00m mask \u001B[38;5;129;01mis\u001B[39;00m \u001B[38;5;28;01mNone\u001B[39;00m:\n\u001B[0;32m    419\u001B[0m     mask \u001B[38;5;241m=\u001B[39m isna(values)\n\u001B[1;32m--> 421\u001B[0m result \u001B[38;5;241m=\u001B[39m func(values, axis\u001B[38;5;241m=\u001B[39maxis, skipna\u001B[38;5;241m=\u001B[39mskipna, mask\u001B[38;5;241m=\u001B[39mmask, \u001B[38;5;241m*\u001B[39m\u001B[38;5;241m*\u001B[39mkwargs)\n\u001B[0;32m    423\u001B[0m \u001B[38;5;28;01mif\u001B[39;00m datetimelike:\n\u001B[0;32m    424\u001B[0m     result \u001B[38;5;241m=\u001B[39m _wrap_results(result, orig_values\u001B[38;5;241m.\u001B[39mdtype, fill_value\u001B[38;5;241m=\u001B[39miNaT)\n",
      "File \u001B[1;32mC:\\ProgramData\\anaconda3\\Lib\\site-packages\\pandas\\core\\nanops.py:727\u001B[0m, in \u001B[0;36mnanmean\u001B[1;34m(values, axis, skipna, mask)\u001B[0m\n\u001B[0;32m    724\u001B[0m     dtype_count \u001B[38;5;241m=\u001B[39m dtype\n\u001B[0;32m    726\u001B[0m count \u001B[38;5;241m=\u001B[39m _get_counts(values\u001B[38;5;241m.\u001B[39mshape, mask, axis, dtype\u001B[38;5;241m=\u001B[39mdtype_count)\n\u001B[1;32m--> 727\u001B[0m the_sum \u001B[38;5;241m=\u001B[39m _ensure_numeric(values\u001B[38;5;241m.\u001B[39msum(axis, dtype\u001B[38;5;241m=\u001B[39mdtype_sum))\n\u001B[0;32m    729\u001B[0m \u001B[38;5;28;01mif\u001B[39;00m axis \u001B[38;5;129;01mis\u001B[39;00m \u001B[38;5;129;01mnot\u001B[39;00m \u001B[38;5;28;01mNone\u001B[39;00m \u001B[38;5;129;01mand\u001B[39;00m \u001B[38;5;28mgetattr\u001B[39m(the_sum, \u001B[38;5;124m\"\u001B[39m\u001B[38;5;124mndim\u001B[39m\u001B[38;5;124m\"\u001B[39m, \u001B[38;5;28;01mFalse\u001B[39;00m):\n\u001B[0;32m    730\u001B[0m     count \u001B[38;5;241m=\u001B[39m cast(np\u001B[38;5;241m.\u001B[39mndarray, count)\n",
      "File \u001B[1;32mC:\\ProgramData\\anaconda3\\Lib\\site-packages\\numpy\\core\\_methods.py:49\u001B[0m, in \u001B[0;36m_sum\u001B[1;34m(a, axis, dtype, out, keepdims, initial, where)\u001B[0m\n\u001B[0;32m     47\u001B[0m \u001B[38;5;28;01mdef\u001B[39;00m \u001B[38;5;21m_sum\u001B[39m(a, axis\u001B[38;5;241m=\u001B[39m\u001B[38;5;28;01mNone\u001B[39;00m, dtype\u001B[38;5;241m=\u001B[39m\u001B[38;5;28;01mNone\u001B[39;00m, out\u001B[38;5;241m=\u001B[39m\u001B[38;5;28;01mNone\u001B[39;00m, keepdims\u001B[38;5;241m=\u001B[39m\u001B[38;5;28;01mFalse\u001B[39;00m,\n\u001B[0;32m     48\u001B[0m          initial\u001B[38;5;241m=\u001B[39m_NoValue, where\u001B[38;5;241m=\u001B[39m\u001B[38;5;28;01mTrue\u001B[39;00m):\n\u001B[1;32m---> 49\u001B[0m     \u001B[38;5;28;01mreturn\u001B[39;00m umr_sum(a, axis, dtype, out, keepdims, initial, where)\n",
      "\u001B[1;31mTypeError\u001B[0m: unsupported operand type(s) for +: 'int' and 'str'"
     ]
    }
   ],
   "source": [
    "## YOUR CODE HERE\n",
    "## Calculate the sum per age group\n",
    "grouped_CO = df_CO.groupby(\"age\")\n",
    "\n",
    "fatality_rates_CO = grouped_CO[\"fatality\"].mean()\n",
    "fatality_rates_CO"
   ]
  },
  {
   "cell_type": "markdown",
   "metadata": {
    "id": "xjAXDbUQ3nON"
   },
   "source": [
    "## Visualizing the outcomes\n",
    "\n",
    "**Exercise 7. (*4pt*)** Make a bar plot comparing the fatality rates for each age group in Colombia and Portugal. Also include horizontal dashed lines that display the fatality rates for each country as a whole. Ensure that the bars and the dashed line for each country have the same colors!"
   ]
  },
  {
   "cell_type": "code",
   "execution_count": 31,
   "metadata": {
    "id": "ClXw81J1u2KL",
    "ExecuteTime": {
     "end_time": "2024-02-21T15:40:47.504523Z",
     "start_time": "2024-02-21T15:40:47.499167Z"
    }
   },
   "outputs": [],
   "source": [
    "## YOUR CODE HERE"
   ]
  },
  {
   "cell_type": "markdown",
   "metadata": {
    "id": "UwubhGEX6mHA"
   },
   "source": [
    "***BONUS (1pt): Do you notice anything strange? Can you explain what is going on?***"
   ]
  },
  {
   "cell_type": "markdown",
   "metadata": {},
   "source": [
    "OPTIONAL: YOUR ANSWER HERE"
   ]
  },
  {
   "cell_type": "code",
   "execution_count": 31,
   "metadata": {
    "ExecuteTime": {
     "end_time": "2024-02-21T15:40:47.858674Z",
     "start_time": "2024-02-21T15:40:47.854106Z"
    }
   },
   "outputs": [],
   "source": []
  }
 ],
 "metadata": {
  "colab": {
   "provenance": []
  },
  "kernelspec": {
   "display_name": "Python 3 (ipykernel)",
   "language": "python",
   "name": "python3"
  },
  "language_info": {
   "codemirror_mode": {
    "name": "ipython",
    "version": 3
   },
   "file_extension": ".py",
   "mimetype": "text/x-python",
   "name": "python",
   "nbconvert_exporter": "python",
   "pygments_lexer": "ipython3",
   "version": "3.12.1"
  }
 },
 "nbformat": 4,
 "nbformat_minor": 4
}

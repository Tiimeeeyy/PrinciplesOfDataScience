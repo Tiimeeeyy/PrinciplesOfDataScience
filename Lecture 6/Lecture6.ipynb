{
 "cells": [
  {
   "cell_type": "markdown",
   "id": "92ea4213",
   "metadata": {},
   "source": [
    "# KEN1435 - Principles of Data Science: Lecture 6\n",
    "\n",
    "First we load the necessary python packages"
   ]
  },
  {
   "cell_type": "code",
   "execution_count": 2,
   "id": "5de10a1c",
   "metadata": {
    "ExecuteTime": {
     "end_time": "2024-03-06T12:40:49.197860Z",
     "start_time": "2024-03-06T12:40:49.153011Z"
    }
   },
   "outputs": [],
   "source": [
    "import matplotlib.pyplot as plt\n",
    "import numpy as np\n",
    "import pandas as pd\n",
    "import seaborn as sns\n",
    "\n",
    "from palmerpenguins import load_penguins\n",
    "#import watermark\n",
    "\n",
    "tab10 = plt.get_cmap(\"tab10\").colors\n",
    "\n",
    "%matplotlib inline\n",
    "#%load_ext watermark\n",
    "#%watermark -v -iv"
   ]
  },
  {
   "cell_type": "markdown",
   "id": "64cce3bc-533a-40f6-b7ae-e8254e823dfe",
   "metadata": {},
   "source": [
    "# Accuracy of Percentages\n",
    "\n",
    "We will use the box model. But now we will go the other way around. We have draws from the box, but we don't know the composition of the box. The statistical task is to guess what the composition from the draws. Since there is randomness, we will not just provide one number. We will provide a range of numbers that are plausible. We introduce a new concept: confidence interval. Here is how to build confidence intervals for percentages.\n",
    "\n",
    "Let's look at an example from politics. From [wikipedia](https://en.wikipedia.org/wiki/Voter_turnout_in_United_States_presidential_elections):\n",
    "\n",
    "```\n",
    "Approximately 240 million people were eligible to vote in the 2020 \n",
    "presidential election and roughly 66.1% of them submitted ballots, \n",
    "totaling about 158 million. Biden received about 81 million votes, Trump \n",
    "about 74 million votes, and other candidates (including Jo Jorgensen \n",
    "and Howie Hawkins) a combined approximately 3 million votes.\n",
    "```"
   ]
  },
  {
   "cell_type": "markdown",
   "id": "2a57ffa2-514e-457f-9ae4-b6380373b32d",
   "metadata": {},
   "source": [
    "In polling, we want to guess the outcome of an election before it happens."
   ]
  },
  {
   "cell_type": "code",
   "execution_count": 3,
   "id": "e71f8069-c4f4-4939-a14d-0d626ee12e52",
   "metadata": {
    "ExecuteTime": {
     "end_time": "2024-03-06T12:42:14.651041Z",
     "start_time": "2024-03-06T12:42:11.383525Z"
    }
   },
   "outputs": [],
   "source": [
    "votes_for_biden = np.repeat(\"Biden\", 81 * 1000000)\n",
    "votes_for_trump = np.repeat(\"Trump\", 74 * 1000000)\n",
    "box = np.concatenate([votes_for_biden, votes_for_trump])"
   ]
  },
  {
   "cell_type": "code",
   "outputs": [
    {
     "data": {
      "text/plain": "0.475"
     },
     "execution_count": 5,
     "metadata": {},
     "output_type": "execute_result"
    }
   ],
   "source": [
    "n= 400\n",
    "draws = np.random.choice(box, size = n, replace = False)\n",
    "\n",
    "biden_wims = (draws == \"Biden\").mean()\n",
    "biden_wims"
   ],
   "metadata": {
    "collapsed": false,
    "ExecuteTime": {
     "end_time": "2024-03-06T12:45:12.749183Z",
     "start_time": "2024-03-06T12:44:58.208786Z"
    }
   },
   "id": "7ad791f53fc118b3",
   "execution_count": 5
  },
  {
   "cell_type": "markdown",
   "id": "e0faae02-5ccd-4c31-b763-75a4bed9a37b",
   "metadata": {},
   "source": [
    "How accurate is this percentage? The usual chance error applies here:\n",
    "$$\n",
    "\\text{sample percentage } = \\text{population percentage } + \\text{chance error}.\n",
    "$$\n",
    "If we make the range around the sample percentage large enough then we can hopefully cover the population percentage. From earlier lectures we know that $2 \\times SE$ we know that $2$ standard errors from the average covers around 95% of the possible values. So, it seems natural to define an intervals using standard errors:\n",
    "$$\n",
    "\\text{sample percentage } \\pm 2 \\times \\text{SE}.\n",
    "$$\n",
    "The number $2$ is just one possible interval. If we choose a larger number, then the intervals will also get larger and the chance that we will cover the population percentage will increases, too. Let's calculate the 95% confidence interval for the polling example above. \n",
    "\n",
    "We already calculated the sample percentage."
   ]
  },
  {
   "cell_type": "code",
   "execution_count": null,
   "id": "0dfc84ed-649b-47b0-8bd6-bfe3eff3ee70",
   "metadata": {
    "ExecuteTime": {
     "end_time": "2024-03-06T12:40:45.999022Z",
     "start_time": "2024-03-06T12:40:45.998063Z"
    }
   },
   "outputs": [],
   "source": []
  },
  {
   "cell_type": "markdown",
   "id": "ee53f79a-b4a1-4bc2-abf9-83aa145f820f",
   "metadata": {},
   "source": [
    "What's left is to calculate the SE. Recall the formula for the SE from a previous lecture,\n",
    "$$\n",
    "\\text{SE} = \\sqrt{\\text{number of draws}} \\times \\text{(SD of box)}.\n",
    "$$\n",
    "The new challenge is that we don't know the composition of the box. It turns out that we can use the sample to guess the composition of the box. That's usually a good guess even with moderate sample sizes."
   ]
  },
  {
   "cell_type": "code",
   "execution_count": null,
   "id": "bd0cd81c-9032-4371-bb4e-70e0aa6abb11",
   "metadata": {},
   "outputs": [],
   "source": []
  },
  {
   "cell_type": "markdown",
   "id": "d2dde8db-cc6b-4c70-b106-6562da20caf1",
   "metadata": {},
   "source": [
    "The formula of SD comes out of the blue. You will have a formal mathematical derivation during the Probability and Statistics course in your second year. \n",
    "\n",
    "The confidence interval looks like this:s:"
   ]
  },
  {
   "cell_type": "code",
   "execution_count": null,
   "id": "7180ab92-68ce-424a-a2d3-d4649dd06d5c",
   "metadata": {
    "ExecuteTime": {
     "start_time": "2024-03-06T12:40:46.004716Z"
    }
   },
   "outputs": [],
   "source": []
  },
  {
   "cell_type": "markdown",
   "id": "72eedeb4-8f38-480d-9231-6f582f4f2956",
   "metadata": {},
   "source": [
    "What do confidence intervals really mean?\n",
    "\n",
    "Step 1: repeat polling many times."
   ]
  },
  {
   "cell_type": "code",
   "execution_count": null,
   "id": "dc821772-ff81-46f6-bc60-0f559d5dc958",
   "metadata": {},
   "outputs": [],
   "source": []
  },
  {
   "cell_type": "markdown",
   "id": "f80d0642-b897-49eb-b7f5-20fea18b1234",
   "metadata": {},
   "source": [
    "Step 2: plot intervals."
   ]
  },
  {
   "cell_type": "code",
   "execution_count": null,
   "id": "ce895414-7a1e-4aaa-9764-84e318143896",
   "metadata": {
    "ExecuteTime": {
     "start_time": "2024-03-06T12:40:46.010578Z"
    }
   },
   "outputs": [],
   "source": []
  },
  {
   "cell_type": "markdown",
   "id": "17573086-ccee-444b-85a0-ac640d0184a7",
   "metadata": {},
   "source": [
    "Step 3: show how they relate to the population average."
   ]
  },
  {
   "cell_type": "code",
   "execution_count": null,
   "id": "59a18965-a5cc-4293-9cf5-7c240c5a7f82",
   "metadata": {},
   "outputs": [],
   "source": []
  },
  {
   "cell_type": "markdown",
   "id": "834f8d8d-d434-4f09-bb91-64bffe08514c",
   "metadata": {},
   "source": [
    "Step 3: show how they cover the pop 95% of the times.\n",
    "\n",
    "```{r}\n",
    "pop <- mean(box == \"Biden\")\n",
    "ggplot(df_ci, aes(sample_id, mid)) + \n",
    "  geom_pointrange(aes(ymin = lower, ymax = upper)) + \n",
    "  geom_hline(yintercept = pop)\n",
    "```"
   ]
  },
  {
   "cell_type": "markdown",
   "id": "8332d804-4f1c-4d69-9020-a8dea731f088",
   "metadata": {},
   "source": [
    "Step 4: how many cover the population percentage?"
   ]
  },
  {
   "cell_type": "code",
   "execution_count": null,
   "id": "ddd172b2-f2ba-4edb-b0fb-4192a9fdfd28",
   "metadata": {
    "ExecuteTime": {
     "start_time": "2024-03-06T12:40:46.016493Z"
    }
   },
   "outputs": [],
   "source": []
  },
  {
   "cell_type": "code",
   "execution_count": null,
   "id": "ec000fc6-e8a8-444e-aa32-fb34e3fa88b3",
   "metadata": {
    "ExecuteTime": {
     "start_time": "2024-03-06T12:40:46.019007Z"
    }
   },
   "outputs": [],
   "source": []
  },
  {
   "cell_type": "markdown",
   "id": "896869f1-794a-4eca-80cb-47c2220a395e",
   "metadata": {},
   "source": [
    "# Accuracy of Averages\n",
    "\n",
    "So far we've been working with sums and percentages. The same ideas also carry over to averages. Here is an example using the box model."
   ]
  },
  {
   "cell_type": "code",
   "execution_count": null,
   "id": "bb330e2b-8747-461a-81ac-decadc53d19e",
   "metadata": {
    "ExecuteTime": {
     "start_time": "2024-03-06T12:40:46.021268Z"
    }
   },
   "outputs": [],
   "source": []
  },
  {
   "cell_type": "markdown",
   "id": "ca0c1c1d-bbab-457a-8c44-a4647853e31b",
   "metadata": {},
   "source": [
    "# Summary\n",
    "\n",
    "We learned\n",
    "\n",
    "* SE for percentages.\n",
    "* confidence intervals for percentages.\n",
    "* SE for averages."
   ]
  },
  {
   "cell_type": "code",
   "execution_count": null,
   "id": "435a5796-88a8-43b8-be05-6121141b739a",
   "metadata": {
    "ExecuteTime": {
     "start_time": "2024-03-06T12:40:46.022356Z"
    }
   },
   "outputs": [],
   "source": []
  }
 ],
 "metadata": {
  "kernelspec": {
   "display_name": "Python 3 (ipykernel)",
   "language": "python",
   "name": "python3"
  },
  "language_info": {
   "codemirror_mode": {
    "name": "ipython",
    "version": 3
   },
   "file_extension": ".py",
   "mimetype": "text/x-python",
   "name": "python",
   "nbconvert_exporter": "python",
   "pygments_lexer": "ipython3",
   "version": "3.12.1"
  }
 },
 "nbformat": 4,
 "nbformat_minor": 5
}

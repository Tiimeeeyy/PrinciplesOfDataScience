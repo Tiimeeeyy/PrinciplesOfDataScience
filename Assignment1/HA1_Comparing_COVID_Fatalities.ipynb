{
 "cells": [
  {
   "cell_type": "markdown",
   "metadata": {
    "id": "Sev3wtZP0Ipc"
   },
   "source": [
    "# KEN1435 - Principles of Data Science | Homework Assignment 1 (HA1) :  Comparing COVID Fatalities\n",
    "\n",
    "In this assignment, you will compare COVID fatalities in Portugal and Colombia. The results may be counterintuitive and surprising! We will use data of COVID cases from both countries on May 28, 2020.\n",
    "\n",
    "First we load the necessary python packages"
   ]
  },
  {
   "cell_type": "markdown",
   "source": [
    "This notebook was done in collaboration with: Denisa Nastasa and Taha Koc"
   ],
   "metadata": {
    "collapsed": false
   }
  },
  {
   "cell_type": "code",
   "execution_count": 51,
   "metadata": {
    "id": "Ak2gYqYjZlmI",
    "ExecuteTime": {
     "end_time": "2024-02-22T17:33:16.452706Z",
     "start_time": "2024-02-22T17:33:16.449437Z"
    }
   },
   "outputs": [],
   "source": [
    "import matplotlib.pyplot as plt\n",
    "import numpy as np\n",
    "import pandas as pd\n",
    "import seaborn as sns"
   ]
  },
  {
   "cell_type": "markdown",
   "metadata": {
    "id": "FxTWG57e0qs1"
   },
   "source": [
    "The Portugal and Colombia data are contained in separate files. \n",
    "\n",
    "## Portuguese COVID fatality rate\n",
    "Let's start by loading the Portuguese data which is stored in the file called `portugal_2020-05-28.csv`."
   ]
  },
  {
   "cell_type": "code",
   "execution_count": 52,
   "metadata": {
    "id": "kH140bJp0wmA",
    "ExecuteTime": {
     "end_time": "2024-02-22T17:33:16.532903Z",
     "start_time": "2024-02-22T17:33:16.517428Z"
    }
   },
   "outputs": [
    {
     "data": {
      "text/plain": "     age     sex  fatality\n0  60-69  Female         0\n1  60-69    Male         0\n2    80+    Male         0\n3  60-69  Female         0\n4  50-59  Female         0",
      "text/html": "<div>\n<style scoped>\n    .dataframe tbody tr th:only-of-type {\n        vertical-align: middle;\n    }\n\n    .dataframe tbody tr th {\n        vertical-align: top;\n    }\n\n    .dataframe thead th {\n        text-align: right;\n    }\n</style>\n<table border=\"1\" class=\"dataframe\">\n  <thead>\n    <tr style=\"text-align: right;\">\n      <th></th>\n      <th>age</th>\n      <th>sex</th>\n      <th>fatality</th>\n    </tr>\n  </thead>\n  <tbody>\n    <tr>\n      <th>0</th>\n      <td>60-69</td>\n      <td>Female</td>\n      <td>0</td>\n    </tr>\n    <tr>\n      <th>1</th>\n      <td>60-69</td>\n      <td>Male</td>\n      <td>0</td>\n    </tr>\n    <tr>\n      <th>2</th>\n      <td>80+</td>\n      <td>Male</td>\n      <td>0</td>\n    </tr>\n    <tr>\n      <th>3</th>\n      <td>60-69</td>\n      <td>Female</td>\n      <td>0</td>\n    </tr>\n    <tr>\n      <th>4</th>\n      <td>50-59</td>\n      <td>Female</td>\n      <td>0</td>\n    </tr>\n  </tbody>\n</table>\n</div>"
     },
     "execution_count": 52,
     "metadata": {},
     "output_type": "execute_result"
    }
   ],
   "source": [
    "df_PT = pd.read_csv(\"C:/Users/timis/DataspellProjects/PrinciplesOfDataScience/Assignment1/Data/portugal_2020-05-28.csv\") # I could only load the data this way, please replace with your path to the data\n",
    "df_PT.head()"
   ]
  },
  {
   "cell_type": "markdown",
   "metadata": {
    "id": "ya7-RKc70T_U"
   },
   "source": [
    "**Exercise 1. (*1pt*)** Calculate the overall fatality rate for Portugal. That is, calculate $$P(\\text{fatality} = 1 | \\text{country}=\\text{Portugal}).$$ Store your answer in the variable `fatal_PT` as you will need to use this value in the final exercise."
   ]
  },
  {
   "cell_type": "markdown",
   "metadata": {},
   "source": [
    ">### Comment\n",
    ">after a bit of tinkering we found out, that since we have only 1s and 0s we can just calculate the mean, since wed then still have the correct value (sum of all values / all values) since the sum is going to be the size of all occurrences of one"
   ]
  },
  {
   "cell_type": "code",
   "execution_count": 53,
   "metadata": {
    "id": "4EP1FSz7yhSh",
    "ExecuteTime": {
     "end_time": "2024-02-22T17:33:16.546969Z",
     "start_time": "2024-02-22T17:33:16.540761Z"
    }
   },
   "outputs": [
    {
     "data": {
      "text/plain": "(0.04332826940119002, 0.04332826940119002)"
     },
     "execution_count": 53,
     "metadata": {},
     "output_type": "execute_result"
    }
   ],
   "source": [
    "## YOUR CODE HERE\n",
    "dead_PT = (df_PT[\"fatality\"] == 1).sum()\n",
    "non_fatal_pt = (df_PT[\"fatality\"] == 0).sum()\n",
    "fatal_PT_alternate_way = dead_PT / (non_fatal_pt + dead_PT)\n",
    "fatal_PT = df_PT[\"fatality\"].mean()\n",
    "fatal_PT, fatal_PT_alternate_way"
   ]
  },
  {
   "cell_type": "markdown",
   "metadata": {
    "id": "HWIj8AMb3TaF"
   },
   "source": [
    "**Exercise 2. (*1pt*)** Calculate the fatality rates for each age group in Portugal. That is, calculate the conditional probabilities for each age group:\n",
    "$$P(\\text{fatality} = 1 | \\text{age}\\in[a,b], \\text{country}=\\text{Portugal}).$$\n",
    "Save the results in a `pd.Series` called `fatality_rates_PT`."
   ]
  },
  {
   "cell_type": "code",
   "execution_count": 54,
   "metadata": {
    "id": "bdhtOmmhtgWG",
    "ExecuteTime": {
     "end_time": "2024-02-22T17:33:16.555854Z",
     "start_time": "2024-02-22T17:33:16.548399Z"
    }
   },
   "outputs": [
    {
     "data": {
      "text/plain": "age\n0-9      0.000000\n10-19    0.000000\n20-29    0.000243\n30-39    0.000211\n40-49    0.002822\n50-59    0.007995\n60-69    0.035017\n70-79    0.106031\n80+      0.205180\nName: fatality, dtype: float64"
     },
     "execution_count": 54,
     "metadata": {},
     "output_type": "execute_result"
    }
   ],
   "source": [
    "## YOUR CODE HERE\n",
    "grouped_PT = df_PT.groupby(\"age\")\n",
    "fatality_rates_PT = grouped_PT[\"fatality\"].mean()\n",
    "fatality_rates_PT"
   ]
  },
  {
   "cell_type": "code",
   "execution_count": 55,
   "metadata": {
    "collapsed": false,
    "ExecuteTime": {
     "end_time": "2024-02-22T17:33:16.561967Z",
     "start_time": "2024-02-22T17:33:16.556901Z"
    }
   },
   "outputs": [
    {
     "data": {
      "text/plain": "array(['60-69', '80+', '50-59', '40-49', '20-29', '30-39', '70-79',\n       '10-19', '0-9'], dtype=object)"
     },
     "execution_count": 55,
     "metadata": {},
     "output_type": "execute_result"
    }
   ],
   "source": [
    "df_PT[\"age\"].unique()"
   ]
  },
  {
   "cell_type": "markdown",
   "metadata": {},
   "source": [
    "## Colombian fatality rate\n",
    "\n",
    "Next we load the Colombian data from the file `colombia_2020-05-28.csv`. "
   ]
  },
  {
   "cell_type": "code",
   "execution_count": 56,
   "metadata": {
    "id": "rxLfThXW09pq",
    "ExecuteTime": {
     "end_time": "2024-02-22T17:33:16.646928Z",
     "start_time": "2024-02-22T17:33:16.602760Z"
    }
   },
   "outputs": [
    {
     "data": {
      "text/plain": "            Departamento  Edad Sexo         Tipo   Ubicación    Estado  \\\n0            Bogotá D.C.    19    F    Importado  Recuperado      Leve   \n1        Valle del Cauca    34    M    Importado  Recuperado      Leve   \n2              Antioquia    50    F    Importado  Recuperado      Leve   \n3              Antioquia    55    M  Relacionado  Recuperado      Leve   \n4              Antioquia    25    M  Relacionado  Recuperado      Leve   \n...                  ...   ...  ...          ...         ...       ...   \n25361  Buenaventura D.E.    48    M   En estudio    Hospital  Moderado   \n25362    Valle del Cauca    55    F   En estudio        Casa      Leve   \n25363  Buenaventura D.E.    39    F   En estudio        Casa      Leve   \n25364    Valle del Cauca    13    F   En estudio        Casa      Leve   \n25365            Córdoba     0    F   En estudio    Hospital  Moderado   \n\n      Fecha de inicio de síntomas Fecha de muerte Fecha de diagnóstico  \\\n0                      2020-02-27           -   -           2020-03-06   \n1                      2020-03-04           -   -           2020-03-09   \n2                      2020-02-29           -   -           2020-03-09   \n3                      2020-03-06           -   -           2020-03-11   \n4                      2020-03-08           -   -           2020-03-11   \n...                           ...             ...                  ...   \n25361                  2020-05-12           -   -           2020-05-28   \n25362                  2020-05-21            /  /           2020-05-28   \n25363                  2020-05-23            /  /           2020-05-28   \n25364                  2020-05-13            /  /           2020-05-28   \n25365                  2020-05-11           -   -           2020-05-28   \n\n      Fecha recuperado  \n0           2020-03-13  \n1           2020-03-19  \n2           2020-03-15  \n3           2020-03-26  \n4           2020-03-23  \n...                ...  \n25361              NaN  \n25362              NaN  \n25363              NaN  \n25364              NaN  \n25365              NaN  \n\n[25366 rows x 10 columns]",
      "text/html": "<div>\n<style scoped>\n    .dataframe tbody tr th:only-of-type {\n        vertical-align: middle;\n    }\n\n    .dataframe tbody tr th {\n        vertical-align: top;\n    }\n\n    .dataframe thead th {\n        text-align: right;\n    }\n</style>\n<table border=\"1\" class=\"dataframe\">\n  <thead>\n    <tr style=\"text-align: right;\">\n      <th></th>\n      <th>Departamento</th>\n      <th>Edad</th>\n      <th>Sexo</th>\n      <th>Tipo</th>\n      <th>Ubicación</th>\n      <th>Estado</th>\n      <th>Fecha de inicio de síntomas</th>\n      <th>Fecha de muerte</th>\n      <th>Fecha de diagnóstico</th>\n      <th>Fecha recuperado</th>\n    </tr>\n  </thead>\n  <tbody>\n    <tr>\n      <th>0</th>\n      <td>Bogotá D.C.</td>\n      <td>19</td>\n      <td>F</td>\n      <td>Importado</td>\n      <td>Recuperado</td>\n      <td>Leve</td>\n      <td>2020-02-27</td>\n      <td>-   -</td>\n      <td>2020-03-06</td>\n      <td>2020-03-13</td>\n    </tr>\n    <tr>\n      <th>1</th>\n      <td>Valle del Cauca</td>\n      <td>34</td>\n      <td>M</td>\n      <td>Importado</td>\n      <td>Recuperado</td>\n      <td>Leve</td>\n      <td>2020-03-04</td>\n      <td>-   -</td>\n      <td>2020-03-09</td>\n      <td>2020-03-19</td>\n    </tr>\n    <tr>\n      <th>2</th>\n      <td>Antioquia</td>\n      <td>50</td>\n      <td>F</td>\n      <td>Importado</td>\n      <td>Recuperado</td>\n      <td>Leve</td>\n      <td>2020-02-29</td>\n      <td>-   -</td>\n      <td>2020-03-09</td>\n      <td>2020-03-15</td>\n    </tr>\n    <tr>\n      <th>3</th>\n      <td>Antioquia</td>\n      <td>55</td>\n      <td>M</td>\n      <td>Relacionado</td>\n      <td>Recuperado</td>\n      <td>Leve</td>\n      <td>2020-03-06</td>\n      <td>-   -</td>\n      <td>2020-03-11</td>\n      <td>2020-03-26</td>\n    </tr>\n    <tr>\n      <th>4</th>\n      <td>Antioquia</td>\n      <td>25</td>\n      <td>M</td>\n      <td>Relacionado</td>\n      <td>Recuperado</td>\n      <td>Leve</td>\n      <td>2020-03-08</td>\n      <td>-   -</td>\n      <td>2020-03-11</td>\n      <td>2020-03-23</td>\n    </tr>\n    <tr>\n      <th>...</th>\n      <td>...</td>\n      <td>...</td>\n      <td>...</td>\n      <td>...</td>\n      <td>...</td>\n      <td>...</td>\n      <td>...</td>\n      <td>...</td>\n      <td>...</td>\n      <td>...</td>\n    </tr>\n    <tr>\n      <th>25361</th>\n      <td>Buenaventura D.E.</td>\n      <td>48</td>\n      <td>M</td>\n      <td>En estudio</td>\n      <td>Hospital</td>\n      <td>Moderado</td>\n      <td>2020-05-12</td>\n      <td>-   -</td>\n      <td>2020-05-28</td>\n      <td>NaN</td>\n    </tr>\n    <tr>\n      <th>25362</th>\n      <td>Valle del Cauca</td>\n      <td>55</td>\n      <td>F</td>\n      <td>En estudio</td>\n      <td>Casa</td>\n      <td>Leve</td>\n      <td>2020-05-21</td>\n      <td>/  /</td>\n      <td>2020-05-28</td>\n      <td>NaN</td>\n    </tr>\n    <tr>\n      <th>25363</th>\n      <td>Buenaventura D.E.</td>\n      <td>39</td>\n      <td>F</td>\n      <td>En estudio</td>\n      <td>Casa</td>\n      <td>Leve</td>\n      <td>2020-05-23</td>\n      <td>/  /</td>\n      <td>2020-05-28</td>\n      <td>NaN</td>\n    </tr>\n    <tr>\n      <th>25364</th>\n      <td>Valle del Cauca</td>\n      <td>13</td>\n      <td>F</td>\n      <td>En estudio</td>\n      <td>Casa</td>\n      <td>Leve</td>\n      <td>2020-05-13</td>\n      <td>/  /</td>\n      <td>2020-05-28</td>\n      <td>NaN</td>\n    </tr>\n    <tr>\n      <th>25365</th>\n      <td>Córdoba</td>\n      <td>0</td>\n      <td>F</td>\n      <td>En estudio</td>\n      <td>Hospital</td>\n      <td>Moderado</td>\n      <td>2020-05-11</td>\n      <td>-   -</td>\n      <td>2020-05-28</td>\n      <td>NaN</td>\n    </tr>\n  </tbody>\n</table>\n<p>25366 rows × 10 columns</p>\n</div>"
     },
     "execution_count": 56,
     "metadata": {},
     "output_type": "execute_result"
    }
   ],
   "source": [
    "df_CO = pd.read_csv(\"C:/Users/timis/DataspellProjects/PrinciplesOfDataScience/Assignment1/Data/colombia_2020-05-28.csv\") # I could only load the data this way, please replace with your path to the data\n",
    "df_CO"
   ]
  },
  {
   "cell_type": "markdown",
   "metadata": {
    "id": "VXuGkyN8tir9"
   },
   "source": [
    "Notice that the Colombia data is more raw than the Portugal data. We need to clean the data to make it look like the Portugal data. For instance, it does not contain a boolean \"fatality\" column and the ages (\"Edad\") are indicated as exact ages rather than binned values as we can see for the Portuguese data.\n",
    "\n",
    "As a first step, we will create a column called fatality which indicates whether a patient died or not by transforming the \"Estado\" (state) column into a fatality column. If a patient died, then their state is marked as \"Fallecido\" (deceased). There are other \"Estados\" (states), such as \"Leve\" (mild) and \"Asintomático\" (asymptomatic), but these are not relevant for our fatality column.\n",
    "\n",
    "**Exercise 3. (*1pt*)** Add a column called \"fatality\" to the Colombian dataframe `df_CO`, which contains a `1` if the \"Estado\"-column states \"Fallecido\" and a `0` otherwise."
   ]
  },
  {
   "cell_type": "code",
   "execution_count": 57,
   "metadata": {
    "id": "vTPPj-GSw7N5",
    "ExecuteTime": {
     "end_time": "2024-02-22T17:33:16.668069Z",
     "start_time": "2024-02-22T17:33:16.648049Z"
    }
   },
   "outputs": [
    {
     "data": {
      "text/plain": "array([ 0.,  1., nan])"
     },
     "execution_count": 57,
     "metadata": {},
     "output_type": "execute_result"
    }
   ],
   "source": [
    "## YOUR CODE HERE\n",
    "# Replace function was done with the help of AI\n",
    "# Create mapping to convert String to float\n",
    "# After doing the other exercises i realized i had to add additional mappings since there are more values\n",
    "mapping = {\"Fallecido\" : 1,  \"Asintomático\" : 0, \"Moderado\" : 0, \"Grave\" : 0, \"leve\" : 0, \"LEVE\" : 0,\"Leve \" : 0, 'Leve                                                                                                                                                                                                    ' : 0, 'Leve' : 0, \"NaN\" : 0, \"Moderado \" : 0}\n",
    "# Replace the values\n",
    "df_CO[\"fatality\"] = df_CO[\"Estado\"].replace(mapping)\n",
    "df_CO[\"fatality\"].unique()\n"
   ]
  },
  {
   "cell_type": "markdown",
   "metadata": {
    "id": "ERtmMZ0hy5iA"
   },
   "source": [
    "Next, we need to convert \"Edad\" (age), which is a quantitative variable in this data set, into age ranges, as in the Portugal data set.\n",
    "\n",
    "**Exercise 4. (*1pt*)** Add a column called \"age\" to the Colombian dataframe `df_CO`, which divided the \"Edad\" column into the following age ranges: `\"0-9\", \"10-19\", \"20-29\", \"30-39\", \"40-49\", \"50-59\", \"60-69\", \"70-79\", \"80+\"`"
   ]
  },
  {
   "cell_type": "code",
   "execution_count": 58,
   "metadata": {
    "id": "Vd_kTG0uygF-",
    "ExecuteTime": {
     "end_time": "2024-02-22T17:33:16.798274Z",
     "start_time": "2024-02-22T17:33:16.782352Z"
    }
   },
   "outputs": [
    {
     "data": {
      "text/plain": "            Departamento  Edad Sexo         Tipo   Ubicación    Estado  \\\n0            Bogotá D.C.    19    F    Importado  Recuperado      Leve   \n1        Valle del Cauca    34    M    Importado  Recuperado      Leve   \n2              Antioquia    50    F    Importado  Recuperado      Leve   \n3              Antioquia    55    M  Relacionado  Recuperado      Leve   \n4              Antioquia    25    M  Relacionado  Recuperado      Leve   \n...                  ...   ...  ...          ...         ...       ...   \n25361  Buenaventura D.E.    48    M   En estudio    Hospital  Moderado   \n25362    Valle del Cauca    55    F   En estudio        Casa      Leve   \n25363  Buenaventura D.E.    39    F   En estudio        Casa      Leve   \n25364    Valle del Cauca    13    F   En estudio        Casa      Leve   \n25365            Córdoba     0    F   En estudio    Hospital  Moderado   \n\n      Fecha de inicio de síntomas Fecha de muerte Fecha de diagnóstico  \\\n0                      2020-02-27           -   -           2020-03-06   \n1                      2020-03-04           -   -           2020-03-09   \n2                      2020-02-29           -   -           2020-03-09   \n3                      2020-03-06           -   -           2020-03-11   \n4                      2020-03-08           -   -           2020-03-11   \n...                           ...             ...                  ...   \n25361                  2020-05-12           -   -           2020-05-28   \n25362                  2020-05-21            /  /           2020-05-28   \n25363                  2020-05-23            /  /           2020-05-28   \n25364                  2020-05-13            /  /           2020-05-28   \n25365                  2020-05-11           -   -           2020-05-28   \n\n      Fecha recuperado  fatality    age  \n0           2020-03-13       0.0  10-19  \n1           2020-03-19       0.0  30-39  \n2           2020-03-15       0.0  50-59  \n3           2020-03-26       0.0  50-59  \n4           2020-03-23       0.0  20-29  \n...                ...       ...    ...  \n25361              NaN       0.0  40-49  \n25362              NaN       0.0  50-59  \n25363              NaN       0.0  30-39  \n25364              NaN       0.0  10-19  \n25365              NaN       0.0    0-9  \n\n[25366 rows x 12 columns]",
      "text/html": "<div>\n<style scoped>\n    .dataframe tbody tr th:only-of-type {\n        vertical-align: middle;\n    }\n\n    .dataframe tbody tr th {\n        vertical-align: top;\n    }\n\n    .dataframe thead th {\n        text-align: right;\n    }\n</style>\n<table border=\"1\" class=\"dataframe\">\n  <thead>\n    <tr style=\"text-align: right;\">\n      <th></th>\n      <th>Departamento</th>\n      <th>Edad</th>\n      <th>Sexo</th>\n      <th>Tipo</th>\n      <th>Ubicación</th>\n      <th>Estado</th>\n      <th>Fecha de inicio de síntomas</th>\n      <th>Fecha de muerte</th>\n      <th>Fecha de diagnóstico</th>\n      <th>Fecha recuperado</th>\n      <th>fatality</th>\n      <th>age</th>\n    </tr>\n  </thead>\n  <tbody>\n    <tr>\n      <th>0</th>\n      <td>Bogotá D.C.</td>\n      <td>19</td>\n      <td>F</td>\n      <td>Importado</td>\n      <td>Recuperado</td>\n      <td>Leve</td>\n      <td>2020-02-27</td>\n      <td>-   -</td>\n      <td>2020-03-06</td>\n      <td>2020-03-13</td>\n      <td>0.0</td>\n      <td>10-19</td>\n    </tr>\n    <tr>\n      <th>1</th>\n      <td>Valle del Cauca</td>\n      <td>34</td>\n      <td>M</td>\n      <td>Importado</td>\n      <td>Recuperado</td>\n      <td>Leve</td>\n      <td>2020-03-04</td>\n      <td>-   -</td>\n      <td>2020-03-09</td>\n      <td>2020-03-19</td>\n      <td>0.0</td>\n      <td>30-39</td>\n    </tr>\n    <tr>\n      <th>2</th>\n      <td>Antioquia</td>\n      <td>50</td>\n      <td>F</td>\n      <td>Importado</td>\n      <td>Recuperado</td>\n      <td>Leve</td>\n      <td>2020-02-29</td>\n      <td>-   -</td>\n      <td>2020-03-09</td>\n      <td>2020-03-15</td>\n      <td>0.0</td>\n      <td>50-59</td>\n    </tr>\n    <tr>\n      <th>3</th>\n      <td>Antioquia</td>\n      <td>55</td>\n      <td>M</td>\n      <td>Relacionado</td>\n      <td>Recuperado</td>\n      <td>Leve</td>\n      <td>2020-03-06</td>\n      <td>-   -</td>\n      <td>2020-03-11</td>\n      <td>2020-03-26</td>\n      <td>0.0</td>\n      <td>50-59</td>\n    </tr>\n    <tr>\n      <th>4</th>\n      <td>Antioquia</td>\n      <td>25</td>\n      <td>M</td>\n      <td>Relacionado</td>\n      <td>Recuperado</td>\n      <td>Leve</td>\n      <td>2020-03-08</td>\n      <td>-   -</td>\n      <td>2020-03-11</td>\n      <td>2020-03-23</td>\n      <td>0.0</td>\n      <td>20-29</td>\n    </tr>\n    <tr>\n      <th>...</th>\n      <td>...</td>\n      <td>...</td>\n      <td>...</td>\n      <td>...</td>\n      <td>...</td>\n      <td>...</td>\n      <td>...</td>\n      <td>...</td>\n      <td>...</td>\n      <td>...</td>\n      <td>...</td>\n      <td>...</td>\n    </tr>\n    <tr>\n      <th>25361</th>\n      <td>Buenaventura D.E.</td>\n      <td>48</td>\n      <td>M</td>\n      <td>En estudio</td>\n      <td>Hospital</td>\n      <td>Moderado</td>\n      <td>2020-05-12</td>\n      <td>-   -</td>\n      <td>2020-05-28</td>\n      <td>NaN</td>\n      <td>0.0</td>\n      <td>40-49</td>\n    </tr>\n    <tr>\n      <th>25362</th>\n      <td>Valle del Cauca</td>\n      <td>55</td>\n      <td>F</td>\n      <td>En estudio</td>\n      <td>Casa</td>\n      <td>Leve</td>\n      <td>2020-05-21</td>\n      <td>/  /</td>\n      <td>2020-05-28</td>\n      <td>NaN</td>\n      <td>0.0</td>\n      <td>50-59</td>\n    </tr>\n    <tr>\n      <th>25363</th>\n      <td>Buenaventura D.E.</td>\n      <td>39</td>\n      <td>F</td>\n      <td>En estudio</td>\n      <td>Casa</td>\n      <td>Leve</td>\n      <td>2020-05-23</td>\n      <td>/  /</td>\n      <td>2020-05-28</td>\n      <td>NaN</td>\n      <td>0.0</td>\n      <td>30-39</td>\n    </tr>\n    <tr>\n      <th>25364</th>\n      <td>Valle del Cauca</td>\n      <td>13</td>\n      <td>F</td>\n      <td>En estudio</td>\n      <td>Casa</td>\n      <td>Leve</td>\n      <td>2020-05-13</td>\n      <td>/  /</td>\n      <td>2020-05-28</td>\n      <td>NaN</td>\n      <td>0.0</td>\n      <td>10-19</td>\n    </tr>\n    <tr>\n      <th>25365</th>\n      <td>Córdoba</td>\n      <td>0</td>\n      <td>F</td>\n      <td>En estudio</td>\n      <td>Hospital</td>\n      <td>Moderado</td>\n      <td>2020-05-11</td>\n      <td>-   -</td>\n      <td>2020-05-28</td>\n      <td>NaN</td>\n      <td>0.0</td>\n      <td>0-9</td>\n    </tr>\n  </tbody>\n</table>\n<p>25366 rows × 12 columns</p>\n</div>"
     },
     "execution_count": 58,
     "metadata": {},
     "output_type": "execute_result"
    }
   ],
   "source": [
    "## YOUR CODE HERE\n",
    "bins = [0,9, 19, 29, 39,49, 59, 69, 79, 100]\n",
    "labels = [\"0-9\", \"10-19\", \"20-29\", \"30-39\", \"40-49\", \"50-59\", \"60-69\", \"70-79\", \"80+\"]\n",
    "df_CO[\"age\"] = pd.cut(df_CO[\"Edad\"], bins = bins, labels=labels, include_lowest=True)\n",
    "df_CO"
   ]
  },
  {
   "cell_type": "markdown",
   "metadata": {},
   "source": [
    "**Exercise 5. (*1pt*)** Calculate the overall fatality rate for Colombia. That is, calculate $$P(\\text{fatality} = 1 | \\text{country}=\\text{Colombia}).$$ Store your answer in the variable `fatal_CO` as you will need to use this value in the final exercise."
   ]
  },
  {
   "cell_type": "code",
   "execution_count": 59,
   "metadata": {
    "ExecuteTime": {
     "end_time": "2024-02-22T17:33:16.804733Z",
     "start_time": "2024-02-22T17:33:16.799283Z"
    }
   },
   "outputs": [
    {
     "data": {
      "text/plain": "0.03240558227548687"
     },
     "execution_count": 59,
     "metadata": {},
     "output_type": "execute_result"
    }
   ],
   "source": [
    "## YOUR CODE HERE\n",
    "## Since we have a lot of different datatypes that cant really be cleaned with the mapping functions, we just take the sum  of all occurrences in the column that equal one and divide it by the total occurences (I did thi in a bit of a \"workaround\" way, because its easier to understand my thought process that way\n",
    "cleaned_CO = df_CO[\"fatality\"].fillna(0)\n",
    "fatal_CO = (cleaned_CO == 1).sum()\n",
    "surived_CO = (cleaned_CO != 1).sum()\n",
    "fatal_CO = fatal_CO / (surived_CO + fatal_CO)\n",
    "fatal_CO"
   ]
  },
  {
   "cell_type": "markdown",
   "metadata": {
    "id": "PgYgoACl0Z7w"
   },
   "source": [
    "**Exercise 6. (*1pt*)** Calculate the fatality rates for each age group in Colombia. That is, calculate the conditional probabilities for each age group:\n",
    "$$P(\\text{fatality} = 1 | \\text{age}\\in[a,b], \\text{country}=\\text{Colombia}).$$\n",
    "Save the results in a `pd.Series` called `fatality_rates_CO`."
   ]
  },
  {
   "cell_type": "code",
   "execution_count": 60,
   "metadata": {
    "id": "lv6aYGzx18Q7",
    "ExecuteTime": {
     "end_time": "2024-02-22T17:33:16.820354Z",
     "start_time": "2024-02-22T17:33:16.813374Z"
    }
   },
   "outputs": [
    {
     "data": {
      "text/plain": "age\n0-9      0.004537\n10-19    0.000513\n20-29    0.002318\n30-39    0.004277\n40-49    0.015144\n50-59    0.036857\n60-69    0.098260\n70-79    0.192446\n80+      0.281711\nName: fatality, dtype: float64"
     },
     "execution_count": 60,
     "metadata": {},
     "output_type": "execute_result"
    }
   ],
   "source": [
    "## YOUR CODE HERE\n",
    "## Calculate the sum per age group\n",
    "grouped_CO = df_CO.groupby(\"age\")[\"fatality\"]\n",
    "fatality_rates_CO = grouped_CO.mean()\n",
    "fatality_rates_CO"
   ]
  },
  {
   "cell_type": "markdown",
   "metadata": {
    "id": "xjAXDbUQ3nON"
   },
   "source": [
    "*## Visualizing the outcomes\n",
    "\n",
    "**Exercise 7. (*4pt*)** Make a bar plot comparing the fatality rates for each age group in Colombia and Portugal. Also include horizontal dashed lines that display the fatality rates for each country as a whole. Ensure that the bars and the dashed line for each country have the same colors!"
   ]
  },
  {
   "cell_type": "code",
   "execution_count": 61,
   "metadata": {
    "id": "ClXw81J1u2KL",
    "ExecuteTime": {
     "end_time": "2024-02-22T17:33:17.083543Z",
     "start_time": "2024-02-22T17:33:16.871918Z"
    }
   },
   "outputs": [
    {
     "data": {
      "text/plain": "<Figure size 1000x1000 with 1 Axes>",
      "image/png": "[encoded data removed]"
     },
     "metadata": {},
     "output_type": "display_data"
    }
   ],
   "source": [
    "## YOUR CODE HERE\n",
    "plt.figure(figsize=(10,10))\n",
    "\n",
    "mean_overall_pt = df_PT[\"fatality\"].mean()\n",
    "mean_overall_co = df_CO[\"fatality\"].mean()\n",
    "\n",
    "plt.bar(fatality_rates_CO.index, fatality_rates_CO.values, color = \"b\", alpha = 0.3, label = \"COLUMBIA\")\n",
    "plt.bar(fatality_rates_PT.index, fatality_rates_PT.values, color = \"g\", alpha = 0.3, label = \"PORTUGAL\")\n",
    "\n",
    "plt.axhline(y = mean_overall_co, color = \"b\" , linestyle = \"--\", label = \"COLUMBIA overall Mean\")\n",
    "plt.axhline(y = mean_overall_pt, color = \"g\", linestyle = \"--\", label = \"PORTUGAL overall Mean\")\n",
    "plt.legend()\n",
    "plt.xlabel(\"Age Group\")\n",
    "plt.ylabel(\"Fatality Rate\")\n",
    "\n",
    "plt.show()"
   ]
  },
  {
   "cell_type": "markdown",
   "metadata": {
    "id": "UwubhGEX6mHA"
   },
   "source": [
    "***BONUS (1pt): Do you notice anything strange? Can you explain what is going on?***"
   ]
  },
  {
   "cell_type": "markdown",
   "metadata": {},
   "source": [
    "OPTIONAL: YOUR ANSWER HERE"
   ]
  },
  {
   "cell_type": "markdown",
   "source": [
    "Even though the fatality rates per age group are a lot higher in Columbia, the mean is a lot lower. This could be due to a multidute of factors (Healthcare, Socioeconomic Factors. etc.) but it could also be due to the fact that the Dataset sizes vary which impacts the mean by a lot."
   ],
   "metadata": {
    "collapsed": false
   }
  },
  {
   "cell_type": "code",
   "execution_count": 61,
   "metadata": {
    "ExecuteTime": {
     "end_time": "2024-02-22T17:33:17.087390Z",
     "start_time": "2024-02-22T17:33:17.084796Z"
    }
   },
   "outputs": [],
   "source": []
  }
 ],
 "metadata": {
  "colab": {
   "provenance": []
  },
  "kernelspec": {
   "display_name": "Python 3 (ipykernel)",
   "language": "python",
   "name": "python3"
  },
  "language_info": {
   "codemirror_mode": {
    "name": "ipython",
    "version": 3
   },
   "file_extension": ".py",
   "mimetype": "text/x-python",
   "name": "python",
   "nbconvert_exporter": "python",
   "pygments_lexer": "ipython3",
   "version": "3.11.5"
  }
 },
 "nbformat": 4,
 "nbformat_minor": 4
}

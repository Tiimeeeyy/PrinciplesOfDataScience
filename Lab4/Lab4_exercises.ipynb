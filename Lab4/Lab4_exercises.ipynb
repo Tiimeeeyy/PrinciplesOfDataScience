{
 "cells": [
  {
   "cell_type": "markdown",
   "id": "5ab7e4d3-00aa-4db2-af93-6becd3d20723",
   "metadata": {},
   "source": [
    "# KEN1435 - Principles of Data Science | Lab 4: What are the Chances? and The Law of Averages\n",
    "\n",
    "First we load the necessary python packages. Note that we include `import os` above the other packages with a blank line between them. This is because the common agreement is to load pure-python packages first, before you load contributed packages. As `os` is part of python itself, it should be loaded first, before contributed packages such as `matplotlib`, `numpy`, `pandas`, and `seaborn` are loaded. Finally, a third section of packages that you load are the packages that you construct within your own project."
   ]
  },
  {
   "cell_type": "code",
   "execution_count": 1,
   "id": "7af88abc-70fb-4f88-86cd-19c8bb506211",
   "metadata": {
    "ExecuteTime": {
     "end_time": "2024-02-28T12:47:55.362973Z",
     "start_time": "2024-02-28T12:47:55.332863Z"
    }
   },
   "outputs": [],
   "source": [
    "import os\n",
    "\n",
    "import matplotlib.pyplot as plt\n",
    "import matplotlib.patches as mpatches # this is used in the solution for the legend in exercise 15\n",
    "import matplotlib.ticker as mticker\n",
    "import numpy as np\n",
    "import pandas as pd\n",
    "from scipy.special import comb\n",
    "import seaborn as sns\n",
    "\n",
    "tab10 = plt.get_cmap(\"tab10\").colors\n",
    "\n",
    "%matplotlib inline"
   ]
  },
  {
   "cell_type": "markdown",
   "id": "90f4d739-862f-4e5f-8a91-ef81d7c95e77",
   "metadata": {},
   "source": [
    "## What are the Chances?\n",
    "\n",
    "In the lecture we explored several examples of how we can use simulation to determine the probability that certain events occur. In this lab, we will look at a different example: a Lottery.\n",
    "\n",
    "Suppose we have lottery in which balls are drawn from a lottery machine. This machine contains numbered balls, that range from `1` to `99`. To determine the winning combination, seven balls are drawn from the machine **without replacement**.\n",
    "\n",
    "1. Build an array `balls` that contains all numbered balls in the machine"
   ]
  },
  {
   "cell_type": "code",
   "execution_count": 2,
   "id": "7fe0013f-4907-44f9-87ad-f65bd2171ce1",
   "metadata": {
    "ExecuteTime": {
     "end_time": "2024-02-28T12:47:55.576931Z",
     "start_time": "2024-02-28T12:47:55.564036Z"
    }
   },
   "outputs": [
    {
     "data": {
      "text/plain": "array([ 1,  2,  3,  4,  5,  6,  7,  8,  9, 10, 11, 12, 13, 14, 15, 16, 17,\n       18, 19, 20, 21, 22, 23, 24, 25, 26, 27, 28, 29, 30, 31, 32, 33, 34,\n       35, 36, 37, 38, 39, 40, 41, 42, 43, 44, 45, 46, 47, 48, 49, 50, 51,\n       52, 53, 54, 55, 56, 57, 58, 59, 60, 61, 62, 63, 64, 65, 66, 67, 68,\n       69, 70, 71, 72, 73, 74, 75, 76, 77, 78, 79, 80, 81, 82, 83, 84, 85,\n       86, 87, 88, 89, 90, 91, 92, 93, 94, 95, 96, 97, 98])"
     },
     "execution_count": 2,
     "metadata": {},
     "output_type": "execute_result"
    }
   ],
   "source": [
    "balls = np.arange(1, 99, 1)\n",
    "balls"
   ]
  },
  {
   "cell_type": "markdown",
   "id": "95ba1784-43f0-4580-b784-4e5aa2b60ed5",
   "metadata": {},
   "source": [
    "2. Use functions from `np.random` to make a realization of seven drawn balls. Save the seven drawn numbers in the variable `draw`."
   ]
  },
  {
   "cell_type": "code",
   "execution_count": 3,
   "id": "753f9ee2-3132-4608-a8eb-eb05fc550b99",
   "metadata": {
    "ExecuteTime": {
     "end_time": "2024-02-28T12:47:55.607347Z",
     "start_time": "2024-02-28T12:47:55.597259Z"
    }
   },
   "outputs": [
    {
     "data": {
      "text/plain": "array([94, 19, 93, 38,  9, 78, 87])"
     },
     "execution_count": 3,
     "metadata": {},
     "output_type": "execute_result"
    }
   ],
   "source": [
    "draw = np.random.randint(1, 99, size = 7)\n",
    "draw"
   ]
  },
  {
   "cell_type": "markdown",
   "id": "eb06d867-d8ef-42ba-8b75-3bdecdc20f6c",
   "metadata": {},
   "source": [
    "Participation in the lottery is done by handing in a ticket on which you can place a prediction which balls will be drawn from the machine.\n",
    "\n",
    "Suppose that for a particular week, you participate with the following numbers: `10`, `19`, `20`, `21`, `40`, `50`, and `52`. \n",
    "\n",
    "3. How many numbers would you have hade correct if you used this prediction on the outcome in the variable `draw`?"
   ]
  },
  {
   "cell_type": "code",
   "execution_count": 10,
   "id": "681fe92b-fbcc-4924-b2d0-79269e05472b",
   "metadata": {
    "ExecuteTime": {
     "end_time": "2024-02-28T13:11:51.555410Z",
     "start_time": "2024-02-28T13:11:51.547543Z"
    }
   },
   "outputs": [],
   "source": [
    "def rollingNumbers (num_draws, start, end):\n",
    "    count = 0\n",
    "    numbers = np.array([10,19,20,21,40,50,52])\n",
    "    for i in range(num_draws):\n",
    "        drawing = np.random.randint(start, end, size = len(numbers))\n",
    "        common_elements = np.intersect1d(drawing, numbers)\n",
    "        count += len(common_elements)\n",
    "    return count"
   ]
  },
  {
   "cell_type": "markdown",
   "id": "745d0907-55c1-4f75-bf91-3f5e0016c354",
   "metadata": {},
   "source": [
    "As the chances of winning are very small, we will focus on a several probabilities; the chance of predicting a specific number out of seven drawn balls correctly.\n",
    "\n",
    "4. Simulate hundred thousand draws from the machine and determine how many balls have been correctly predicted by your guess. Store the number of correct guesses in the data frame called `outcomes`."
   ]
  },
  {
   "cell_type": "code",
   "execution_count": 12,
   "id": "85bdd265-82bc-4713-a438-5efe7f2be232",
   "metadata": {
    "ExecuteTime": {
     "end_time": "2024-02-28T13:13:13.291206Z",
     "start_time": "2024-02-28T13:13:07.522471Z"
    }
   },
   "outputs": [
    {
     "data": {
      "text/plain": "48732"
     },
     "execution_count": 12,
     "metadata": {},
     "output_type": "execute_result"
    }
   ],
   "source": [
    "rollingNumbers(100000, 1, 99)"
   ]
  },
  {
   "cell_type": "markdown",
   "id": "54fb4374-77d6-4b2c-b65b-123bf518c277",
   "metadata": {},
   "source": [
    "5. Suppose that we use these outcomes to estimate the probabilities of each outcome occuring, what would the estimates be?"
   ]
  },
  {
   "cell_type": "code",
   "execution_count": 19,
   "id": "6ca47367-faf8-458f-aedb-c199529d140b",
   "metadata": {
    "ExecuteTime": {
     "end_time": "2024-02-28T13:49:19.157978Z",
     "start_time": "2024-02-28T13:49:12.976249Z"
    }
   },
   "outputs": [
    {
     "data": {
      "text/plain": "0.06935428571428572"
     },
     "execution_count": 19,
     "metadata": {},
     "output_type": "execute_result"
    }
   ],
   "source": [
    "# Lets just divide the occurences by the number of numbers\n",
    "a = rollingNumbers(100000, 1, 99) / 100000\n",
    "solution = a / 7 #length of the numbers array\n",
    "solution"
   ]
  },
  {
   "cell_type": "markdown",
   "id": "95c1e95b-cc96-4019-bd68-9e924e81a2a2",
   "metadata": {},
   "source": [
    "6. Calculate the actual probability of getting `k` numbers correctly for all possible values of `k`."
   ]
  },
  {
   "cell_type": "code",
   "execution_count": 3,
   "id": "2f0b3e30-4b45-40eb-bc70-387d4474ca83",
   "metadata": {
    "ExecuteTime": {
     "end_time": "2024-02-28T12:47:55.911418Z",
     "start_time": "2024-02-28T12:47:55.906813Z"
    }
   },
   "outputs": [],
   "source": [
    "numbers = np.array([10, 19, 20, 21, 40, 50, 52])\n",
    "counts_df = pd.DataFrame(columns=numbers)\n",
    "counts_df.loc[0] = [0 for i in numbers]\n",
    "num_draws = 100000\n",
    "for i in range(num_draws):\n",
    "    drawing = np.random.randint(1, 99, size=len(numbers))\n",
    "    for number in drawing:\n",
    "        if number in numbers:\n",
    "            counts_df[number] += 1\n",
    "print(counts_df)\n"
   ]
  },
  {
   "cell_type": "markdown",
   "id": "65f6c68c-d3cf-4587-b150-b07605cfbb48",
   "metadata": {},
   "source": [
    "## The Law of Averages\n",
    "\n",
    "Let's start by loading all experimental data. Download all the files from Canvas and save them in a subfolder called `data`. We start by getting a list of all the filenames in that folder using `listdir`. Next, we loop over the filenames to load the data file into a dictionary called `data`. Given the names of the files, we will use the firstname of the person performing the flips as the key for in the dictionary."
   ]
  },
  {
   "cell_type": "code",
   "execution_count": 20,
   "id": "ad6cb4c3-f349-4315-941f-b36e4a9824c4",
   "metadata": {
    "ExecuteTime": {
     "end_time": "2024-02-28T13:51:39.657222Z",
     "start_time": "2024-02-28T13:51:39.614874Z"
    }
   },
   "outputs": [],
   "source": [
    "fns = os.listdir(\"data\")\n",
    "data = {}\n",
    "for fn in fns:\n",
    "    key = fn.split(\"_\")[0]\n",
    "    data[key] = pd.read_csv(\"data/{}\".format(fn))"
   ]
  },
  {
   "cell_type": "markdown",
   "id": "098e2505-d6f5-4fe4-8ab6-6d3310765cc0",
   "metadata": {},
   "source": [
    "7. List all the keys in the `data` dictionary."
   ]
  },
  {
   "cell_type": "code",
   "execution_count": 21,
   "id": "a53680d4-4425-4878-b2cc-1032b5d0b82b",
   "metadata": {
    "ExecuteTime": {
     "end_time": "2024-02-28T13:51:57.359216Z",
     "start_time": "2024-02-28T13:51:57.336935Z"
    }
   },
   "outputs": [
    {
     "data": {
      "text/plain": "                   date           person     coin start  \\\n0   2023-01-14 10:04:35  Sjoerd Terpstra  0.50RON     t   \n1   2023-01-14 10:17:55  Sjoerd Terpstra  0.50RON     t   \n2   2023-01-14 10:25:04  Sjoerd Terpstra  0.50RON     t   \n3   2023-01-14 10:31:56  Sjoerd Terpstra  0.50RON     t   \n4   2023-01-14 10:38:23  Sjoerd Terpstra  0.50RON     t   \n5   2023-01-14 10:47:56  Sjoerd Terpstra  0.50RON     h   \n6   2023-01-14 10:54:59  Sjoerd Terpstra  0.50RON     t   \n7   2023-01-14 11:04:53  Sjoerd Terpstra  0.50RON     t   \n8   2023-01-14 11:10:57  Sjoerd Terpstra  0.50RON     t   \n9   2023-01-14 11:27:22  Sjoerd Terpstra  0.50EUR     t   \n10  2023-01-14 11:34:23  Sjoerd Terpstra  0.50EUR     h   \n11  2023-01-14 11:41:00  Sjoerd Terpstra  0.50EUR     h   \n12  2023-01-14 11:47:17  Sjoerd Terpstra  0.50EUR     h   \n13  2023-01-14 11:53:42  Sjoerd Terpstra  0.50EUR     h   \n14  2023-01-14 12:07:25  Sjoerd Terpstra  0.50EUR     t   \n15  2023-01-14 12:13:32  Sjoerd Terpstra  0.50EUR     h   \n16  2023-01-14 12:20:27  Sjoerd Terpstra  0.50EUR     h   \n17  2023-01-14 12:27:44  Sjoerd Terpstra  0.50EUR     h   \n18  2023-01-14 12:33:56  Sjoerd Terpstra  0.50EUR     h   \n19  2023-01-14 12:45:08  Sjoerd Terpstra     2EUR     t   \n20  2023-01-14 12:51:32  Sjoerd Terpstra     2EUR     t   \n21  2023-01-14 12:58:58  Sjoerd Terpstra     2EUR     t   \n22  2023-01-14 13:33:38  Sjoerd Terpstra     2EUR     t   \n23  2023-01-14 13:39:21  Sjoerd Terpstra     2EUR     h   \n24  2023-01-14 13:45:23  Sjoerd Terpstra     2EUR     t   \n25  2023-01-14 13:51:49  Sjoerd Terpstra     2EUR     t   \n26  2023-01-14 14:03:11  Sjoerd Terpstra     2EUR     h   \n27  2023-01-14 14:14:06  Sjoerd Terpstra     2EUR     t   \n28  2023-01-14 14:19:53  Sjoerd Terpstra     2EUR     t   \n29  2023-01-14 14:37:28  Sjoerd Terpstra     1CAD     t   \n30  2023-01-14 14:43:12  Sjoerd Terpstra     1CAD     t   \n31  2023-01-14 14:50:37  Sjoerd Terpstra     1CAD     t   \n32  2023-01-14 14:57:13  Sjoerd Terpstra     1CAD     t   \n33  2023-01-14 15:02:52  Sjoerd Terpstra     1CAD     h   \n34  2023-01-14 15:22:55  Sjoerd Terpstra     1CAD     h   \n35  2023-01-14 15:28:26  Sjoerd Terpstra     1CAD     t   \n36  2023-01-14 15:34:39  Sjoerd Terpstra     1CAD     t   \n37  2023-01-14 15:41:00  Sjoerd Terpstra     1CAD     t   \n38  2023-01-14 15:47:25  Sjoerd Terpstra     1CAD     t   \n39  2023-01-14 16:09:01  Sjoerd Terpstra     5SEK     h   \n40  2023-01-14 16:16:22  Sjoerd Terpstra     5SEK     h   \n41  2023-01-14 16:26:40  Sjoerd Terpstra     5SEK     h   \n42  2023-01-14 16:33:00  Sjoerd Terpstra     5SEK     t   \n43  2023-01-14 16:39:38  Sjoerd Terpstra     5SEK     t   \n44  2023-01-14 16:55:52  Sjoerd Terpstra     5SEK     h   \n45  2023-01-14 17:02:16  Sjoerd Terpstra     5SEK     t   \n46  2023-01-14 17:09:39  Sjoerd Terpstra     5SEK     h   \n47  2023-01-14 17:19:23  Sjoerd Terpstra     5SEK     t   \n48  2023-01-14 17:25:39  Sjoerd Terpstra     5SEK     t   \n49  2023-01-14 17:36:13  Sjoerd Terpstra  0.50RON     h   \n\n                                             sequence  \n0   htxtthhtthththhxhtxthtxhhxxtttthxhhhttxxthxthh...  \n1   txtttthhhhthtxthxtttuxttthtxhhtttthhxthhhthhxt...  \n2   tthththththththhxhhttttthtthhhhhhtththhtththhh...  \n3   txhhxthhtttxxthhthtxthtthhtthtuhxhhhhttxhxttth...  \n4   thththththxthtthtththhhxxhtthtththhtthtthththh...  \n5   ththtxhxhhhhhhthtxttxhxhthhhtttttththththhhtth...  \n6   hththhhtxtthhhxththhhtttttxxttththtxtthhththtt...  \n7   txhxxhhhhttxhttththtttththttthhuxxtthtththtxth...  \n8   txthhtthhthtxthttxtxthhthtutxthttxtthtthhtxhth...  \n9   thththttxhhxththxhhhhthhtttthtttuhhhxhhhhhttth...  \n10  thhtttxthtxhhtthhxthttthhhthxhxhthttttthhhtthh...  \n11  tttxtxuhhhttttththhhhhhthttththxhhhhhttuxuxhth...  \n12  ththhththhhthhxtxthhtxhhthththtxthtthxtxtxhtht...  \n13  thttthhhthhhhttthxhhtthtttxxhtxhhhhtthhuxhhthx...  \n14  hhthhhtthhtttttttthhhxhtthhtthhthttxhththhhtht...  \n15  hhhxhthttxhthtthxttthtthhhtthttthuthtutxtththt...  \n16  thttthhthtthhxtthhxhthhhhttttxttxthththhthhhtt...  \n17  tthhhhhhhttthttxhttttttthtxthhxtthtxhhxhththht...  \n18  xhhthhthththththtthtttxtththhthththhuhthxhxhtt...  \n19  ttxhththttxtxhhththhhtxhhthtxhtthhhtttttttutth...  \n20  txhthtttthhtthtthttthtthtthttthhhtthththxxhhhh...  \n21  hxhhthxxhhhhhttxtttxttthhhttthhhhhhhhhhhhthxht...  \n22  xhxhhhthhxtthxhthhxxhtthhttttttttthhxhthththhh...  \n23  txtxthhthtxhuxhttttttthhxhtuhhthhxtutththhthhh...  \n24  ttxhthhthththththhtxtthtthhxhxhhhhxthhxhhttthh...  \n25  ththtthtthhhthxhxthxhththxttttxtttxhuhhuhhhhtt...  \n26  ttxhthhttttxttththttthtthhhhhxhtxhtthhththxxth...  \n27  thttutxhhhhtxxthxhtthhthxtxhthuhhhththxhhtuhtt...  \n28  uthxhhthhhhttthttthtththtttthttthhxhttthhhhtxh...  \n29  txxxtthhhhhthtttttthtttxhhhhthxtthhhhthhttthth...  \n30  uthhhhthhutthxhhttththtththhtthhthhxttthxttthh...  \n31  uhthttthxxthhhxhtttxxxtthhxtxhhtthttxtxtttthhh...  \n32  httthhtuhxhxhtthhhhhxtuxhhhhxthxhhthhthththhhh...  \n33  hhhtthhtxxtthtthhhthtttxhthtttxhtthhhhhhhhthxt...  \n34  hhthhtxtthtxxxxxhthhhhhhxhhhttttththxxxhhxttht...  \n35  hhtuhttxhththththhhtxxhhhxhtxtxhhhhhhhhhthhhth...  \n36  xhuthhttuhhttthxtthxtxtttxuthhttthhthhhhtthhht...  \n37  xthhhttthtththtxttthhxthxhxttthtttthhthtththux...  \n38  thhuthhthtththhhxtxhhtthhxhttthtxhhxhhhtthttxt...  \n39  hhxtttxthhthxthhtthhtttttxthththtttttthhhhthht...  \n40  tthttttxuttththththhtthhthxthtxthhttxhhttthhhh...  \n41  httxhtxttttxthhhhthxuhhxhtthhhuttththtxxhxhhhh...  \n42  hhhtuhuhxhhttthhthttttthhthuhtxhhhtthtuhhxhxhh...  \n43  hxhhttthttthhhhxhthxxtttthhthhttthhthhthxhxhht...  \n44  thtttttthxtuhtthhhhthtxthxhhhhhhtthttuhhthhhhh...  \n45  hhhhtxxttthtuxhtthhhthxhhhthttxxhthhxtththhttt...  \n46  hhhthtxhhththhhutthtxhthhhhhtuxthhthtttxhhhhhh...  \n47  huthhhhhhhhhthththhthxttuhhhtthtxththxhhtxhhxt...  \n48  hhhhtthhhhxhhhxhhhtttxtttthhxhtxttxhthhhthhhtt...  \n49  thththtthtxhtxttthhtxhthhxthhhtxhtthhtthuththt...  ",
      "text/html": "<div>\n<style scoped>\n    .dataframe tbody tr th:only-of-type {\n        vertical-align: middle;\n    }\n\n    .dataframe tbody tr th {\n        vertical-align: top;\n    }\n\n    .dataframe thead th {\n        text-align: right;\n    }\n</style>\n<table border=\"1\" class=\"dataframe\">\n  <thead>\n    <tr style=\"text-align: right;\">\n      <th></th>\n      <th>date</th>\n      <th>person</th>\n      <th>coin</th>\n      <th>start</th>\n      <th>sequence</th>\n    </tr>\n  </thead>\n  <tbody>\n    <tr>\n      <th>0</th>\n      <td>2023-01-14 10:04:35</td>\n      <td>Sjoerd Terpstra</td>\n      <td>0.50RON</td>\n      <td>t</td>\n      <td>htxtthhtthththhxhtxthtxhhxxtttthxhhhttxxthxthh...</td>\n    </tr>\n    <tr>\n      <th>1</th>\n      <td>2023-01-14 10:17:55</td>\n      <td>Sjoerd Terpstra</td>\n      <td>0.50RON</td>\n      <td>t</td>\n      <td>txtttthhhhthtxthxtttuxttthtxhhtttthhxthhhthhxt...</td>\n    </tr>\n    <tr>\n      <th>2</th>\n      <td>2023-01-14 10:25:04</td>\n      <td>Sjoerd Terpstra</td>\n      <td>0.50RON</td>\n      <td>t</td>\n      <td>tthththththththhxhhttttthtthhhhhhtththhtththhh...</td>\n    </tr>\n    <tr>\n      <th>3</th>\n      <td>2023-01-14 10:31:56</td>\n      <td>Sjoerd Terpstra</td>\n      <td>0.50RON</td>\n      <td>t</td>\n      <td>txhhxthhtttxxthhthtxthtthhtthtuhxhhhhttxhxttth...</td>\n    </tr>\n    <tr>\n      <th>4</th>\n      <td>2023-01-14 10:38:23</td>\n      <td>Sjoerd Terpstra</td>\n      <td>0.50RON</td>\n      <td>t</td>\n      <td>thththththxthtthtththhhxxhtthtththhtthtthththh...</td>\n    </tr>\n    <tr>\n      <th>5</th>\n      <td>2023-01-14 10:47:56</td>\n      <td>Sjoerd Terpstra</td>\n      <td>0.50RON</td>\n      <td>h</td>\n      <td>ththtxhxhhhhhhthtxttxhxhthhhtttttththththhhtth...</td>\n    </tr>\n    <tr>\n      <th>6</th>\n      <td>2023-01-14 10:54:59</td>\n      <td>Sjoerd Terpstra</td>\n      <td>0.50RON</td>\n      <td>t</td>\n      <td>hththhhtxtthhhxththhhtttttxxttththtxtthhththtt...</td>\n    </tr>\n    <tr>\n      <th>7</th>\n      <td>2023-01-14 11:04:53</td>\n      <td>Sjoerd Terpstra</td>\n      <td>0.50RON</td>\n      <td>t</td>\n      <td>txhxxhhhhttxhttththtttththttthhuxxtthtththtxth...</td>\n    </tr>\n    <tr>\n      <th>8</th>\n      <td>2023-01-14 11:10:57</td>\n      <td>Sjoerd Terpstra</td>\n      <td>0.50RON</td>\n      <td>t</td>\n      <td>txthhtthhthtxthttxtxthhthtutxthttxtthtthhtxhth...</td>\n    </tr>\n    <tr>\n      <th>9</th>\n      <td>2023-01-14 11:27:22</td>\n      <td>Sjoerd Terpstra</td>\n      <td>0.50EUR</td>\n      <td>t</td>\n      <td>thththttxhhxththxhhhhthhtttthtttuhhhxhhhhhttth...</td>\n    </tr>\n    <tr>\n      <th>10</th>\n      <td>2023-01-14 11:34:23</td>\n      <td>Sjoerd Terpstra</td>\n      <td>0.50EUR</td>\n      <td>h</td>\n      <td>thhtttxthtxhhtthhxthttthhhthxhxhthttttthhhtthh...</td>\n    </tr>\n    <tr>\n      <th>11</th>\n      <td>2023-01-14 11:41:00</td>\n      <td>Sjoerd Terpstra</td>\n      <td>0.50EUR</td>\n      <td>h</td>\n      <td>tttxtxuhhhttttththhhhhhthttththxhhhhhttuxuxhth...</td>\n    </tr>\n    <tr>\n      <th>12</th>\n      <td>2023-01-14 11:47:17</td>\n      <td>Sjoerd Terpstra</td>\n      <td>0.50EUR</td>\n      <td>h</td>\n      <td>ththhththhhthhxtxthhtxhhthththtxthtthxtxtxhtht...</td>\n    </tr>\n    <tr>\n      <th>13</th>\n      <td>2023-01-14 11:53:42</td>\n      <td>Sjoerd Terpstra</td>\n      <td>0.50EUR</td>\n      <td>h</td>\n      <td>thttthhhthhhhttthxhhtthtttxxhtxhhhhtthhuxhhthx...</td>\n    </tr>\n    <tr>\n      <th>14</th>\n      <td>2023-01-14 12:07:25</td>\n      <td>Sjoerd Terpstra</td>\n      <td>0.50EUR</td>\n      <td>t</td>\n      <td>hhthhhtthhtttttttthhhxhtthhtthhthttxhththhhtht...</td>\n    </tr>\n    <tr>\n      <th>15</th>\n      <td>2023-01-14 12:13:32</td>\n      <td>Sjoerd Terpstra</td>\n      <td>0.50EUR</td>\n      <td>h</td>\n      <td>hhhxhthttxhthtthxttthtthhhtthttthuthtutxtththt...</td>\n    </tr>\n    <tr>\n      <th>16</th>\n      <td>2023-01-14 12:20:27</td>\n      <td>Sjoerd Terpstra</td>\n      <td>0.50EUR</td>\n      <td>h</td>\n      <td>thttthhthtthhxtthhxhthhhhttttxttxthththhthhhtt...</td>\n    </tr>\n    <tr>\n      <th>17</th>\n      <td>2023-01-14 12:27:44</td>\n      <td>Sjoerd Terpstra</td>\n      <td>0.50EUR</td>\n      <td>h</td>\n      <td>tthhhhhhhttthttxhttttttthtxthhxtthtxhhxhththht...</td>\n    </tr>\n    <tr>\n      <th>18</th>\n      <td>2023-01-14 12:33:56</td>\n      <td>Sjoerd Terpstra</td>\n      <td>0.50EUR</td>\n      <td>h</td>\n      <td>xhhthhthththththtthtttxtththhthththhuhthxhxhtt...</td>\n    </tr>\n    <tr>\n      <th>19</th>\n      <td>2023-01-14 12:45:08</td>\n      <td>Sjoerd Terpstra</td>\n      <td>2EUR</td>\n      <td>t</td>\n      <td>ttxhththttxtxhhththhhtxhhthtxhtthhhtttttttutth...</td>\n    </tr>\n    <tr>\n      <th>20</th>\n      <td>2023-01-14 12:51:32</td>\n      <td>Sjoerd Terpstra</td>\n      <td>2EUR</td>\n      <td>t</td>\n      <td>txhthtttthhtthtthttthtthtthttthhhtthththxxhhhh...</td>\n    </tr>\n    <tr>\n      <th>21</th>\n      <td>2023-01-14 12:58:58</td>\n      <td>Sjoerd Terpstra</td>\n      <td>2EUR</td>\n      <td>t</td>\n      <td>hxhhthxxhhhhhttxtttxttthhhttthhhhhhhhhhhhthxht...</td>\n    </tr>\n    <tr>\n      <th>22</th>\n      <td>2023-01-14 13:33:38</td>\n      <td>Sjoerd Terpstra</td>\n      <td>2EUR</td>\n      <td>t</td>\n      <td>xhxhhhthhxtthxhthhxxhtthhttttttttthhxhthththhh...</td>\n    </tr>\n    <tr>\n      <th>23</th>\n      <td>2023-01-14 13:39:21</td>\n      <td>Sjoerd Terpstra</td>\n      <td>2EUR</td>\n      <td>h</td>\n      <td>txtxthhthtxhuxhttttttthhxhtuhhthhxtutththhthhh...</td>\n    </tr>\n    <tr>\n      <th>24</th>\n      <td>2023-01-14 13:45:23</td>\n      <td>Sjoerd Terpstra</td>\n      <td>2EUR</td>\n      <td>t</td>\n      <td>ttxhthhthththththhtxtthtthhxhxhhhhxthhxhhttthh...</td>\n    </tr>\n    <tr>\n      <th>25</th>\n      <td>2023-01-14 13:51:49</td>\n      <td>Sjoerd Terpstra</td>\n      <td>2EUR</td>\n      <td>t</td>\n      <td>ththtthtthhhthxhxthxhththxttttxtttxhuhhuhhhhtt...</td>\n    </tr>\n    <tr>\n      <th>26</th>\n      <td>2023-01-14 14:03:11</td>\n      <td>Sjoerd Terpstra</td>\n      <td>2EUR</td>\n      <td>h</td>\n      <td>ttxhthhttttxttththttthtthhhhhxhtxhtthhththxxth...</td>\n    </tr>\n    <tr>\n      <th>27</th>\n      <td>2023-01-14 14:14:06</td>\n      <td>Sjoerd Terpstra</td>\n      <td>2EUR</td>\n      <td>t</td>\n      <td>thttutxhhhhtxxthxhtthhthxtxhthuhhhththxhhtuhtt...</td>\n    </tr>\n    <tr>\n      <th>28</th>\n      <td>2023-01-14 14:19:53</td>\n      <td>Sjoerd Terpstra</td>\n      <td>2EUR</td>\n      <td>t</td>\n      <td>uthxhhthhhhttthttthtththtttthttthhxhttthhhhtxh...</td>\n    </tr>\n    <tr>\n      <th>29</th>\n      <td>2023-01-14 14:37:28</td>\n      <td>Sjoerd Terpstra</td>\n      <td>1CAD</td>\n      <td>t</td>\n      <td>txxxtthhhhhthtttttthtttxhhhhthxtthhhhthhttthth...</td>\n    </tr>\n    <tr>\n      <th>30</th>\n      <td>2023-01-14 14:43:12</td>\n      <td>Sjoerd Terpstra</td>\n      <td>1CAD</td>\n      <td>t</td>\n      <td>uthhhhthhutthxhhttththtththhtthhthhxttthxttthh...</td>\n    </tr>\n    <tr>\n      <th>31</th>\n      <td>2023-01-14 14:50:37</td>\n      <td>Sjoerd Terpstra</td>\n      <td>1CAD</td>\n      <td>t</td>\n      <td>uhthttthxxthhhxhtttxxxtthhxtxhhtthttxtxtttthhh...</td>\n    </tr>\n    <tr>\n      <th>32</th>\n      <td>2023-01-14 14:57:13</td>\n      <td>Sjoerd Terpstra</td>\n      <td>1CAD</td>\n      <td>t</td>\n      <td>httthhtuhxhxhtthhhhhxtuxhhhhxthxhhthhthththhhh...</td>\n    </tr>\n    <tr>\n      <th>33</th>\n      <td>2023-01-14 15:02:52</td>\n      <td>Sjoerd Terpstra</td>\n      <td>1CAD</td>\n      <td>h</td>\n      <td>hhhtthhtxxtthtthhhthtttxhthtttxhtthhhhhhhhthxt...</td>\n    </tr>\n    <tr>\n      <th>34</th>\n      <td>2023-01-14 15:22:55</td>\n      <td>Sjoerd Terpstra</td>\n      <td>1CAD</td>\n      <td>h</td>\n      <td>hhthhtxtthtxxxxxhthhhhhhxhhhttttththxxxhhxttht...</td>\n    </tr>\n    <tr>\n      <th>35</th>\n      <td>2023-01-14 15:28:26</td>\n      <td>Sjoerd Terpstra</td>\n      <td>1CAD</td>\n      <td>t</td>\n      <td>hhtuhttxhththththhhtxxhhhxhtxtxhhhhhhhhhthhhth...</td>\n    </tr>\n    <tr>\n      <th>36</th>\n      <td>2023-01-14 15:34:39</td>\n      <td>Sjoerd Terpstra</td>\n      <td>1CAD</td>\n      <td>t</td>\n      <td>xhuthhttuhhttthxtthxtxtttxuthhttthhthhhhtthhht...</td>\n    </tr>\n    <tr>\n      <th>37</th>\n      <td>2023-01-14 15:41:00</td>\n      <td>Sjoerd Terpstra</td>\n      <td>1CAD</td>\n      <td>t</td>\n      <td>xthhhttthtththtxttthhxthxhxttthtttthhthtththux...</td>\n    </tr>\n    <tr>\n      <th>38</th>\n      <td>2023-01-14 15:47:25</td>\n      <td>Sjoerd Terpstra</td>\n      <td>1CAD</td>\n      <td>t</td>\n      <td>thhuthhthtththhhxtxhhtthhxhttthtxhhxhhhtthttxt...</td>\n    </tr>\n    <tr>\n      <th>39</th>\n      <td>2023-01-14 16:09:01</td>\n      <td>Sjoerd Terpstra</td>\n      <td>5SEK</td>\n      <td>h</td>\n      <td>hhxtttxthhthxthhtthhtttttxthththtttttthhhhthht...</td>\n    </tr>\n    <tr>\n      <th>40</th>\n      <td>2023-01-14 16:16:22</td>\n      <td>Sjoerd Terpstra</td>\n      <td>5SEK</td>\n      <td>h</td>\n      <td>tthttttxuttththththhtthhthxthtxthhttxhhttthhhh...</td>\n    </tr>\n    <tr>\n      <th>41</th>\n      <td>2023-01-14 16:26:40</td>\n      <td>Sjoerd Terpstra</td>\n      <td>5SEK</td>\n      <td>h</td>\n      <td>httxhtxttttxthhhhthxuhhxhtthhhuttththtxxhxhhhh...</td>\n    </tr>\n    <tr>\n      <th>42</th>\n      <td>2023-01-14 16:33:00</td>\n      <td>Sjoerd Terpstra</td>\n      <td>5SEK</td>\n      <td>t</td>\n      <td>hhhtuhuhxhhttthhthttttthhthuhtxhhhtthtuhhxhxhh...</td>\n    </tr>\n    <tr>\n      <th>43</th>\n      <td>2023-01-14 16:39:38</td>\n      <td>Sjoerd Terpstra</td>\n      <td>5SEK</td>\n      <td>t</td>\n      <td>hxhhttthttthhhhxhthxxtttthhthhttthhthhthxhxhht...</td>\n    </tr>\n    <tr>\n      <th>44</th>\n      <td>2023-01-14 16:55:52</td>\n      <td>Sjoerd Terpstra</td>\n      <td>5SEK</td>\n      <td>h</td>\n      <td>thtttttthxtuhtthhhhthtxthxhhhhhhtthttuhhthhhhh...</td>\n    </tr>\n    <tr>\n      <th>45</th>\n      <td>2023-01-14 17:02:16</td>\n      <td>Sjoerd Terpstra</td>\n      <td>5SEK</td>\n      <td>t</td>\n      <td>hhhhtxxttthtuxhtthhhthxhhhthttxxhthhxtththhttt...</td>\n    </tr>\n    <tr>\n      <th>46</th>\n      <td>2023-01-14 17:09:39</td>\n      <td>Sjoerd Terpstra</td>\n      <td>5SEK</td>\n      <td>h</td>\n      <td>hhhthtxhhththhhutthtxhthhhhhtuxthhthtttxhhhhhh...</td>\n    </tr>\n    <tr>\n      <th>47</th>\n      <td>2023-01-14 17:19:23</td>\n      <td>Sjoerd Terpstra</td>\n      <td>5SEK</td>\n      <td>t</td>\n      <td>huthhhhhhhhhthththhthxttuhhhtthtxththxhhtxhhxt...</td>\n    </tr>\n    <tr>\n      <th>48</th>\n      <td>2023-01-14 17:25:39</td>\n      <td>Sjoerd Terpstra</td>\n      <td>5SEK</td>\n      <td>t</td>\n      <td>hhhhtthhhhxhhhxhhhtttxtttthhxhtxttxhthhhthhhtt...</td>\n    </tr>\n    <tr>\n      <th>49</th>\n      <td>2023-01-14 17:36:13</td>\n      <td>Sjoerd Terpstra</td>\n      <td>0.50RON</td>\n      <td>h</td>\n      <td>thththtthtxhtxttthhtxhthhxthhhtxhtthhtthuththt...</td>\n    </tr>\n  </tbody>\n</table>\n</div>"
     },
     "execution_count": 21,
     "metadata": {},
     "output_type": "execute_result"
    }
   ],
   "source": [
    "data[key]"
   ]
  },
  {
   "cell_type": "markdown",
   "id": "58a9b859-1a35-4d2b-8de2-8ac636c72e06",
   "metadata": {},
   "source": [
    "8. Manually inspect all data files that are contained in the `data` dictionary. Which files of them are loaded incorrectly or have more  than four columns?"
   ]
  },
  {
   "cell_type": "code",
   "execution_count": null,
   "id": "4d5f829e-ea70-45c6-b692-4ea0664f86bc",
   "metadata": {},
   "outputs": [],
   "source": []
  },
  {
   "cell_type": "markdown",
   "id": "1c820ccf-4941-4999-bb58-7a67beb0a062",
   "metadata": {},
   "source": [
    "***Answer:*** *Your answer goes here*\n",
    "\n",
    "9. Fix the incorrectly formattted data frames by loading them in correctly and replacing the incorrectly formatted data frames."
   ]
  },
  {
   "cell_type": "code",
   "execution_count": null,
   "id": "ab37a558-4e4a-4c3c-a193-ca54f6ce8992",
   "metadata": {
    "ExecuteTime": {
     "start_time": "2024-02-28T12:47:57.564067Z"
    }
   },
   "outputs": [],
   "source": []
  },
  {
   "cell_type": "markdown",
   "id": "baecfbc4-e835-48bd-8ccf-d5dd4c937c4c",
   "metadata": {},
   "source": [
    "To simplify accessing the data further down the line, it is good practice to unify the naming of the columns in the data frames. \n",
    "\n",
    "10. Rename the columns in all the data frames in `data` to the follwoing names: `[\"date\", \"coin_used\", \"start\", \"sequence\"]`."
   ]
  },
  {
   "cell_type": "code",
   "execution_count": null,
   "id": "9a5e93fe-a6c2-481b-a3f4-7675e15b1347",
   "metadata": {
    "ExecuteTime": {
     "start_time": "2024-02-28T12:47:57.566288Z"
    }
   },
   "outputs": [],
   "source": []
  },
  {
   "cell_type": "markdown",
   "id": "a8b6fa3d-2fd1-4be5-abcf-0bdc786d7dee",
   "metadata": {},
   "source": [
    "11. Construct a dictionary that you can use for the value mapping of the sequence values for all data frames"
   ]
  },
  {
   "cell_type": "code",
   "execution_count": null,
   "id": "77f38fb4-e033-452c-af61-3b20250b5baa",
   "metadata": {
    "ExecuteTime": {
     "start_time": "2024-02-28T12:47:57.570099Z"
    }
   },
   "outputs": [],
   "source": []
  },
  {
   "cell_type": "markdown",
   "id": "082e0441-f8cf-4584-8536-3accd11f0b86",
   "metadata": {},
   "source": [
    "12. Calculate the fraction of tosses that land on heads for each sequence and store it in a new column named `frac_heads`"
   ]
  },
  {
   "cell_type": "code",
   "execution_count": null,
   "id": "95bb8571-053d-49cd-b89b-41e02124de87",
   "metadata": {
    "ExecuteTime": {
     "start_time": "2024-02-28T12:47:57.572284Z"
    }
   },
   "outputs": [],
   "source": []
  },
  {
   "cell_type": "markdown",
   "id": "d08cd24b-9662-4de6-9be4-d85eab8f5bed",
   "metadata": {},
   "source": [
    "13. Denote whether the start of the sequence was a heads by `1` or a tails by `0` in a new column named `start_heads`."
   ]
  },
  {
   "cell_type": "code",
   "execution_count": null,
   "id": "f577c583-a11d-4cc5-8b90-2a5515181c80",
   "metadata": {
    "ExecuteTime": {
     "start_time": "2024-02-28T12:47:57.574827Z"
    }
   },
   "outputs": [],
   "source": []
  },
  {
   "cell_type": "markdown",
   "id": "5610c91f-1a26-442c-b70a-7be404eb5a3b",
   "metadata": {},
   "source": [
    "14. Combine all data frames in a single dataframe."
   ]
  },
  {
   "cell_type": "code",
   "execution_count": null,
   "id": "5735a448-a25f-46a4-970f-6fff4f11dbce",
   "metadata": {
    "ExecuteTime": {
     "start_time": "2024-02-28T12:47:57.576988Z"
    }
   },
   "outputs": [],
   "source": []
  },
  {
   "cell_type": "markdown",
   "id": "f1d7dc03-f7c8-4a65-a242-b33766610d82",
   "metadata": {},
   "source": [
    "15. Plot the distribution of the observed fraction of heads stratified by the starting side of the coin and indicate the average fraction of heads within these observations with a vertical line."
   ]
  },
  {
   "cell_type": "code",
   "execution_count": null,
   "id": "afba84d2-2ba5-4098-b640-2990eef29345",
   "metadata": {
    "ExecuteTime": {
     "start_time": "2024-02-28T12:47:57.580421Z"
    }
   },
   "outputs": [],
   "source": []
  },
  {
   "cell_type": "code",
   "execution_count": null,
   "id": "1a3656aa-250b-456b-9207-1fc875288a61",
   "metadata": {
    "ExecuteTime": {
     "start_time": "2024-02-28T12:47:57.582562Z"
    }
   },
   "outputs": [],
   "source": []
  }
 ],
 "metadata": {
  "kernelspec": {
   "display_name": "Python 3 (ipykernel)",
   "language": "python",
   "name": "python3"
  },
  "language_info": {
   "codemirror_mode": {
    "name": "ipython",
    "version": 3
   },
   "file_extension": ".py",
   "mimetype": "text/x-python",
   "name": "python",
   "nbconvert_exporter": "python",
   "pygments_lexer": "ipython3",
   "version": "3.12.1"
  }
 },
 "nbformat": 4,
 "nbformat_minor": 5
}

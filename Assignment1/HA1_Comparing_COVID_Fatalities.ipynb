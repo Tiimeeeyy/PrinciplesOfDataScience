{
 "cells": [
  {
   "cell_type": "markdown",
   "metadata": {
    "id": "Sev3wtZP0Ipc"
   },
   "source": [
    "# KEN1435 - Principles of Data Science | Homework Assignment 1 (HA1) :  Comparing COVID Fatalities\n",
    "\n",
    "In this assignment, you will compare COVID fatalities in Portugal and Colombia. The results may be counterintuitive and surprising! We will use data of COVID cases from both countries on May 28, 2020.\n",
    "\n",
    "First we load the necessary python packages"
   ]
  },
  {
   "cell_type": "code",
   "execution_count": 3,
   "metadata": {
    "id": "Ak2gYqYjZlmI",
    "ExecuteTime": {
     "end_time": "2024-02-20T15:31:21.324823Z",
     "start_time": "2024-02-20T15:31:21.317902Z"
    }
   },
   "outputs": [],
   "source": [
    "import matplotlib.pyplot as plt\n",
    "import numpy as np\n",
    "import pandas as pd\n",
    "import seaborn as sns"
   ]
  },
  {
   "cell_type": "markdown",
   "metadata": {
    "id": "FxTWG57e0qs1"
   },
   "source": [
    "The Portugal and Colombia data are contained in separate files. \n",
    "\n",
    "## Portuguese COVID fatality rate\n",
    "Let's start by loading the Portuguese data which is stored in the file called `portugal_2020-05-28.csv`."
   ]
  },
  {
   "cell_type": "code",
   "execution_count": 4,
   "metadata": {
    "id": "kH140bJp0wmA",
    "ExecuteTime": {
     "end_time": "2024-02-20T15:31:21.504321Z",
     "start_time": "2024-02-20T15:31:21.439961Z"
    }
   },
   "outputs": [
    {
     "data": {
      "text/plain": "     age     sex  fatality\n0  60-69  Female         0\n1  60-69    Male         0\n2    80+    Male         0\n3  60-69  Female         0\n4  50-59  Female         0",
      "text/html": "<div>\n<style scoped>\n    .dataframe tbody tr th:only-of-type {\n        vertical-align: middle;\n    }\n\n    .dataframe tbody tr th {\n        vertical-align: top;\n    }\n\n    .dataframe thead th {\n        text-align: right;\n    }\n</style>\n<table border=\"1\" class=\"dataframe\">\n  <thead>\n    <tr style=\"text-align: right;\">\n      <th></th>\n      <th>age</th>\n      <th>sex</th>\n      <th>fatality</th>\n    </tr>\n  </thead>\n  <tbody>\n    <tr>\n      <th>0</th>\n      <td>60-69</td>\n      <td>Female</td>\n      <td>0</td>\n    </tr>\n    <tr>\n      <th>1</th>\n      <td>60-69</td>\n      <td>Male</td>\n      <td>0</td>\n    </tr>\n    <tr>\n      <th>2</th>\n      <td>80+</td>\n      <td>Male</td>\n      <td>0</td>\n    </tr>\n    <tr>\n      <th>3</th>\n      <td>60-69</td>\n      <td>Female</td>\n      <td>0</td>\n    </tr>\n    <tr>\n      <th>4</th>\n      <td>50-59</td>\n      <td>Female</td>\n      <td>0</td>\n    </tr>\n  </tbody>\n</table>\n</div>"
     },
     "execution_count": 4,
     "metadata": {},
     "output_type": "execute_result"
    }
   ],
   "source": [
    "df_PT = pd.read_csv(\"C:/Users/timis/DataspellProjects/PrinciplesOfDataScience/Assignment1/Data/portugal_2020-05-28.csv\")\n",
    "df_PT.head()"
   ]
  },
  {
   "cell_type": "markdown",
   "metadata": {
    "id": "ya7-RKc70T_U"
   },
   "source": [
    "**Exercise 1. (*1pt*)** Calculate the overall fatality rate for Portugal. That is, calculate $$P(\\text{fatality} = 1 | \\text{country}=\\text{Portugal}).$$ Store your answer in the variable `fatal_PT` as you will need to use this value in the final exercise."
   ]
  },
  {
   "cell_type": "code",
   "execution_count": 5,
   "metadata": {
    "id": "4EP1FSz7yhSh",
    "ExecuteTime": {
     "end_time": "2024-02-20T15:31:21.517094Z",
     "start_time": "2024-02-20T15:31:21.507592Z"
    }
   },
   "outputs": [
    {
     "ename": "SyntaxError",
     "evalue": "invalid syntax (3947323341.py, line 3)",
     "output_type": "error",
     "traceback": [
      "\u001B[1;36m  Cell \u001B[1;32mIn[5], line 3\u001B[1;36m\u001B[0m\n\u001B[1;33m    fatal_PT =\u001B[0m\n\u001B[1;37m               ^\u001B[0m\n\u001B[1;31mSyntaxError\u001B[0m\u001B[1;31m:\u001B[0m invalid syntax\n"
     ]
    }
   ],
   "source": [
    "## YOUR CODE HERE\n",
    "fatal_PT = \n",
    "fatal_PT"
   ]
  },
  {
   "cell_type": "markdown",
   "metadata": {
    "id": "HWIj8AMb3TaF"
   },
   "source": [
    "**Exercise 2. (*1pt*)** Calculate the fatality rates for each age group in Portugal. That is, calculate the conditional probabilities for each age group:\n",
    "$$P(\\text{fatality} = 1 | \\text{age}\\in[a,b], \\text{country}=\\text{Portugal}).$$\n",
    "Save the results in a `pd.Series` called `fatality_rates_PT`."
   ]
  },
  {
   "cell_type": "code",
   "execution_count": null,
   "metadata": {
    "id": "bdhtOmmhtgWG",
    "ExecuteTime": {
     "start_time": "2024-02-20T15:31:21.520675Z"
    }
   },
   "outputs": [],
   "source": [
    "## YOUR CODE HERE\n",
    "\n",
    "fatality_rates_PT = \n",
    "fatality_rates_PT"
   ]
  },
  {
   "cell_type": "markdown",
   "metadata": {},
   "source": [
    "## Colombian fatality rate\n",
    "\n",
    "Next we load the Colombian data from the file `colombia_2020-05-28.csv`. "
   ]
  },
  {
   "cell_type": "code",
   "execution_count": 6,
   "metadata": {
    "id": "rxLfThXW09pq",
    "ExecuteTime": {
     "end_time": "2024-02-20T15:31:21.649078Z",
     "start_time": "2024-02-20T15:31:21.554961Z"
    }
   },
   "outputs": [
    {
     "data": {
      "text/plain": "      Departamento  Edad Sexo         Tipo   Ubicación Estado  \\\n0      Bogotá D.C.    19    F    Importado  Recuperado   Leve   \n1  Valle del Cauca    34    M    Importado  Recuperado   Leve   \n2        Antioquia    50    F    Importado  Recuperado   Leve   \n3        Antioquia    55    M  Relacionado  Recuperado   Leve   \n4        Antioquia    25    M  Relacionado  Recuperado   Leve   \n\n  Fecha de inicio de síntomas Fecha de muerte Fecha de diagnóstico  \\\n0                  2020-02-27           -   -           2020-03-06   \n1                  2020-03-04           -   -           2020-03-09   \n2                  2020-02-29           -   -           2020-03-09   \n3                  2020-03-06           -   -           2020-03-11   \n4                  2020-03-08           -   -           2020-03-11   \n\n  Fecha recuperado  \n0       2020-03-13  \n1       2020-03-19  \n2       2020-03-15  \n3       2020-03-26  \n4       2020-03-23  ",
      "text/html": "<div>\n<style scoped>\n    .dataframe tbody tr th:only-of-type {\n        vertical-align: middle;\n    }\n\n    .dataframe tbody tr th {\n        vertical-align: top;\n    }\n\n    .dataframe thead th {\n        text-align: right;\n    }\n</style>\n<table border=\"1\" class=\"dataframe\">\n  <thead>\n    <tr style=\"text-align: right;\">\n      <th></th>\n      <th>Departamento</th>\n      <th>Edad</th>\n      <th>Sexo</th>\n      <th>Tipo</th>\n      <th>Ubicación</th>\n      <th>Estado</th>\n      <th>Fecha de inicio de síntomas</th>\n      <th>Fecha de muerte</th>\n      <th>Fecha de diagnóstico</th>\n      <th>Fecha recuperado</th>\n    </tr>\n  </thead>\n  <tbody>\n    <tr>\n      <th>0</th>\n      <td>Bogotá D.C.</td>\n      <td>19</td>\n      <td>F</td>\n      <td>Importado</td>\n      <td>Recuperado</td>\n      <td>Leve</td>\n      <td>2020-02-27</td>\n      <td>-   -</td>\n      <td>2020-03-06</td>\n      <td>2020-03-13</td>\n    </tr>\n    <tr>\n      <th>1</th>\n      <td>Valle del Cauca</td>\n      <td>34</td>\n      <td>M</td>\n      <td>Importado</td>\n      <td>Recuperado</td>\n      <td>Leve</td>\n      <td>2020-03-04</td>\n      <td>-   -</td>\n      <td>2020-03-09</td>\n      <td>2020-03-19</td>\n    </tr>\n    <tr>\n      <th>2</th>\n      <td>Antioquia</td>\n      <td>50</td>\n      <td>F</td>\n      <td>Importado</td>\n      <td>Recuperado</td>\n      <td>Leve</td>\n      <td>2020-02-29</td>\n      <td>-   -</td>\n      <td>2020-03-09</td>\n      <td>2020-03-15</td>\n    </tr>\n    <tr>\n      <th>3</th>\n      <td>Antioquia</td>\n      <td>55</td>\n      <td>M</td>\n      <td>Relacionado</td>\n      <td>Recuperado</td>\n      <td>Leve</td>\n      <td>2020-03-06</td>\n      <td>-   -</td>\n      <td>2020-03-11</td>\n      <td>2020-03-26</td>\n    </tr>\n    <tr>\n      <th>4</th>\n      <td>Antioquia</td>\n      <td>25</td>\n      <td>M</td>\n      <td>Relacionado</td>\n      <td>Recuperado</td>\n      <td>Leve</td>\n      <td>2020-03-08</td>\n      <td>-   -</td>\n      <td>2020-03-11</td>\n      <td>2020-03-23</td>\n    </tr>\n  </tbody>\n</table>\n</div>"
     },
     "execution_count": 6,
     "metadata": {},
     "output_type": "execute_result"
    }
   ],
   "source": [
    "df_CO = pd.read_csv(\"C:/Users/timis/DataspellProjects/PrinciplesOfDataScience/Assignment1/Data/colombia_2020-05-28.csv\")\n",
    "df_CO.head()"
   ]
  },
  {
   "cell_type": "markdown",
   "metadata": {
    "id": "VXuGkyN8tir9"
   },
   "source": [
    "Notice that the Colombia data is more raw than the Portugal data. We need to clean the data to make it look like the Portugal data. For instance, it does not contain a boolean \"fatality\" column and the ages (\"Edad\") are indicated as exact ages rather than binned values as we can see for the Portuguese data.\n",
    "\n",
    "As a first step, we will create a column called fatality which indicates whether a patient died or not by transforming the \"Estado\" (state) column into a fatality column. If a patient died, then their state is marked as \"Fallecido\" (deceased). There are other \"Estados\" (states), such as \"Leve\" (mild) and \"Asintomático\" (asymptomatic), but these are not relevant for our fatality column.\n",
    "\n",
    "**Exercise 3. (*1pt*)** Add a column called \"fatality\" to the Colombian dataframe `df_CO`, which contains a `1` if the \"Estado\"-column states \"Fallecido\" and a `0` otherwise."
   ]
  },
  {
   "cell_type": "code",
   "execution_count": 7,
   "metadata": {
    "id": "vTPPj-GSw7N5",
    "ExecuteTime": {
     "end_time": "2024-02-20T15:31:21.681051Z",
     "start_time": "2024-02-20T15:31:21.672674Z"
    }
   },
   "outputs": [
    {
     "ename": "SyntaxError",
     "evalue": "invalid syntax (3197584905.py, line 3)",
     "output_type": "error",
     "traceback": [
      "\u001B[1;36m  Cell \u001B[1;32mIn[7], line 3\u001B[1;36m\u001B[0m\n\u001B[1;33m    df_CO[\"fatality\"] =\u001B[0m\n\u001B[1;37m                        ^\u001B[0m\n\u001B[1;31mSyntaxError\u001B[0m\u001B[1;31m:\u001B[0m invalid syntax\n"
     ]
    }
   ],
   "source": [
    "## YOUR CODE HERE\n",
    "\n",
    "df_CO[\"fatality\"] = "
   ]
  },
  {
   "cell_type": "markdown",
   "metadata": {
    "id": "ERtmMZ0hy5iA"
   },
   "source": [
    "Next, we need to convert \"Edad\" (age), which is a quantitative variable in this data set, into age ranges, as in the Portugal data set.\n",
    "\n",
    "**Exercise 4. (*1pt*)** Add a column called \"age\" to the Colombian dataframe `df_CO`, which divided the \"Edad\" column into the following age ranges: `\"0-9\", \"10-19\", \"20-29\", \"30-39\", \"40-49\", \"50-59\", \"60-69\", \"70-79\", \"80+\"`"
   ]
  },
  {
   "cell_type": "code",
   "execution_count": 8,
   "metadata": {
    "id": "Vd_kTG0uygF-",
    "ExecuteTime": {
     "end_time": "2024-02-20T15:31:21.804777Z",
     "start_time": "2024-02-20T15:31:21.796179Z"
    }
   },
   "outputs": [
    {
     "ename": "SyntaxError",
     "evalue": "invalid syntax (4083037826.py, line 3)",
     "output_type": "error",
     "traceback": [
      "\u001B[1;36m  Cell \u001B[1;32mIn[8], line 3\u001B[1;36m\u001B[0m\n\u001B[1;33m    df_CO[\"age\"] =\u001B[0m\n\u001B[1;37m                   ^\u001B[0m\n\u001B[1;31mSyntaxError\u001B[0m\u001B[1;31m:\u001B[0m invalid syntax\n"
     ]
    }
   ],
   "source": [
    "## YOUR CODE HERE\n",
    "\n",
    "df_CO[\"age\"] = "
   ]
  },
  {
   "cell_type": "markdown",
   "metadata": {},
   "source": [
    "**Exercise 5. (*1pt*)** Calculate the overall fatality rate for Colombia. That is, calculate $$P(\\text{fatality} = 1 | \\text{country}=\\text{Colombia}).$$ Store your answer in the variable `fatal_CO` as you will need to use this value in the final exercise."
   ]
  },
  {
   "cell_type": "code",
   "execution_count": 9,
   "metadata": {
    "ExecuteTime": {
     "end_time": "2024-02-20T15:31:22.033320Z",
     "start_time": "2024-02-20T15:31:22.023534Z"
    }
   },
   "outputs": [
    {
     "ename": "SyntaxError",
     "evalue": "invalid syntax (2801075391.py, line 3)",
     "output_type": "error",
     "traceback": [
      "\u001B[1;36m  Cell \u001B[1;32mIn[9], line 3\u001B[1;36m\u001B[0m\n\u001B[1;33m    fatal_CO =\u001B[0m\n\u001B[1;37m               ^\u001B[0m\n\u001B[1;31mSyntaxError\u001B[0m\u001B[1;31m:\u001B[0m invalid syntax\n"
     ]
    }
   ],
   "source": [
    "## YOUR CODE HERE\n",
    "\n",
    "fatal_CO = \n",
    "fatal_CO"
   ]
  },
  {
   "cell_type": "markdown",
   "metadata": {
    "id": "PgYgoACl0Z7w"
   },
   "source": [
    "**Exercise 6. (*1pt*)** Calculate the fatality rates for each age group in Colombia. That is, calculate the conditional probabilities for each age group:\n",
    "$$P(\\text{fatality} = 1 | \\text{age}\\in[a,b], \\text{country}=\\text{Colombia}).$$\n",
    "Save the results in a `pd.Series` called `fatality_rates_CO`."
   ]
  },
  {
   "cell_type": "code",
   "execution_count": 10,
   "metadata": {
    "id": "lv6aYGzx18Q7",
    "ExecuteTime": {
     "end_time": "2024-02-20T15:31:22.136534Z",
     "start_time": "2024-02-20T15:31:22.127929Z"
    }
   },
   "outputs": [
    {
     "ename": "SyntaxError",
     "evalue": "invalid syntax (3817647574.py, line 3)",
     "output_type": "error",
     "traceback": [
      "\u001B[1;36m  Cell \u001B[1;32mIn[10], line 3\u001B[1;36m\u001B[0m\n\u001B[1;33m    fatality_rates_CO =\u001B[0m\n\u001B[1;37m                        ^\u001B[0m\n\u001B[1;31mSyntaxError\u001B[0m\u001B[1;31m:\u001B[0m invalid syntax\n"
     ]
    }
   ],
   "source": [
    "## YOUR CODE HERE\n",
    "\n",
    "fatality_rates_CO = \n",
    "fatality_rates_CO"
   ]
  },
  {
   "cell_type": "markdown",
   "metadata": {
    "id": "xjAXDbUQ3nON"
   },
   "source": [
    "## Visualizing the outcomes\n",
    "\n",
    "**Exercise 7. (*4pt*)** Make a bar plot comparing the fatality rates for each age group in Colombia and Portugal. Also include horizontal dashed lines that display the fatality rates for each country as a whole. Ensure that the bars and the dashed line for each country have the same colors!"
   ]
  },
  {
   "cell_type": "code",
   "execution_count": 11,
   "metadata": {
    "id": "ClXw81J1u2KL",
    "ExecuteTime": {
     "end_time": "2024-02-20T15:31:22.373852Z",
     "start_time": "2024-02-20T15:31:22.368043Z"
    }
   },
   "outputs": [],
   "source": [
    "## YOUR CODE HERE"
   ]
  },
  {
   "cell_type": "markdown",
   "metadata": {
    "id": "UwubhGEX6mHA"
   },
   "source": [
    "***BONUS (1pt): Do you notice anything strange? Can you explain what is going on?***"
   ]
  },
  {
   "cell_type": "markdown",
   "metadata": {},
   "source": [
    "OPTIONAL: YOUR ANSWER HERE"
   ]
  },
  {
   "cell_type": "code",
   "execution_count": 11,
   "metadata": {
    "ExecuteTime": {
     "end_time": "2024-02-20T15:31:22.438677Z",
     "start_time": "2024-02-20T15:31:22.434135Z"
    }
   },
   "outputs": [],
   "source": []
  }
 ],
 "metadata": {
  "colab": {
   "provenance": []
  },
  "kernelspec": {
   "display_name": "Python 3 (ipykernel)",
   "language": "python",
   "name": "python3"
  },
  "language_info": {
   "codemirror_mode": {
    "name": "ipython",
    "version": 3
   },
   "file_extension": ".py",
   "mimetype": "text/x-python",
   "name": "python",
   "nbconvert_exporter": "python",
   "pygments_lexer": "ipython3",
   "version": "3.12.1"
  }
 },
 "nbformat": 4,
 "nbformat_minor": 4
}

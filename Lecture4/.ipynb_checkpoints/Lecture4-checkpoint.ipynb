{
 "cells": [
  {
   "cell_type": "markdown",
   "id": "92ea4213",
   "metadata": {},
   "source": [
    "# KEN1435 - Principles of Data Science: Lecture 4\n",
    "\n",
    "First we load the necessary python packages"
   ]
  },
  {
   "cell_type": "code",
   "execution_count": 1,
   "id": "5de10a1c",
   "metadata": {},
   "outputs": [],
   "source": [
    "import matplotlib.pyplot as plt\n",
    "import numpy as np\n",
    "import pandas as pd\n",
    "import seaborn as sns\n",
    "\n",
    "%matplotlib inline"
   ]
  },
  {
   "cell_type": "markdown",
   "id": "272252f1-3122-472d-aac9-4eb96bec1da4",
   "metadata": {},
   "source": [
    "## Topics\n",
    "In this lecture we will discuss the following topics:\n",
    "- **What Are the Chances? (*Chapter 13*)**\n",
    "- **The Law of Averages (*Chapter 16*)**\n",
    "\n",
    "## What Are the Chances?\n",
    "\n",
    "What's the chance of getting heads when tossing a coin repeatedly? In addition to calculating this by hand, we can also use simulation to determine this. \n",
    "\n",
    "In simulation, we look ahead at what could happen based on a model of reality. So, to simulate what is going to happen, we need to simulate the outcome of future flips, which we can sample from all possible outcomes. To do so in python, we use function from `np.random` (see the documentation [here](https://numpy.org/doc/stable/reference/random/index.html#random-sampling-numpy-random)), which contains all necessary functions for random sampling.\n",
    "\n",
    "In the case of our example, flipping a coin, we know that there are two possible outcomes (i.e., \"heads\" and \"tails\") that are equally probable if our coin is a fair coin. To perform this sampling in our code, we need to be able to randomly sample items from a predefined set. We can use the function `choice` (see the documentation [here](https://numpy.org/doc/stable/reference/random/generated/numpy.random.choice.html#numpy.random.choice)) to do exactly this. So let's simulate a single coin toss. If we execute the cell multiple times, we can see that the value of `result` changes."
   ]
  },
  {
   "cell_type": "code",
   "execution_count": null,
   "id": "c7a0513e-fa09-45ca-a57a-712e511b16f4",
   "metadata": {},
   "outputs": [],
   "source": []
  },
  {
   "cell_type": "markdown",
   "id": "ed0d83c8-1dd5-4dfa-8d65-8b1eedde04ce",
   "metadata": {},
   "source": [
    "Let's simulate multiple toin cosses at once. We will start with repeating the coin tossing ten times and also calculate which fraction of the times we see head as a result\n",
    "\n",
    "Again, if we execute the cell multiple times, we can see that `tosses` changes at each iteration."
   ]
  },
  {
   "cell_type": "code",
   "execution_count": null,
   "id": "dca955ce-ae89-4d0b-a4ef-7a28b6ebfcd8",
   "metadata": {},
   "outputs": [],
   "source": []
  },
  {
   "cell_type": "markdown",
   "id": "92d21d86-3cfe-40a2-999f-0ba5854538d3",
   "metadata": {},
   "source": [
    "Although the changing outcome is to be expected when we use random values, in a practical setting this is not exactly what we want. To change this, we can explicitly use a random number generator (`default_rng`, see the documentation [here](https://numpy.org/doc/stable/reference/random/generator.html#numpy.random.default_rng)) for which we define a seed. Effectively, by doing this, we ensure that each time we run our code, we see the exact same values. In the second year course Simulation and Statistical Analysis, we will dive more into this."
   ]
  },
  {
   "cell_type": "code",
   "execution_count": null,
   "id": "9bb4e277-3bcd-4e73-b563-f71a40d95450",
   "metadata": {},
   "outputs": [],
   "source": []
  },
  {
   "cell_type": "markdown",
   "id": "10f92127-929c-434e-aadc-132e211435af",
   "metadata": {},
   "source": [
    "Let's increase the number of coin tosses and calculate the fraction of heads for each of these experiments"
   ]
  },
  {
   "cell_type": "code",
   "execution_count": null,
   "id": "4239ca7e-500e-40fd-841f-467a64a38e13",
   "metadata": {},
   "outputs": [],
   "source": []
  },
  {
   "cell_type": "markdown",
   "id": "e1e9a5d2-efd9-49c4-9c49-7d0946f107f6",
   "metadata": {},
   "source": [
    "With this many observations, it is hard to read the data frame directly. Therefore, we plot all observed fractions from our simulations in a figure. As a comparison, we also include a line with the long run fraction that we would expect as outcome."
   ]
  },
  {
   "cell_type": "code",
   "execution_count": null,
   "id": "904fa63c-7a33-4484-8e7d-7a8ef7644c44",
   "metadata": {},
   "outputs": [],
   "source": []
  },
  {
   "cell_type": "markdown",
   "id": "40c11cfa-2200-4dd0-9154-c17f6c8ab139",
   "metadata": {},
   "source": [
    "As you can see, the fraction of \"heads\" outcomes gets closer to 50% as the number of tosses increases. This phenomenon is one of the two most important properties of statistics and data science. It's called the law of large numbers.\n",
    "\n",
    "Let's look at another example: rolling dice. Here, we are interested in the fraction of times that a `1` is thrown."
   ]
  },
  {
   "cell_type": "code",
   "execution_count": null,
   "id": "4d5059a6-e39b-49ea-82e3-ebf9727431c7",
   "metadata": {},
   "outputs": [],
   "source": []
  },
  {
   "cell_type": "markdown",
   "id": "df2519d2-e0e1-4350-b268-f2012ed849b4",
   "metadata": {},
   "source": [
    "This kind of simulation is useful in general settings of chance. \n",
    "\n",
    "In the two examples above, we can act as if all possible outcomes are in a box that we draw from with replacement. The book also makes use of this box model for probabilistic comparisons. Next, we consider an example from the book:\r\n",
    "\r\n",
    "```         \r\n",
    "A box contains red marbles and blue marbles. One marble is drawn at random from the box (each marble has an equal chance to be drawn). If it is red, you win $1. If it is blue, you win nothing. You can choose between two boxes:\r\n",
    "\r\n",
    "* box A contains 3 red marbles and 2 blue ones;\r\n",
    "* box B contains 30 red marbles and 20 blue ones.\r\n",
    "\r\n",
    "Which box offers a better chance of winning, or are they the same?\r\n",
    "```\r\n",
    "\r\n",
    "Let's try to answer this using a  As the function `simulate_outcomes` is very general in its setup, all we need to do here is to determine the proper definitions for `outcomes` and `goal` for the two situations. Since the winning requirement is the same for both, we can definesimulation."
   ]
  },
  {
   "cell_type": "code",
   "execution_count": null,
   "id": "1b8652a4-0204-454e-a4e0-06be7e373736",
   "metadata": {},
   "outputs": [],
   "source": []
  },
  {
   "cell_type": "markdown",
   "id": "f50279f5-081c-4222-82d5-430c7a7fdccb",
   "metadata": {},
   "source": [
    "Next, we define the variables containing the `outcomes`."
   ]
  },
  {
   "cell_type": "code",
   "execution_count": null,
   "id": "339a1a1a-2df3-4e6f-9ebd-662fbd521a54",
   "metadata": {},
   "outputs": [],
   "source": []
  },
  {
   "cell_type": "markdown",
   "id": "d7b3bd87-05ca-4c6b-beb1-312d52e18a65",
   "metadata": {},
   "source": [
    "Let's simulate what happens in these two scenario's."
   ]
  },
  {
   "cell_type": "code",
   "execution_count": null,
   "id": "21a267af-48ef-4f64-898b-3298134f6b69",
   "metadata": {},
   "outputs": [],
   "source": []
  },
  {
   "cell_type": "markdown",
   "id": "1461a73f-4131-4b1f-a6a2-50740cfa66d6",
   "metadata": {},
   "source": [
    "Both are very close. The correct answer is the chance of winning is the same. The exact calculation is:\n",
    "\n",
    "$$\n",
    "\\text{winning} = \\frac{\\text{number of red marbles}}{\\text{total number of marbles}}.\n",
    "$$\n",
    "\n",
    "# The Law of Averages\n",
    "Typically, we think of flipping a coin as the quintessential example of a fair game. More specifically, we assume that the chance of getting either outcome, i.e. \"heads\" or \"tails\", is exactly the same (namely 50%). \n",
    "\n",
    "In 2007, Diaconis, Holmes, and Montgomery developed a model that predicts that a coin comes slightly more up the way it starts out. You can find their paper [here](http://www.jstor.org/stable/20453950). Recently, a team of researchers decided to construct a [study](https://arxiv.org/abs/2310.04153) that would provide evidence to  support the claim by Diaconis, Holmes and Montgomery. To do so, the researchers flipped $350,757$ coins and recorded the data. Moreover, they share all their data [here](https://osf.io/pxu6r/).\n",
    "\n",
    "Let's take a look at a subset of the data. Here we take the coin flips performed by Malte Zoubek (although the data file is uploaded to canvas, you can find it [here](https://osf.io/jb47q) too)."
   ]
  },
  {
   "cell_type": "code",
   "execution_count": null,
   "id": "f577c3ad-f5c8-406a-a2da-8af76cd23376",
   "metadata": {},
   "outputs": [],
   "source": []
  },
  {
   "cell_type": "markdown",
   "id": "3dbdea3e-e3b5-4580-b59b-881191e334ea",
   "metadata": {},
   "source": [
    "As you can see the records are quite meticulous. For now, we will only need the information from the column `Sequence`. Let's take a closer look at the first sequence."
   ]
  },
  {
   "cell_type": "code",
   "execution_count": null,
   "id": "4a00efc6-c951-41df-be2e-997d34fd65f2",
   "metadata": {
    "scrolled": true
   },
   "outputs": [],
   "source": []
  },
  {
   "cell_type": "markdown",
   "id": "c664b78e-4f4d-419f-9a5f-2771d95f164d",
   "metadata": {},
   "source": [
    "As this throws a `KeyError`, let's take a closer look at the column names."
   ]
  },
  {
   "cell_type": "code",
   "execution_count": null,
   "id": "6cedf0a8-98a5-4bc0-81c2-63cc75c80c9a",
   "metadata": {},
   "outputs": [],
   "source": []
  },
  {
   "cell_type": "markdown",
   "id": "2e0ee8ab-1e93-432b-adde-4c0090d01ab7",
   "metadata": {},
   "source": [
    "Note the leading spaces in the names of the columns. This is exactly the reason why it is good practice to take your time to inspect a data set that you are given and not assume that it is of good quality. Let's try to inspect the value once more."
   ]
  },
  {
   "cell_type": "code",
   "execution_count": null,
   "id": "d9ba96eb-2675-4156-b01e-3eb0d698547a",
   "metadata": {},
   "outputs": [],
   "source": []
  },
  {
   "cell_type": "markdown",
   "id": "c0a23b09-bb48-46df-87a9-4b370fb05fd1",
   "metadata": {},
   "source": [
    "The sequence contains the results of the flips in one series of throws, with `h` and `t` denoting \"heads\" and \"tails\". Finally, there is a third notation, `x`. If we take a look at the video evidence that is captured of this sequence (which we can do [here](https://osf.io/yd5tz)), we can see that the fourth throw is a failed attempt. Therefore, we can treat these `x`-values as `NaN`-values. We can store this knowledge in a mapping dictionary."
   ]
  },
  {
   "cell_type": "code",
   "execution_count": null,
   "id": "39422374-9d65-433a-af1f-99a33afb3c89",
   "metadata": {},
   "outputs": [],
   "source": []
  },
  {
   "cell_type": "markdown",
   "id": "38402bb1-6225-4239-a33d-5d5a953da26c",
   "metadata": {},
   "source": [
    "Next, we process the sequence into a series of results."
   ]
  },
  {
   "cell_type": "code",
   "execution_count": null,
   "id": "6803f4e9-1cbb-4f9a-8683-e05e16f50a82",
   "metadata": {},
   "outputs": [],
   "source": []
  },
  {
   "cell_type": "markdown",
   "id": "c0c8aefc-7a19-4458-8dd9-f3e860a695ba",
   "metadata": {},
   "source": [
    "So now we know how to process the information. Let's act as if all observations were done in a single sitting and combine all the sequences into a single sequence."
   ]
  },
  {
   "cell_type": "code",
   "execution_count": null,
   "id": "450c7d01-7318-44ee-a19b-393182e3bfa6",
   "metadata": {},
   "outputs": [],
   "source": []
  },
  {
   "cell_type": "markdown",
   "id": "92d7ccbf-7765-4cc8-b409-752914d42ee0",
   "metadata": {},
   "source": [
    "Let's transform this into a data frame."
   ]
  },
  {
   "cell_type": "code",
   "execution_count": null,
   "id": "9bfaf580-5fe2-4d85-8963-e431afcd333e",
   "metadata": {},
   "outputs": [],
   "source": []
  },
  {
   "cell_type": "markdown",
   "id": "ed5468b8-efd1-40ca-84b7-225a6ddbc30e",
   "metadata": {},
   "source": [
    "First, we drop the `NaN`-values."
   ]
  },
  {
   "cell_type": "code",
   "execution_count": null,
   "id": "0358f03f-ec32-4bd2-9798-9b31d4dbe435",
   "metadata": {},
   "outputs": [],
   "source": []
  },
  {
   "cell_type": "markdown",
   "id": "fa3d0fd1-076c-44b4-88fa-3cb8bffa1b72",
   "metadata": {},
   "source": [
    "Note that we are now missing observations in the index, as these were previously `NaN`-values. So let's replace the index by a new one that only counts the observations without `NaN`'s."
   ]
  },
  {
   "cell_type": "code",
   "execution_count": null,
   "id": "2d22454e-95c7-4782-a3df-6f0dce8ac36e",
   "metadata": {},
   "outputs": [],
   "source": []
  },
  {
   "cell_type": "markdown",
   "id": "3311fe70-7562-40e0-bae3-6d1578fddf27",
   "metadata": {},
   "source": [
    "Let's see what fraction of the observations is heads."
   ]
  },
  {
   "cell_type": "code",
   "execution_count": null,
   "id": "31bed6b0-997a-4692-b8b2-3f79e11c4060",
   "metadata": {},
   "outputs": [],
   "source": []
  },
  {
   "cell_type": "markdown",
   "id": "c04ac90c-c7ad-49cc-86d2-49f6b78bd307",
   "metadata": {},
   "source": [
    "We can also track the progression towards this fraction."
   ]
  },
  {
   "cell_type": "code",
   "execution_count": null,
   "id": "f309b180-2ca5-40b4-bff9-b320f0809686",
   "metadata": {},
   "outputs": [],
   "source": []
  },
  {
   "cell_type": "markdown",
   "id": "4975e9d3-10e4-418a-8e90-0173cfa50a6b",
   "metadata": {},
   "source": [
    "With this progression over all throws, we can visualize how the average slowly moves towards the long run average."
   ]
  },
  {
   "cell_type": "code",
   "execution_count": null,
   "id": "d6e82923-9d96-40a0-875b-4cb4f303d5f5",
   "metadata": {},
   "outputs": [],
   "source": []
  },
  {
   "cell_type": "markdown",
   "id": "a7200b4d-61f2-4012-8c33-b00dee38dd15",
   "metadata": {},
   "source": [
    "# Summary\r\n",
    "\r\n",
    "We learned\r\n",
    "\r\n",
    "* how to calculate the chance of winning using simulations.\r\n",
    "* sum and average in the long run.\r\n",
    "* average in the long run."
   ]
  },
  {
   "cell_type": "code",
   "execution_count": null,
   "id": "caabebd9-f7fa-4e91-ad9e-ee9ce1f8c8be",
   "metadata": {},
   "outputs": [],
   "source": []
  }
 ],
 "metadata": {
  "kernelspec": {
   "display_name": "Python 3 (ipykernel)",
   "language": "python",
   "name": "python3"
  },
  "language_info": {
   "codemirror_mode": {
    "name": "ipython",
    "version": 3
   },
   "file_extension": ".py",
   "mimetype": "text/x-python",
   "name": "python",
   "nbconvert_exporter": "python",
   "pygments_lexer": "ipython3",
   "version": "3.12.1"
  }
 },
 "nbformat": 4,
 "nbformat_minor": 5
}

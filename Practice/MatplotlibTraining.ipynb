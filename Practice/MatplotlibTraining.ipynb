{
 "cells": [
  {
   "cell_type": "code",
   "execution_count": 1,
   "id": "initial_id",
   "metadata": {
    "collapsed": true,
    "ExecuteTime": {
     "end_time": "2024-02-19T16:37:42.043094Z",
     "start_time": "2024-02-19T16:37:42.036285Z"
    }
   },
   "outputs": [],
   "source": [
    "import numpy as np\n",
    "import pandas as pd\n",
    "import matplotlib.pyplot as plt\n",
    "import seaborn as sns"
   ]
  },
  {
   "cell_type": "markdown",
   "source": [
    "**Load the Data**"
   ],
   "metadata": {
    "collapsed": false
   },
   "id": "1963f363cd93350a"
  },
  {
   "cell_type": "code",
   "outputs": [],
   "source": [
    "all_athlete_games = pd.read_csv(\"C:/Users/timis/DataspellProjects/PrinciplesOfDataScience/Practice/Data/Olympics Data/all_athlete_games.csv\")\n",
    "all_regions = pd.read_csv(\"C:/Users/timis/DataspellProjects/PrinciplesOfDataScience/Practice/Data/Olympics Data/all_regions.csv\")\n"
   ],
   "metadata": {
    "collapsed": false,
    "ExecuteTime": {
     "end_time": "2024-02-19T16:37:42.850109Z",
     "start_time": "2024-02-19T16:37:42.045854Z"
    }
   },
   "id": "59bc0361b61646fc",
   "execution_count": 2
  },
  {
   "cell_type": "markdown",
   "source": [
    "**Look at the head**"
   ],
   "metadata": {
    "collapsed": false
   },
   "id": "b614e8a25f7beb12"
  },
  {
   "cell_type": "code",
   "outputs": [
    {
     "data": {
      "text/plain": "   Entry ID                                Name  Gender   Age            Team  \\\n0         0                           A Dijiang    Male  24.0           China   \n1         1                            A Lamusi    Male  23.0           China   \n2         2                 Gunnar Nielsen Aaby    Male  24.0         Denmark   \n3         3                Edgar Lindenau Aabye    Male  34.0  Denmark/Sweden   \n4        26  Cornelia \"Cor\" Aalten (-Strannood)  Female  18.0     Netherlands   \n\n   NOC  Year  Season         City       Sport                         Event  \\\n0  CHN  1992  Summer    Barcelona  Basketball   Basketball Men's Basketball   \n1  CHN  2012  Summer       London        Judo  Judo Men's Extra-Lightweight   \n2  DEN  1920  Summer    Antwerpen    Football       Football Men's Football   \n3  DEN  1900  Summer        Paris  Tug-Of-War   Tug-Of-War Men's Tug-Of-War   \n4  NED  1932  Summer  Los Angeles   Athletics  Athletics Women's 100 metres   \n\n  Medal  \n0   NaN  \n1   NaN  \n2   NaN  \n3  Gold  \n4   NaN  ",
      "text/html": "<div>\n<style scoped>\n    .dataframe tbody tr th:only-of-type {\n        vertical-align: middle;\n    }\n\n    .dataframe tbody tr th {\n        vertical-align: top;\n    }\n\n    .dataframe thead th {\n        text-align: right;\n    }\n</style>\n<table border=\"1\" class=\"dataframe\">\n  <thead>\n    <tr style=\"text-align: right;\">\n      <th></th>\n      <th>Entry ID</th>\n      <th>Name</th>\n      <th>Gender</th>\n      <th>Age</th>\n      <th>Team</th>\n      <th>NOC</th>\n      <th>Year</th>\n      <th>Season</th>\n      <th>City</th>\n      <th>Sport</th>\n      <th>Event</th>\n      <th>Medal</th>\n    </tr>\n  </thead>\n  <tbody>\n    <tr>\n      <th>0</th>\n      <td>0</td>\n      <td>A Dijiang</td>\n      <td>Male</td>\n      <td>24.0</td>\n      <td>China</td>\n      <td>CHN</td>\n      <td>1992</td>\n      <td>Summer</td>\n      <td>Barcelona</td>\n      <td>Basketball</td>\n      <td>Basketball Men's Basketball</td>\n      <td>NaN</td>\n    </tr>\n    <tr>\n      <th>1</th>\n      <td>1</td>\n      <td>A Lamusi</td>\n      <td>Male</td>\n      <td>23.0</td>\n      <td>China</td>\n      <td>CHN</td>\n      <td>2012</td>\n      <td>Summer</td>\n      <td>London</td>\n      <td>Judo</td>\n      <td>Judo Men's Extra-Lightweight</td>\n      <td>NaN</td>\n    </tr>\n    <tr>\n      <th>2</th>\n      <td>2</td>\n      <td>Gunnar Nielsen Aaby</td>\n      <td>Male</td>\n      <td>24.0</td>\n      <td>Denmark</td>\n      <td>DEN</td>\n      <td>1920</td>\n      <td>Summer</td>\n      <td>Antwerpen</td>\n      <td>Football</td>\n      <td>Football Men's Football</td>\n      <td>NaN</td>\n    </tr>\n    <tr>\n      <th>3</th>\n      <td>3</td>\n      <td>Edgar Lindenau Aabye</td>\n      <td>Male</td>\n      <td>34.0</td>\n      <td>Denmark/Sweden</td>\n      <td>DEN</td>\n      <td>1900</td>\n      <td>Summer</td>\n      <td>Paris</td>\n      <td>Tug-Of-War</td>\n      <td>Tug-Of-War Men's Tug-Of-War</td>\n      <td>Gold</td>\n    </tr>\n    <tr>\n      <th>4</th>\n      <td>26</td>\n      <td>Cornelia \"Cor\" Aalten (-Strannood)</td>\n      <td>Female</td>\n      <td>18.0</td>\n      <td>Netherlands</td>\n      <td>NED</td>\n      <td>1932</td>\n      <td>Summer</td>\n      <td>Los Angeles</td>\n      <td>Athletics</td>\n      <td>Athletics Women's 100 metres</td>\n      <td>NaN</td>\n    </tr>\n  </tbody>\n</table>\n</div>"
     },
     "execution_count": 3,
     "metadata": {},
     "output_type": "execute_result"
    }
   ],
   "source": [
    "all_athlete_games.head()"
   ],
   "metadata": {
    "collapsed": false,
    "ExecuteTime": {
     "end_time": "2024-02-19T16:37:42.889259Z",
     "start_time": "2024-02-19T16:37:42.854250Z"
    }
   },
   "id": "69b06044e097aabe",
   "execution_count": 3
  },
  {
   "cell_type": "code",
   "outputs": [
    {
     "data": {
      "text/plain": "   NOC       Region\n0  EOR      Refugee\n1  LBN      Lebanon\n2  SGP    Singapore\n3  ROC       Russia\n4  AFG  Afghanistan",
      "text/html": "<div>\n<style scoped>\n    .dataframe tbody tr th:only-of-type {\n        vertical-align: middle;\n    }\n\n    .dataframe tbody tr th {\n        vertical-align: top;\n    }\n\n    .dataframe thead th {\n        text-align: right;\n    }\n</style>\n<table border=\"1\" class=\"dataframe\">\n  <thead>\n    <tr style=\"text-align: right;\">\n      <th></th>\n      <th>NOC</th>\n      <th>Region</th>\n    </tr>\n  </thead>\n  <tbody>\n    <tr>\n      <th>0</th>\n      <td>EOR</td>\n      <td>Refugee</td>\n    </tr>\n    <tr>\n      <th>1</th>\n      <td>LBN</td>\n      <td>Lebanon</td>\n    </tr>\n    <tr>\n      <th>2</th>\n      <td>SGP</td>\n      <td>Singapore</td>\n    </tr>\n    <tr>\n      <th>3</th>\n      <td>ROC</td>\n      <td>Russia</td>\n    </tr>\n    <tr>\n      <th>4</th>\n      <td>AFG</td>\n      <td>Afghanistan</td>\n    </tr>\n  </tbody>\n</table>\n</div>"
     },
     "execution_count": 4,
     "metadata": {},
     "output_type": "execute_result"
    }
   ],
   "source": [
    "all_regions.head()"
   ],
   "metadata": {
    "collapsed": false,
    "ExecuteTime": {
     "end_time": "2024-02-19T16:37:42.906098Z",
     "start_time": "2024-02-19T16:37:42.891278Z"
    }
   },
   "id": "d7ce46dcac441c28",
   "execution_count": 4
  },
  {
   "cell_type": "markdown",
   "source": [
    "**Plotting**"
   ],
   "metadata": {
    "collapsed": false
   },
   "id": "c6dce28bf3f0de92"
  },
  {
   "cell_type": "code",
   "outputs": [
    {
     "data": {
      "text/plain": "<Figure size 640x480 with 1 Axes>",
      "image/png": "[encoded data removed]"
     },
     "metadata": {},
     "output_type": "display_data"
    }
   ],
   "source": [
    "average_age_by_year = all_athlete_games.groupby(\"Year\")[\"Age\"].mean() # Calculate the mean of the groups \"Year\" and \"Age\"\n",
    "plt.plot(average_age_by_year.index, average_age_by_year.values) # Plot the index (year) and the value (age)\n",
    "plt.show()"
   ],
   "metadata": {
    "collapsed": false,
    "ExecuteTime": {
     "end_time": "2024-02-19T16:37:43.357407Z",
     "start_time": "2024-02-19T16:37:42.908109Z"
    }
   },
   "id": "a75d9aeab2557166",
   "execution_count": 5
  },
  {
   "cell_type": "code",
   "outputs": [
    {
     "data": {
      "text/plain": "        Entry ID  Year\n0              0  1992\n1              1  2012\n2              2  1920\n3              3  1900\n4             26  1932\n...          ...   ...\n286232    271111  1976\n286233    271112  2014\n286234    271113  2014\n286235    271114  1998\n286236    271115  2002\n\n[286237 rows x 2 columns]",
      "text/html": "<div>\n<style scoped>\n    .dataframe tbody tr th:only-of-type {\n        vertical-align: middle;\n    }\n\n    .dataframe tbody tr th {\n        vertical-align: top;\n    }\n\n    .dataframe thead th {\n        text-align: right;\n    }\n</style>\n<table border=\"1\" class=\"dataframe\">\n  <thead>\n    <tr style=\"text-align: right;\">\n      <th></th>\n      <th>Entry ID</th>\n      <th>Year</th>\n    </tr>\n  </thead>\n  <tbody>\n    <tr>\n      <th>0</th>\n      <td>0</td>\n      <td>1992</td>\n    </tr>\n    <tr>\n      <th>1</th>\n      <td>1</td>\n      <td>2012</td>\n    </tr>\n    <tr>\n      <th>2</th>\n      <td>2</td>\n      <td>1920</td>\n    </tr>\n    <tr>\n      <th>3</th>\n      <td>3</td>\n      <td>1900</td>\n    </tr>\n    <tr>\n      <th>4</th>\n      <td>26</td>\n      <td>1932</td>\n    </tr>\n    <tr>\n      <th>...</th>\n      <td>...</td>\n      <td>...</td>\n    </tr>\n    <tr>\n      <th>286232</th>\n      <td>271111</td>\n      <td>1976</td>\n    </tr>\n    <tr>\n      <th>286233</th>\n      <td>271112</td>\n      <td>2014</td>\n    </tr>\n    <tr>\n      <th>286234</th>\n      <td>271113</td>\n      <td>2014</td>\n    </tr>\n    <tr>\n      <th>286235</th>\n      <td>271114</td>\n      <td>1998</td>\n    </tr>\n    <tr>\n      <th>286236</th>\n      <td>271115</td>\n      <td>2002</td>\n    </tr>\n  </tbody>\n</table>\n<p>286237 rows × 2 columns</p>\n</div>"
     },
     "execution_count": 18,
     "metadata": {},
     "output_type": "execute_result"
    }
   ],
   "source": [],
   "metadata": {
    "collapsed": false,
    "ExecuteTime": {
     "end_time": "2024-02-19T20:54:02.004842Z",
     "start_time": "2024-02-19T20:54:01.971765Z"
    }
   },
   "id": "2ecf60188d0eca48",
   "execution_count": 18
  },
  {
   "cell_type": "code",
   "outputs": [],
   "source": [
    "all_athlete_games.head"
   ],
   "metadata": {
    "collapsed": false,
    "ExecuteTime": {
     "end_time": "2024-02-19T16:37:50.329641Z",
     "start_time": "2024-02-19T16:37:50.328635Z"
    }
   },
   "id": "800eac15b1b91c49"
  },
  {
   "cell_type": "code",
   "outputs": [
    {
     "data": {
      "text/plain": "dtype('float64')"
     },
     "execution_count": 13,
     "metadata": {},
     "output_type": "execute_result"
    }
   ],
   "source": [
    "all_athlete_games[\"Age\"].dtypes"
   ],
   "metadata": {
    "collapsed": false,
    "ExecuteTime": {
     "end_time": "2024-02-19T16:56:51.610454Z",
     "start_time": "2024-02-19T16:56:51.602215Z"
    }
   },
   "id": "c326afdc9ce083f5",
   "execution_count": 13
  },
  {
   "cell_type": "code",
   "outputs": [
    {
     "data": {
      "text/plain": "0         24.0\n1         23.0\n2         24.0\n3         34.0\n4         18.0\n          ... \n286232    29.0\n286233    27.0\n286234    27.0\n286235    30.0\n286236    34.0\nName: Age, Length: 286237, dtype: float64"
     },
     "execution_count": 8,
     "metadata": {},
     "output_type": "execute_result"
    }
   ],
   "source": [
    "age = all_athlete_games[\"Age\"].copy()\n",
    "age"
   ],
   "metadata": {
    "collapsed": false,
    "ExecuteTime": {
     "end_time": "2024-02-19T16:42:09.287617Z",
     "start_time": "2024-02-19T16:42:09.276Z"
    }
   },
   "id": "1f09e6de580bbfe3",
   "execution_count": 8
  },
  {
   "cell_type": "code",
   "outputs": [],
   "source": [],
   "metadata": {
    "collapsed": false
   },
   "id": "d367ee2c6b066aa9"
  }
 ],
 "metadata": {
  "kernelspec": {
   "display_name": "Python 3",
   "language": "python",
   "name": "python3"
  },
  "language_info": {
   "codemirror_mode": {
    "name": "ipython",
    "version": 2
   },
   "file_extension": ".py",
   "mimetype": "text/x-python",
   "name": "python",
   "nbconvert_exporter": "python",
   "pygments_lexer": "ipython2",
   "version": "2.7.6"
  }
 },
 "nbformat": 4,
 "nbformat_minor": 5
}
